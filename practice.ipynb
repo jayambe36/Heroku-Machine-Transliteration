{
 "cells": [
  {
   "cell_type": "markdown",
   "id": "b95d6732",
   "metadata": {},
   "source": [
    "## Import Dataset"
   ]
  },
  {
   "cell_type": "code",
   "execution_count": 2,
   "id": "8dc01415",
   "metadata": {},
   "outputs": [],
   "source": [
    "import pandas as pd\n",
    "import numpy as np"
   ]
  },
  {
   "cell_type": "code",
   "execution_count": 3,
   "id": "b2758310",
   "metadata": {},
   "outputs": [
    {
     "data": {
      "text/html": [
       "<div>\n",
       "<style scoped>\n",
       "    .dataframe tbody tr th:only-of-type {\n",
       "        vertical-align: middle;\n",
       "    }\n",
       "\n",
       "    .dataframe tbody tr th {\n",
       "        vertical-align: top;\n",
       "    }\n",
       "\n",
       "    .dataframe thead th {\n",
       "        text-align: right;\n",
       "    }\n",
       "</style>\n",
       "<table border=\"1\" class=\"dataframe\">\n",
       "  <thead>\n",
       "    <tr style=\"text-align: right;\">\n",
       "      <th></th>\n",
       "      <th>source</th>\n",
       "      <th>english_sentence</th>\n",
       "      <th>hindi_sentence</th>\n",
       "    </tr>\n",
       "  </thead>\n",
       "  <tbody>\n",
       "    <tr>\n",
       "      <th>0</th>\n",
       "      <td>ted</td>\n",
       "      <td>politicians do not have permission to do what ...</td>\n",
       "      <td>राजनीतिज्ञों के पास जो कार्य करना चाहिए, वह कर...</td>\n",
       "    </tr>\n",
       "    <tr>\n",
       "      <th>1</th>\n",
       "      <td>ted</td>\n",
       "      <td>I'd like to tell you about one such child,</td>\n",
       "      <td>मई आपको ऐसे ही एक बच्चे के बारे में बताना चाहू...</td>\n",
       "    </tr>\n",
       "    <tr>\n",
       "      <th>3</th>\n",
       "      <td>ted</td>\n",
       "      <td>what we really mean is that they're bad at not...</td>\n",
       "      <td>हम ये नहीं कहना चाहते कि वो ध्यान नहीं दे पाते</td>\n",
       "    </tr>\n",
       "    <tr>\n",
       "      <th>7</th>\n",
       "      <td>ted</td>\n",
       "      <td>And who are we to say, even, that they are wrong</td>\n",
       "      <td>और हम होते कौन हैं यह कहने भी वाले कि वे गलत हैं</td>\n",
       "    </tr>\n",
       "    <tr>\n",
       "      <th>13</th>\n",
       "      <td>ted</td>\n",
       "      <td>So there is some sort of justice</td>\n",
       "      <td>तो वहाँ न्याय है</td>\n",
       "    </tr>\n",
       "    <tr>\n",
       "      <th>23</th>\n",
       "      <td>ted</td>\n",
       "      <td>This changed slowly</td>\n",
       "      <td>धीरे धीरे ये सब बदला</td>\n",
       "    </tr>\n",
       "    <tr>\n",
       "      <th>26</th>\n",
       "      <td>ted</td>\n",
       "      <td>were being produced.</td>\n",
       "      <td>उत्पन्न नहीं कि जाती थी.</td>\n",
       "    </tr>\n",
       "    <tr>\n",
       "      <th>30</th>\n",
       "      <td>ted</td>\n",
       "      <td>And you can see, this LED is going to glow.</td>\n",
       "      <td>और जैसा आप देख रहे है, ये एल.ई.डी. जल उठेगी।</td>\n",
       "    </tr>\n",
       "    <tr>\n",
       "      <th>32</th>\n",
       "      <td>ted</td>\n",
       "      <td>to turn on the lights or to bring him a glass ...</td>\n",
       "      <td>लाईट जलाने के लिए या उनके लिए पानी लाने के लिए,</td>\n",
       "    </tr>\n",
       "    <tr>\n",
       "      <th>35</th>\n",
       "      <td>ted</td>\n",
       "      <td>Can you imagine saying that?</td>\n",
       "      <td>क्या आप ये कल्पना कर सकते है</td>\n",
       "    </tr>\n",
       "  </tbody>\n",
       "</table>\n",
       "</div>"
      ],
      "text/plain": [
       "   source                                   english_sentence  \\\n",
       "0     ted  politicians do not have permission to do what ...   \n",
       "1     ted         I'd like to tell you about one such child,   \n",
       "3     ted  what we really mean is that they're bad at not...   \n",
       "7     ted   And who are we to say, even, that they are wrong   \n",
       "13    ted                   So there is some sort of justice   \n",
       "23    ted                                This changed slowly   \n",
       "26    ted                               were being produced.   \n",
       "30    ted        And you can see, this LED is going to glow.   \n",
       "32    ted  to turn on the lights or to bring him a glass ...   \n",
       "35    ted                       Can you imagine saying that?   \n",
       "\n",
       "                                       hindi_sentence  \n",
       "0   राजनीतिज्ञों के पास जो कार्य करना चाहिए, वह कर...  \n",
       "1   मई आपको ऐसे ही एक बच्चे के बारे में बताना चाहू...  \n",
       "3      हम ये नहीं कहना चाहते कि वो ध्यान नहीं दे पाते  \n",
       "7    और हम होते कौन हैं यह कहने भी वाले कि वे गलत हैं  \n",
       "13                                   तो वहाँ न्याय है  \n",
       "23                               धीरे धीरे ये सब बदला  \n",
       "26                           उत्पन्न नहीं कि जाती थी.  \n",
       "30       और जैसा आप देख रहे है, ये एल.ई.डी. जल उठेगी।  \n",
       "32    लाईट जलाने के लिए या उनके लिए पानी लाने के लिए,  \n",
       "35                       क्या आप ये कल्पना कर सकते है  "
      ]
     },
     "execution_count": 3,
     "metadata": {},
     "output_type": "execute_result"
    }
   ],
   "source": [
    "df = pd.read_csv(\"dataset/Hindi_English_Truncated_Corpus.csv\", encoding='utf-8')\n",
    "df = df[df['source'] == 'ted']\n",
    "\n",
    "df.head(10)"
   ]
  },
  {
   "cell_type": "code",
   "execution_count": 5,
   "id": "fa16da87",
   "metadata": {},
   "outputs": [
    {
     "name": "stdout",
     "output_type": "stream",
     "text": [
      "And you can see, this LED is going to glow.\n"
     ]
    }
   ],
   "source": [
    "print(df[\"english_sentence\"][30])"
   ]
  },
  {
   "cell_type": "markdown",
   "id": "c51d1dc3",
   "metadata": {},
   "source": [
    "## Data Preparation, Data Transformation"
   ]
  },
  {
   "cell_type": "code",
   "execution_count": 6,
   "id": "3eb3d28f",
   "metadata": {},
   "outputs": [
    {
     "data": {
      "text/plain": [
       "0"
      ]
     },
     "execution_count": 6,
     "metadata": {},
     "output_type": "execute_result"
    }
   ],
   "source": [
    "len(df[df['english_sentence'].isna()])"
   ]
  },
  {
   "cell_type": "code",
   "execution_count": 7,
   "id": "699eee9c",
   "metadata": {},
   "outputs": [
    {
     "data": {
      "text/plain": [
       "0"
      ]
     },
     "execution_count": 7,
     "metadata": {},
     "output_type": "execute_result"
    }
   ],
   "source": [
    "len(df[df['hindi_sentence'].isna()])"
   ]
  },
  {
   "cell_type": "markdown",
   "id": "6b84899f",
   "metadata": {},
   "source": [
    "### Here, Remove NaN"
   ]
  },
  {
   "cell_type": "code",
   "execution_count": 8,
   "id": "49601f98",
   "metadata": {},
   "outputs": [],
   "source": [
    "df.dropna(subset=\"english_sentence\", inplace=True)"
   ]
  },
  {
   "cell_type": "code",
   "execution_count": 9,
   "id": "93917a72",
   "metadata": {},
   "outputs": [
    {
     "data": {
      "text/html": [
       "<div>\n",
       "<style scoped>\n",
       "    .dataframe tbody tr th:only-of-type {\n",
       "        vertical-align: middle;\n",
       "    }\n",
       "\n",
       "    .dataframe tbody tr th {\n",
       "        vertical-align: top;\n",
       "    }\n",
       "\n",
       "    .dataframe thead th {\n",
       "        text-align: right;\n",
       "    }\n",
       "</style>\n",
       "<table border=\"1\" class=\"dataframe\">\n",
       "  <thead>\n",
       "    <tr style=\"text-align: right;\">\n",
       "      <th></th>\n",
       "      <th>source</th>\n",
       "      <th>english_sentence</th>\n",
       "      <th>hindi_sentence</th>\n",
       "    </tr>\n",
       "  </thead>\n",
       "  <tbody>\n",
       "    <tr>\n",
       "      <th>0</th>\n",
       "      <td>ted</td>\n",
       "      <td>politicians do not have permission to do what ...</td>\n",
       "      <td>राजनीतिज्ञों के पास जो कार्य करना चाहिए, वह कर...</td>\n",
       "    </tr>\n",
       "    <tr>\n",
       "      <th>1</th>\n",
       "      <td>ted</td>\n",
       "      <td>i'd like to tell you about one such child,</td>\n",
       "      <td>मई आपको ऐसे ही एक बच्चे के बारे में बताना चाहू...</td>\n",
       "    </tr>\n",
       "    <tr>\n",
       "      <th>3</th>\n",
       "      <td>ted</td>\n",
       "      <td>what we really mean is that they're bad at not...</td>\n",
       "      <td>हम ये नहीं कहना चाहते कि वो ध्यान नहीं दे पाते</td>\n",
       "    </tr>\n",
       "    <tr>\n",
       "      <th>7</th>\n",
       "      <td>ted</td>\n",
       "      <td>and who are we to say, even, that they are wrong</td>\n",
       "      <td>और हम होते कौन हैं यह कहने भी वाले कि वे गलत हैं</td>\n",
       "    </tr>\n",
       "    <tr>\n",
       "      <th>13</th>\n",
       "      <td>ted</td>\n",
       "      <td>so there is some sort of justice</td>\n",
       "      <td>तो वहाँ न्याय है</td>\n",
       "    </tr>\n",
       "    <tr>\n",
       "      <th>23</th>\n",
       "      <td>ted</td>\n",
       "      <td>this changed slowly</td>\n",
       "      <td>धीरे धीरे ये सब बदला</td>\n",
       "    </tr>\n",
       "    <tr>\n",
       "      <th>26</th>\n",
       "      <td>ted</td>\n",
       "      <td>were being produced.</td>\n",
       "      <td>उत्पन्न नहीं कि जाती थी.</td>\n",
       "    </tr>\n",
       "    <tr>\n",
       "      <th>30</th>\n",
       "      <td>ted</td>\n",
       "      <td>and you can see, this led is going to glow.</td>\n",
       "      <td>और जैसा आप देख रहे है, ये एल.ई.डी. जल उठेगी।</td>\n",
       "    </tr>\n",
       "    <tr>\n",
       "      <th>32</th>\n",
       "      <td>ted</td>\n",
       "      <td>to turn on the lights or to bring him a glass ...</td>\n",
       "      <td>लाईट जलाने के लिए या उनके लिए पानी लाने के लिए,</td>\n",
       "    </tr>\n",
       "    <tr>\n",
       "      <th>35</th>\n",
       "      <td>ted</td>\n",
       "      <td>can you imagine saying that?</td>\n",
       "      <td>क्या आप ये कल्पना कर सकते है</td>\n",
       "    </tr>\n",
       "  </tbody>\n",
       "</table>\n",
       "</div>"
      ],
      "text/plain": [
       "   source                                   english_sentence  \\\n",
       "0     ted  politicians do not have permission to do what ...   \n",
       "1     ted         i'd like to tell you about one such child,   \n",
       "3     ted  what we really mean is that they're bad at not...   \n",
       "7     ted   and who are we to say, even, that they are wrong   \n",
       "13    ted                   so there is some sort of justice   \n",
       "23    ted                                this changed slowly   \n",
       "26    ted                               were being produced.   \n",
       "30    ted        and you can see, this led is going to glow.   \n",
       "32    ted  to turn on the lights or to bring him a glass ...   \n",
       "35    ted                       can you imagine saying that?   \n",
       "\n",
       "                                       hindi_sentence  \n",
       "0   राजनीतिज्ञों के पास जो कार्य करना चाहिए, वह कर...  \n",
       "1   मई आपको ऐसे ही एक बच्चे के बारे में बताना चाहू...  \n",
       "3      हम ये नहीं कहना चाहते कि वो ध्यान नहीं दे पाते  \n",
       "7    और हम होते कौन हैं यह कहने भी वाले कि वे गलत हैं  \n",
       "13                                   तो वहाँ न्याय है  \n",
       "23                               धीरे धीरे ये सब बदला  \n",
       "26                           उत्पन्न नहीं कि जाती थी.  \n",
       "30       और जैसा आप देख रहे है, ये एल.ई.डी. जल उठेगी।  \n",
       "32    लाईट जलाने के लिए या उनके लिए पानी लाने के लिए,  \n",
       "35                       क्या आप ये कल्पना कर सकते है  "
      ]
     },
     "execution_count": 9,
     "metadata": {},
     "output_type": "execute_result"
    }
   ],
   "source": [
    "### Do convert into lowercase\n",
    "df['english_sentence'] = df['english_sentence'].apply(lambda x: x.lower())\n",
    "df['hindi_sentence'] = df['hindi_sentence'].apply(lambda x: x.lower())\n",
    "\n",
    "df.head(10)"
   ]
  },
  {
   "cell_type": "code",
   "execution_count": 10,
   "id": "44718fa8",
   "metadata": {},
   "outputs": [
    {
     "data": {
      "text/html": [
       "<div>\n",
       "<style scoped>\n",
       "    .dataframe tbody tr th:only-of-type {\n",
       "        vertical-align: middle;\n",
       "    }\n",
       "\n",
       "    .dataframe tbody tr th {\n",
       "        vertical-align: top;\n",
       "    }\n",
       "\n",
       "    .dataframe thead th {\n",
       "        text-align: right;\n",
       "    }\n",
       "</style>\n",
       "<table border=\"1\" class=\"dataframe\">\n",
       "  <thead>\n",
       "    <tr style=\"text-align: right;\">\n",
       "      <th></th>\n",
       "      <th>source</th>\n",
       "      <th>english_sentence</th>\n",
       "      <th>hindi_sentence</th>\n",
       "    </tr>\n",
       "  </thead>\n",
       "  <tbody>\n",
       "    <tr>\n",
       "      <th>0</th>\n",
       "      <td>ted</td>\n",
       "      <td>politicians do not have permission to do what ...</td>\n",
       "      <td>राजनीतिज्ञों के पास जो कार्य करना चाहिए, वह कर...</td>\n",
       "    </tr>\n",
       "    <tr>\n",
       "      <th>1</th>\n",
       "      <td>ted</td>\n",
       "      <td>id like to tell you about one such child,</td>\n",
       "      <td>मई आपको ऐसे ही एक बच्चे के बारे में बताना चाहू...</td>\n",
       "    </tr>\n",
       "    <tr>\n",
       "      <th>3</th>\n",
       "      <td>ted</td>\n",
       "      <td>what we really mean is that theyre bad at not ...</td>\n",
       "      <td>हम ये नहीं कहना चाहते कि वो ध्यान नहीं दे पाते</td>\n",
       "    </tr>\n",
       "    <tr>\n",
       "      <th>7</th>\n",
       "      <td>ted</td>\n",
       "      <td>and who are we to say, even, that they are wrong</td>\n",
       "      <td>और हम होते कौन हैं यह कहने भी वाले कि वे गलत हैं</td>\n",
       "    </tr>\n",
       "    <tr>\n",
       "      <th>13</th>\n",
       "      <td>ted</td>\n",
       "      <td>so there is some sort of justice</td>\n",
       "      <td>तो वहाँ न्याय है</td>\n",
       "    </tr>\n",
       "    <tr>\n",
       "      <th>23</th>\n",
       "      <td>ted</td>\n",
       "      <td>this changed slowly</td>\n",
       "      <td>धीरे धीरे ये सब बदला</td>\n",
       "    </tr>\n",
       "    <tr>\n",
       "      <th>26</th>\n",
       "      <td>ted</td>\n",
       "      <td>were being produced.</td>\n",
       "      <td>उत्पन्न नहीं कि जाती थी.</td>\n",
       "    </tr>\n",
       "    <tr>\n",
       "      <th>30</th>\n",
       "      <td>ted</td>\n",
       "      <td>and you can see, this led is going to glow.</td>\n",
       "      <td>और जैसा आप देख रहे है, ये एल.ई.डी. जल उठेगी।</td>\n",
       "    </tr>\n",
       "    <tr>\n",
       "      <th>32</th>\n",
       "      <td>ted</td>\n",
       "      <td>to turn on the lights or to bring him a glass ...</td>\n",
       "      <td>लाईट जलाने के लिए या उनके लिए पानी लाने के लिए,</td>\n",
       "    </tr>\n",
       "    <tr>\n",
       "      <th>35</th>\n",
       "      <td>ted</td>\n",
       "      <td>can you imagine saying that?</td>\n",
       "      <td>क्या आप ये कल्पना कर सकते है</td>\n",
       "    </tr>\n",
       "  </tbody>\n",
       "</table>\n",
       "</div>"
      ],
      "text/plain": [
       "   source                                   english_sentence  \\\n",
       "0     ted  politicians do not have permission to do what ...   \n",
       "1     ted          id like to tell you about one such child,   \n",
       "3     ted  what we really mean is that theyre bad at not ...   \n",
       "7     ted   and who are we to say, even, that they are wrong   \n",
       "13    ted                   so there is some sort of justice   \n",
       "23    ted                                this changed slowly   \n",
       "26    ted                               were being produced.   \n",
       "30    ted        and you can see, this led is going to glow.   \n",
       "32    ted  to turn on the lights or to bring him a glass ...   \n",
       "35    ted                       can you imagine saying that?   \n",
       "\n",
       "                                       hindi_sentence  \n",
       "0   राजनीतिज्ञों के पास जो कार्य करना चाहिए, वह कर...  \n",
       "1   मई आपको ऐसे ही एक बच्चे के बारे में बताना चाहू...  \n",
       "3      हम ये नहीं कहना चाहते कि वो ध्यान नहीं दे पाते  \n",
       "7    और हम होते कौन हैं यह कहने भी वाले कि वे गलत हैं  \n",
       "13                                   तो वहाँ न्याय है  \n",
       "23                               धीरे धीरे ये सब बदला  \n",
       "26                           उत्पन्न नहीं कि जाती थी.  \n",
       "30       और जैसा आप देख रहे है, ये एल.ई.डी. जल उठेगी।  \n",
       "32    लाईट जलाने के लिए या उनके लिए पानी लाने के लिए,  \n",
       "35                       क्या आप ये कल्पना कर सकते है  "
      ]
     },
     "execution_count": 10,
     "metadata": {},
     "output_type": "execute_result"
    }
   ],
   "source": [
    "### Remove Single quote\n",
    "import re\n",
    "\n",
    "df['english_sentence'] = df['english_sentence'].apply(lambda x: re.sub(\"'\", \"\", x))\n",
    "df['hindi_sentence'] = df['hindi_sentence'].apply(lambda x: re.sub(\"'\", \"\", x))\n",
    "\n",
    "df.head(10)"
   ]
  },
  {
   "cell_type": "code",
   "execution_count": 11,
   "id": "63f4a413",
   "metadata": {},
   "outputs": [
    {
     "name": "stdout",
     "output_type": "stream",
     "text": [
      "!\"#$%&'()*+,-./:;<=>?@[\\]^_`{|}~\n"
     ]
    }
   ],
   "source": [
    "### Remove Special character\n",
    "import string\n",
    "\n",
    "print(string.punctuation)"
   ]
  },
  {
   "cell_type": "code",
   "execution_count": 12,
   "id": "7cca8021",
   "metadata": {},
   "outputs": [
    {
     "data": {
      "text/html": [
       "<div>\n",
       "<style scoped>\n",
       "    .dataframe tbody tr th:only-of-type {\n",
       "        vertical-align: middle;\n",
       "    }\n",
       "\n",
       "    .dataframe tbody tr th {\n",
       "        vertical-align: top;\n",
       "    }\n",
       "\n",
       "    .dataframe thead th {\n",
       "        text-align: right;\n",
       "    }\n",
       "</style>\n",
       "<table border=\"1\" class=\"dataframe\">\n",
       "  <thead>\n",
       "    <tr style=\"text-align: right;\">\n",
       "      <th></th>\n",
       "      <th>source</th>\n",
       "      <th>english_sentence</th>\n",
       "      <th>hindi_sentence</th>\n",
       "    </tr>\n",
       "  </thead>\n",
       "  <tbody>\n",
       "    <tr>\n",
       "      <th>0</th>\n",
       "      <td>ted</td>\n",
       "      <td>politicians do not have permission to do what ...</td>\n",
       "      <td>राजनीतिज्ञों के पास जो कार्य करना चाहिए वह करन...</td>\n",
       "    </tr>\n",
       "    <tr>\n",
       "      <th>1</th>\n",
       "      <td>ted</td>\n",
       "      <td>id like to tell you about one such child</td>\n",
       "      <td>मई आपको ऐसे ही एक बच्चे के बारे में बताना चाहूंगी</td>\n",
       "    </tr>\n",
       "    <tr>\n",
       "      <th>3</th>\n",
       "      <td>ted</td>\n",
       "      <td>what we really mean is that theyre bad at not ...</td>\n",
       "      <td>हम ये नहीं कहना चाहते कि वो ध्यान नहीं दे पाते</td>\n",
       "    </tr>\n",
       "    <tr>\n",
       "      <th>7</th>\n",
       "      <td>ted</td>\n",
       "      <td>and who are we to say even that they are wrong</td>\n",
       "      <td>और हम होते कौन हैं यह कहने भी वाले कि वे गलत हैं</td>\n",
       "    </tr>\n",
       "    <tr>\n",
       "      <th>13</th>\n",
       "      <td>ted</td>\n",
       "      <td>so there is some sort of justice</td>\n",
       "      <td>तो वहाँ न्याय है</td>\n",
       "    </tr>\n",
       "    <tr>\n",
       "      <th>23</th>\n",
       "      <td>ted</td>\n",
       "      <td>this changed slowly</td>\n",
       "      <td>धीरे धीरे ये सब बदला</td>\n",
       "    </tr>\n",
       "    <tr>\n",
       "      <th>26</th>\n",
       "      <td>ted</td>\n",
       "      <td>were being produced</td>\n",
       "      <td>उत्पन्न नहीं कि जाती थी</td>\n",
       "    </tr>\n",
       "    <tr>\n",
       "      <th>30</th>\n",
       "      <td>ted</td>\n",
       "      <td>and you can see this led is going to glow</td>\n",
       "      <td>और जैसा आप देख रहे है ये एलईडी जल उठेगी।</td>\n",
       "    </tr>\n",
       "    <tr>\n",
       "      <th>32</th>\n",
       "      <td>ted</td>\n",
       "      <td>to turn on the lights or to bring him a glass ...</td>\n",
       "      <td>लाईट जलाने के लिए या उनके लिए पानी लाने के लिए</td>\n",
       "    </tr>\n",
       "    <tr>\n",
       "      <th>35</th>\n",
       "      <td>ted</td>\n",
       "      <td>can you imagine saying that</td>\n",
       "      <td>क्या आप ये कल्पना कर सकते है</td>\n",
       "    </tr>\n",
       "  </tbody>\n",
       "</table>\n",
       "</div>"
      ],
      "text/plain": [
       "   source                                   english_sentence  \\\n",
       "0     ted  politicians do not have permission to do what ...   \n",
       "1     ted           id like to tell you about one such child   \n",
       "3     ted  what we really mean is that theyre bad at not ...   \n",
       "7     ted     and who are we to say even that they are wrong   \n",
       "13    ted                   so there is some sort of justice   \n",
       "23    ted                                this changed slowly   \n",
       "26    ted                                were being produced   \n",
       "30    ted          and you can see this led is going to glow   \n",
       "32    ted  to turn on the lights or to bring him a glass ...   \n",
       "35    ted                        can you imagine saying that   \n",
       "\n",
       "                                       hindi_sentence  \n",
       "0   राजनीतिज्ञों के पास जो कार्य करना चाहिए वह करन...  \n",
       "1   मई आपको ऐसे ही एक बच्चे के बारे में बताना चाहूंगी  \n",
       "3      हम ये नहीं कहना चाहते कि वो ध्यान नहीं दे पाते  \n",
       "7    और हम होते कौन हैं यह कहने भी वाले कि वे गलत हैं  \n",
       "13                                   तो वहाँ न्याय है  \n",
       "23                               धीरे धीरे ये सब बदला  \n",
       "26                            उत्पन्न नहीं कि जाती थी  \n",
       "30           और जैसा आप देख रहे है ये एलईडी जल उठेगी।  \n",
       "32     लाईट जलाने के लिए या उनके लिए पानी लाने के लिए  \n",
       "35                       क्या आप ये कल्पना कर सकते है  "
      ]
     },
     "execution_count": 12,
     "metadata": {},
     "output_type": "execute_result"
    }
   ],
   "source": [
    "df['english_sentence'] = df['english_sentence'].apply(lambda x: ''.join(wd for wd in x if wd not in string.punctuation))\n",
    "df['hindi_sentence'] = df['hindi_sentence'].apply(lambda x: ''.join(wd for wd in x if wd not in string.punctuation))\n",
    "\n",
    "df.head(10)"
   ]
  },
  {
   "cell_type": "code",
   "execution_count": 13,
   "id": "5b32558c",
   "metadata": {},
   "outputs": [
    {
     "data": {
      "text/html": [
       "<div>\n",
       "<style scoped>\n",
       "    .dataframe tbody tr th:only-of-type {\n",
       "        vertical-align: middle;\n",
       "    }\n",
       "\n",
       "    .dataframe tbody tr th {\n",
       "        vertical-align: top;\n",
       "    }\n",
       "\n",
       "    .dataframe thead th {\n",
       "        text-align: right;\n",
       "    }\n",
       "</style>\n",
       "<table border=\"1\" class=\"dataframe\">\n",
       "  <thead>\n",
       "    <tr style=\"text-align: right;\">\n",
       "      <th></th>\n",
       "      <th>source</th>\n",
       "      <th>english_sentence</th>\n",
       "      <th>hindi_sentence</th>\n",
       "    </tr>\n",
       "  </thead>\n",
       "  <tbody>\n",
       "    <tr>\n",
       "      <th>0</th>\n",
       "      <td>ted</td>\n",
       "      <td>politicians do not have permission to do what ...</td>\n",
       "      <td>राजनीतिज्ञों के पास जो कार्य करना चाहिए वह करन...</td>\n",
       "    </tr>\n",
       "    <tr>\n",
       "      <th>1</th>\n",
       "      <td>ted</td>\n",
       "      <td>id like to tell you about one such child</td>\n",
       "      <td>मई आपको ऐसे ही एक बच्चे के बारे में बताना चाहूंगी</td>\n",
       "    </tr>\n",
       "    <tr>\n",
       "      <th>3</th>\n",
       "      <td>ted</td>\n",
       "      <td>what we really mean is that theyre bad at not ...</td>\n",
       "      <td>हम ये नहीं कहना चाहते कि वो ध्यान नहीं दे पाते</td>\n",
       "    </tr>\n",
       "    <tr>\n",
       "      <th>7</th>\n",
       "      <td>ted</td>\n",
       "      <td>and who are we to say even that they are wrong</td>\n",
       "      <td>और हम होते कौन हैं यह कहने भी वाले कि वे गलत हैं</td>\n",
       "    </tr>\n",
       "    <tr>\n",
       "      <th>13</th>\n",
       "      <td>ted</td>\n",
       "      <td>so there is some sort of justice</td>\n",
       "      <td>तो वहाँ न्याय है</td>\n",
       "    </tr>\n",
       "    <tr>\n",
       "      <th>23</th>\n",
       "      <td>ted</td>\n",
       "      <td>this changed slowly</td>\n",
       "      <td>धीरे धीरे ये सब बदला</td>\n",
       "    </tr>\n",
       "    <tr>\n",
       "      <th>26</th>\n",
       "      <td>ted</td>\n",
       "      <td>were being produced</td>\n",
       "      <td>उत्पन्न नहीं कि जाती थी</td>\n",
       "    </tr>\n",
       "    <tr>\n",
       "      <th>30</th>\n",
       "      <td>ted</td>\n",
       "      <td>and you can see this led is going to glow</td>\n",
       "      <td>और जैसा आप देख रहे है ये एलईडी जल उठेगी।</td>\n",
       "    </tr>\n",
       "    <tr>\n",
       "      <th>32</th>\n",
       "      <td>ted</td>\n",
       "      <td>to turn on the lights or to bring him a glass ...</td>\n",
       "      <td>लाईट जलाने के लिए या उनके लिए पानी लाने के लिए</td>\n",
       "    </tr>\n",
       "    <tr>\n",
       "      <th>35</th>\n",
       "      <td>ted</td>\n",
       "      <td>can you imagine saying that</td>\n",
       "      <td>क्या आप ये कल्पना कर सकते है</td>\n",
       "    </tr>\n",
       "  </tbody>\n",
       "</table>\n",
       "</div>"
      ],
      "text/plain": [
       "   source                                   english_sentence  \\\n",
       "0     ted  politicians do not have permission to do what ...   \n",
       "1     ted           id like to tell you about one such child   \n",
       "3     ted  what we really mean is that theyre bad at not ...   \n",
       "7     ted     and who are we to say even that they are wrong   \n",
       "13    ted                   so there is some sort of justice   \n",
       "23    ted                                this changed slowly   \n",
       "26    ted                                were being produced   \n",
       "30    ted          and you can see this led is going to glow   \n",
       "32    ted  to turn on the lights or to bring him a glass ...   \n",
       "35    ted                        can you imagine saying that   \n",
       "\n",
       "                                       hindi_sentence  \n",
       "0   राजनीतिज्ञों के पास जो कार्य करना चाहिए वह करन...  \n",
       "1   मई आपको ऐसे ही एक बच्चे के बारे में बताना चाहूंगी  \n",
       "3      हम ये नहीं कहना चाहते कि वो ध्यान नहीं दे पाते  \n",
       "7    और हम होते कौन हैं यह कहने भी वाले कि वे गलत हैं  \n",
       "13                                   तो वहाँ न्याय है  \n",
       "23                               धीरे धीरे ये सब बदला  \n",
       "26                            उत्पन्न नहीं कि जाती थी  \n",
       "30           और जैसा आप देख रहे है ये एलईडी जल उठेगी।  \n",
       "32     लाईट जलाने के लिए या उनके लिए पानी लाने के लिए  \n",
       "35                       क्या आप ये कल्पना कर सकते है  "
      ]
     },
     "execution_count": 13,
     "metadata": {},
     "output_type": "execute_result"
    }
   ],
   "source": [
    "### Remove Digits\n",
    "df['english_sentence'] = df['english_sentence'].apply(lambda x: x.translate(str.maketrans('', '', string.digits)))\n",
    "df['hindi_sentence'] = df['hindi_sentence'].apply(lambda x: x.translate(str.maketrans('', '', string.digits)))\n",
    "\n",
    "df['hindi_sentence'] = df['hindi_sentence'].apply(lambda x: re.sub(\"[२३०८१५७९४६]\", \"\", x))\n",
    "\n",
    "df.head(10)"
   ]
  },
  {
   "cell_type": "code",
   "execution_count": 14,
   "id": "be932685",
   "metadata": {},
   "outputs": [
    {
     "data": {
      "text/html": [
       "<div>\n",
       "<style scoped>\n",
       "    .dataframe tbody tr th:only-of-type {\n",
       "        vertical-align: middle;\n",
       "    }\n",
       "\n",
       "    .dataframe tbody tr th {\n",
       "        vertical-align: top;\n",
       "    }\n",
       "\n",
       "    .dataframe thead th {\n",
       "        text-align: right;\n",
       "    }\n",
       "</style>\n",
       "<table border=\"1\" class=\"dataframe\">\n",
       "  <thead>\n",
       "    <tr style=\"text-align: right;\">\n",
       "      <th></th>\n",
       "      <th>source</th>\n",
       "      <th>english_sentence</th>\n",
       "      <th>hindi_sentence</th>\n",
       "    </tr>\n",
       "  </thead>\n",
       "  <tbody>\n",
       "    <tr>\n",
       "      <th>0</th>\n",
       "      <td>ted</td>\n",
       "      <td>politicians do not have permission to do what ...</td>\n",
       "      <td>राजनीतिज्ञों के पास जो कार्य करना चाहिए वह करन...</td>\n",
       "    </tr>\n",
       "    <tr>\n",
       "      <th>1</th>\n",
       "      <td>ted</td>\n",
       "      <td>id like to tell you about one such child</td>\n",
       "      <td>मई आपको ऐसे ही एक बच्चे के बारे में बताना चाहूंगी</td>\n",
       "    </tr>\n",
       "    <tr>\n",
       "      <th>3</th>\n",
       "      <td>ted</td>\n",
       "      <td>what we really mean is that theyre bad at not ...</td>\n",
       "      <td>हम ये नहीं कहना चाहते कि वो ध्यान नहीं दे पाते</td>\n",
       "    </tr>\n",
       "    <tr>\n",
       "      <th>7</th>\n",
       "      <td>ted</td>\n",
       "      <td>and who are we to say even that they are wrong</td>\n",
       "      <td>और हम होते कौन हैं यह कहने भी वाले कि वे गलत हैं</td>\n",
       "    </tr>\n",
       "    <tr>\n",
       "      <th>13</th>\n",
       "      <td>ted</td>\n",
       "      <td>so there is some sort of justice</td>\n",
       "      <td>तो वहाँ न्याय है</td>\n",
       "    </tr>\n",
       "    <tr>\n",
       "      <th>23</th>\n",
       "      <td>ted</td>\n",
       "      <td>this changed slowly</td>\n",
       "      <td>धीरे धीरे ये सब बदला</td>\n",
       "    </tr>\n",
       "    <tr>\n",
       "      <th>26</th>\n",
       "      <td>ted</td>\n",
       "      <td>were being produced</td>\n",
       "      <td>उत्पन्न नहीं कि जाती थी</td>\n",
       "    </tr>\n",
       "    <tr>\n",
       "      <th>30</th>\n",
       "      <td>ted</td>\n",
       "      <td>and you can see this led is going to glow</td>\n",
       "      <td>और जैसा आप देख रहे है ये एलईडी जल उठेगी।</td>\n",
       "    </tr>\n",
       "    <tr>\n",
       "      <th>32</th>\n",
       "      <td>ted</td>\n",
       "      <td>to turn on the lights or to bring him a glass ...</td>\n",
       "      <td>लाईट जलाने के लिए या उनके लिए पानी लाने के लिए</td>\n",
       "    </tr>\n",
       "    <tr>\n",
       "      <th>35</th>\n",
       "      <td>ted</td>\n",
       "      <td>can you imagine saying that</td>\n",
       "      <td>क्या आप ये कल्पना कर सकते है</td>\n",
       "    </tr>\n",
       "  </tbody>\n",
       "</table>\n",
       "</div>"
      ],
      "text/plain": [
       "   source                                   english_sentence  \\\n",
       "0     ted  politicians do not have permission to do what ...   \n",
       "1     ted           id like to tell you about one such child   \n",
       "3     ted  what we really mean is that theyre bad at not ...   \n",
       "7     ted     and who are we to say even that they are wrong   \n",
       "13    ted                   so there is some sort of justice   \n",
       "23    ted                                this changed slowly   \n",
       "26    ted                                were being produced   \n",
       "30    ted          and you can see this led is going to glow   \n",
       "32    ted  to turn on the lights or to bring him a glass ...   \n",
       "35    ted                        can you imagine saying that   \n",
       "\n",
       "                                       hindi_sentence  \n",
       "0   राजनीतिज्ञों के पास जो कार्य करना चाहिए वह करन...  \n",
       "1   मई आपको ऐसे ही एक बच्चे के बारे में बताना चाहूंगी  \n",
       "3      हम ये नहीं कहना चाहते कि वो ध्यान नहीं दे पाते  \n",
       "7    और हम होते कौन हैं यह कहने भी वाले कि वे गलत हैं  \n",
       "13                                   तो वहाँ न्याय है  \n",
       "23                               धीरे धीरे ये सब बदला  \n",
       "26                            उत्पन्न नहीं कि जाती थी  \n",
       "30           और जैसा आप देख रहे है ये एलईडी जल उठेगी।  \n",
       "32     लाईट जलाने के लिए या उनके लिए पानी लाने के लिए  \n",
       "35                       क्या आप ये कल्पना कर सकते है  "
      ]
     },
     "execution_count": 14,
     "metadata": {},
     "output_type": "execute_result"
    }
   ],
   "source": [
    "### Remove extra spaces\n",
    "df['english_sentence'] = df['english_sentence'].apply(lambda x: x.strip())\n",
    "df['hindi_sentence'] = df['hindi_sentence'].apply(lambda x: x.strip())\n",
    "\n",
    "df.head(10)"
   ]
  },
  {
   "cell_type": "code",
   "execution_count": 15,
   "id": "01bf82e3",
   "metadata": {},
   "outputs": [
    {
     "data": {
      "text/html": [
       "<div>\n",
       "<style scoped>\n",
       "    .dataframe tbody tr th:only-of-type {\n",
       "        vertical-align: middle;\n",
       "    }\n",
       "\n",
       "    .dataframe tbody tr th {\n",
       "        vertical-align: top;\n",
       "    }\n",
       "\n",
       "    .dataframe thead th {\n",
       "        text-align: right;\n",
       "    }\n",
       "</style>\n",
       "<table border=\"1\" class=\"dataframe\">\n",
       "  <thead>\n",
       "    <tr style=\"text-align: right;\">\n",
       "      <th></th>\n",
       "      <th>source</th>\n",
       "      <th>english_sentence</th>\n",
       "      <th>hindi_sentence</th>\n",
       "    </tr>\n",
       "  </thead>\n",
       "  <tbody>\n",
       "    <tr>\n",
       "      <th>0</th>\n",
       "      <td>ted</td>\n",
       "      <td>politicians do not have permission to do what ...</td>\n",
       "      <td>SOF राजनीतिज्ञों के पास जो कार्य करना चाहिए वह...</td>\n",
       "    </tr>\n",
       "    <tr>\n",
       "      <th>1</th>\n",
       "      <td>ted</td>\n",
       "      <td>id like to tell you about one such child</td>\n",
       "      <td>SOF मई आपको ऐसे ही एक बच्चे के बारे में बताना ...</td>\n",
       "    </tr>\n",
       "    <tr>\n",
       "      <th>3</th>\n",
       "      <td>ted</td>\n",
       "      <td>what we really mean is that theyre bad at not ...</td>\n",
       "      <td>SOF हम ये नहीं कहना चाहते कि वो ध्यान नहीं दे ...</td>\n",
       "    </tr>\n",
       "    <tr>\n",
       "      <th>7</th>\n",
       "      <td>ted</td>\n",
       "      <td>and who are we to say even that they are wrong</td>\n",
       "      <td>SOF और हम होते कौन हैं यह कहने भी वाले कि वे ग...</td>\n",
       "    </tr>\n",
       "    <tr>\n",
       "      <th>13</th>\n",
       "      <td>ted</td>\n",
       "      <td>so there is some sort of justice</td>\n",
       "      <td>SOF तो वहाँ न्याय है EOF</td>\n",
       "    </tr>\n",
       "    <tr>\n",
       "      <th>23</th>\n",
       "      <td>ted</td>\n",
       "      <td>this changed slowly</td>\n",
       "      <td>SOF धीरे धीरे ये सब बदला EOF</td>\n",
       "    </tr>\n",
       "    <tr>\n",
       "      <th>26</th>\n",
       "      <td>ted</td>\n",
       "      <td>were being produced</td>\n",
       "      <td>SOF उत्पन्न नहीं कि जाती थी EOF</td>\n",
       "    </tr>\n",
       "    <tr>\n",
       "      <th>30</th>\n",
       "      <td>ted</td>\n",
       "      <td>and you can see this led is going to glow</td>\n",
       "      <td>SOF और जैसा आप देख रहे है ये एलईडी जल उठेगी। EOF</td>\n",
       "    </tr>\n",
       "    <tr>\n",
       "      <th>32</th>\n",
       "      <td>ted</td>\n",
       "      <td>to turn on the lights or to bring him a glass ...</td>\n",
       "      <td>SOF लाईट जलाने के लिए या उनके लिए पानी लाने के...</td>\n",
       "    </tr>\n",
       "    <tr>\n",
       "      <th>35</th>\n",
       "      <td>ted</td>\n",
       "      <td>can you imagine saying that</td>\n",
       "      <td>SOF क्या आप ये कल्पना कर सकते है EOF</td>\n",
       "    </tr>\n",
       "  </tbody>\n",
       "</table>\n",
       "</div>"
      ],
      "text/plain": [
       "   source                                   english_sentence  \\\n",
       "0     ted  politicians do not have permission to do what ...   \n",
       "1     ted           id like to tell you about one such child   \n",
       "3     ted  what we really mean is that theyre bad at not ...   \n",
       "7     ted     and who are we to say even that they are wrong   \n",
       "13    ted                   so there is some sort of justice   \n",
       "23    ted                                this changed slowly   \n",
       "26    ted                                were being produced   \n",
       "30    ted          and you can see this led is going to glow   \n",
       "32    ted  to turn on the lights or to bring him a glass ...   \n",
       "35    ted                        can you imagine saying that   \n",
       "\n",
       "                                       hindi_sentence  \n",
       "0   SOF राजनीतिज्ञों के पास जो कार्य करना चाहिए वह...  \n",
       "1   SOF मई आपको ऐसे ही एक बच्चे के बारे में बताना ...  \n",
       "3   SOF हम ये नहीं कहना चाहते कि वो ध्यान नहीं दे ...  \n",
       "7   SOF और हम होते कौन हैं यह कहने भी वाले कि वे ग...  \n",
       "13                           SOF तो वहाँ न्याय है EOF  \n",
       "23                       SOF धीरे धीरे ये सब बदला EOF  \n",
       "26                    SOF उत्पन्न नहीं कि जाती थी EOF  \n",
       "30   SOF और जैसा आप देख रहे है ये एलईडी जल उठेगी। EOF  \n",
       "32  SOF लाईट जलाने के लिए या उनके लिए पानी लाने के...  \n",
       "35               SOF क्या आप ये कल्पना कर सकते है EOF  "
      ]
     },
     "execution_count": 15,
     "metadata": {},
     "output_type": "execute_result"
    }
   ],
   "source": [
    "### Add Start & End Tokens\n",
    "#df['english_sentence'] = df['english_sentence'].apply(lambda x: 'SOF ' + x + ' EOF')\n",
    "df['hindi_sentence'] = df['hindi_sentence'].apply(lambda x: 'SOF ' + x + ' EOF')\n",
    "\n",
    "df.head(10)"
   ]
  },
  {
   "cell_type": "code",
   "execution_count": 16,
   "id": "24f8fa66",
   "metadata": {},
   "outputs": [
    {
     "name": "stderr",
     "output_type": "stream",
     "text": [
      "/usr/lib/python3/dist-packages/scipy/__init__.py:146: UserWarning: A NumPy version >=1.16.5 and <1.23.0 is required for this version of SciPy (detected version 1.23.1\n",
      "  warnings.warn(f\"A NumPy version >={np_minversion} and <{np_maxversion}\"\n"
     ]
    }
   ],
   "source": [
    "### Add Length of English Word, and Hindi word to df variable\n",
    "from nltk import word_tokenize\n",
    "\n",
    "df['len_english_sentence'] = df['english_sentence'].apply(lambda x: len(word_tokenize(x)))\n",
    "df['len_hindi_sentence'] = df['hindi_sentence'].apply(lambda x: len(word_tokenize(x)))\n"
   ]
  },
  {
   "cell_type": "code",
   "execution_count": 17,
   "id": "fc0b9e66",
   "metadata": {},
   "outputs": [
    {
     "data": {
      "text/html": [
       "<div>\n",
       "<style scoped>\n",
       "    .dataframe tbody tr th:only-of-type {\n",
       "        vertical-align: middle;\n",
       "    }\n",
       "\n",
       "    .dataframe tbody tr th {\n",
       "        vertical-align: top;\n",
       "    }\n",
       "\n",
       "    .dataframe thead th {\n",
       "        text-align: right;\n",
       "    }\n",
       "</style>\n",
       "<table border=\"1\" class=\"dataframe\">\n",
       "  <thead>\n",
       "    <tr style=\"text-align: right;\">\n",
       "      <th></th>\n",
       "      <th>source</th>\n",
       "      <th>english_sentence</th>\n",
       "      <th>hindi_sentence</th>\n",
       "      <th>len_english_sentence</th>\n",
       "      <th>len_hindi_sentence</th>\n",
       "    </tr>\n",
       "  </thead>\n",
       "  <tbody>\n",
       "    <tr>\n",
       "      <th>0</th>\n",
       "      <td>ted</td>\n",
       "      <td>politicians do not have permission to do what ...</td>\n",
       "      <td>SOF राजनीतिज्ञों के पास जो कार्य करना चाहिए वह...</td>\n",
       "      <td>12</td>\n",
       "      <td>15</td>\n",
       "    </tr>\n",
       "    <tr>\n",
       "      <th>1</th>\n",
       "      <td>ted</td>\n",
       "      <td>id like to tell you about one such child</td>\n",
       "      <td>SOF मई आपको ऐसे ही एक बच्चे के बारे में बताना ...</td>\n",
       "      <td>9</td>\n",
       "      <td>13</td>\n",
       "    </tr>\n",
       "    <tr>\n",
       "      <th>3</th>\n",
       "      <td>ted</td>\n",
       "      <td>what we really mean is that theyre bad at not ...</td>\n",
       "      <td>SOF हम ये नहीं कहना चाहते कि वो ध्यान नहीं दे ...</td>\n",
       "      <td>12</td>\n",
       "      <td>13</td>\n",
       "    </tr>\n",
       "    <tr>\n",
       "      <th>7</th>\n",
       "      <td>ted</td>\n",
       "      <td>and who are we to say even that they are wrong</td>\n",
       "      <td>SOF और हम होते कौन हैं यह कहने भी वाले कि वे ग...</td>\n",
       "      <td>11</td>\n",
       "      <td>15</td>\n",
       "    </tr>\n",
       "    <tr>\n",
       "      <th>13</th>\n",
       "      <td>ted</td>\n",
       "      <td>so there is some sort of justice</td>\n",
       "      <td>SOF तो वहाँ न्याय है EOF</td>\n",
       "      <td>7</td>\n",
       "      <td>6</td>\n",
       "    </tr>\n",
       "    <tr>\n",
       "      <th>23</th>\n",
       "      <td>ted</td>\n",
       "      <td>this changed slowly</td>\n",
       "      <td>SOF धीरे धीरे ये सब बदला EOF</td>\n",
       "      <td>3</td>\n",
       "      <td>7</td>\n",
       "    </tr>\n",
       "    <tr>\n",
       "      <th>26</th>\n",
       "      <td>ted</td>\n",
       "      <td>were being produced</td>\n",
       "      <td>SOF उत्पन्न नहीं कि जाती थी EOF</td>\n",
       "      <td>3</td>\n",
       "      <td>7</td>\n",
       "    </tr>\n",
       "    <tr>\n",
       "      <th>30</th>\n",
       "      <td>ted</td>\n",
       "      <td>and you can see this led is going to glow</td>\n",
       "      <td>SOF और जैसा आप देख रहे है ये एलईडी जल उठेगी। EOF</td>\n",
       "      <td>10</td>\n",
       "      <td>12</td>\n",
       "    </tr>\n",
       "    <tr>\n",
       "      <th>32</th>\n",
       "      <td>ted</td>\n",
       "      <td>to turn on the lights or to bring him a glass ...</td>\n",
       "      <td>SOF लाईट जलाने के लिए या उनके लिए पानी लाने के...</td>\n",
       "      <td>13</td>\n",
       "      <td>13</td>\n",
       "    </tr>\n",
       "    <tr>\n",
       "      <th>35</th>\n",
       "      <td>ted</td>\n",
       "      <td>can you imagine saying that</td>\n",
       "      <td>SOF क्या आप ये कल्पना कर सकते है EOF</td>\n",
       "      <td>5</td>\n",
       "      <td>9</td>\n",
       "    </tr>\n",
       "  </tbody>\n",
       "</table>\n",
       "</div>"
      ],
      "text/plain": [
       "   source                                   english_sentence  \\\n",
       "0     ted  politicians do not have permission to do what ...   \n",
       "1     ted           id like to tell you about one such child   \n",
       "3     ted  what we really mean is that theyre bad at not ...   \n",
       "7     ted     and who are we to say even that they are wrong   \n",
       "13    ted                   so there is some sort of justice   \n",
       "23    ted                                this changed slowly   \n",
       "26    ted                                were being produced   \n",
       "30    ted          and you can see this led is going to glow   \n",
       "32    ted  to turn on the lights or to bring him a glass ...   \n",
       "35    ted                        can you imagine saying that   \n",
       "\n",
       "                                       hindi_sentence  len_english_sentence  \\\n",
       "0   SOF राजनीतिज्ञों के पास जो कार्य करना चाहिए वह...                    12   \n",
       "1   SOF मई आपको ऐसे ही एक बच्चे के बारे में बताना ...                     9   \n",
       "3   SOF हम ये नहीं कहना चाहते कि वो ध्यान नहीं दे ...                    12   \n",
       "7   SOF और हम होते कौन हैं यह कहने भी वाले कि वे ग...                    11   \n",
       "13                           SOF तो वहाँ न्याय है EOF                     7   \n",
       "23                       SOF धीरे धीरे ये सब बदला EOF                     3   \n",
       "26                    SOF उत्पन्न नहीं कि जाती थी EOF                     3   \n",
       "30   SOF और जैसा आप देख रहे है ये एलईडी जल उठेगी। EOF                    10   \n",
       "32  SOF लाईट जलाने के लिए या उनके लिए पानी लाने के...                    13   \n",
       "35               SOF क्या आप ये कल्पना कर सकते है EOF                     5   \n",
       "\n",
       "    len_hindi_sentence  \n",
       "0                   15  \n",
       "1                   13  \n",
       "3                   13  \n",
       "7                   15  \n",
       "13                   6  \n",
       "23                   7  \n",
       "26                   7  \n",
       "30                  12  \n",
       "32                  13  \n",
       "35                   9  "
      ]
     },
     "execution_count": 17,
     "metadata": {},
     "output_type": "execute_result"
    }
   ],
   "source": [
    "df.head(10)"
   ]
  },
  {
   "cell_type": "code",
   "execution_count": 18,
   "id": "06c2e58f",
   "metadata": {},
   "outputs": [
    {
     "data": {
      "text/plain": [
       "(4, 5)"
      ]
     },
     "execution_count": 18,
     "metadata": {},
     "output_type": "execute_result"
    }
   ],
   "source": [
    "df[df['len_english_sentence'] > 20].shape"
   ]
  },
  {
   "cell_type": "code",
   "execution_count": 19,
   "id": "33fb930d",
   "metadata": {},
   "outputs": [],
   "source": [
    "df = df[df['len_english_sentence'] <= 20]\n",
    "df = df[df['len_hindi_sentence'] <= 20]"
   ]
  },
  {
   "cell_type": "code",
   "execution_count": 20,
   "id": "9db2c6cb",
   "metadata": {},
   "outputs": [
    {
     "name": "stdout",
     "output_type": "stream",
     "text": [
      "Max length of English Sentence:  20\n",
      "Max length of Hindi Sentence:  20\n"
     ]
    }
   ],
   "source": [
    "print(\"Max length of English Sentence: \", max(df['len_english_sentence']))\n",
    "print(\"Max length of Hindi Sentence: \", max(df['len_hindi_sentence']))"
   ]
  },
  {
   "cell_type": "code",
   "execution_count": 21,
   "id": "715fe172",
   "metadata": {},
   "outputs": [
    {
     "data": {
      "text/plain": [
       "(39516, 5)"
      ]
     },
     "execution_count": 21,
     "metadata": {},
     "output_type": "execute_result"
    }
   ],
   "source": [
    "df.shape"
   ]
  },
  {
   "cell_type": "code",
   "execution_count": 22,
   "id": "709abe06",
   "metadata": {},
   "outputs": [
    {
     "data": {
      "text/plain": [
       "'politicians do not have permission to do what needs to be done'"
      ]
     },
     "execution_count": 22,
     "metadata": {},
     "output_type": "execute_result"
    }
   ],
   "source": [
    "df['english_sentence'][0]"
   ]
  },
  {
   "cell_type": "code",
   "execution_count": 23,
   "id": "731eada4",
   "metadata": {},
   "outputs": [
    {
     "name": "stdout",
     "output_type": "stream",
     "text": [
      "17200\n"
     ]
    }
   ],
   "source": [
    "allEngWord = set()\n",
    "for engSent in df['english_sentence']:\n",
    "    for word in engSent.split():\n",
    "        if word not in allEngWord:\n",
    "            allEngWord.add(word)\n",
    "            \n",
    "print(len(allEngWord))"
   ]
  },
  {
   "cell_type": "code",
   "execution_count": 24,
   "id": "e5b3b96e",
   "metadata": {},
   "outputs": [
    {
     "name": "stdout",
     "output_type": "stream",
     "text": [
      "22043\n"
     ]
    }
   ],
   "source": [
    "allHinWord = set()\n",
    "for hinSent in df['hindi_sentence']:\n",
    "    for word in hinSent.split():\n",
    "        if word not in allHinWord:\n",
    "            allHinWord.add(word)\n",
    "            \n",
    "print(len(allHinWord))"
   ]
  },
  {
   "cell_type": "code",
   "execution_count": 25,
   "id": "3852a864",
   "metadata": {},
   "outputs": [
    {
     "data": {
      "text/plain": [
       "(17200, 22043)"
      ]
     },
     "execution_count": 25,
     "metadata": {},
     "output_type": "execute_result"
    }
   ],
   "source": [
    "engWordSorted = sorted(list(allEngWord))\n",
    "hinWordSorted = sorted(list(allHinWord))\n",
    "\n",
    "num_encoder_tokens = len(allEngWord)\n",
    "num_decoder_tokens = len(allHinWord)\n",
    "\n",
    "num_encoder_tokens, num_decoder_tokens"
   ]
  },
  {
   "cell_type": "code",
   "execution_count": 26,
   "id": "9d8491bf",
   "metadata": {},
   "outputs": [
    {
     "name": "stdout",
     "output_type": "stream",
     "text": [
      "Max. length in English:  20\n",
      "Max. length in Hindi:  20\n"
     ]
    }
   ],
   "source": [
    "max_length_src = max(df[\"len_english_sentence\"])\n",
    "max_length_tar = max(df[\"len_hindi_sentence\"])\n",
    "\n",
    "print(\"Max. length in English: \", max_length_src)\n",
    "print(\"Max. length in Hindi: \", max_length_tar)"
   ]
  },
  {
   "cell_type": "code",
   "execution_count": 27,
   "id": "a1c54f57",
   "metadata": {},
   "outputs": [],
   "source": [
    "num_decoder_tokens += 1 # For zero padding"
   ]
  },
  {
   "cell_type": "code",
   "execution_count": 28,
   "id": "daa59d19",
   "metadata": {},
   "outputs": [
    {
     "name": "stdout",
     "output_type": "stream",
     "text": [
      "{'a': 1, 'aaaahhh': 2, 'aaron': 3, 'ab': 4, 'abacha': 5, 'abandon': 6, 'abandoned': 7, 'abattoirs': 8, 'abbottabad': 9, 'abc': 10, 'abducting': 11, 'abdul': 12, 'abe': 13, 'abhishek': 14, 'abidjan': 15, 'abilities': 16, 'ability': 17, 'abject': 18, 'able': 19, 'abnormal': 20, 'abnormalities': 21, 'abnormality': 22, 'abode': 23, 'abolish': 24, 'abolished': 25, 'abololo': 26, 'about': 27, 'about”': 28, 'above': 29, 'abraham': 30, 'abrahamic': 31, 'abrahams': 32, 'abroad': 33, 'absence': 34, 'absent': 35, 'absolute': 36, 'absolutely': 37, 'absoluteness': 38, 'absolution': 39, 'absorb': 40, 'absorbed': 41, 'absorbing': 42, 'absorbs': 43, 'absorption': 44, 'abstract': 45, 'absurd': 46, 'abu': 47, 'abundance': 48, 'abundant': 49, 'abuse': 50, 'abused': 51, 'abusers': 52, 'abusing': 53, 'abusive': 54, 'abuzaid': 55, 'ac': 56, 'academic': 57, 'academically': 58, 'academy': 59, 'accede': 60, 'accelerate': 61, 'accelerates': 62, 'accelerating': 63, 'acceleration': 64, 'accelerator': 65, 'accelerometers': 66, 'accent': 67, 'accents': 68, 'accentuate': 69, 'accenture': 70, 'accept': 71, 'acceptable': 72, 'acceptance': 73, 'accepted': 74, 'accepted”': 75, 'accepting': 76, 'accepts': 77, 'access': 78, 'accessible': 79, 'accessing': 80, 'accident': 81, 'accidental': 82, 'accidentally': 83, 'accidents': 84, 'accompanied': 85, 'accomplish': 86, 'accomplished': 87, 'accord': 88, 'according': 89, 'accordingly': 90, 'accosted': 91, 'account': 92, 'accountability': 93, 'accountable': 94, 'accountant': 95, 'accountants': 96, 'accounted': 97, 'accounting': 98, 'accounts': 99, 'accra': 100, 'accredited': 101, 'accrued': 102, 'accumulate': 103, 'accumulates': 104, 'accumulating': 105, 'accumulation': 106, 'accuracy': 107, 'accurate': 108, 'accurately': 109, 'accused': 110, 'acharya': 111, 'achebe': 112, 'achieve': 113, 'achieved': 114, 'achievement': 115, 'achievements': 116, 'achieving': 117, 'achilles': 118, 'acid': 119, 'acids': 120, 'ackermann': 121, 'acknowledge': 122, 'acknowledged': 123, 'acknowledgement': 124, 'acknowledging': 125, 'acolyte': 126, 'acolytes': 127, 'acorn': 128, 'acquaintances': 129, 'acquire': 130, 'acquired': 131, 'acquiring': 132, 'acquisition': 133, 'acre': 134, 'acres': 135, 'acronym': 136, 'across': 137, 'act': 138, 'acted': 139, 'acting': 140, 'action': 141, 'actionable': 142, 'actions': 143, 'activate': 144, 'activates': 145, 'activating': 146, 'activation': 147, 'activators': 148, 'active': 149, 'actively': 150, 'activism': 151, 'activists': 152, 'activities': 153, 'activity': 154, 'actor': 155, 'actors': 156, 'actresses': 157, 'acts': 158, 'actual': 159, 'actually': 160, 'actually”': 161, 'actuate': 162, 'actuated': 163, 'actuators': 164, 'acumen': 165, 'acumens': 166, 'ad': 167, 'adage': 168, 'adam': 169, 'adapt': 170, 'adaptation': 171, 'adaptations': 172, 'adapted': 173, 'adapting': 174, 'adaptive': 175, 'add': 176, 'added': 177, 'addict': 178, 'addicted': 179, 'addiction': 180, 'addictions': 181, 'adding': 182, 'addition': 183, 'additional': 184, 'additionally': 185, 'address': 186, 'addressed': 187, 'addresses': 188, 'addressing': 189, 'address”': 190, 'adds': 191, 'adenike': 192, 'adenikes': 193, 'adept': 194, 'adequate': 195, 'adequately': 196, 'adhd': 197, 'adhere': 198, 'adjacent': 199, 'adjust': 200, 'admin': 201, 'administers': 202, 'administration': 203, 'administrative': 204, 'administrator': 205, 'administrators': 206, 'admiration': 207, 'admire': 208, 'admires': 209, 'admit': 210, 'admits': 211, 'admitted': 212, 'admitting': 213, 'adolescence': 214, 'adolescencies': 215, 'adolescent': 216, 'adolescents': 217, 'adopt': 218, 'adopted': 219, 'adopting': 220, 'adoption': 221, 'adorable': 222, 'adoration': 223, 'adore': 224, 'adores': 225, 'adrenaline': 226, 'ads': 227, 'adsense': 228, 'adult': 229, 'adults': 230, 'advance': 231, 'advanced': 232, 'advancement': 233, 'advancements': 234, 'advances': 235, 'advancing': 236, 'advantage': 237, 'advantageous': 238, 'advantages': 239, 'advent': 240, 'adventure': 241, 'adventurers': 242, 'adventures': 243, 'adventurous': 244, 'adverb': 245, 'advertised': 246, 'advertisements': 247, 'advertising': 248, 'advice': 249, 'advise': 250, 'advised': 251, 'advisers': 252, 'advises': 253, 'advising': 254, 'advisor': 255, 'advisory': 256, 'advocacy': 257, 'advocate': 258, 'advocated': 259, 'aerial': 260, 'aerodynamic': 261, 'aerodynamics': 262, 'aeronautic': 263, 'aeronautical': 264, 'aesthetic': 265, 'aesthetics': 266, 'affairs': 267, 'affect': 268, 'affected': 269, 'affecting': 270, 'affectionately': 271, 'affects': 272, 'affirmatively': 273, 'affirmed': 274, 'afflicted': 275, 'afford': 276, 'affordability': 277, 'affordable': 278, 'afforded': 279, 'afghan': 280, 'afghanistan': 281, 'afghans': 282, 'afraid': 283, 'afresh': 284, 'africa': 285, 'african': 286, 'africans': 287, 'africans”': 288, 'african”': 289, 'africas': 290, 'aft': 291, 'after': 292, 'afterlife': 293, 'aftermath': 294, 'afternoon': 295, 'afterward': 296, 'afterwards': 297, 'ag': 298, 'aga': 299, 'again': 300, 'against': 301, 'again”': 302, 'agarbattis': 303, 'age': 304, 'agediscriminatory': 305, 'agencies': 306, 'agency': 307, 'agenda': 308, 'agent': 309, 'agents': 310, 'ageold': 311, 'agerelated': 312, 'ages': 313, 'aggregate': 314, 'aggressive': 315, 'aghast': 316, 'agile': 317, 'aging': 318, 'agitated': 319, 'agnostic': 320, 'ago': 321, 'agonizing': 322, 'agra': 323, 'agree': 324, 'agreed': 325, 'agreement': 326, 'agrees': 327, 'agricultural': 328, 'agriculturalists': 329, 'agriculture': 330, 'agronomist': 331, 'agronomists': 332, 'ah': 333, 'aha': 334, 'ahead': 335, 'ahmad': 336, 'ahmed': 337, 'ahmedabad': 338, 'aid': 339, 'aida': 340, 'aides': 341, 'aids': 342, 'aids”': 343, 'aim': 344, 'aimee': 345, 'aims': 346, 'aint': 347, 'air': 348, 'airbag': 349, 'airborne': 350, 'airbus': 351, 'aircraft': 352, 'aircrafts': 353, 'airline': 354, 'airliner': 355, 'airlines': 356, 'airpix': 357, 'airplane': 358, 'airplanes': 359, 'airport': 360, 'airports': 361, 'airways': 362, 'aisle': 363, 'aisles': 364, 'ak': 365, 'aka': 366, 'akal': 367, 'akin': 368, 'al': 369, 'alacrity': 370, 'alain': 371, 'alamieyeseigha': 372, 'alams': 373, 'alan': 374, 'alarm': 375, 'alarmed': 376, 'alarming': 377, 'albatina': 378, 'albeit': 379, 'alberta': 380, 'alcohol': 381, 'alcoholism': 382, 'aldehyde': 383, 'aleppo': 384, 'alert': 385, 'alex': 386, 'alexander': 387, 'alexanders': 388, 'alexander”': 389, 'alexandria': 390, 'algebra': 391, 'algo': 392, 'algorithm': 393, 'algorithmic': 394, 'algorithms': 395, 'algorithms”': 396, 'alhikma': 397, 'ali': 398, 'alice': 399, 'alien': 400, 'alienating': 401, 'align': 402, 'aligned': 403, 'aligning': 404, 'alike': 405, 'alison': 406, 'alive': 407, 'alive”': 408, 'all': 409, 'allah': 410, 'allama': 411, 'allegiance': 412, 'allegorical': 413, 'allen': 414, 'alleviated': 415, 'alley': 416, 'alleys': 417, 'alliance': 418, 'allied': 419, 'allies': 420, 'allimportant': 421, 'allnews': 422, 'allocate': 423, 'allocca': 424, 'allow': 425, 'allowance': 426, 'allowances': 427, 'allowed': 428, 'allowing': 429, 'allows': 430, 'allpowerful': 431, 'alluded': 432, 'allusions': 433, 'allwomenandgirls': 434, 'all”': 435, 'almamun': 436, 'almost': 437, 'alms': 438, 'alone': 439, 'alone”': 440, 'along': 441, 'alongside': 442, 'alpha': 443, 'alphabet': 444, 'alpine': 445, 'alps': 446, 'alqaeda': 447, 'alrashids': 448, 'already': 449, 'alright': 450, 'also': 451, 'altadena': 452, 'alter': 453, 'altered': 454, 'altering': 455, 'alternate': 456, 'alternative': 457, 'alternatively': 458, 'alternatives': 459, 'although': 460, 'altitude': 461, 'alto': 462, 'altogether': 463, 'altos': 464, 'altruism': 465, 'altruistic': 466, 'aluminum': 467, 'always': 468, 'alzheimers': 469, 'al”': 470, 'am': 471, 'amar': 472, 'amartya': 473, 'amateur': 474, 'amateurs': 475, 'amaze': 476, 'amazed': 477, 'amazement': 478, 'amazing': 479, 'amazingly': 480, 'amazon': 481, 'ambassador': 482, 'ambient': 483, 'ambiguities': 484, 'ambiguity': 485, 'ambiguous': 486, 'ambition': 487, 'ambitions': 488, 'ambitious': 489, 'ambivalent': 490, 'ambrosia': 491, 'ambulance': 492, 'ambulances': 493, 'amen': 494, 'amenable': 495, 'amend': 496, 'amen”': 497, 'america': 498, 'american': 499, 'americans': 500, 'americans”': 501, 'americas': 502, 'ami': 503, 'amidst': 504, 'amin': 505, 'amino': 506, 'amir': 507, 'amitabha': 508, 'amitabhas': 509, 'amjad': 510, 'ammonia': 511, 'amnesia': 512, 'amnesty': 513, 'amoeba': 514, 'among': 515, 'amongst': 516, 'amorphous': 517, 'amory': 518, 'amount': 519, 'amounts': 520, 'amphitheater': 521, 'amplify': 522, 'amps': 523, 'amritsar': 524, 'amsterdam': 525, 'amused': 526, 'amy': 527, 'am”': 528, 'an': 529, 'anaconda': 530, 'analog': 531, 'analogies': 532, 'analogous': 533, 'analogy': 534, 'analysis': 535, 'analyst': 536, 'analytical': 537, 'analyze': 538, 'analyzed': 539, 'analyzes': 540, 'analyzing': 541, 'ananthaswamy': 542, 'anarchy': 543, 'anatomy': 544, 'ancestor': 545, 'ancestors': 546, 'anchor': 547, 'ancient': 548, 'and': 549, 'andalusia': 550, 'anderson': 551, 'andes': 552, 'andhra': 553, 'andme': 554, 'andrew': 555, 'android': 556, 'androids': 557, 'andromeda': 558, 'anemia': 559, 'anemic': 560, 'anesthesia': 561, 'anesthesiologist': 562, 'anesthetic': 563, 'anesthetized': 564, 'anew': 565, 'angeles': 566, 'angels': 567, 'anger': 568, 'angle': 569, 'angles': 570, 'angle”': 571, 'angola': 572, 'angour': 573, 'angry': 574, 'angular': 575, 'anil': 576, 'animal': 577, 'animals': 578, 'animals”': 579, 'animate': 580, 'animated': 581, 'animation': 582, 'animations': 583, 'anjali': 584, 'anjalis': 585, 'anna': 586, 'annan': 587, 'anne': 588, 'anniversary': 589, 'annotate': 590, 'annotation': 591, 'annotations': 592, 'announce': 593, 'announced': 594, 'announcement': 595, 'announcer': 596, 'announces': 597, 'annoys': 598, 'annual': 599, 'annually': 600, 'annum': 601, 'anomalies': 602, 'anomalously': 603, 'anomaly': 604, 'anonymity': 605, 'anonymous': 606, 'another': 607, 'another”': 608, 'ansari': 609, 'answer': 610, 'answered': 611, 'answering': 612, 'answers': 613, 'ant': 614, 'antagonistic': 615, 'antarctica': 616, 'antenna': 617, 'anthem': 618, 'anther': 619, 'anthers': 620, 'anthill': 621, 'anthony': 622, 'anthony”': 623, 'anthropological': 624, 'anthropologist': 625, 'anthropologists': 626, 'anthropology': 627, 'anthropometrics': 628, 'anthropomorphic': 629, 'antibiotics': 630, 'anticipate': 631, 'anticipated': 632, 'anticipate”': 633, 'anticorruption': 634, 'antidepressant': 635, 'antidevelopment': 636, 'antidote': 637, 'antiforeign': 638, 'antiglobalizers': 639, 'antigovernment': 640, 'antiintellectual': 641, 'antimuslim': 642, 'antiquated': 643, 'antique': 644, 'antiretrovirals': 645, 'antiseizure': 646, 'antisemitism': 647, 'antismoking': 648, 'antivietnam': 649, 'antiviruses': 650, 'ants': 651, 'anuj': 652, 'anupam': 653, 'anxiety': 654, 'anxious': 655, 'anxiously': 656, 'any': 657, 'anybody': 658, 'anybodys': 659, 'anymore': 660, 'anymore”': 661, 'anyone': 662, 'anyones': 663, 'anything': 664, 'anything“': 665, 'anything”': 666, 'anytime': 667, 'anyway': 668, 'anywhere': 669, 'anywhere”': 670, 'ao': 671, 'ap': 672, 'apart': 673, 'apartment': 674, 'apartments': 675, 'apathetic': 676, 'apathy': 677, 'ape': 678, 'apes': 679, 'aphaenogaster': 680, 'apiece': 681, 'apocalyptic': 682, 'apocalypticallyminded': 683, 'apocalyptics': 684, 'apollo': 685, 'apologies': 686, 'apologize': 687, 'apologizing': 688, 'apostle': 689, 'app': 690, 'appachan': 691, 'appalachian': 692, 'appalling': 693, 'apparatus': 694, 'apparent': 695, 'apparently': 696, 'appeal': 697, 'appealing': 698, 'appeals': 699, 'appear': 700, 'appearance': 701, 'appearances': 702, 'appeared': 703, 'appearing': 704, 'appears': 705, 'appetite': 706, 'appetit”': 707, 'applauded': 708, 'applause': 709, 'apple': 710, 'apples': 711, 'appliances': 712, 'applicable': 713, 'application': 714, 'applications': 715, 'applied': 716, 'applies': 717, 'apply': 718, 'applying': 719, 'appoint': 720, 'appointment': 721, 'appreciate': 722, 'appreciated': 723, 'appreciates': 724, 'appreciating': 725, 'appreciation': 726, 'approach': 727, 'approached': 728, 'approaches': 729, 'approaching': 730, 'approach”': 731, 'appropriate': 732, 'appropriately': 733, 'approval': 734, 'approved': 735, 'approximately': 736, 'apps': 737, 'april': 738, 'aproch': 739, 'apt': 740, 'aptitudes': 741, 'apu': 742, 'ap”': 743, 'arab': 744, 'arabia': 745, 'arabic': 746, 'arabics': 747, 'arabs': 748, 'aravind': 749, 'arawak': 750, 'arberry': 751, 'arbitrage': 752, 'arbitrary': 753, 'arcane': 754, 'archaic': 755, 'archeologist': 756, 'archeologists': 757, 'archetypes': 758, 'architect': 759, 'architects': 760, 'architectural': 761, 'architecture': 762, 'archive': 763, 'archive”': 764, 'arctic': 765, 'arduous': 766, 'are': 767, 'area': 768, 'areas': 769, 'arent': 770, 'aretha': 771, 'are”': 772, 'argentina': 773, 'argonauts': 774, 'arguable': 775, 'arguably': 776, 'argue': 777, 'argued': 778, 'argues': 779, 'arguing': 780, 'argument': 781, 'arguments': 782, 'ariadnes': 783, 'arigato': 784, 'arise': 785, 'arises': 786, 'aristocracy': 787, 'aristotle': 788, 'arithmetic': 789, 'arithmetically': 790, 'arizona': 791, 'ark': 792, 'arm': 793, 'armature': 794, 'armband': 795, 'armed': 796, 'armor': 797, 'armored': 798, 'armpits': 799, 'arms': 800, 'armstrong': 801, 'armstrongs': 802, 'army': 803, 'army”': 804, 'arnold': 805, 'around': 806, 'around”': 807, 'arousal': 808, 'arouse': 809, 'arraigned': 810, 'arrange': 811, 'arranged': 812, 'arrangement': 813, 'arrangements': 814, 'arranges': 815, 'array': 816, 'arrest': 817, 'arrested': 818, 'arrests': 819, 'arriba': 820, 'arrival': 821, 'arrive': 822, 'arrived': 823, 'arrived”': 824, 'arriving': 825, 'arrogant': 826, 'arrow': 827, 'arrows': 828, 'art': 829, 'artemisia': 830, 'artemisinin': 831, 'arteries': 832, 'arteriography': 833, 'artful': 834, 'arthur': 835, 'article': 836, 'articles': 837, 'articulate': 838, 'articulated': 839, 'artifact': 840, 'artifacts': 841, 'artificial': 842, 'artisan': 843, 'artisans': 844, 'artist': 845, 'artistic': 846, 'artists': 847, 'arts': 848, 'artwork': 849, 'art”': 850, 'arum': 851, 'arusha': 852, 'arvind': 853, 'as': 854, 'ascribed': 855, 'ash': 856, 'asha': 857, 'ashamed': 858, 'ashenfaced': 859, 'ashes': 860, 'ashesi': 861, 'ashram': 862, 'asia': 863, 'asian': 864, 'asians': 865, 'asias': 866, 'aside': 867, 'ask': 868, 'asked': 869, 'asking': 870, 'asko': 871, 'asks': 872, 'asleep': 873, 'asmat': 874, 'aspect': 875, 'aspects': 876, 'aspen': 877, 'asperger': 878, 'aspergers': 879, 'aspergery': 880, 'aspersions': 881, 'aspiration': 882, 'aspirational': 883, 'aspirations': 884, 'aspire': 885, 'aspired': 886, 'aspiring': 887, 'ass': 888, 'assam': 889, 'assassinated': 890, 'assassinations': 891, 'assault': 892, 'assemblage': 893, 'assemble': 894, 'assembled': 895, 'assembling': 896, 'assembly': 897, 'assess': 898, 'assessment': 899, 'assessments': 900, 'asset': 901, 'assets': 902, 'assign': 903, 'assigning': 904, 'assignment': 905, 'assignments': 906, 'assistance': 907, 'assistant': 908, 'associate': 909, 'associated': 910, 'associates': 911, 'association': 912, 'assume': 913, 'assumed': 914, 'assumes': 915, 'assuming': 916, 'assumption': 917, 'assumptions': 918, 'assurance': 919, 'assure': 920, 'assured': 921, 'assures': 922, 'asthma': 923, 'astonished': 924, 'astonishes': 925, 'astonishing': 926, 'astonishingly': 927, 'astounding': 928, 'astrologers': 929, 'astronomers': 930, 'astronomical': 931, 'astronomy': 932, 'astrophysicist': 933, 'astrophysicists': 934, 'asylum': 935, 'asymmetry': 936, 'asynchronistic': 937, 'at': 938, 'atacama': 939, 'ate': 940, 'ateam': 941, 'atheism': 942, 'atheist': 943, 'atheists': 944, 'athlete': 945, 'athletic': 946, 'atlanta': 947, 'atlantic': 948, 'atlas': 949, 'atm': 950, 'atmosphere': 951, 'atom': 952, 'atomic': 953, 'atomized': 954, 'atoms': 955, 'atrisk': 956, 'atrocious': 957, 'attach': 958, 'attached': 959, 'attaches': 960, 'attachment': 961, 'attack': 962, 'attacked': 963, 'attacking': 964, 'attacks': 965, 'attainment': 966, 'attempt': 967, 'attempted': 968, 'attempting': 969, 'attempts': 970, 'attend': 971, 'attendance': 972, 'attendant': 973, 'attendants': 974, 'attended': 975, 'attendee': 976, 'attendees': 977, 'attending': 978, 'attends': 979, 'attention': 980, 'attention”': 981, 'attest': 982, 'attested': 983, 'attitude': 984, 'attitudes': 985, 'attorney': 986, 'attract': 987, 'attracted': 988, 'attraction': 989, 'attractionie': 990, 'attractive': 991, 'attractiveness': 992, 'attracts': 993, 'attribute': 994, 'attributed': 995, 'attributes': 996, 'attributing': 997, 'atul': 998, 'auction': 999, 'auctioneer': 1000, 'auctions': 1001, 'audacious': 1002, 'audacity': 1003, 'audience': 1004, 'audiences': 1005, 'audio': 1006, 'audition': 1007, 'auditorily': 1008, 'auditorium': 1009, 'auditory': 1010, 'augment': 1011, 'augmentation': 1012, 'augmented': 1013, 'august': 1014, 'augustine': 1015, 'aunt': 1016, 'auntie': 1017, 'aunts': 1018, 'aurangabad': 1019, 'aurignacian': 1020, 'auschwitz': 1021, 'austen': 1022, 'austen”': 1023, 'australia': 1024, 'austria': 1025, 'authentic': 1026, 'authentically': 1027, 'authenticity': 1028, 'author': 1029, 'authored': 1030, 'authoritarian': 1031, 'authority': 1032, 'authorized': 1033, 'authors': 1034, 'autism': 1035, 'autistic': 1036, 'autobiographical': 1037, 'automated': 1038, 'automatically': 1039, 'automation': 1040, 'automobiles': 1041, 'automotive': 1042, 'autonomous': 1043, 'autonomously': 1044, 'autonomy': 1045, 'autorickshaw': 1046, 'autoshop': 1047, 'autumn': 1048, 'availability': 1049, 'available': 1050, 'avalanche': 1051, 'avalon': 1052, 'ave': 1053, 'avenue': 1054, 'avenue”': 1055, 'average': 1056, 'averse': 1057, 'aversion': 1058, 'avian': 1059, 'aviation': 1060, 'avocation': 1061, 'avoid': 1062, 'avoidance': 1063, 'avoided': 1064, 'avoiding': 1065, 'avoids': 1066, 'await': 1067, 'awaken': 1068, 'awakened': 1069, 'awakening': 1070, 'award': 1071, 'awarded': 1072, 'awards': 1073, 'award”': 1074, 'aware': 1075, 'awareness': 1076, 'away': 1077, 'away”': 1078, 'awe': 1079, 'awesome': 1080, 'awesomethingscom': 1081, 'awesome”': 1082, 'awful': 1083, 'awfully': 1084, 'awhile': 1085, 'awkward': 1086, 'awkwardness': 1087, 'awry': 1088, 'aww': 1089, 'axelrod': 1090, 'axes': 1091, 'axis': 1092, 'axises': 1093, 'axle': 1094, 'ayahuasca': 1095, 'ayurveda': 1096, 'azores': 1097, 'b': 1098, 'baa': 1099, 'baba': 1100, 'babies': 1101, 'babri': 1102, 'babur': 1103, 'baby': 1104, 'babylonians': 1105, 'babys': 1106, 'baby”': 1107, 'bachelors': 1108, 'bacillus': 1109, 'back': 1110, 'backbone': 1111, 'backbreaking': 1112, 'backdoor': 1113, 'backed': 1114, 'backend': 1115, 'background': 1116, 'backgrounds': 1117, 'backhanded': 1118, 'backing': 1119, 'backlit': 1120, 'backs': 1121, 'backseat': 1122, 'backside': 1123, 'backstory': 1124, 'backtoschool': 1125, 'backups': 1126, 'backward': 1127, 'backwards': 1128, 'backyard': 1129, 'backyards': 1130, 'back”': 1131, 'bacon': 1132, 'bacteria': 1133, 'bactericide': 1134, 'bad': 1135, 'badge': 1136, 'badges': 1137, 'badging': 1138, 'badly': 1139, 'bad”': 1140, 'baffin': 1141, 'baffling': 1142, 'bag': 1143, 'baggage': 1144, 'baggy': 1145, 'baghdad': 1146, 'bags': 1147, 'baguette': 1148, 'bahubali': 1149, 'bai': 1150, 'baikal': 1151, 'bail': 1152, 'bailout': 1153, 'bait': 1154, 'bakaray': 1155, 'baked': 1156, 'baker': 1157, 'bakery': 1158, 'bala': 1159, 'balance': 1160, 'balanced': 1161, 'balancing': 1162, 'balasubramaniam': 1163, 'balcony': 1164, 'baldness': 1165, 'balk': 1166, 'balkh': 1167, 'ball': 1168, 'ballads': 1169, 'ballast': 1170, 'ballerina': 1171, 'balling': 1172, 'balloon': 1173, 'balls': 1174, 'baloney': 1175, 'baloney”': 1176, 'bam': 1177, 'bamiyan': 1178, 'ban': 1179, 'banal': 1180, 'banana': 1181, 'bananas': 1182, 'band': 1183, 'bandages': 1184, 'bandages”': 1185, 'banded': 1186, 'bandwagon': 1187, 'banff': 1188, 'bang': 1189, 'bangalore': 1190, 'bangladesh': 1191, 'bangladeshis': 1192, 'bangles': 1193, 'bangs': 1194, 'bang”': 1195, 'bank': 1196, 'banking': 1197, 'bankrolled': 1198, 'bankrupt': 1199, 'banks': 1200, 'bankura': 1201, 'banned': 1202, 'bar': 1203, 'barack': 1204, 'barak': 1205, 'barasana': 1206, 'barbecue': 1207, 'barbed': 1208, 'barcelona': 1209, 'barclays': 1210, 'bare': 1211, 'barefoot': 1212, 'barely': 1213, 'bargain': 1214, 'barghouti': 1215, 'bark': 1216, 'barksdale': 1217, 'barney': 1218, 'barnos': 1219, 'baroque': 1220, 'barrel': 1221, 'barrels': 1222, 'barrier': 1223, 'barriers': 1224, 'barry': 1225, 'bars': 1226, 'barter': 1227, 'bartered': 1228, 'barón': 1229, 'bas': 1230, 'base': 1231, 'baseball': 1232, 'based': 1233, 'basement': 1234, 'basement”': 1235, 'bases': 1236, 'basic': 1237, 'basically': 1238, 'basics': 1239, 'basis': 1240, 'basit': 1241, 'basket': 1242, 'basketball': 1243, 'basketlike': 1244, 'basmala': 1245, 'bat': 1246, 'batching': 1247, 'bath': 1248, 'bathe': 1249, 'bathing': 1250, 'bathroom': 1251, 'bathrooms': 1252, 'batman': 1253, 'batsman': 1254, 'batsmen': 1255, 'battered': 1256, 'batteries': 1257, 'battery': 1258, 'batteryoperated': 1259, 'batterypowered': 1260, 'batting': 1261, 'battle': 1262, 'battleground': 1263, 'battles': 1264, 'battleweary': 1265, 'battle”': 1266, 'battling': 1267, 'bay': 1268, 'bayes': 1269, 'bayess': 1270, 'bayonet': 1271, 'bazaar': 1272, 'bazooka': 1273, 'bbc': 1274, 'bc': 1275, 'be': 1276, 'beach': 1277, 'beachcombing': 1278, 'beads': 1279, 'beak': 1280, 'beam': 1281, 'beamed': 1282, 'beaming': 1283, 'beams': 1284, 'bear': 1285, 'beard': 1286, 'bearded': 1287, 'beards': 1288, 'bears': 1289, 'bears”': 1290, 'beast': 1291, 'beat': 1292, 'beatboxing': 1293, 'beaten': 1294, 'beating': 1295, 'beatrice': 1296, 'beatrices': 1297, 'beats': 1298, 'beautiful': 1299, 'beautifully': 1300, 'beautiful”': 1301, 'beauty': 1302, 'became': 1303, 'because': 1304, 'beckham': 1305, 'beckons': 1306, 'become': 1307, 'becomes': 1308, 'become”': 1309, 'becoming': 1310, 'bed': 1311, 'bednets': 1312, 'bedouin': 1313, 'bedroom': 1314, 'beds': 1315, 'bedside': 1316, 'bedtime': 1317, 'bee': 1318, 'beef': 1319, 'been': 1320, 'beer': 1321, 'beers': 1322, 'bees': 1323, 'beethoven': 1324, 'beetles': 1325, 'beetroots': 1326, 'before': 1327, 'beforehand': 1328, 'beg': 1329, 'began': 1330, 'begets': 1331, 'beggars': 1332, 'begged': 1333, 'begging': 1334, 'begin': 1335, 'beginning': 1336, 'beginnings': 1337, 'begins': 1338, 'begrudgingly': 1339, 'begs': 1340, 'begun': 1341, 'behalf': 1342, 'behar': 1343, 'behave': 1344, 'behaves': 1345, 'behaving': 1346, 'behavior': 1347, 'behavioral': 1348, 'behind': 1349, 'behold': 1350, 'behooves': 1351, 'beijing': 1352, 'beijing”': 1353, 'being': 1354, 'beingness': 1355, 'beings': 1356, 'being”': 1357, 'beirut': 1358, 'bejesus': 1359, 'belief': 1360, 'beliefs': 1361, 'belief”': 1362, 'believe': 1363, 'believed': 1364, 'believer': 1365, 'believes': 1366, 'believe”': 1367, 'believing': 1368, 'bell': 1369, 'bellevue': 1370, 'bellies': 1371, 'bellos': 1372, 'bells': 1373, 'belly': 1374, 'belong': 1375, 'belonged': 1376, 'belonging': 1377, 'belonging”': 1378, 'belongs': 1379, 'beloved': 1380, 'below': 1381, 'belowmarket': 1382, 'belt': 1383, 'belts': 1384, 'ben': 1385, 'benchmark': 1386, 'benchmarking': 1387, 'bend': 1388, 'bending': 1389, 'beneath': 1390, 'benedict': 1391, 'beneficial': 1392, 'benefit': 1393, 'benefited': 1394, 'benefits': 1395, 'benefitted': 1396, 'bengali': 1397, 'benghazi': 1398, 'benign': 1399, 'benjamin': 1400, 'benjamín': 1401, 'benklers': 1402, 'bent': 1403, 'bentham': 1404, 'bento': 1405, 'benzene': 1406, 'bereaved': 1407, 'berkley': 1408, 'berlin': 1409, 'berserk': 1410, 'beside': 1411, 'besides': 1412, 'best': 1413, 'bestknown': 1414, 'bestseller': 1415, 'bet': 1416, 'beta': 1417, 'betacarbolines': 1418, 'betcha': 1419, 'beth': 1420, 'bethlehem': 1421, 'betrayal': 1422, 'bets': 1423, 'better': 1424, 'better”': 1425, 'betting': 1426, 'betty': 1427, 'between': 1428, 'betweensubjects': 1429, 'bewailing': 1430, 'beware': 1431, 'bewildered': 1432, 'beyond': 1433, 'bezos': 1434, 'be”': 1435, 'bg': 1436, 'bhabha': 1437, 'bhabi': 1438, 'bhai': 1439, 'bharat': 1440, 'bharatanatyam': 1441, 'bharti': 1442, 'bhartis': 1443, 'bhogle': 1444, 'bhutan': 1445, 'bhārata': 1446, 'bias': 1447, 'biased': 1448, 'biases': 1449, 'bible': 1450, 'bibles': 1451, 'biblical': 1452, 'bicycle': 1453, 'bicycles': 1454, 'bicyclist”': 1455, 'bidding': 1456, 'bieber': 1457, 'biennial': 1458, 'bifurcation': 1459, 'big': 1460, 'bigbox': 1461, 'bigelow': 1462, 'bigger': 1463, 'biggest': 1464, 'biggie': 1465, 'bigness': 1466, 'bigsize': 1467, 'big”': 1468, 'bihar': 1469, 'bikaner': 1470, 'bike': 1471, 'bikes': 1472, 'biking': 1473, 'bilingual': 1474, 'bilinguals': 1475, 'bill': 1476, 'billboard': 1477, 'billboards': 1478, 'billion': 1479, 'billionaire': 1480, 'billionaires': 1481, 'billiondollar': 1482, 'billions': 1483, 'billionth': 1484, 'billowing': 1485, 'bills': 1486, 'bill”': 1487, 'bin': 1488, 'binary': 1489, 'bindi': 1490, 'binding”': 1491, 'bindis': 1492, 'binds': 1493, 'bingo': 1494, 'binpacking': 1495, 'biochemical': 1496, 'bioextracts': 1497, 'biography': 1498, 'biological': 1499, 'biologically': 1500, 'biologicallyuniform': 1501, 'biologist': 1502, 'biologists': 1503, 'biology': 1504, 'biomaterials': 1505, 'biomimetic': 1506, 'bionic': 1507, 'bionics': 1508, 'biopolymer': 1509, 'bioreactor': 1510, 'biosense': 1511, 'biosphere': 1512, 'biotech': 1513, 'biotechnology': 1514, 'bipartisan': 1515, 'biped': 1516, 'bipedal': 1517, 'bipolar': 1518, 'bir': 1519, 'bird': 1520, 'birds': 1521, 'birds”': 1522, 'biriani': 1523, 'birmingham': 1524, 'birth': 1525, 'birthday': 1526, 'birthdays': 1527, 'birthplace': 1528, 'bit': 1529, 'bitches': 1530, 'bite': 1531, 'bits': 1532, 'bitter': 1533, 'bitterly': 1534, 'bittorrent': 1535, 'biyani': 1536, 'bizarre': 1537, 'bjorn': 1538, 'black': 1539, 'blackandwhite': 1540, 'blackberry': 1541, 'blackboard': 1542, 'blacklisted': 1543, 'blacks': 1544, 'blade': 1545, 'blades': 1546, 'blair': 1547, 'blaise': 1548, 'blame': 1549, 'blanche': 1550, 'bland': 1551, 'blandly': 1552, 'blank': 1553, 'blankie': 1554, 'blankly': 1555, 'bleach': 1556, 'bleed': 1557, 'bleeding': 1558, 'bless': 1559, 'blessed': 1560, 'blessing': 1561, 'blessings': 1562, 'blew': 1563, 'blicket': 1564, 'blight': 1565, 'blind': 1566, 'blinded': 1567, 'blindfold': 1568, 'blindfolded': 1569, 'blinding”': 1570, 'blindness': 1571, 'bliss': 1572, 'blisters': 1573, 'blithering': 1574, 'blizzard': 1575, 'blob': 1576, 'bloblike': 1577, 'blobs': 1578, 'block': 1579, 'blocked': 1580, 'blocking': 1581, 'blocks': 1582, 'block”': 1583, 'blog': 1584, 'blogged': 1585, 'bloggers': 1586, 'blogging': 1587, 'blogs': 1588, 'blond': 1589, 'blood': 1590, 'bloodshed': 1591, 'bloodstained': 1592, 'bloodstreams': 1593, 'bloody': 1594, 'bloom': 1595, 'bloomberg': 1596, 'blow': 1597, 'blowflies': 1598, 'blowing': 1599, 'blown': 1600, 'blows': 1601, 'blue': 1602, 'blueberries': 1603, 'blueeyed': 1604, 'blueprint': 1605, 'blueprints': 1606, 'bluer': 1607, 'blues': 1608, 'blue”': 1609, 'blur': 1610, 'bma': 1611, 'board': 1612, 'boarding': 1613, 'boardroom': 1614, 'boards': 1615, 'boat': 1616, 'boats': 1617, 'bob': 1618, 'bobbins': 1619, 'bobs': 1620, 'bodies': 1621, 'bodies”': 1622, 'body': 1623, 'bodys': 1624, 'boeings': 1625, 'bogart': 1626, 'bogatanos': 1627, 'bogotas': 1628, 'bogus': 1629, 'bohio': 1630, 'boiling': 1631, 'boils': 1632, 'boing': 1633, 'bokh': 1634, 'bold': 1635, 'boldly': 1636, 'bollingbroke': 1637, 'bollywood': 1638, 'bolte': 1639, 'bomb': 1640, 'bombarded': 1641, 'bombarding': 1642, 'bombay': 1643, 'bomber': 1644, 'bombs': 1645, 'bond': 1646, 'bonding': 1647, 'bone': 1648, 'bones': 1649, 'bonks': 1650, 'bono': 1651, 'bonus': 1652, 'bonuses': 1653, 'boo': 1654, 'book': 1655, 'booked': 1656, 'bookkeeping': 1657, 'booklet': 1658, 'books': 1659, 'bookshop': 1660, 'bookshops': 1661, 'bookstore': 1662, 'books”': 1663, 'boom': 1664, 'booming': 1665, 'boon': 1666, 'boonies': 1667, 'boost': 1668, 'boosting': 1669, 'boot': 1670, 'booths': 1671, 'boots': 1672, 'booya': 1673, 'booze': 1674, 'bora': 1675, 'border': 1676, 'borderline': 1677, 'borders': 1678, 'bored': 1679, 'boredom': 1680, 'boring': 1681, 'boring”': 1682, 'borlaug': 1683, 'born': 1684, 'borneo': 1685, 'borrow': 1686, 'borrowed': 1687, 'borrowing': 1688, 'bosch': 1689, 'bosnia': 1690, 'bosniak': 1691, 'bosnians': 1692, 'bosnianserb': 1693, 'bosom': 1694, 'bosquet': 1695, 'boss': 1696, 'bosses': 1697, 'boston': 1698, 'botanist': 1699, 'both': 1700, 'bother': 1701, 'bothered': 1702, 'bothering': 1703, 'bothers': 1704, 'botox': 1705, 'botswana': 1706, 'bottle': 1707, 'bottled': 1708, 'bottleneck': 1709, 'bottles': 1710, 'bottom': 1711, 'bottomline': 1712, 'bottomup': 1713, 'botton': 1714, 'bought': 1715, 'boughting': 1716, 'boulder': 1717, 'bouncing': 1718, 'bound': 1719, 'boundaries': 1720, 'boundary': 1721, 'boundarydetecting': 1722, 'boundless': 1723, 'bounds': 1724, 'bourgeois': 1725, 'bovary': 1726, 'bow': 1727, 'bowl': 1728, 'bowled': 1729, 'bowler': 1730, 'bowling': 1731, 'bowls': 1732, 'box': 1733, 'boxers”': 1734, 'boxes': 1735, 'box”': 1736, 'boy': 1737, 'boyfriend': 1738, 'boykin': 1739, 'boys': 1740, 'boys”': 1741, 'brace': 1742, 'bracelet': 1743, 'bracket': 1744, 'bragged': 1745, 'brags': 1746, 'braider': 1747, 'braille': 1748, 'brain': 1749, 'braina': 1750, 'brainbased': 1751, 'brains': 1752, 'brainscanning': 1753, 'brainstorming': 1754, 'brainwave': 1755, 'brainwaves': 1756, 'brake': 1757, 'brakes': 1758, 'branch': 1759, 'branches': 1760, 'branchy': 1761, 'brand': 1762, 'branded': 1763, 'branding': 1764, 'branko': 1765, 'branson': 1766, 'brash': 1767, 'brass': 1768, 'braun': 1769, 'brave': 1770, 'bravery': 1771, 'bravo': 1772, 'brazil': 1773, 'bread': 1774, 'bread”': 1775, 'break': 1776, 'breakdown': 1777, 'breaker': 1778, 'breakfast': 1779, 'breaking': 1780, 'breaks': 1781, 'breakthrough': 1782, 'breakthroughs': 1783, 'break”': 1784, 'breast': 1785, 'breastfed': 1786, 'breastfeeding': 1787, 'breasts': 1788, 'breasts”': 1789, 'breath': 1790, 'breathe': 1791, 'breathed': 1792, 'breathing': 1793, 'breathless': 1794, 'breaths': 1795, 'breathtaking': 1796, 'breathtakingly': 1797, 'breed': 1798, 'breeding': 1799, 'breeze': 1800, 'breezes': 1801, 'brent': 1802, 'brethren': 1803, 'brevity': 1804, 'brian': 1805, 'bribe': 1806, 'bribed': 1807, 'bribes': 1808, 'brick': 1809, 'bride': 1810, 'brides': 1811, 'bridge': 1812, 'bridges': 1813, 'bridget': 1814, 'bridging': 1815, 'brief': 1816, 'briefly': 1817, 'brigade': 1818, 'bright': 1819, 'brightness': 1820, 'brilliance': 1821, 'brilliant': 1822, 'brine': 1823, 'bring': 1824, 'bringing': 1825, 'brings': 1826, 'brink': 1827, 'brisk': 1828, 'bristles': 1829, 'britain': 1830, 'british': 1831, 'britney': 1832, 'broach': 1833, 'broad': 1834, 'broadband': 1835, 'broadcast': 1836, 'broadcasting': 1837, 'broader': 1838, 'broccoli': 1839, 'broke': 1840, 'broken': 1841, 'brokenhearted': 1842, 'broker': 1843, 'bronx': 1844, 'bronze': 1845, 'brooklyn': 1846, 'brooklynbased': 1847, 'broom': 1848, 'brother': 1849, 'brotherly': 1850, 'brothers': 1851, 'brothers”': 1852, 'brother”': 1853, 'brought': 1854, 'brown': 1855, 'brownies': 1856, 'brownish': 1857, 'browse': 1858, 'browser': 1859, 'browsing': 1860, 'bruce': 1861, 'bruised': 1862, 'bruises': 1863, 'bruno': 1864, 'brush': 1865, 'brushes': 1866, 'brutal': 1867, 'brutally': 1868, 'bs': 1869, 'bubble': 1870, 'bubbled': 1871, 'bubbles': 1872, 'bubbling': 1873, 'bucket': 1874, 'buckling': 1875, 'buckminster': 1876, 'bucks': 1877, 'bud': 1878, 'buddha': 1879, 'buddhas': 1880, 'buddhism': 1881, 'buddhist': 1882, 'buddhists': 1883, 'buddy': 1884, 'budge': 1885, 'budget': 1886, 'budgeting': 1887, 'budgets': 1888, 'budget”': 1889, 'buffet': 1890, 'buffets': 1891, 'buffett': 1892, 'bug': 1893, 'bugger': 1894, 'buggy': 1895, 'bugle': 1896, 'bugs': 1897, 'buick': 1898, 'buicks': 1899, 'build': 1900, 'builders': 1901, 'building': 1902, 'buildings': 1903, 'builds': 1904, 'buildup': 1905, 'built': 1906, 'builtin': 1907, 'bulb': 1908, 'bulbs': 1909, 'bulk': 1910, 'bullet': 1911, 'bullets': 1912, 'bullheaded': 1913, 'bullies': 1914, 'bulls': 1915, 'bumble': 1916, 'bump': 1917, 'bumped': 1918, 'bumps': 1919, 'bun': 1920, 'bunch': 1921, 'bundle': 1922, 'bundles': 1923, 'bundy': 1924, 'bunk': 1925, 'bunko': 1926, 'buoyant': 1927, 'burden': 1928, 'burdens': 1929, 'bureau': 1930, 'bureaucracy': 1931, 'bureaucratic': 1932, 'bureaucratically': 1933, 'bureaucrats': 1934, 'bureaus': 1935, 'burger': 1936, 'burglar': 1937, 'burglars': 1938, 'burgs': 1939, 'burial': 1940, 'buried': 1941, 'burma': 1942, 'burn': 1943, 'burned': 1944, 'burning': 1945, 'burns': 1946, 'burqa': 1947, 'burst': 1948, 'bursting': 1949, 'burton': 1950, 'bury': 1951, 'bus': 1952, 'buses': 1953, 'bush': 1954, 'bushes': 1955, 'bushmen': 1956, 'busiest': 1957, 'business': 1958, 'businesses': 1959, 'businessman': 1960, 'businessmen': 1961, 'business”': 1962, 'bust': 1963, 'busting': 1964, 'busy': 1965, 'busy”': 1966, 'but': 1967, 'butchered': 1968, 'butter': 1969, 'butterflies': 1970, 'butterfly': 1971, 'buttock': 1972, 'button': 1973, 'buttonclicking': 1974, 'buttons': 1975, 'button”': 1976, 'butts': 1977, 'but“': 1978, 'buy': 1979, 'buying': 1980, 'buys': 1981, 'buzzsaw': 1982, 'by': 1983, 'bye': 1984, 'byebye': 1985, 'bylanes': 1986, 'bylaws': 1987, 'bypassed': 1988, 'byproduct': 1989, 'byproducts': 1990, 'byrne': 1991, 'c': 1992, 'ca': 1993, 'cab': 1994, 'cabin': 1995, 'cabinet': 1996, 'cable': 1997, 'cablesuspended': 1998, 'cached': 1999, 'cacophony': 2000, 'caddies': 2001, 'caddy': 2002, 'cadence': 2003, 'cadres': 2004, 'cafe': 2005, 'caffeinated': 2006, 'caffeine': 2007, 'cairo': 2008, 'cake': 2009, 'cakes': 2010, 'calamities': 2011, 'calamity': 2012, 'calcify': 2013, 'calcium': 2014, 'calculate': 2015, 'calculated': 2016, 'calculates': 2017, 'calculating': 2018, 'calculation': 2019, 'calculations': 2020, 'calculator': 2021, 'calculus': 2022, 'calcutta': 2023, 'caledonian': 2024, 'calendar': 2025, 'calendars': 2026, 'calibrated': 2027, 'california': 2028, 'caliph': 2029, 'call': 2030, 'called': 2031, 'calling': 2032, 'calls': 2033, 'calm': 2034, 'calmed': 2035, 'caloric': 2036, 'caltech': 2037, 'camaguey': 2038, 'camara': 2039, 'cambodia': 2040, 'cambridge': 2041, 'came': 2042, 'camel': 2043, 'camels': 2044, 'camel”': 2045, 'camera': 2046, 'cameras': 2047, 'cameroon': 2048, 'camouflage': 2049, 'camp': 2050, 'campaign': 2051, 'campaigner': 2052, 'campaigning': 2053, 'campaigns': 2054, 'campfire': 2055, 'campfires': 2056, 'camps': 2057, 'campus': 2058, 'can': 2059, 'canabanoids': 2060, 'canada': 2061, 'canadas': 2062, 'canadian': 2063, 'canadians': 2064, 'canal': 2065, 'canals': 2066, 'canard': 2067, 'canaries': 2068, 'canary': 2069, 'canceled': 2070, 'cancer': 2071, 'candidates': 2072, 'candidly': 2073, 'candle': 2074, 'candlelight': 2075, 'candles': 2076, 'canisters': 2077, 'cannibal': 2078, 'cannibalism': 2079, 'cannot': 2080, 'canonical': 2081, 'canopy': 2082, 'cans': 2083, 'cant': 2084, 'cantinas': 2085, 'cant”': 2086, 'canvas': 2087, 'canvases': 2088, 'can”': 2089, 'cap': 2090, 'capabilities': 2091, 'capability': 2092, 'capable': 2093, 'capacities': 2094, 'capacity': 2095, 'cape': 2096, 'capillary': 2097, 'capita': 2098, 'capital': 2099, 'capitalism': 2100, 'capitalist': 2101, 'capitalistlike': 2102, 'capitalize': 2103, 'capitals': 2104, 'capping': 2105, 'caps': 2106, 'capsized': 2107, 'captain': 2108, 'captains': 2109, 'capture': 2110, 'captured': 2111, 'captures': 2112, 'capturing': 2113, 'car': 2114, 'caravanserai': 2115, 'carbon': 2116, 'carbondioxide': 2117, 'carbonneutral': 2118, 'carcass': 2119, 'card': 2120, 'cardiac': 2121, 'cardiovascular': 2122, 'cards': 2123, 'care': 2124, 'career': 2125, 'careers': 2126, 'careful': 2127, 'carefully': 2128, 'careful”': 2129, 'carelessly': 2130, 'cares': 2131, 'carey': 2132, 'cargo': 2133, 'caribbean': 2134, 'caribou': 2135, 'caricature': 2136, 'caricatures': 2137, 'caring': 2138, 'carl': 2139, 'carlock': 2140, 'carlocks': 2141, 'carlos': 2142, 'carlson': 2143, 'carlton': 2144, 'carlyle': 2145, 'carmack': 2146, 'carmen': 2147, 'carnival': 2148, 'carols': 2149, 'carpenters': 2150, 'carpet': 2151, 'carpeted': 2152, 'carport': 2153, 'carracing': 2154, 'carre': 2155, 'carriage': 2156, 'carried': 2157, 'carrier': 2158, 'carriers': 2159, 'carries': 2160, 'carrion': 2161, 'carry': 2162, 'carrying': 2163, 'cars': 2164, 'cart': 2165, 'carte': 2166, 'cartel': 2167, 'cartoon': 2168, 'cartooning': 2169, 'cartooning”': 2170, 'cartoonist': 2171, 'cartoonists': 2172, 'cartoons': 2173, 'carved': 2174, 'carver': 2175, 'car”': 2176, 'casablanca': 2177, 'case': 2178, 'cases': 2179, 'casey': 2180, 'case”': 2181, 'cash': 2182, 'cashed': 2183, 'cashiers': 2184, 'casino': 2185, 'cassava': 2186, 'casseroles': 2187, 'cassette': 2188, 'cassini': 2189, 'cast': 2190, 'caste': 2191, 'casting': 2192, 'casts': 2193, 'casual': 2194, 'casually': 2195, 'cat': 2196, 'cataloged': 2197, 'catalyst': 2198, 'catalyzed': 2199, 'catapulted': 2200, 'catastrophe': 2201, 'catastrophes': 2202, 'catastrophic': 2203, 'catastrophizing': 2204, 'catch': 2205, 'catches': 2206, 'catching': 2207, 'catchment': 2208, 'categorical': 2209, 'categories': 2210, 'categorize': 2211, 'category': 2212, 'catering': 2213, 'caterpillars': 2214, 'cathedral': 2215, 'cathedrals': 2216, 'catholic': 2217, 'catholicism': 2218, 'cats': 2219, 'cattle': 2220, 'cattle”': 2221, 'cat”': 2222, 'caucasus': 2223, 'caught': 2224, 'causal': 2225, 'causality': 2226, 'cause': 2227, 'caused': 2228, 'causes': 2229, 'causing': 2230, 'caution': 2231, 'cavalry”': 2232, 'cave': 2233, 'caveat': 2234, 'cavern': 2235, 'caves': 2236, 'cave”': 2237, 'ccs': 2238, 'cd': 2239, 'cdc': 2240, 'cds': 2241, 'cease': 2242, 'ceaseanddesist': 2243, 'ceased': 2244, 'ceiling': 2245, 'celebrate': 2246, 'celebrated': 2247, 'celebrates': 2248, 'celebrating': 2249, 'celebration': 2250, 'celebrities': 2251, 'celebrity': 2252, 'cell': 2253, 'cellphone': 2254, 'cellphones': 2255, 'cells': 2256, 'cellular': 2257, 'celluloid': 2258, 'cellulose': 2259, 'celsius': 2260, 'cement': 2261, 'censor': 2262, 'censors': 2263, 'censorship': 2264, 'cent': 2265, 'center': 2266, 'centered': 2267, 'centerpiece': 2268, 'centers': 2269, 'centigrade': 2270, 'centimeter': 2271, 'centimeters': 2272, 'centipede': 2273, 'central': 2274, 'centrally': 2275, 'centre': 2276, 'centrifuge': 2277, 'cents': 2278, 'cents”': 2279, 'centuries': 2280, 'centuriesold': 2281, 'century': 2282, 'ceo': 2283, 'ceramic': 2284, 'cereal': 2285, 'ceremonies': 2286, 'ceremoniously': 2287, 'ceremony': 2288, 'certain': 2289, 'certainly': 2290, 'certainty': 2291, 'certifiably': 2292, 'certificate': 2293, 'certified': 2294, 'cfo': 2295, 'cgi': 2296, 'ch': 2297, 'chacha': 2298, 'chad': 2299, 'chai': 2300, 'chain': 2301, 'chains': 2302, 'chair': 2303, 'chairs': 2304, 'chalk': 2305, 'chalkboard': 2306, 'chalked': 2307, 'challenge': 2308, 'challenged': 2309, 'challenges': 2310, 'challenging': 2311, 'chalua': 2312, 'chambers': 2313, 'chamomile': 2314, 'champaran': 2315, 'champion': 2316, 'champions': 2317, 'champoux': 2318, 'champselysees': 2319, 'chance': 2320, 'chances': 2321, 'chances”': 2322, 'change': 2323, 'changeagents': 2324, 'changed': 2325, 'changemakers': 2326, 'changes': 2327, 'change”': 2328, 'changing': 2329, 'chanmotion': 2330, 'channel': 2331, 'channels': 2332, 'chanted': 2333, 'chanting': 2334, 'chaos': 2335, 'chaotic': 2336, 'chapter': 2337, 'chapters': 2338, 'character': 2339, 'characteristic': 2340, 'characteristics': 2341, 'characterize': 2342, 'characterized': 2343, 'characterizes': 2344, 'characters': 2345, 'charge': 2346, 'charged': 2347, 'charging': 2348, 'charitable': 2349, 'charities': 2350, 'charity': 2351, 'charles': 2352, 'charlie': 2353, 'charmed': 2354, 'charmers': 2355, 'chart': 2356, 'charter': 2357, 'chartered': 2358, 'charts': 2359, 'chase': 2360, 'chased': 2361, 'chases': 2362, 'chasing': 2363, 'chassis': 2364, 'chastised': 2365, 'chatting': 2366, 'cheap': 2367, 'cheaper': 2368, 'cheaply': 2369, 'cheat': 2370, 'cheated': 2371, 'cheaters': 2372, 'cheating': 2373, 'chechnya': 2374, 'chechnya”': 2375, 'check': 2376, 'checked': 2377, 'checking': 2378, 'checkout': 2379, 'chee': 2380, 'cheek': 2381, 'cheeks': 2382, 'cheer': 2383, 'cheerfulness': 2384, 'cheering': 2385, 'cheerleader': 2386, 'cheerleaders': 2387, 'cheers': 2388, 'cheese': 2389, 'cheeses”': 2390, 'cheetah': 2391, 'chefs': 2392, 'chemical': 2393, 'chemically': 2394, 'chemicals': 2395, 'chemistry': 2396, 'chemistry”': 2397, 'chemists': 2398, 'chengdu': 2399, 'chennai': 2400, 'cherish': 2401, 'chernobyl': 2402, 'cherokee': 2403, 'chess': 2404, 'chest': 2405, 'chester': 2406, 'cheswicks': 2407, 'chevy': 2408, 'chevy”': 2409, 'chew': 2410, 'chewing': 2411, 'chicago': 2412, 'chicken': 2413, 'chickens': 2414, 'chickpeas': 2415, 'chicks': 2416, 'chief': 2417, 'chiefly': 2418, 'chihuahua': 2419, 'chihuly': 2420, 'child': 2421, 'childfriendly': 2422, 'childhood': 2423, 'childhoods': 2424, 'childish': 2425, 'childlike': 2426, 'children': 2427, 'childrens': 2428, 'children”': 2429, 'childs': 2430, 'child”': 2431, 'chile': 2432, 'chiles': 2433, 'chili': 2434, 'chilling': 2435, 'chimera': 2436, 'chimpanzee': 2437, 'chimpanzees': 2438, 'chin': 2439, 'china': 2440, 'chinas': 2441, 'chinese': 2442, 'chinua': 2443, 'chip': 2444, 'chips': 2445, 'chitra': 2446, 'chocolate': 2447, 'choice': 2448, 'choices': 2449, 'choice”': 2450, 'choir': 2451, 'choked': 2452, 'choking': 2453, 'cholera': 2454, 'choose': 2455, 'chooses': 2456, 'choose”': 2457, 'choosing': 2458, 'chop': 2459, 'chopin': 2460, 'chopped': 2461, 'choppers': 2462, 'chopsticks': 2463, 'chord': 2464, 'choreography': 2465, 'chores': 2466, 'chose': 2467, 'chosen': 2468, 'chris': 2469, 'christ': 2470, 'christiaan': 2471, 'christian': 2472, 'christianity': 2473, 'christians': 2474, 'christina': 2475, 'christmas': 2476, 'christopher': 2477, 'chromosomes': 2478, 'chronic': 2479, 'chronology': 2480, 'chuck': 2481, 'chunks': 2482, 'church': 2483, 'churches': 2484, 'church”': 2485, 'churning': 2486, 'chutes': 2487, 'cia': 2488, 'ciao': 2489, 'cias': 2490, 'cigarette': 2491, 'cigarettes': 2492, 'cilia': 2493, 'cincinnati': 2494, 'cindy': 2495, 'cinematch': 2496, 'circa': 2497, 'circle': 2498, 'circled': 2499, 'circles': 2500, 'circling': 2501, 'circuits': 2502, 'circular': 2503, 'circulating': 2504, 'circulation': 2505, 'circulatory': 2506, 'circumcised': 2507, 'circumcision': 2508, 'circumference': 2509, 'circumstance': 2510, 'circumstances': 2511, 'cite': 2512, 'cited': 2513, 'cities': 2514, 'citizen': 2515, 'citizens': 2516, 'citizenship': 2517, 'city': 2518, 'citys': 2519, 'citywide': 2520, 'civic': 2521, 'civil': 2522, 'civilian': 2523, 'civilization': 2524, 'civilizational': 2525, 'civilizations': 2526, 'civilized': 2527, 'clack': 2528, 'claim': 2529, 'claimed': 2530, 'claiming': 2531, 'claims': 2532, 'clap': 2533, 'clapping': 2534, 'clapping”': 2535, 'clapton': 2536, 'clarified': 2537, 'clarifies': 2538, 'clarity': 2539, 'clark': 2540, 'clarke': 2541, 'clash': 2542, 'class': 2543, 'classes': 2544, 'classes”': 2545, 'classic': 2546, 'classical': 2547, 'classify': 2548, 'classroom': 2549, 'classrooms': 2550, 'classroom”': 2551, 'claustrophobic': 2552, 'claws': 2553, 'clay': 2554, 'clean': 2555, 'cleaned': 2556, 'cleaner': 2557, 'cleaners': 2558, 'cleaners”': 2559, 'cleaning': 2560, 'clear': 2561, 'cleared': 2562, 'clearer': 2563, 'clearly': 2564, 'clearwater': 2565, 'clemens': 2566, 'clerical': 2567, 'clerks': 2568, 'clermontferrand': 2569, 'cleveland': 2570, 'clever': 2571, 'cleverly': 2572, 'clever”': 2573, 'cliche': 2574, 'cliché': 2575, 'click': 2576, 'clickable': 2577, 'clicked': 2578, 'clicking': 2579, 'clickthrough': 2580, 'client': 2581, 'clients': 2582, 'cliff': 2583, 'cliffs': 2584, 'climate': 2585, 'climatecrisisnet': 2586, 'climateproof': 2587, 'climb': 2588, 'climbed': 2589, 'climber': 2590, 'climbers': 2591, 'climbing': 2592, 'clinic': 2593, 'clinical': 2594, 'clinically': 2595, 'clinicians': 2596, 'clinics': 2597, 'clinton': 2598, 'clip': 2599, 'clipped': 2600, 'clips': 2601, 'clobber': 2602, 'clock': 2603, 'clogged': 2604, 'clone': 2605, 'clonie': 2606, 'cloning': 2607, 'close': 2608, 'closed': 2609, 'closedoff': 2610, 'closed”': 2611, 'closeknit': 2612, 'closely': 2613, 'closer': 2614, 'closes': 2615, 'closest': 2616, 'closet': 2617, 'closeup': 2618, 'closing': 2619, 'cloth': 2620, 'clothed': 2621, 'clothes': 2622, 'clotheslines': 2623, 'clothespin': 2624, 'clothespins': 2625, 'clothing': 2626, 'cloths': 2627, 'cloud': 2628, 'clouding': 2629, 'clouds': 2630, 'cloudy': 2631, 'club': 2632, 'clubs': 2633, 'clue': 2634, 'clueless': 2635, 'clues': 2636, 'clumped': 2637, 'clumps': 2638, 'cluster': 2639, 'clustered”': 2640, 'clusters': 2641, 'cluttered': 2642, 'cmon': 2643, 'cnc': 2644, 'cnn': 2645, 'co': 2646, 'coach': 2647, 'coadvised': 2648, 'coal': 2649, 'coalesce': 2650, 'coalesced': 2651, 'coalfired': 2652, 'coalmines': 2653, 'coal”': 2654, 'coarse': 2655, 'coarsegrain': 2656, 'coartem': 2657, 'coast': 2658, 'coastal': 2659, 'coat': 2660, 'coated': 2661, 'cobbled': 2662, 'cobe': 2663, 'cocacola': 2664, 'cocaine': 2665, 'cocktail': 2666, 'cocktails': 2667, 'coconut': 2668, 'coconuts': 2669, 'cocreating': 2670, 'code': 2671, 'codes': 2672, 'coerced': 2673, 'coevolutionary': 2674, 'coevolved': 2675, 'coevolving': 2676, 'cofan': 2677, 'coffee': 2678, 'cofounded': 2679, 'cognitive': 2680, 'cognitively': 2681, 'coherence': 2682, 'coherent': 2683, 'cohort': 2684, 'coica': 2685, 'coil': 2686, 'coin': 2687, 'coincidence': 2688, 'coke': 2689, 'cokes': 2690, 'cold': 2691, 'coldcuts': 2692, 'colder': 2693, 'coleman': 2694, 'coleridge': 2695, 'collaborate': 2696, 'collaborated': 2697, 'collaborating': 2698, 'collaboration': 2699, 'collaborations': 2700, 'collaborative': 2701, 'collaborators': 2702, 'collages': 2703, 'collapse': 2704, 'collapsed': 2705, 'collapse”': 2706, 'collar': 2707, 'collateral': 2708, 'collating': 2709, 'colleague': 2710, 'colleagues': 2711, 'collect': 2712, 'collected': 2713, 'collecting': 2714, 'collection': 2715, 'collections': 2716, 'collective': 2717, 'collectively': 2718, 'collectives': 2719, 'collectors': 2720, 'collects': 2721, 'college': 2722, 'colleges': 2723, 'college”': 2724, 'collider': 2725, 'colliding': 2726, 'collins': 2727, 'collision': 2728, 'colombia': 2729, 'colonial': 2730, 'colonization': 2731, 'colonize': 2732, 'colonized': 2733, 'colony': 2734, 'color': 2735, 'colored': 2736, 'colorful': 2737, 'colors': 2738, 'colossal': 2739, 'columbia': 2740, 'columbo': 2741, 'columbus': 2742, 'column': 2743, 'columns': 2744, 'com': 2745, 'coma': 2746, 'combination': 2747, 'combinations': 2748, 'combine': 2749, 'combined': 2750, 'combines': 2751, 'combining': 2752, 'combs': 2753, 'combustible': 2754, 'come': 2755, 'comeback': 2756, 'comedians': 2757, 'comer': 2758, 'comes': 2759, 'come”': 2760, 'comfort': 2761, 'comfortable': 2762, 'comfortably': 2763, 'comforting': 2764, 'comic': 2765, 'comical': 2766, 'comics': 2767, 'coming': 2768, 'coming”': 2769, 'command': 2770, 'commandant': 2771, 'commanded': 2772, 'commanders': 2773, 'commandments': 2774, 'commandos': 2775, 'commands': 2776, 'commencement': 2777, 'commensurate': 2778, 'comment': 2779, 'commentary': 2780, 'commentators': 2781, 'comments': 2782, 'commerce': 2783, 'commercial': 2784, 'commercialized': 2785, 'commercially': 2786, 'commercials': 2787, 'commission': 2788, 'commissioned': 2789, 'commissions': 2790, 'commit': 2791, 'commitment': 2792, 'commitments': 2793, 'committed': 2794, 'committee': 2795, 'committees': 2796, 'common': 2797, 'commonly': 2798, 'commonplace': 2799, 'commons': 2800, 'commotion': 2801, 'communal': 2802, 'communicate': 2803, 'communicates': 2804, 'communicating': 2805, 'communication': 2806, 'communications': 2807, 'communication”': 2808, 'communicators': 2809, 'communion': 2810, 'communist': 2811, 'communities': 2812, 'community': 2813, 'communityfriendly': 2814, 'communityled': 2815, 'commute': 2816, 'companies': 2817, 'companion': 2818, 'company': 2819, 'companys': 2820, 'company”': 2821, 'comparable': 2822, 'compare': 2823, 'compared': 2824, 'comparing': 2825, 'comparison': 2826, 'compartment': 2827, 'compartmentalizing': 2828, 'compass': 2829, 'compassion': 2830, 'compassionate': 2831, 'compassionately': 2832, 'compassionating': 2833, 'compassion”': 2834, 'compatible': 2835, 'compelled': 2836, 'compelling': 2837, 'compensate': 2838, 'compete': 2839, 'competence': 2840, 'competent': 2841, 'competing': 2842, 'competition': 2843, 'competitions': 2844, 'competitive': 2845, 'competitors': 2846, 'compiled': 2847, 'compiling': 2848, 'complain': 2849, 'complained': 2850, 'complaining': 2851, 'complaints': 2852, 'complete': 2853, 'completed': 2854, 'completely': 2855, 'completes': 2856, 'completing': 2857, 'completion': 2858, 'complex': 2859, 'complexities': 2860, 'complexity': 2861, 'complex”': 2862, 'compliance': 2863, 'compliant': 2864, 'complicate': 2865, 'complicated': 2866, 'complication': 2867, 'complications': 2868, 'compliments': 2869, 'comply': 2870, 'component': 2871, 'components': 2872, 'composed': 2873, 'composers': 2874, 'compositional': 2875, 'compounds': 2876, 'comprehensive': 2877, 'compressed': 2878, 'compromise': 2879, 'compromising': 2880, 'compulsively': 2881, 'compulsory': 2882, 'computation': 2883, 'computational': 2884, 'computationally': 2885, 'computer': 2886, 'computergenerated': 2887, 'computerization': 2888, 'computers': 2889, 'computers”': 2890, 'computer”': 2891, 'computing': 2892, 'con': 2893, 'conagra': 2894, 'conceal': 2895, 'conceivable': 2896, 'concentrated': 2897, 'concentration': 2898, 'concept': 2899, 'conception': 2900, 'conceptions': 2901, 'concepts': 2902, 'conceptual': 2903, 'conceptually': 2904, 'concern': 2905, 'concerned': 2906, 'concerning': 2907, 'concerns': 2908, 'concert': 2909, 'concession': 2910, 'conclude': 2911, 'concluded': 2912, 'concluding': 2913, 'conclusion': 2914, 'conclusions': 2915, 'conclusive': 2916, 'concorde': 2917, 'concrete': 2918, 'concreteness': 2919, 'condemned': 2920, 'condemning': 2921, 'condenser': 2922, 'condition': 2923, 'conditional': 2924, 'conditioning': 2925, 'conditions': 2926, 'condom': 2927, 'condoms': 2928, 'conducted': 2929, 'conducting': 2930, 'conductor': 2931, 'cone': 2932, 'cones': 2933, 'confections': 2934, 'confer': 2935, 'conference': 2936, 'conferences': 2937, 'confession': 2938, 'confidence': 2939, 'confident': 2940, 'confine': 2941, 'confined': 2942, 'confirm': 2943, 'confirmation': 2944, 'confirmed': 2945, 'confirming': 2946, 'confirms': 2947, 'conflict': 2948, 'conflicted': 2949, 'conflicts': 2950, 'confluence': 2951, 'conformity': 2952, 'confront': 2953, 'confronted': 2954, 'confronts': 2955, 'confuse': 2956, 'confused': 2957, 'congo': 2958, 'congratulate': 2959, 'congratulations': 2960, 'congress': 2961, 'congressional': 2962, 'conjunction': 2963, 'conjurer': 2964, 'connect': 2965, 'connected': 2966, 'connectedness': 2967, 'connecticut': 2968, 'connecting': 2969, 'connection': 2970, 'connections': 2971, 'connectivity': 2972, 'connects': 2973, 'conquered': 2974, 'conquering': 2975, 'conquer”': 2976, 'conquest': 2977, 'conran': 2978, 'conscience”': 2979, 'conscious': 2980, 'consciously': 2981, 'consciousness': 2982, 'consecutive': 2983, 'consensus': 2984, 'consent': 2985, 'consequence': 2986, 'consequences': 2987, 'consequential': 2988, 'consequently': 2989, 'conservation': 2990, 'conservative': 2991, 'consider': 2992, 'considerable': 2993, 'considerably': 2994, 'considered': 2995, 'considering': 2996, 'consist': 2997, 'consistently': 2998, 'consisting': 2999, 'consists': 3000, 'consolation': 3001, 'consoled': 3002, 'consolidated': 3003, 'consonant': 3004, 'constant': 3005, 'constantly': 3006, 'constellation': 3007, 'constellations': 3008, 'constituencies': 3009, 'constituency': 3010, 'constitute': 3011, 'constitutes': 3012, 'constitution': 3013, 'constitutional': 3014, 'constrained': 3015, 'constraints': 3016, 'constricts': 3017, 'construct': 3018, 'constructed': 3019, 'construction': 3020, 'constructions': 3021, 'constructive': 3022, 'consult': 3023, 'consultancies': 3024, 'consultancy': 3025, 'consultant': 3026, 'consultants': 3027, 'consultation': 3028, 'consultations': 3029, 'consulted': 3030, 'consumables': 3031, 'consume': 3032, 'consumed': 3033, 'consumer': 3034, 'consumerfriendly': 3035, 'consumerism': 3036, 'consumers': 3037, 'consumes': 3038, 'consuming': 3039, 'consumption': 3040, 'contact': 3041, 'contacted': 3042, 'contacts': 3043, 'contagious': 3044, 'contain': 3045, 'contained': 3046, 'container': 3047, 'containers': 3048, 'containing': 3049, 'contains': 3050, 'contaminated': 3051, 'contemplated': 3052, 'contemplating': 3053, 'contemplation': 3054, 'contemporaneous': 3055, 'contemporaries': 3056, 'contemporary': 3057, 'contempt': 3058, 'contend': 3059, 'content': 3060, 'contention': 3061, 'contents': 3062, 'contested': 3063, 'context': 3064, 'contexts': 3065, 'contextual': 3066, 'contextualized': 3067, 'contiguous': 3068, 'continent': 3069, 'continents': 3070, 'continent”': 3071, 'contingent': 3072, 'continually': 3073, 'continue': 3074, 'continued': 3075, 'continues': 3076, 'continue”': 3077, 'continuing': 3078, 'continuity': 3079, 'continuous': 3080, 'continuously': 3081, 'continuum': 3082, 'contortion': 3083, 'contours': 3084, 'contract': 3085, 'contracted': 3086, 'contracting': 3087, 'contractor': 3088, 'contractors': 3089, 'contracts': 3090, 'contradictory': 3091, 'contradicts': 3092, 'contrary': 3093, 'contrast': 3094, 'contribute': 3095, 'contributed': 3096, 'contributes': 3097, 'contributing': 3098, 'contribution': 3099, 'contributions': 3100, 'contributor': 3101, 'contributors': 3102, 'contributory': 3103, 'control': 3104, 'controlled': 3105, 'controller': 3106, 'controlling': 3107, 'controls': 3108, 'controversial': 3109, 'controversy': 3110, 'conundrum': 3111, 'convene': 3112, 'convened': 3113, 'convenience': 3114, 'convenient': 3115, 'convening': 3116, 'convention': 3117, 'conventional': 3118, 'converge': 3119, 'converged': 3120, 'converges': 3121, 'conversation': 3122, 'conversational': 3123, 'conversations': 3124, 'converse': 3125, 'conversely': 3126, 'convert': 3127, 'converted': 3128, 'converter': 3129, 'converting': 3130, 'converts': 3131, 'convey': 3132, 'conveying': 3133, 'convict': 3134, 'convicted': 3135, 'conviction': 3136, 'convince': 3137, 'convinced': 3138, 'convincing': 3139, 'cook': 3140, 'cooked': 3141, 'cooker': 3142, 'cookiecutter': 3143, 'cooking': 3144, 'cooks': 3145, 'cool': 3146, 'coolest': 3147, 'cooling': 3148, 'cools': 3149, 'cool”': 3150, 'coop': 3151, 'cooper': 3152, 'cooperate': 3153, 'cooperate”': 3154, 'cooperating': 3155, 'cooperation': 3156, 'cooperative': 3157, 'cooperatively': 3158, 'coopt': 3159, 'coordinate': 3160, 'coordinated': 3161, 'coordinates': 3162, 'coordination': 3163, 'coordinator': 3164, 'coordinators': 3165, 'cope': 3166, 'copenhagen': 3167, 'copied': 3168, 'copier': 3169, 'copies': 3170, 'coping': 3171, 'copout': 3172, 'copper': 3173, 'cops': 3174, 'copy': 3175, 'copyability': 3176, 'copyable': 3177, 'copycat': 3178, 'copying': 3179, 'copyright': 3180, 'copyrights': 3181, 'cor': 3182, 'cord': 3183, 'cords': 3184, 'corduroys': 3185, 'core': 3186, 'corner': 3187, 'cornered': 3188, 'corners': 3189, 'corporal': 3190, 'corporate': 3191, 'corporation': 3192, 'corporations': 3193, 'corps': 3194, 'corpses': 3195, 'correct': 3196, 'corrected': 3197, 'correctly': 3198, 'correlation': 3199, 'correlations': 3200, 'correlationship': 3201, 'correspond': 3202, 'correspondences': 3203, 'corresponding': 3204, 'corridor': 3205, 'corrugated': 3206, 'corrupt': 3207, 'corruption': 3208, 'cortex': 3209, 'cortical': 3210, 'cortisol': 3211, 'corvidae': 3212, 'cosigned': 3213, 'cosmetics': 3214, 'cosmic': 3215, 'cosmologists': 3216, 'cosmologys': 3217, 'cosmopolitan': 3218, 'cosmos': 3219, 'cost': 3220, 'costbenefit': 3221, 'costeffectiveness': 3222, 'costfree': 3223, 'costing': 3224, 'costly': 3225, 'costprohibitive': 3226, 'costs': 3227, 'costume': 3228, 'cotonou': 3229, 'cottage': 3230, 'cotton': 3231, 'couch': 3232, 'coudlnt': 3233, 'could': 3234, 'couldnt': 3235, 'coulter': 3236, 'council': 3237, 'councils': 3238, 'counsel': 3239, 'counseled': 3240, 'count': 3241, 'counted': 3242, 'counter': 3243, 'counterinsurgency': 3244, 'counterinsurgent': 3245, 'counterintuitive': 3246, 'countermeasures': 3247, 'counterparts': 3248, 'counterterrorist': 3249, 'counting': 3250, 'countless': 3251, 'countries': 3252, 'countries”': 3253, 'country': 3254, 'countrys': 3255, 'countryside': 3256, 'country”': 3257, 'counts': 3258, 'county': 3259, 'coup': 3260, 'couple': 3261, 'coupled': 3262, 'coupling': 3263, 'courage': 3264, 'courageous': 3265, 'course': 3266, 'courses': 3267, 'course”': 3268, 'court': 3269, 'courteous': 3270, 'courtesy': 3271, 'courtship': 3272, 'courtyard': 3273, 'cousin': 3274, 'cousins': 3275, 'cover': 3276, 'coverage': 3277, 'covered': 3278, 'covering': 3279, 'covers': 3280, 'covey': 3281, 'cowboy': 3282, 'cowboy”': 3283, 'coyote': 3284, 'coyotes': 3285, 'cozy': 3286, 'cpr': 3287, 'crab': 3288, 'crack': 3289, 'cracked': 3290, 'crackers': 3291, 'cracks': 3292, 'craft': 3293, 'crafting': 3294, 'crafts': 3295, 'craig': 3296, 'craigslist': 3297, 'cram': 3298, 'crammed': 3299, 'cramping': 3300, 'crank': 3301, 'crap': 3302, 'crappy': 3303, 'crash': 3304, 'crashed': 3305, 'crashes': 3306, 'crashing': 3307, 'crawl': 3308, 'crawled': 3309, 'crawling': 3310, 'crayon': 3311, 'crazier': 3312, 'crazy': 3313, 'cream': 3314, 'create': 3315, 'created': 3316, 'creates': 3317, 'creating': 3318, 'creation': 3319, 'creationists': 3320, 'creations': 3321, 'creative': 3322, 'creatively': 3323, 'creativity': 3324, 'creator': 3325, 'creators': 3326, 'creature': 3327, 'creatures': 3328, 'credentials': 3329, 'credibility': 3330, 'credit': 3331, 'creditors': 3332, 'creed': 3333, 'creep': 3334, 'creepy': 3335, 'cremaster': 3336, 'crestfallen': 3337, 'cretin': 3338, 'crevices': 3339, 'crew': 3340, 'crews': 3341, 'cricket': 3342, 'cricketer': 3343, 'cricketers': 3344, 'cricket”': 3345, 'cried': 3346, 'cries': 3347, 'crime': 3348, 'crimes': 3349, 'crimes”': 3350, 'criminal': 3351, 'criminals': 3352, 'crises': 3353, 'crisis': 3354, 'crisis”': 3355, 'cristine': 3356, 'criteria': 3357, 'critic': 3358, 'critical': 3359, 'critically': 3360, 'criticism': 3361, 'criticized': 3362, 'criticizes': 3363, 'criticizing': 3364, 'critics': 3365, 'critique': 3366, 'critters': 3367, 'crocodiles': 3368, 'croneish': 3369, 'crooked': 3370, 'crooks': 3371, 'crop': 3372, 'crops': 3373, 'crosby': 3374, 'crosley': 3375, 'cross': 3376, 'crossborder': 3377, 'crossed': 3378, 'crosses': 3379, 'crossing': 3380, 'crossmodal': 3381, 'crossover': 3382, 'crosspollinates': 3383, 'crossroads': 3384, 'crossuser': 3385, 'crossword': 3386, 'crow': 3387, 'crowd': 3388, 'crowded': 3389, 'crowdsource': 3390, 'crowdsourcing': 3391, 'crown': 3392, 'crowning': 3393, 'crows': 3394, 'crucial': 3395, 'crucifix': 3396, 'crucifixes': 3397, 'crude': 3398, 'cruel': 3399, 'crueler': 3400, 'cruelty': 3401, 'cruise': 3402, 'crumpled': 3403, 'crunch': 3404, 'crunches': 3405, 'crunchy': 3406, 'crusade': 3407, 'crush': 3408, 'crushed': 3409, 'crushing': 3410, 'crutches': 3411, 'cry': 3412, 'crying': 3413, 'crying”': 3414, 'cryptotheme': 3415, 'crystal': 3416, 'crystals': 3417, 'csection': 3418, 'cuba': 3419, 'cuban': 3420, 'cube': 3421, 'cubelike': 3422, 'cubes': 3423, 'cubic': 3424, 'cubs': 3425, 'cuckoopint': 3426, 'cue': 3427, 'cues': 3428, 'cuisine': 3429, 'culprit': 3430, 'cult': 3431, 'cultivation': 3432, 'cults': 3433, 'cultural': 3434, 'culturally': 3435, 'culture': 3436, 'culturebound': 3437, 'cultured': 3438, 'cultures': 3439, 'culture”': 3440, 'culturing': 3441, 'cumulative': 3442, 'cumulatively': 3443, 'cuneiform': 3444, 'cup': 3445, 'cupboard': 3446, 'cups': 3447, 'curandero': 3448, 'curated': 3449, 'curator': 3450, 'cure': 3451, 'cured': 3452, 'cures': 3453, 'curiosity': 3454, 'curious': 3455, 'curl': 3456, 'current': 3457, 'currently': 3458, 'curricula': 3459, 'curriculum': 3460, 'curry': 3461, 'curtain': 3462, 'curtains': 3463, 'curvaceous': 3464, 'curve': 3465, 'curved': 3466, 'curves': 3467, 'cushing': 3468, 'cushion': 3469, 'cushions': 3470, 'cusp': 3471, 'custom': 3472, 'customer': 3473, 'customers': 3474, 'customized': 3475, 'customizing': 3476, 'customs': 3477, 'cut': 3478, 'cute': 3479, 'cute”': 3480, 'cutout': 3481, 'cuts': 3482, 'cutting': 3483, 'cuttingedge': 3484, 'cuttings': 3485, 'cuz': 3486, 'cyanide': 3487, 'cyber': 3488, 'cybercrime': 3489, 'cyborg': 3490, 'cyborgs': 3491, 'cycle': 3492, 'cyclebased': 3493, 'cycles': 3494, 'cycle”': 3495, 'cyclical': 3496, 'cycling': 3497, 'cyclone': 3498, 'cylindrical': 3499, 'cynicism': 3500, 'czar': 3501, 'd': 3502, 'da': 3503, 'dad': 3504, 'daddy': 3505, 'daddys': 3506, 'dahls': 3507, 'daily': 3508, 'dairy': 3509, 'daisies': 3510, 'dakar': 3511, 'dakota': 3512, 'dalai': 3513, 'dally': 3514, 'dam': 3515, 'damage': 3516, 'damaged': 3517, 'damascus': 3518, 'dame': 3519, 'damn': 3520, 'damn”': 3521, 'damp': 3522, 'dan': 3523, 'dana': 3524, 'dance': 3525, 'dancer': 3526, 'dances': 3527, 'dancing': 3528, 'dandelions': 3529, 'danger': 3530, 'dangerous': 3531, 'dangerously': 3532, 'daniel': 3533, 'danish': 3534, 'dare': 3535, 'darfur': 3536, 'dari': 3537, 'daring': 3538, 'dark': 3539, 'darkest': 3540, 'darkeyed': 3541, 'darkness': 3542, 'darn': 3543, 'darpa': 3544, 'darshan': 3545, 'darwin': 3546, 'darwins': 3547, 'das': 3548, 'dashboard': 3549, 'dashboards': 3550, 'dashboard”': 3551, 'data': 3552, 'database': 3553, 'databases': 3554, 'datacentric': 3555, 'datasets': 3556, 'date': 3557, 'dateline': 3558, 'dates': 3559, 'daughter': 3560, 'daughters': 3561, 'daughter”': 3562, 'daunting': 3563, 'david': 3564, 'davos': 3565, 'davy': 3566, 'dawdle': 3567, 'dawkins': 3568, 'dawn': 3569, 'dawning': 3570, 'day': 3571, 'dayin': 3572, 'daylight': 3573, 'dayout': 3574, 'days': 3575, 'days”': 3576, 'daytoday': 3577, 'daytona': 3578, 'day“': 3579, 'day”': 3580, 'dazzled': 3581, 'dc': 3582, 'ddhs': 3583, 'ddt': 3584, 'de': 3585, 'deaconess': 3586, 'dead': 3587, 'deadline': 3588, 'deadly': 3589, 'dead”': 3590, 'deaf': 3591, 'deaf”': 3592, 'deal': 3593, 'dealing': 3594, 'deals': 3595, 'dealt': 3596, 'dear': 3597, 'dearer': 3598, 'dearest': 3599, 'dearly': 3600, 'dearth': 3601, 'dear”': 3602, 'death': 3603, 'deathly': 3604, 'deaths': 3605, 'deb': 3606, 'debate': 3607, 'debates': 3608, 'debt': 3609, 'debunkers': 3610, 'debut': 3611, 'decade': 3612, 'decades': 3613, 'decatur': 3614, 'deceit': 3615, 'deceive': 3616, 'deceived': 3617, 'deceives': 3618, 'deceiving': 3619, 'december': 3620, 'decency': 3621, 'decent': 3622, 'decentralized': 3623, 'deception': 3624, 'deceptive': 3625, 'decide': 3626, 'decided': 3627, 'decides': 3628, 'decide”': 3629, 'deciding': 3630, 'decimals': 3631, 'decipher': 3632, 'deciphered': 3633, 'deciphering': 3634, 'decipherment': 3635, 'decision': 3636, 'decisionmaking': 3637, 'decisionmaking”': 3638, 'decisions': 3639, 'decisive': 3640, 'deck': 3641, 'declare': 3642, 'declared': 3643, 'declares': 3644, 'decline': 3645, 'decoding': 3646, 'deconstruct': 3647, 'deconstructing': 3648, 'decor': 3649, 'decoration': 3650, 'decorative': 3651, 'decrease': 3652, 'decreased': 3653, 'decreed': 3654, 'decrees': 3655, 'decrypt': 3656, 'decrypted': 3657, 'decrypting': 3658, 'dedicate': 3659, 'dedicated': 3660, 'dedicates': 3661, 'dedication': 3662, 'deed': 3663, 'deeds': 3664, 'deedy': 3665, 'deemed': 3666, 'deep': 3667, 'deepened': 3668, 'deepening': 3669, 'deeper': 3670, 'deepest': 3671, 'deeply': 3672, 'defamation': 3673, 'default': 3674, 'defeat': 3675, 'defeating': 3676, 'defecated': 3677, 'defecation': 3678, 'defect': 3679, 'defective': 3680, 'defects': 3681, 'defend': 3682, 'defendable': 3683, 'defenders': 3684, 'defending': 3685, 'defense': 3686, 'defenses': 3687, 'defensive': 3688, 'deficiency': 3689, 'deficient': 3690, 'deficit': 3691, 'defied': 3692, 'defies': 3693, 'defiled': 3694, 'defiling': 3695, 'define': 3696, 'defined': 3697, 'defines': 3698, 'defining': 3699, 'definite': 3700, 'definitely': 3701, 'definition': 3702, 'definitions': 3703, 'definitive': 3704, 'deflecting': 3705, 'deforestation': 3706, 'defused': 3707, 'defy': 3708, 'degeneration': 3709, 'degradation': 3710, 'degrade': 3711, 'degrading': 3712, 'degree': 3713, 'degrees': 3714, 'degreesoffreedom': 3715, 'dehumanizing': 3716, 'deities': 3717, 'del': 3718, 'delay': 3719, 'delayed': 3720, 'delegates': 3721, 'delete': 3722, 'delhi': 3723, 'delhi”': 3724, 'deli': 3725, 'deliberate': 3726, 'deliberately': 3727, 'delicate': 3728, 'delicious': 3729, 'delight': 3730, 'delighted': 3731, 'delights': 3732, 'delinked': 3733, 'deliver': 3734, 'delivered': 3735, 'delivering': 3736, 'delivery': 3737, 'deliveryman': 3738, 'deliver”': 3739, 'delta': 3740, 'delusional': 3741, 'demagogues': 3742, 'demand': 3743, 'demanded': 3744, 'demanding': 3745, 'demands': 3746, 'dementia': 3747, 'demise': 3748, 'demo': 3749, 'democracies': 3750, 'democracy': 3751, 'democracy”': 3752, 'democrat': 3753, 'democratic': 3754, 'democratically': 3755, 'democratization': 3756, 'democratize': 3757, 'democrats': 3758, 'demographic': 3759, 'demographics': 3760, 'demolish': 3761, 'demolished': 3762, 'demolition': 3763, 'demonstrate': 3764, 'demonstrated': 3765, 'demonstrates': 3766, 'demonstrating': 3767, 'demonstration': 3768, 'demonstrations': 3769, 'demystified': 3770, 'den': 3771, 'denari': 3772, 'denatured': 3773, 'denatures': 3774, 'deng': 3775, 'denial': 3776, 'denials': 3777, 'denied': 3778, 'denizens': 3779, 'denmark': 3780, 'dennis': 3781, 'denominations': 3782, 'denominator': 3783, 'denote': 3784, 'denoted': 3785, 'dense': 3786, 'densely': 3787, 'denser': 3788, 'densify': 3789, 'density': 3790, 'dentist': 3791, 'dentistry': 3792, 'dentition': 3793, 'denver': 3794, 'deny': 3795, 'denying': 3796, 'department': 3797, 'departments': 3798, 'departure': 3799, 'depend': 3800, 'depended': 3801, 'dependencies': 3802, 'dependent': 3803, 'depending': 3804, 'depends': 3805, 'depict': 3806, 'depleted': 3807, 'depleting': 3808, 'depletion': 3809, 'deployed': 3810, 'deployment': 3811, 'deployments': 3812, 'deploys': 3813, 'deported': 3814, 'deposit': 3815, 'deposited': 3816, 'depressed': 3817, 'depressing': 3818, 'depression': 3819, 'depressions': 3820, 'deprivation': 3821, 'deprives': 3822, 'depth': 3823, 'deputy': 3824, 'deregulation': 3825, 'derek': 3826, 'derivative': 3827, 'derivatives': 3828, 'derivative”': 3829, 'derive': 3830, 'derived': 3831, 'derives': 3832, 'desalinated': 3833, 'desalination': 3834, 'desaturated': 3835, 'descartes': 3836, 'descend': 3837, 'descendants': 3838, 'descended': 3839, 'descends': 3840, 'describe': 3841, 'described': 3842, 'describing': 3843, 'description': 3844, 'descriptions': 3845, 'desensitized': 3846, 'desert': 3847, 'deserts': 3848, 'deserve': 3849, 'deserved': 3850, 'deserves': 3851, 'design': 3852, 'designed': 3853, 'designer': 3854, 'designers': 3855, 'designing': 3856, 'designs': 3857, 'design”': 3858, 'desirable': 3859, 'desire': 3860, 'desires': 3861, 'desk': 3862, 'deskdwelling': 3863, 'desktop': 3864, 'desktops': 3865, 'desolate': 3866, 'despair': 3867, 'desperate': 3868, 'desperately': 3869, 'desperation': 3870, 'despite': 3871, 'despoil': 3872, 'despots': 3873, 'destabilizing': 3874, 'destination': 3875, 'destinationcontrol': 3876, 'destinations': 3877, 'destined': 3878, 'destinies': 3879, 'destiny': 3880, 'destroy': 3881, 'destroyed': 3882, 'destroyer': 3883, 'destroyers': 3884, 'destroying': 3885, 'destruction': 3886, 'destructive': 3887, 'detail': 3888, 'detailed': 3889, 'details': 3890, 'detained': 3891, 'detect': 3892, 'detected': 3893, 'detecting': 3894, 'detector': 3895, 'detectors': 3896, 'deteriorate': 3897, 'determination': 3898, 'determine': 3899, 'determined': 3900, 'determines': 3901, 'detonate': 3902, 'detract': 3903, 'detrimental': 3904, 'devalued': 3905, 'devastated': 3906, 'devastating': 3907, 'devastatingly': 3908, 'develop': 3909, 'developed': 3910, 'developer': 3911, 'developers': 3912, 'developing': 3913, 'development': 3914, 'developmental': 3915, 'developments': 3916, 'develops': 3917, 'devi': 3918, 'deviations': 3919, 'device': 3920, 'devices': 3921, 'device”': 3922, 'devil': 3923, 'devise': 3924, 'devising': 3925, 'devolving': 3926, 'devoted': 3927, 'devotes': 3928, 'devotion': 3929, 'devour': 3930, 'dewar': 3931, 'dexterity': 3932, 'dh': 3933, 'dhabi': 3934, 'dharavi': 3935, 'dhariwal': 3936, 'dharma': 3937, 'dhoni': 3938, 'dhruvi': 3939, 'diabetes': 3940, 'diagnose': 3941, 'diagnosed': 3942, 'diagnosing': 3943, 'diagnosis': 3944, 'diagnostic': 3945, 'diagram': 3946, 'diagrams': 3947, 'dial': 3948, 'dialect': 3949, 'dialed': 3950, 'dialing': 3951, 'dialogue': 3952, 'dialogues': 3953, 'diameter': 3954, 'diamond': 3955, 'diamonds': 3956, 'diamondshaped': 3957, 'diamond”': 3958, 'diana': 3959, 'diarrhea': 3960, 'diarrhea”': 3961, 'diary': 3962, 'diaspora': 3963, 'dicaprio': 3964, 'dick': 3965, 'dickens': 3966, 'dictator': 3967, 'dictatorial': 3968, 'dictators': 3969, 'dictatorship': 3970, 'dictionary': 3971, 'did': 3972, 'didactic': 3973, 'didnt': 3974, 'did”': 3975, 'die': 3976, 'died': 3977, 'diego': 3978, 'diepreye': 3979, 'dies': 3980, 'diesel': 3981, 'diet': 3982, 'differ': 3983, 'difference': 3984, 'differences': 3985, 'differencing': 3986, 'different': 3987, 'differential': 3988, 'differentiate': 3989, 'differentiated': 3990, 'differentiating': 3991, 'differently': 3992, 'differs': 3993, 'difficult': 3994, 'difficulties': 3995, 'difficulty': 3996, 'dig': 3997, 'diggers': 3998, 'digging': 3999, 'diggles': 4000, 'digit': 4001, 'digital': 4002, 'digitally': 4003, 'digitized': 4004, 'dignity': 4005, 'dil': 4006, 'dilemma': 4007, 'dilemmas': 4008, 'dilemmas”': 4009, 'diligence': 4010, 'diligent': 4011, 'dill': 4012, 'dilly': 4013, 'dilma': 4014, 'dim': 4015, 'dime': 4016, 'dimension': 4017, 'dimensional': 4018, 'dimensions': 4019, 'dimethyltryptamine': 4020, 'diminishing': 4021, 'dimming': 4022, 'dimwits': 4023, 'dining': 4024, 'dinner': 4025, 'dinnertime': 4026, 'dinosaur': 4027, 'dioxide': 4028, 'dip': 4029, 'diplomat': 4030, 'diplomats': 4031, 'dipper': 4032, 'dips': 4033, 'direct': 4034, 'direction': 4035, 'directionality': 4036, 'directions': 4037, 'directly': 4038, 'director': 4039, 'directories': 4040, 'directors': 4041, 'dirt': 4042, 'dirty': 4043, 'disabilities': 4044, 'disability': 4045, 'disabled': 4046, 'disabled”': 4047, 'disadvantage': 4048, 'disadvantages': 4049, 'disagree': 4050, 'disagreed': 4051, 'disagreement': 4052, 'disagrees': 4053, 'disallow': 4054, 'disappear': 4055, 'disappeared': 4056, 'disappears': 4057, 'disappoint': 4058, 'disappointed': 4059, 'disappointment': 4060, 'disappointments': 4061, 'disapproval': 4062, 'disaster': 4063, 'disasters': 4064, 'disbelief': 4065, 'discarded': 4066, 'discerningly': 4067, 'discharge': 4068, 'disciplinarian': 4069, 'discipline': 4070, 'disciplined': 4071, 'disciplines': 4072, 'disciplining': 4073, 'discomfort': 4074, 'disconcerted': 4075, 'disconnect': 4076, 'disconnected': 4077, 'disconnection': 4078, 'discord': 4079, 'discount': 4080, 'discounts': 4081, 'discouraged': 4082, 'discourages': 4083, 'discouraging': 4084, 'discourse': 4085, 'discover': 4086, 'discovered': 4087, 'discoveries': 4088, 'discovering': 4089, 'discovers': 4090, 'discovery': 4091, 'discrepancy': 4092, 'discrete': 4093, 'discriminate': 4094, 'discriminated': 4095, 'discrimination': 4096, 'discuss': 4097, 'discussed': 4098, 'discussing': 4099, 'discussion': 4100, 'discussions': 4101, 'disease': 4102, 'diseasepreventing': 4103, 'diseasepromoting': 4104, 'diseases': 4105, 'disempowering': 4106, 'disenfranchised': 4107, 'disengagement': 4108, 'disenthrall': 4109, 'disguise': 4110, 'disguises': 4111, 'disgust': 4112, 'disgustingtasting': 4113, 'dish': 4114, 'dishes': 4115, 'disinclined': 4116, 'disinheritance': 4117, 'disintegrate': 4118, 'disintegrated': 4119, 'disintegrating': 4120, 'disinvestment': 4121, 'disk': 4122, 'dislocates': 4123, 'dislocations': 4124, 'dislodge': 4125, 'dismal': 4126, 'dismantle': 4127, 'dismantles': 4128, 'dismay': 4129, 'dismiss': 4130, 'dismissed': 4131, 'disney': 4132, 'disneycom': 4133, 'disorder': 4134, 'disorders': 4135, 'disowned': 4136, 'dispatch': 4137, 'dispensary': 4138, 'dispense': 4139, 'displace': 4140, 'displaced': 4141, 'display': 4142, 'displayed': 4143, 'displaying': 4144, 'displays': 4145, 'disposal': 4146, 'dispossess': 4147, 'dispute': 4148, 'disputes': 4149, 'disqualified': 4150, 'disrupt': 4151, 'disruptive': 4152, 'dissapointed': 4153, 'dissatisfied': 4154, 'dissect': 4155, 'dissed': 4156, 'disseminate': 4157, 'dissertation': 4158, 'dissolution': 4159, 'dissolved': 4160, 'dissonance': 4161, 'distance': 4162, 'distances': 4163, 'distance”': 4164, 'distant': 4165, 'distill': 4166, 'distillation': 4167, 'distilled': 4168, 'distinct': 4169, 'distinction': 4170, 'distinctions': 4171, 'distinctively': 4172, 'distinctly': 4173, 'distinguish': 4174, 'distinguishes': 4175, 'distinguishing': 4176, 'distorted': 4177, 'distorting': 4178, 'distortion': 4179, 'distract': 4180, 'distracted': 4181, 'distraction': 4182, 'distractions': 4183, 'distress': 4184, 'distribute': 4185, 'distributed': 4186, 'distributing': 4187, 'distribution': 4188, 'distributions': 4189, 'district': 4190, 'districts': 4191, 'disturb': 4192, 'disturbances': 4193, 'disturbing': 4194, 'ditches': 4195, 'dive': 4196, 'diver': 4197, 'diverge': 4198, 'diverse': 4199, 'diversify': 4200, 'diversion': 4201, 'diversity': 4202, 'diverted': 4203, 'divide': 4204, 'divided': 4205, 'dividend': 4206, 'divide”': 4207, 'dividing': 4208, 'divine': 4209, 'diviner': 4210, 'divinity': 4211, 'divisible': 4212, 'division': 4213, 'divorce': 4214, 'divorced': 4215, 'dizzy': 4216, 'dizzying': 4217, 'dj': 4218, 'dmca': 4219, 'dmv': 4220, 'dna': 4221, 'do': 4222, 'doable': 4223, 'docks': 4224, 'doctor': 4225, 'doctoral': 4226, 'doctorate': 4227, 'doctors': 4228, 'doctor”': 4229, 'doctrine': 4230, 'doctrines': 4231, 'document': 4232, 'documentaries': 4233, 'documentary': 4234, 'documentation': 4235, 'documented': 4236, 'documenting': 4237, 'documents': 4238, 'dodging': 4239, 'doerr': 4240, 'doers': 4241, 'does': 4242, 'doesnt': 4243, 'dog': 4244, 'dogmas': 4245, 'dogs': 4246, 'dogwoods': 4247, 'doing': 4248, 'doing”': 4249, 'dollar': 4250, 'dollars': 4251, 'dollars”': 4252, 'dolled': 4253, 'domain': 4254, 'domestic': 4255, 'domestication': 4256, 'domestics': 4257, 'dominant': 4258, 'dominated': 4259, 'dominating': 4260, 'domination': 4261, 'domo': 4262, 'don': 4263, 'donate': 4264, 'donated': 4265, 'donation': 4266, 'donations': 4267, 'done': 4268, 'done”': 4269, 'donkey': 4270, 'donna': 4271, 'donor': 4272, 'donors': 4273, 'dont': 4274, 'doo': 4275, 'doodle': 4276, 'doodles': 4277, 'doodling': 4278, 'doom': 4279, 'door': 4280, 'doorbells': 4281, 'doors': 4282, 'doorstep': 4283, 'doorway': 4284, 'doorways': 4285, 'dopamine': 4286, 'dormant': 4287, 'dorset': 4288, 'dosage': 4289, 'doses': 4290, 'dot': 4291, 'dots': 4292, 'double': 4293, 'doubled': 4294, 'doubledigit': 4295, 'doubleentry': 4296, 'doubleespressos': 4297, 'doublelock': 4298, 'doubling': 4299, 'doubt': 4300, 'doubtful': 4301, 'doubting': 4302, 'dough': 4303, 'doughnuts': 4304, 'dousing': 4305, 'dow': 4306, 'down': 4307, 'downbeat': 4308, 'downgrade': 4309, 'downhill': 4310, 'download': 4311, 'downloaded': 4312, 'downloader': 4313, 'downplay': 4314, 'downs': 4315, 'downside': 4316, 'downstairs': 4317, 'downtown': 4318, 'downwards': 4319, 'down”': 4320, 'dowry': 4321, 'dowse': 4322, 'dowser': 4323, 'dozen': 4324, 'dozens': 4325, 'dozing': 4326, 'dozo': 4327, 'do”': 4328, 'dr': 4329, 'drafted': 4330, 'drafting': 4331, 'dragged': 4332, 'dragging': 4333, 'dragon': 4334, 'dragon”': 4335, 'drags': 4336, 'drains': 4337, 'drama': 4338, 'dramas': 4339, 'dramatic': 4340, 'dramatically': 4341, 'drank': 4342, 'draught': 4343, 'dravidian': 4344, 'dravidianspeaking': 4345, 'draw': 4346, 'drawer': 4347, 'drawing': 4348, 'drawings': 4349, 'drawn': 4350, 'draws': 4351, 'dreaded': 4352, 'dreadful': 4353, 'dream': 4354, 'dreamers': 4355, 'dreaming': 4356, 'dreams': 4357, 'dreams”': 4358, 'dreamt': 4359, 'dress': 4360, 'dressdown': 4361, 'dressed': 4362, 'dresses': 4363, 'dressmakers': 4364, 'dressup': 4365, 'drew': 4366, 'dried': 4367, 'dries': 4368, 'drift': 4369, 'drifted': 4370, 'drill': 4371, 'drills': 4372, 'drink': 4373, 'drinking': 4374, 'drinks': 4375, 'drinks”': 4376, 'drip': 4377, 'drive': 4378, 'drivegrip': 4379, 'driven': 4380, 'driver': 4381, 'drivers': 4382, 'drives': 4383, 'driveway': 4384, 'driving': 4385, 'driving”': 4386, 'drop': 4387, 'droplets': 4388, 'dropout': 4389, 'dropouts': 4390, 'dropped': 4391, 'dropping': 4392, 'drops': 4393, 'drop”': 4394, 'drought': 4395, 'droughts': 4396, 'drove': 4397, 'drown': 4398, 'drowned': 4399, 'drowning': 4400, 'drudgery': 4401, 'drug': 4402, 'drugs': 4403, 'drum': 4404, 'drummedup': 4405, 'drumming': 4406, 'drunkard': 4407, 'drunken': 4408, 'drunks': 4409, 'dry': 4410, 'dryer': 4411, 'drying': 4412, 'dubai': 4413, 'dubbed': 4414, 'dubious': 4415, 'duchenne': 4416, 'ducks': 4417, 'ducts': 4418, 'dude': 4419, 'due': 4420, 'dues': 4421, 'dumb': 4422, 'dumber': 4423, 'dumbest': 4424, 'dumbing': 4425, 'dump': 4426, 'dumping': 4427, 'dumps': 4428, 'dune': 4429, 'dunes': 4430, 'dung': 4431, 'dungarees': 4432, 'dungeon”': 4433, 'dunk': 4434, 'duplicated': 4435, 'durable': 4436, 'durban': 4437, 'during': 4438, 'durkheim': 4439, 'dust': 4440, 'dutch': 4441, 'duterimbere': 4442, 'duties': 4443, 'duty': 4444, 'dutyfree': 4445, 'duvaliers': 4446, 'dvd': 4447, 'dvds': 4448, 'dwayne': 4449, 'dwell': 4450, 'dwelled': 4451, 'dwellers': 4452, 'dye': 4453, 'dyed': 4454, 'dying': 4455, 'dynamic': 4456, 'dynamically': 4457, 'dynamics': 4458, 'dynamite': 4459, 'dyslexia': 4460, 'dyslexic': 4461, 'e': 4462, 'each': 4463, 'eager': 4464, 'eagerly': 4465, 'eagles': 4466, 'ear': 4467, 'earlier': 4468, 'earliest': 4469, 'early': 4470, 'earmarked': 4471, 'earn': 4472, 'earned': 4473, 'earning': 4474, 'earns': 4475, 'earphones': 4476, 'ears': 4477, 'earth': 4478, 'earthquake': 4479, 'earthquakes': 4480, 'earths': 4481, 'ease': 4482, 'easier': 4483, 'easily': 4484, 'east': 4485, 'eastern': 4486, 'eastland': 4487, 'easy': 4488, 'eat': 4489, 'eaten': 4490, 'eating': 4491, 'eats': 4492, 'eat”': 4493, 'ebay': 4494, 'ebita': 4495, 'ebook': 4496, 'ecg': 4497, 'echoes': 4498, 'eclectic': 4499, 'eclipsed': 4500, 'eco': 4501, 'ecological': 4502, 'ecologically': 4503, 'ecologicallyresponsible': 4504, 'ecologist': 4505, 'ecology': 4506, 'economic': 4507, 'economical': 4508, 'economically': 4509, 'economics': 4510, 'economies': 4511, 'economist': 4512, 'economists': 4513, 'economy': 4514, 'econtent': 4515, 'ecosystem': 4516, 'ecosystems': 4517, 'ecstasy': 4518, 'ecuador': 4519, 'eczema': 4520, 'ed': 4521, 'eddy': 4522, 'edge': 4523, 'edges': 4524, 'edge”': 4525, 'edison': 4526, 'edit': 4527, 'edited': 4528, 'editing': 4529, 'edition': 4530, 'editions': 4531, 'editor': 4532, 'editorial': 4533, 'editors': 4534, 'educate': 4535, 'educated': 4536, 'educating': 4537, 'education': 4538, 'educational': 4539, 'educationspeak': 4540, 'educator': 4541, 'educators': 4542, 'eduction': 4543, 'edward': 4544, 'eeg': 4545, 'effect': 4546, 'effective': 4547, 'effectively': 4548, 'effectiveness': 4549, 'effector': 4550, 'effects': 4551, 'efficacy': 4552, 'efficiency': 4553, 'efficient': 4554, 'efficiently': 4555, 'effort': 4556, 'efforts': 4557, 'egalitarianism': 4558, 'egg': 4559, 'eggans': 4560, 'eggs': 4561, 'ego': 4562, 'egocentric': 4563, 'egos': 4564, 'egotism': 4565, 'ego”': 4566, 'egregious': 4567, 'egypt': 4568, 'egyptian': 4569, 'egyptians': 4570, 'eh': 4571, 'eide': 4572, 'eiffel': 4573, 'eight': 4574, 'eighth': 4575, 'eighthgraders': 4576, 'eighthour': 4577, 'eightweek': 4578, 'eighty': 4579, 'eightyearlong': 4580, 'eightyearold': 4581, 'eight”': 4582, 'einstein': 4583, 'einstein”': 4584, 'either': 4585, 'ekman': 4586, 'el': 4587, 'elaborate': 4588, 'elaborated': 4589, 'elaboration': 4590, 'elaborations': 4591, 'elan': 4592, 'elapse': 4593, 'elastic': 4594, 'elder': 4595, 'elderly': 4596, 'elders': 4597, 'elect': 4598, 'elected': 4599, 'election': 4600, 'elections': 4601, 'electoral': 4602, 'electric': 4603, 'electrical': 4604, 'electrically': 4605, 'electricity': 4606, 'electricity”': 4607, 'electrified': 4608, 'electrodes': 4609, 'electromagnet': 4610, 'electromagnetic': 4611, 'electromechanical': 4612, 'electron': 4613, 'electronic': 4614, 'electronics': 4615, 'electrons': 4616, 'elegantly': 4617, 'element': 4618, 'elementary': 4619, 'elements': 4620, 'elephant': 4621, 'elephantheaded': 4622, 'elephants': 4623, 'elevated': 4624, 'elevates': 4625, 'elevator': 4626, 'elevators': 4627, 'eleven': 4628, 'eli': 4629, 'elicits': 4630, 'eliminate': 4631, 'eliminated': 4632, 'eliminating': 4633, 'elimination': 4634, 'elinor': 4635, 'elite': 4636, 'elites': 4637, 'elitist': 4638, 'elizabeth': 4639, 'elliptical': 4640, 'elm': 4641, 'elongate': 4642, 'else': 4643, 'elses': 4644, 'elsewhere': 4645, 'else”': 4646, 'elucidated': 4647, 'elysium': 4648, 'email': 4649, 'emailed': 4650, 'emails': 4651, 'emails”': 4652, 'embankment': 4653, 'embark': 4654, 'embarked': 4655, 'embarking': 4656, 'embarrassed': 4657, 'embarrassing': 4658, 'embarrassment': 4659, 'embassy': 4660, 'embedded': 4661, 'embers': 4662, 'emblems': 4663, 'embodies': 4664, 'embody': 4665, 'embrace': 4666, 'embraced': 4667, 'embraces': 4668, 'embracing': 4669, 'embroidered': 4670, 'embryo': 4671, 'embryonic': 4672, 'emerald': 4673, 'emerge': 4674, 'emerged': 4675, 'emergence': 4676, 'emergencies': 4677, 'emergency': 4678, 'emergent': 4679, 'emerges': 4680, 'emerging': 4681, 'emigrated': 4682, 'emil': 4683, 'emiliano': 4684, 'eminem': 4685, 'eminent': 4686, 'emirate': 4687, 'emirati': 4688, 'emission': 4689, 'emissions': 4690, 'emissions”': 4691, 'emission”': 4692, 'emits': 4693, 'emitting': 4694, 'emma': 4695, 'emotion': 4696, 'emotional': 4697, 'emotionally': 4698, 'emotions': 4699, 'emotive': 4700, 'empathetic': 4701, 'empathize': 4702, 'empathy': 4703, 'emphasis': 4704, 'emphasize': 4705, 'emphasizes': 4706, 'empire': 4707, 'empires': 4708, 'empire”': 4709, 'employ': 4710, 'employed': 4711, 'employees': 4712, 'employee”': 4713, 'employer': 4714, 'employers': 4715, 'employing': 4716, 'employment': 4717, 'employs': 4718, 'empower': 4719, 'empowered': 4720, 'empowering': 4721, 'empowerment': 4722, 'empowers': 4723, 'empties': 4724, 'empty': 4725, 'emptying': 4726, 'emulate': 4727, 'emulating': 4728, 'en': 4729, 'enable': 4730, 'enabled': 4731, 'enables': 4732, 'enabling': 4733, 'enact': 4734, 'enactment': 4735, 'enameled': 4736, 'encapsulates': 4737, 'enceladus': 4738, 'enchanted': 4739, 'enclave': 4740, 'encode': 4741, 'encoded': 4742, 'encompass': 4743, 'encompasses': 4744, 'encounter': 4745, 'encountered': 4746, 'encountering': 4747, 'encounters': 4748, 'encourage': 4749, 'encouraged': 4750, 'encouragement': 4751, 'encourages': 4752, 'encouraging': 4753, 'encrypted': 4754, 'encryption': 4755, 'encyclopedia': 4756, 'encyclopedias': 4757, 'end': 4758, 'endangered': 4759, 'endeavor': 4760, 'ended': 4761, 'endemic': 4762, 'endgame': 4763, 'ending': 4764, 'endings': 4765, 'endless': 4766, 'endlessly': 4767, 'endofpipe': 4768, 'endorphin': 4769, 'endorsed': 4770, 'endorsement': 4771, 'endowed': 4772, 'ends': 4773, 'endtoend': 4774, 'endurance': 4775, 'endure': 4776, 'endured': 4777, 'enduring': 4778, 'enduse': 4779, 'end”': 4780, 'eneb': 4781, 'enemy': 4782, 'energies': 4783, 'energized': 4784, 'energy': 4785, 'energyefficient': 4786, 'energy”': 4787, 'enforcement': 4788, 'enforcing': 4789, 'engage': 4790, 'engaged': 4791, 'engagement': 4792, 'engages': 4793, 'engaging': 4794, 'engine': 4795, 'engineer': 4796, 'engineered': 4797, 'engineering': 4798, 'engineers': 4799, 'engines': 4800, 'england': 4801, 'english': 4802, 'englishman': 4803, 'englishspeaking': 4804, 'english”': 4805, 'engravings': 4806, 'enhance': 4807, 'enhances': 4808, 'eni': 4809, 'enjoy': 4810, 'enjoyed': 4811, 'enjoying': 4812, 'enlighten': 4813, 'enlightened': 4814, 'enlightening': 4815, 'enlightenment': 4816, 'enlist': 4817, 'eno': 4818, 'enormous': 4819, 'enough': 4820, 'enough”': 4821, 'enrich': 4822, 'enriched': 4823, 'enriches': 4824, 'enriching': 4825, 'enrichment': 4826, 'enrique': 4827, 'enrolled': 4828, 'enrollment': 4829, 'ensemble': 4830, 'enshrined': 4831, 'enslave': 4832, 'enslaving': 4833, 'ensuing': 4834, 'ensure': 4835, 'ensured': 4836, 'ensuring': 4837, 'entail': 4838, 'entails': 4839, 'entanglement': 4840, 'enter': 4841, 'entered': 4842, 'entering': 4843, 'enterprise': 4844, 'enterprises': 4845, 'enterprising': 4846, 'enters': 4847, 'entertained': 4848, 'entertaining': 4849, 'entertainment': 4850, 'enthralled': 4851, 'enthusiasm”': 4852, 'enthusiastic': 4853, 'enthusiastically': 4854, 'entire': 4855, 'entirely': 4856, 'entities': 4857, 'entitled': 4858, 'entitlement': 4859, 'entity': 4860, 'entorhinal': 4861, 'entrance': 4862, 'entrepreneur': 4863, 'entrepreneurial': 4864, 'entrepreneurs': 4865, 'entrepreneurship': 4866, 'entrepreneur”': 4867, 'entropies': 4868, 'entropy': 4869, 'entry': 4870, 'enveloped': 4871, 'envelops': 4872, 'envious': 4873, 'environment': 4874, 'environmental': 4875, 'environmentally': 4876, 'environmentallyconcerned': 4877, 'environmentallyinterested': 4878, 'environments': 4879, 'environments”': 4880, 'environment”': 4881, 'envision': 4882, 'envisions': 4883, 'envy': 4884, 'enwrought': 4885, 'enzyme': 4886, 'epagogix': 4887, 'ephemeral': 4888, 'epidemic': 4889, 'epilepsy': 4890, 'epiphanies': 4891, 'epiphany': 4892, 'episode': 4893, 'episodes': 4894, 'epistemologically': 4895, 'epitome': 4896, 'epochs': 4897, 'equal': 4898, 'equality': 4899, 'equally': 4900, 'equals': 4901, 'equated': 4902, 'equates': 4903, 'equation': 4904, 'equations': 4905, 'equator': 4906, 'equatorial': 4907, 'equilibrium': 4908, 'equipment': 4909, 'equipment”': 4910, 'equipped': 4911, 'equity': 4912, 'equivalent': 4913, 'equivalently': 4914, 'era': 4915, 'eradicate': 4916, 'eradicated': 4917, 'eradication': 4918, 'eras': 4919, 'erase': 4920, 'erasing': 4921, 'erect': 4922, 'ergo': 4923, 'eric': 4924, 'erik': 4925, 'eroded': 4926, 'err': 4927, 'errand': 4928, 'error': 4929, 'errors': 4930, 'error”': 4931, 'erstwhile': 4932, 'erudite': 4933, 'erupting': 4934, 'erupts': 4935, 'escape': 4936, 'escaped': 4937, 'escort': 4938, 'esoteric': 4939, 'especially': 4940, 'espen': 4941, 'esplanade': 4942, 'espouse': 4943, 'espresso': 4944, 'essays': 4945, 'essence': 4946, 'essential': 4947, 'essentially': 4948, 'essentials': 4949, 'establish': 4950, 'established': 4951, 'establishment': 4952, 'estate': 4953, 'esther': 4954, 'estimate': 4955, 'estimated': 4956, 'estimates': 4957, 'estimating': 4958, 'estimation': 4959, 'estonia': 4960, 'etc': 4961, 'etched': 4962, 'etc”': 4963, 'eternal': 4964, 'eternity': 4965, 'etete': 4966, 'ethereal': 4967, 'ethic': 4968, 'ethical': 4969, 'ethically': 4970, 'ethics': 4971, 'ethics”': 4972, 'ethiopia': 4973, 'ethiopias': 4974, 'ethnic': 4975, 'ethnically': 4976, 'ethnicity': 4977, 'ethnocide': 4978, 'ethnographic': 4979, 'ethnosphere': 4980, 'etiquette': 4981, 'euphemism': 4982, 'eureka': 4983, 'europe': 4984, 'european': 4985, 'eurozone': 4986, 'evaluate': 4987, 'evaluation': 4988, 'evan': 4989, 'evangelize': 4990, 'evaporates': 4991, 'even': 4992, 'evening': 4993, 'evenings': 4994, 'event': 4995, 'events': 4996, 'eventually': 4997, 'ever': 4998, 'everest': 4999, 'evereverland': 5000, 'everfragile': 5001, 'everpresent': 5002, 'every': 5003, 'everybody': 5004, 'everybodys': 5005, 'everyday': 5006, 'everyhomeshouldhaveone': 5007, 'everyone': 5008, 'everyones': 5009, 'everything': 5010, 'everythings': 5011, 'everything”': 5012, 'everywhere': 5013, 'everywhere”': 5014, 'ever”': 5015, 'evict': 5016, 'evidence': 5017, 'evidenced': 5018, 'evident': 5019, 'evidently': 5020, 'evil': 5021, 'evokes': 5022, 'evolution': 5023, 'evolutionarily': 5024, 'evolutionary': 5025, 'evolutions': 5026, 'evolve': 5027, 'evolved': 5028, 'evolves': 5029, 'evolving': 5030, 'eww': 5031, 'exacerbate': 5032, 'exact': 5033, 'exactly': 5034, 'exaggerate': 5035, 'exaggerated': 5036, 'exaggeration': 5037, 'exam': 5038, 'examinations': 5039, 'examine': 5040, 'examined': 5041, 'example': 5042, 'examples': 5043, 'examples”': 5044, 'exams': 5045, 'exam”': 5046, 'exasperation': 5047, 'excelled': 5048, 'excellence': 5049, 'excellent': 5050, 'excelling': 5051, 'except': 5052, 'exception': 5053, 'exceptional': 5054, 'exceptions': 5055, 'excerpt': 5056, 'excerpted': 5057, 'excess': 5058, 'excessive': 5059, 'exchange': 5060, 'exchanged': 5061, 'exchanges': 5062, 'excitation': 5063, 'excite': 5064, 'excited': 5065, 'excited”': 5066, 'excitement': 5067, 'excites': 5068, 'exciting': 5069, 'excluded': 5070, 'exclusion': 5071, 'exclusively': 5072, 'excruciating': 5073, 'excruciatingly': 5074, 'excursion': 5075, 'excuse': 5076, 'excuses': 5077, 'executed': 5078, 'executing': 5079, 'execution': 5080, 'executive': 5081, 'exemplary': 5082, 'exercise': 5083, 'exercised': 5084, 'exercises': 5085, 'exert': 5086, 'exhaling': 5087, 'exhausted': 5088, 'exhaustion': 5089, 'exhibit': 5090, 'exhibition': 5091, 'exhibitions': 5092, 'exhibits': 5093, 'exhilarating': 5094, 'exhilaration': 5095, 'exile': 5096, 'exiled': 5097, 'exist': 5098, 'existed': 5099, 'existence': 5100, 'existential': 5101, 'existing': 5102, 'exists': 5103, 'exist”': 5104, 'exit': 5105, 'exogamy”': 5106, 'exogenous': 5107, 'exoteric': 5108, 'exotic': 5109, 'expand': 5110, 'expandable': 5111, 'expanded': 5112, 'expanding': 5113, 'expands': 5114, 'expansion': 5115, 'expansive': 5116, 'expect': 5117, 'expectancies': 5118, 'expectancy': 5119, 'expectant': 5120, 'expectation': 5121, 'expectations': 5122, 'expected': 5123, 'expecting': 5124, 'expect”': 5125, 'expedition': 5126, 'expenditure': 5127, 'expenditures': 5128, 'expense': 5129, 'expensed': 5130, 'expensive': 5131, 'experience': 5132, 'experienced': 5133, 'experiences': 5134, 'experiencing': 5135, 'experiential': 5136, 'experiment': 5137, 'experimental': 5138, 'experimentally': 5139, 'experimentation': 5140, 'experimented': 5141, 'experimenter': 5142, 'experimenting': 5143, 'experiments': 5144, 'expert': 5145, 'expertise': 5146, 'experts': 5147, 'expiration': 5148, 'explain': 5149, 'explained': 5150, 'explaining': 5151, 'explains': 5152, 'explanation': 5153, 'explanations': 5154, 'explicit': 5155, 'explicitly': 5156, 'exploded': 5157, 'exploding': 5158, 'exploit': 5159, 'exploitation': 5160, 'exploiter': 5161, 'exploration': 5162, 'explorations': 5163, 'explore': 5164, 'explored': 5165, 'explorer': 5166, 'explores': 5167, 'exploring': 5168, 'explosion': 5169, 'explosives': 5170, 'exponentially': 5171, 'export': 5172, 'exported': 5173, 'exporter': 5174, 'exporting': 5175, 'exports': 5176, 'exporttogdp': 5177, 'expose': 5178, 'exposed': 5179, 'exposes': 5180, 'exposing': 5181, 'exposure': 5182, 'exposé': 5183, 'express': 5184, 'expressed': 5185, 'expressing': 5186, 'expression': 5187, 'expressions': 5188, 'expressive': 5189, 'expressway': 5190, 'exrebel': 5191, 'extend': 5192, 'extended': 5193, 'extending': 5194, 'extension': 5195, 'extensions': 5196, 'extent': 5197, 'external': 5198, 'extinct': 5199, 'extinction': 5200, 'extra': 5201, 'extracellular': 5202, 'extract': 5203, 'extraction': 5204, 'extracurricular': 5205, 'extraintelligent”': 5206, 'extraordinarily': 5207, 'extraordinary': 5208, 'extraterrestrial': 5209, 'extreme': 5210, 'extremely': 5211, 'extremes': 5212, 'extremism': 5213, 'extremists': 5214, 'extrude': 5215, 'exxon': 5216, 'eye': 5217, 'eyeball': 5218, 'eyebrows': 5219, 'eyedrop': 5220, 'eyes': 5221, 'eyes”': 5222, 'eyewitnesses': 5223, 'f': 5224, 'faa': 5225, 'faatihah': 5226, 'fab': 5227, 'fabian': 5228, 'fabians': 5229, 'fabric': 5230, 'fabricate': 5231, 'fabricated': 5232, 'fabricating': 5233, 'fabulous': 5234, 'fabulously': 5235, 'face': 5236, 'facebook': 5237, 'facebooks': 5238, 'facebook”': 5239, 'faced': 5240, 'faceless': 5241, 'faces': 5242, 'facetoface': 5243, 'face”': 5244, 'facial': 5245, 'facile': 5246, 'facilitated': 5247, 'facilitator': 5248, 'facilitators': 5249, 'facilities': 5250, 'facility': 5251, 'facing': 5252, 'fact': 5253, 'facto': 5254, 'factor': 5255, 'factories': 5256, 'factors': 5257, 'factory': 5258, 'facts': 5259, 'factual': 5260, 'fact”': 5261, 'faculty': 5262, 'fade': 5263, 'fahrenheit': 5264, 'fail': 5265, 'failed': 5266, 'failing': 5267, 'fails': 5268, 'failure': 5269, 'failures': 5270, 'fainted': 5271, 'faintest': 5272, 'fair': 5273, 'fairies': 5274, 'fairly': 5275, 'fairness': 5276, 'fair”': 5277, 'faith': 5278, 'faithful': 5279, 'faithfully': 5280, 'faiths': 5281, 'fake': 5282, 'fakes': 5283, 'fakirs': 5284, 'falafel': 5285, 'falafel”': 5286, 'falcon': 5287, 'fall': 5288, 'fallacies': 5289, 'fallen': 5290, 'fallibility': 5291, 'fallible': 5292, 'falling': 5293, 'fallon': 5294, 'falls': 5295, 'false': 5296, 'falsified': 5297, 'fame': 5298, 'familar': 5299, 'familiar': 5300, 'families': 5301, 'family': 5302, 'familys': 5303, 'famine': 5304, 'famines': 5305, 'famous': 5306, 'famously': 5307, 'fan': 5308, 'fancier': 5309, 'fancy': 5310, 'fanlike': 5311, 'fanta': 5312, 'fantail': 5313, 'fantasies': 5314, 'fantastic': 5315, 'fantasy': 5316, 'fanzine': 5317, 'fan”': 5318, 'far': 5319, 'faraday': 5320, 'farafina': 5321, 'fare': 5322, 'farfetched': 5323, 'farflung': 5324, 'fark': 5325, 'farm': 5326, 'farmer': 5327, 'farmers': 5328, 'farmersneeds': 5329, 'farms': 5330, 'farreaching': 5331, 'farsi': 5332, 'farther': 5333, 'fascinated': 5334, 'fascinating': 5335, 'fascism': 5336, 'fascist': 5337, 'fashion': 5338, 'fashionable': 5339, 'fast': 5340, 'faster': 5341, 'faster”': 5342, 'fastest': 5343, 'fastestgrowing': 5344, 'fastforward': 5345, 'fastforwarding': 5346, 'fasttrack': 5347, 'fast”': 5348, 'fat': 5349, 'fatal': 5350, 'fatalism': 5351, 'fatalistic': 5352, 'fate': 5353, 'fateful': 5354, 'fates': 5355, 'father': 5356, 'fatherdaughter': 5357, 'fathers': 5358, 'fatigue': 5359, 'fatty': 5360, 'fatwa': 5361, 'favela': 5362, 'favelas': 5363, 'favor': 5364, 'favorable': 5365, 'favorably': 5366, 'favored': 5367, 'favorite': 5368, 'favorites': 5369, 'fe': 5370, 'fear': 5371, 'feared': 5372, 'fearful': 5373, 'fearless': 5374, 'fears': 5375, 'feasibility': 5376, 'feasible': 5377, 'featurelength': 5378, 'features': 5379, 'february': 5380, 'feces': 5381, 'fecundity': 5382, 'fed': 5383, 'federal': 5384, 'federation': 5385, 'federationists': 5386, 'fedex': 5387, 'feed': 5388, 'feedback': 5389, 'feeding': 5390, 'feeds': 5391, 'feel': 5392, 'feeling': 5393, 'feelings': 5394, 'feels': 5395, 'fees': 5396, 'feet': 5397, 'fela': 5398, 'fell': 5399, 'fellow': 5400, 'fellows': 5401, 'felony': 5402, 'felt': 5403, 'felton': 5404, 'female': 5405, 'females': 5406, 'feminine': 5407, 'feminism': 5408, 'feminist': 5409, 'fence': 5410, 'fences': 5411, 'ferdinand': 5412, 'ferment': 5413, 'ferocious': 5414, 'ferrari': 5415, 'ferry': 5416, 'fertility': 5417, 'festival': 5418, 'festivals': 5419, 'fetch': 5420, 'fetched': 5421, 'fever': 5422, 'few': 5423, 'fewer': 5424, 'feynman': 5425, 'feynmans': 5426, 'fiber': 5427, 'fiberglass': 5428, 'fiction': 5429, 'fictional': 5430, 'fide': 5431, 'fides': 5432, 'field': 5433, 'fielded': 5434, 'fielder': 5435, 'fields': 5436, 'fierce': 5437, 'fiercely': 5438, 'fiercest': 5439, 'fifth': 5440, 'fifthlargest': 5441, 'fiftyfive': 5442, 'fig': 5443, 'fight': 5444, 'fighters': 5445, 'fighters”': 5446, 'fightin': 5447, 'fighting': 5448, 'fights': 5449, 'figurative': 5450, 'figure': 5451, 'figured': 5452, 'figureeight': 5453, 'figures': 5454, 'figuring': 5455, 'filament': 5456, 'filaments': 5457, 'file': 5458, 'filed': 5459, 'files': 5460, 'fill': 5461, 'filled': 5462, 'fillers': 5463, 'filler”': 5464, 'filling': 5465, 'fillintheblank': 5466, 'film': 5467, 'filming': 5468, 'filmmakers': 5469, 'films': 5470, 'filter': 5471, 'filtered': 5472, 'filtering': 5473, 'filters': 5474, 'filth': 5475, 'final': 5476, 'finale': 5477, 'finalists': 5478, 'finally': 5479, 'finance': 5480, 'finances': 5481, 'financial': 5482, 'financially': 5483, 'find': 5484, 'finder': 5485, 'finders': 5486, 'finding': 5487, 'findings': 5488, 'finds': 5489, 'fine': 5490, 'finegrain': 5491, 'fines': 5492, 'finest': 5493, 'finetune': 5494, 'fine”': 5495, 'finger': 5496, 'fingers': 5497, 'fingers”': 5498, 'finish': 5499, 'finished': 5500, 'fire': 5501, 'fired': 5502, 'firefighter': 5503, 'firefighters': 5504, 'firemans': 5505, 'fireman”': 5506, 'firemen': 5507, 'fires': 5508, 'firetrucks': 5509, 'firewall': 5510, 'firewalls': 5511, 'firewire': 5512, 'firewood': 5513, 'firework': 5514, 'fire”': 5515, 'fire♫': 5516, 'firing': 5517, 'firm': 5518, 'firmly': 5519, 'firmware': 5520, 'first': 5521, 'firstgeneration': 5522, 'firstgrader': 5523, 'firsthand': 5524, 'firstly': 5525, 'firstphase': 5526, 'first”': 5527, 'fisa': 5528, 'fiscal': 5529, 'fischer': 5530, 'fish': 5531, 'fished': 5532, 'fisheries': 5533, 'fishermans': 5534, 'fishermen': 5535, 'fishes': 5536, 'fishing': 5537, 'fishlike': 5538, 'fishnet': 5539, 'fishstein': 5540, 'fist': 5541, 'fit': 5542, 'fits': 5543, 'fitted': 5544, 'fittest': 5545, 'fitting': 5546, 'fittingly': 5547, 'fitzherbert': 5548, 'five': 5549, 'fivedollar': 5550, 'fivekilometer': 5551, 'fiveyear': 5552, 'fiveyearold': 5553, 'five”': 5554, 'fix': 5555, 'fixated': 5556, 'fixation': 5557, 'fixed': 5558, 'fixes': 5559, 'fixing': 5560, 'flag': 5561, 'flags': 5562, 'flagstaff': 5563, 'flag”': 5564, 'flakes': 5565, 'flames': 5566, 'flaming': 5567, 'flapping': 5568, 'flares': 5569, 'flash': 5570, 'flashbulb': 5571, 'flashes': 5572, 'flashforward': 5573, 'flashing': 5574, 'flashlight': 5575, 'flashlights': 5576, 'flasks': 5577, 'flat': 5578, 'flatten': 5579, 'flattening': 5580, 'flattering': 5581, 'flat”': 5582, 'flea': 5583, 'fled': 5584, 'fledglings': 5585, 'fleece': 5586, 'fleecing': 5587, 'fleeing': 5588, 'fleeting': 5589, 'flee”': 5590, 'flesh': 5591, 'flew': 5592, 'flexagon': 5593, 'flexibility': 5594, 'flexible': 5595, 'flexitime': 5596, 'flickr': 5597, 'flier': 5598, 'fliers': 5599, 'flier”': 5600, 'flies': 5601, 'flight': 5602, 'flights': 5603, 'flighttesting': 5604, 'flintoff': 5605, 'flip': 5606, 'flipped': 5607, 'flipping': 5608, 'flips': 5609, 'flirting': 5610, 'flitting': 5611, 'floating': 5612, 'flock': 5613, 'flocked': 5614, 'floes': 5615, 'flood': 5616, 'flooded': 5617, 'flooding': 5618, 'floods': 5619, 'floor': 5620, 'floors': 5621, 'floppy': 5622, 'flora': 5623, 'florida': 5624, 'flour': 5625, 'flourgrinding': 5626, 'flourish': 5627, 'flourished': 5628, 'flourishing': 5629, 'flourmill': 5630, 'flow': 5631, 'flower': 5632, 'flowering': 5633, 'flowers': 5634, 'flowing': 5635, 'flown': 5636, 'flows': 5637, 'flu': 5638, 'fluctuate': 5639, 'fluctuations': 5640, 'fluently': 5641, 'fluid': 5642, 'fluidly': 5643, 'fluke': 5644, 'fluorescent': 5645, 'flurry': 5646, 'flushing': 5647, 'fluteplaying': 5648, 'fly': 5649, 'flying': 5650, 'flyover': 5651, 'fm': 5652, 'fmri': 5653, 'fn': 5654, 'foam': 5655, 'focus': 5656, 'focused': 5657, 'focusing': 5658, 'foe': 5659, 'fog': 5660, 'foggiest': 5661, 'fold': 5662, 'folded': 5663, 'folder': 5664, 'folding': 5665, 'foldinghome': 5666, 'folds': 5667, 'folic': 5668, 'folk': 5669, 'folks': 5670, 'follow': 5671, 'followed': 5672, 'follower': 5673, 'followers': 5674, 'following': 5675, 'follows': 5676, 'followup': 5677, 'fond': 5678, 'font': 5679, 'food': 5680, 'foodgrade': 5681, 'foods': 5682, 'food”': 5683, 'fool': 5684, 'fooled': 5685, 'fooling': 5686, 'foolish': 5687, 'foot': 5688, 'footage': 5689, 'football': 5690, 'footballers': 5691, 'foothigh': 5692, 'footnote': 5693, 'footprint': 5694, 'foots': 5695, 'footsteps': 5696, 'for': 5697, 'forage': 5698, 'forbidden': 5699, 'forbidding': 5700, 'force': 5701, 'forced': 5702, 'forces': 5703, 'forces”': 5704, 'ford': 5705, 'fore': 5706, 'forefathers': 5707, 'forefront': 5708, 'foregone': 5709, 'foreground': 5710, 'forehead': 5711, 'foreheads': 5712, 'foreign': 5713, 'foreigner': 5714, 'foreigners': 5715, 'forelimb': 5716, 'forelimbs': 5717, 'foreman': 5718, 'foremost': 5719, 'forensics': 5720, 'foresight': 5721, 'forest': 5722, 'forester': 5723, 'forestry': 5724, 'forests': 5725, 'foretold': 5726, 'forever': 5727, 'forged': 5728, 'forget': 5729, 'forgetting': 5730, 'forgive': 5731, 'forgiveness': 5732, 'forgot': 5733, 'forgotten': 5734, 'form': 5735, 'formal': 5736, 'formaldehyde': 5737, 'format': 5738, 'formation': 5739, 'formations': 5740, 'formats': 5741, 'formed': 5742, 'former': 5743, 'formerly': 5744, 'formica': 5745, 'formidable': 5746, 'forming': 5747, 'formless': 5748, 'forms': 5749, 'formula': 5750, 'formulas': 5751, 'formulate': 5752, 'formulated': 5753, 'formulation': 5754, 'formulations': 5755, 'forprofit': 5756, 'forrest': 5757, 'fort': 5758, 'forth': 5759, 'fortran': 5760, 'fortunate': 5761, 'fortunately': 5762, 'fortune': 5763, 'fortunes': 5764, 'forty': 5765, 'forum': 5766, 'forward': 5767, 'forwarded': 5768, 'forwarding': 5769, 'forwardleaning': 5770, 'for”': 5771, 'fossil': 5772, 'fossilized': 5773, 'fossils': 5774, 'foster': 5775, 'fostering': 5776, 'fought': 5777, 'found': 5778, 'foundation': 5779, 'foundational': 5780, 'foundations': 5781, 'founded': 5782, 'founder': 5783, 'founders': 5784, 'four': 5785, 'fourday': 5786, 'fourdimensional': 5787, 'fourfold': 5788, 'foursome”': 5789, 'foursquare': 5790, 'fourstory': 5791, 'fourteen': 5792, 'fourth': 5793, 'fourwheel': 5794, 'fouryear': 5795, 'fouryearold': 5796, 'fouryearolds': 5797, 'fox': 5798, 'foxes”': 5799, 'foxhunting': 5800, 'foyer': 5801, 'fraction': 5802, 'fractional': 5803, 'fractions': 5804, 'fractures': 5805, 'fragile': 5806, 'fragility': 5807, 'fragmented': 5808, 'fragrance': 5809, 'frail': 5810, 'frailty': 5811, 'frame': 5812, 'framed': 5813, 'frames': 5814, 'framework': 5815, 'framing': 5816, 'francaise': 5817, 'france': 5818, 'frances': 5819, 'france”': 5820, 'franchise': 5821, 'franchises': 5822, 'francisco': 5823, 'frank': 5824, 'frankfurt': 5825, 'franklin': 5826, 'frankly': 5827, 'frappuccino': 5828, 'fraternities': 5829, 'freak': 5830, 'freaked': 5831, 'freaking': 5832, 'freckles': 5833, 'free': 5834, 'freedom': 5835, 'freedoms': 5836, 'frees': 5837, 'freeways': 5838, 'freeze': 5839, 'freezing': 5840, 'free”': 5841, 'freight': 5842, 'freighters': 5843, 'french': 5844, 'frequencies': 5845, 'frequency': 5846, 'frequent': 5847, 'frequently': 5848, 'frequentlyoccurring': 5849, 'fresh': 5850, 'freshman': 5851, 'freud': 5852, 'friction': 5853, 'frictionlessly': 5854, 'friday': 5855, 'fridays': 5856, 'friedman': 5857, 'friend': 5858, 'friendly': 5859, 'friends': 5860, 'friendship': 5861, 'friendships': 5862, 'friend”': 5863, 'fries”': 5864, 'frightened': 5865, 'frightening': 5866, 'frightens': 5867, 'frills': 5868, 'fringe': 5869, 'frisbees': 5870, 'fro': 5871, 'frog': 5872, 'froggy': 5873, 'frogs': 5874, 'frog”': 5875, 'from': 5876, 'from”': 5877, 'front': 5878, 'frontal': 5879, 'frontier': 5880, 'frontiers': 5881, 'frosted': 5882, 'froth': 5883, 'frothy': 5884, 'frown': 5885, 'frowning': 5886, 'froze': 5887, 'frozen': 5888, 'frubber': 5889, 'fruit': 5890, 'fruits': 5891, 'frustrated': 5892, 'frustrated”': 5893, 'frustration': 5894, 'frustrations': 5895, 'ft': 5896, 'fu': 5897, 'fucked': 5898, 'fucking': 5899, 'fudge': 5900, 'fuel': 5901, 'fueling': 5902, 'fuels': 5903, 'fulbright': 5904, 'fulfill': 5905, 'fulfilled': 5906, 'fulfilled”': 5907, 'fulfilling': 5908, 'full': 5909, 'fullblown': 5910, 'fullbright': 5911, 'fuller': 5912, 'fullformed': 5913, 'fullness': 5914, 'fullpage': 5915, 'fullsize': 5916, 'fullstop': 5917, 'fulltime': 5918, 'fully': 5919, 'fullyclothed': 5920, 'fumi': 5921, 'fun': 5922, 'function': 5923, 'functional': 5924, 'functioning': 5925, 'functions': 5926, 'functions”': 5927, 'fund': 5928, 'fundamental': 5929, 'fundamentalism': 5930, 'fundamentalists': 5931, 'fundamentally': 5932, 'fundamentals': 5933, 'funded': 5934, 'funding': 5935, 'funds': 5936, 'fund”': 5937, 'funeral': 5938, 'fungus': 5939, 'funneled': 5940, 'funny': 5941, 'fun”': 5942, 'fur': 5943, 'furnace': 5944, 'furniture': 5945, 'furnitures': 5946, 'further': 5947, 'furthermore': 5948, 'furthers': 5949, 'furthest': 5950, 'fury': 5951, 'fuse': 5952, 'fused': 5953, 'future': 5954, 'futures': 5955, 'future”': 5956, 'fuzzy': 5957, 'fu”': 5958, 'f”': 5959, 'g': 5960, 'gabriel': 5961, 'gaddafi': 5962, 'gadget': 5963, 'gadgets': 5964, 'gadget”': 5965, 'gag': 5966, 'gagarin': 5967, 'gagas': 5968, 'gain': 5969, 'gained': 5970, 'gaining': 5971, 'gains': 5972, 'gait': 5973, 'gaitskill': 5974, 'gakuba': 5975, 'galaxies': 5976, 'galaxy': 5977, 'galaxys': 5978, 'galena': 5979, 'galileo': 5980, 'gallery': 5981, 'gallon': 5982, 'gallons': 5983, 'gallop': 5984, 'galvanize': 5985, 'gambia': 5986, 'gamble': 5987, 'gambling': 5988, 'game': 5989, 'gamechanger': 5990, 'gamers': 5991, 'games': 5992, 'game”': 5993, 'gaming': 5994, 'gandhi': 5995, 'gandhiji': 5996, 'gandhis': 5997, 'ganesh': 5998, 'ganesha': 5999, 'ganges': 6000, 'gangraped': 6001, 'gangs': 6002, 'gangstabuckscom': 6003, 'gangsters': 6004, 'ganja': 6005, 'gap': 6006, 'gaping': 6007, 'gapminder': 6008, 'gaps': 6009, 'gap”': 6010, 'garage': 6011, 'garages': 6012, 'garbage': 6013, 'garden': 6014, 'gardens': 6015, 'gardner': 6016, 'gargantuan': 6017, 'garment': 6018, 'garnered': 6019, 'garrett': 6020, 'gartner': 6021, 'gas': 6022, 'gaseous': 6023, 'gasoline': 6024, 'gasp': 6025, 'gasps': 6026, 'gassing': 6027, 'gate': 6028, 'gatekeepers': 6029, 'gates': 6030, 'gateshead': 6031, 'gather': 6032, 'gathered': 6033, 'gatherers': 6034, 'gathering': 6035, 'gathers': 6036, 'gators': 6037, 'gaudence': 6038, 'gaudy': 6039, 'gave': 6040, 'gay': 6041, 'gaza': 6042, 'gaze': 6043, 'gcse': 6044, 'gdp': 6045, 'gdp”': 6046, 'gear': 6047, 'gearing': 6048, 'gears': 6049, 'gecko': 6050, 'gee': 6051, 'geek': 6052, 'geeks': 6053, 'geeky': 6054, 'geese': 6055, 'geet': 6056, 'geez': 6057, 'gehrigs': 6058, 'gehry': 6059, 'geldof': 6060, 'gellmann': 6061, 'gem': 6062, 'gen': 6063, 'gender': 6064, 'gene': 6065, 'genealogies': 6066, 'general': 6067, 'generalists': 6068, 'generalize': 6069, 'generalized': 6070, 'generalizing': 6071, 'generally': 6072, 'generals': 6073, 'generate': 6074, 'generated': 6075, 'generates': 6076, 'generating': 6077, 'generation': 6078, 'generational': 6079, 'generations': 6080, 'generative': 6081, 'generator': 6082, 'generators': 6083, 'generic': 6084, 'generosity': 6085, 'generous': 6086, 'generously': 6087, 'genes': 6088, 'genetic': 6089, 'genetically': 6090, 'genetics': 6091, 'geneva': 6092, 'genevieve': 6093, 'genius': 6094, 'geniuses': 6095, 'genocidal': 6096, 'genocide': 6097, 'genome': 6098, 'genomes': 6099, 'gentle': 6100, 'gentleman': 6101, 'gentlemen': 6102, 'gentleness': 6103, 'gentler': 6104, 'gently': 6105, 'genuine': 6106, 'genuinely': 6107, 'geocodable': 6108, 'geographic': 6109, 'geographically': 6110, 'geographies': 6111, 'geography': 6112, 'geological': 6113, 'geologically': 6114, 'geologists': 6115, 'geology': 6116, 'geometrically': 6117, 'geometry': 6118, 'geopolitics': 6119, 'george': 6120, 'georgia': 6121, 'georgian': 6122, 'georgias': 6123, 'geospatial': 6124, 'geothermal': 6125, 'geriatrician': 6126, 'geriatricians': 6127, 'geriatrics': 6128, 'germ': 6129, 'german': 6130, 'germanic': 6131, 'germany': 6132, 'germs': 6133, 'gerontologists': 6134, 'gerontology': 6135, 'gerrard': 6136, 'gestation': 6137, 'gesture': 6138, 'gestures': 6139, 'get': 6140, 'gets': 6141, 'gettin': 6142, 'getting': 6143, 'gever': 6144, 'geyser': 6145, 'geysers': 6146, 'gg': 6147, 'ghana': 6148, 'ghanaian': 6149, 'ghanas': 6150, 'ghandis': 6151, 'ghastly': 6152, 'ghazni': 6153, 'ghemawat': 6154, 'ghetto': 6155, 'ghoresh': 6156, 'ghost': 6157, 'gi': 6158, 'giacomelli': 6159, 'giant': 6160, 'giants': 6161, 'gibberish': 6162, 'gibraltar': 6163, 'gift': 6164, 'gifted': 6165, 'gifts': 6166, 'gigabytes': 6167, 'gigahertz': 6168, 'gigantic': 6169, 'gigaparsec': 6170, 'gigaton': 6171, 'gigatons': 6172, 'gilbert': 6173, 'giles': 6174, 'gilgit': 6175, 'gilmore': 6176, 'ginger': 6177, 'gingerbread': 6178, 'gingerly”': 6179, 'ginormous': 6180, 'girl': 6181, 'girlfriend': 6182, 'girlfriends': 6183, 'girlie': 6184, 'girls': 6185, 'girls”': 6186, 'girly': 6187, 'girl”': 6188, 'giuliani': 6189, 'giussani': 6190, 'give': 6191, 'giveaways': 6192, 'given': 6193, 'gives': 6194, 'give”': 6195, 'giving': 6196, 'glaciers': 6197, 'glad': 6198, 'glamorous': 6199, 'glass': 6200, 'glasses': 6201, 'glaucoma': 6202, 'gleam': 6203, 'gleams': 6204, 'gleeful': 6205, 'gliders': 6206, 'glimmers': 6207, 'glimpse': 6208, 'glimpses': 6209, 'glitzy': 6210, 'gloating': 6211, 'global': 6212, 'globalization': 6213, 'globalizationrelated': 6214, 'globalized': 6215, 'globally': 6216, 'globallyresonating': 6217, 'globaloney': 6218, 'globe': 6219, 'gloom': 6220, 'gloomy': 6221, 'glorification': 6222, 'glorify': 6223, 'glorifying': 6224, 'glorious': 6225, 'glory': 6226, 'glossy': 6227, 'gloves': 6228, 'glow': 6229, 'glue': 6230, 'glued': 6231, 'gluing': 6232, 'go': 6233, 'goal': 6234, 'goals': 6235, 'goat': 6236, 'goats': 6237, 'gobots': 6238, 'god': 6239, 'goddess': 6240, 'goddesses': 6241, 'godin': 6242, 'gods': 6243, 'gods”': 6244, 'god“': 6245, 'god”': 6246, 'goes': 6247, 'gogh': 6248, 'gogoi': 6249, 'going': 6250, 'gold': 6251, 'golden': 6252, 'goldfarb': 6253, 'goldfish': 6254, 'goldplated': 6255, 'gold”': 6256, 'golf': 6257, 'gollwitzer': 6258, 'gomateshwara': 6259, 'gone': 6260, 'gone”': 6261, 'gonna': 6262, 'gonne': 6263, 'gonorrhea': 6264, 'good': 6265, 'goodlooking': 6266, 'goodness': 6267, 'goodnight': 6268, 'goods': 6269, 'goodwill': 6270, 'good”': 6271, 'goofball': 6272, 'google': 6273, 'googlecom': 6274, 'googled': 6275, 'googling': 6276, 'gopnik': 6277, 'gore': 6278, 'gores': 6279, 'gorgeous': 6280, 'gortaris': 6281, 'gospel': 6282, 'gospels': 6283, 'gossip': 6284, 'gossiped': 6285, 'got': 6286, 'gotham': 6287, 'gotjunk': 6288, 'gotta': 6289, 'gotten': 6290, 'gourmet': 6291, 'govern': 6292, 'governance': 6293, 'governance”': 6294, 'governed': 6295, 'governing': 6296, 'government': 6297, 'governmental': 6298, 'governmentapproved': 6299, 'governments': 6300, 'governor': 6301, 'governors': 6302, 'governorship': 6303, 'governs': 6304, 'govinda': 6305, 'gown': 6306, 'gozaimashita': 6307, 'go”': 6308, 'gps': 6309, 'grab': 6310, 'grabbing': 6311, 'grabs': 6312, 'grace': 6313, 'graceful': 6314, 'gracefully': 6315, 'gracious': 6316, 'grade': 6317, 'graded': 6318, 'graders': 6319, 'grades': 6320, 'grades”': 6321, 'grading': 6322, 'gradual': 6323, 'gradually': 6324, 'graduate': 6325, 'graduated': 6326, 'graduates': 6327, 'graduation': 6328, 'graffiti': 6329, 'grafting': 6330, 'graham': 6331, 'grain': 6332, 'grains': 6333, 'grainy': 6334, 'grameen': 6335, 'grammar': 6336, 'grammatical': 6337, 'grammatically': 6338, 'grams': 6339, 'gran': 6340, 'granada': 6341, 'grand': 6342, 'grandchildren': 6343, 'granddaughter': 6344, 'grander': 6345, 'grandest': 6346, 'grandfather': 6347, 'grandfathers': 6348, 'grandin': 6349, 'grandkid': 6350, 'grandkids': 6351, 'grandma': 6352, 'grandmaverified': 6353, 'grandmother': 6354, 'grandmothers': 6355, 'grandmothers”': 6356, 'grandmother”': 6357, 'grandparents': 6358, 'grandstand': 6359, 'grannies': 6360, 'granny': 6361, 'grant': 6362, 'granted': 6363, 'grants': 6364, 'granular': 6365, 'grape': 6366, 'grapefruitsize': 6367, 'grapes': 6368, 'grapevines': 6369, 'graph': 6370, 'graphic': 6371, 'graphics': 6372, 'graphs': 6373, 'grapple': 6374, 'grappling': 6375, 'grasp': 6376, 'grasps': 6377, 'grass': 6378, 'grasses': 6379, 'grasshopper': 6380, 'grassi': 6381, 'grassroots': 6382, 'grassy': 6383, 'grateful': 6384, 'gratification': 6385, 'gratifying': 6386, 'gratitude': 6387, 'gratuitous': 6388, 'grave': 6389, 'gravity': 6390, 'gravy': 6391, 'gray': 6392, 'grayedout': 6393, 'grazing': 6394, 'great': 6395, 'greater': 6396, 'greatest': 6397, 'greatgrandma': 6398, 'greatgrandparents': 6399, 'greatgreatgrandma': 6400, 'greatly': 6401, 'greatness': 6402, 'great”': 6403, 'greece': 6404, 'greed': 6405, 'greedy': 6406, 'greedy”': 6407, 'greek': 6408, 'greeks': 6409, 'green': 6410, 'greenery': 6411, 'greenhouse': 6412, 'greenlight': 6413, 'greenpeace': 6414, 'greens': 6415, 'greenway': 6416, 'green”': 6417, 'greeted': 6418, 'greetings': 6419, 'greets': 6420, 'grenade': 6421, 'grew': 6422, 'grid': 6423, 'gridlike': 6424, 'gridlock': 6425, 'grid”': 6426, 'grief': 6427, 'grier': 6428, 'griers': 6429, 'grievances': 6430, 'grieve': 6431, 'grind': 6432, 'grinder': 6433, 'grinding': 6434, 'grip': 6435, 'grippers': 6436, 'gripping': 6437, 'grito': 6438, 'grocery': 6439, 'groom': 6440, 'groomed': 6441, 'grooming': 6442, 'grooves': 6443, 'gross': 6444, 'ground': 6445, 'groundbreaking': 6446, 'grounded': 6447, 'grounds': 6448, 'groundwater': 6449, 'ground”': 6450, 'group': 6451, 'groupings': 6452, 'groups': 6453, 'grove': 6454, 'grow': 6455, 'growers': 6456, 'growing': 6457, 'grown': 6458, 'grownup': 6459, 'grownups': 6460, 'grows': 6461, 'growth': 6462, 'grumman': 6463, 'grumpy': 6464, 'grumpy”': 6465, 'gs': 6466, 'gsm': 6467, 'guadalajara': 6468, 'guadalupe': 6469, 'guangdong': 6470, 'guarantee': 6471, 'guaranteed': 6472, 'guarantees': 6473, 'guard': 6474, 'guardian': 6475, 'guardians': 6476, 'guards': 6477, 'gucky': 6478, 'guernsey': 6479, 'guess': 6480, 'guessed': 6481, 'guesses': 6482, 'guessing': 6483, 'guest': 6484, 'guests': 6485, 'guggenheim': 6486, 'guidance': 6487, 'guide': 6488, 'guided': 6489, 'guidelines': 6490, 'guides': 6491, 'guiding': 6492, 'guido': 6493, 'guillaume': 6494, 'guilt': 6495, 'guilty': 6496, 'guinea': 6497, 'guitar': 6498, 'guitars': 6499, 'gulf': 6500, 'gulfstream': 6501, 'gull': 6502, 'gum': 6503, 'gun': 6504, 'gunfire': 6505, 'gung': 6506, 'gunned': 6507, 'guns': 6508, 'gupta': 6509, 'guru': 6510, 'gurus': 6511, 'gut': 6512, 'guts': 6513, 'gutted': 6514, 'guy': 6515, 'guys': 6516, 'gwinnett': 6517, 'gymnosophist': 6518, 'gymnosophists': 6519, 'gym”': 6520, 'gypsum': 6521, 'gyros': 6522, 'haaa': 6523, 'hab': 6524, 'habit': 6525, 'habitable': 6526, 'habitat': 6527, 'habitats': 6528, 'habits': 6529, 'hablo': 6530, 'hack': 6531, 'hacked': 6532, 'hackers': 6533, 'had': 6534, 'hadith': 6535, 'hadnt': 6536, 'hadron': 6537, 'hadya': 6538, 'hague': 6539, 'hail': 6540, 'hair': 6541, 'haiti': 6542, 'haji': 6543, 'half': 6544, 'halfcheetah': 6545, 'halfcuts': 6546, 'halfheartedly': 6547, 'halflight': 6548, 'halfmillion': 6549, 'halfway': 6550, 'halfwhisper': 6551, 'halfwoman': 6552, 'hall': 6553, 'hallucinogenic': 6554, 'hallway': 6555, 'hallways': 6556, 'halt': 6557, 'haltertop': 6558, 'ham': 6559, 'hamas': 6560, 'hamatsa': 6561, 'hamburger': 6562, 'hamburgers': 6563, 'hamlet': 6564, 'hammers': 6565, 'hampered': 6566, 'ham”': 6567, 'han': 6568, 'hancock': 6569, 'hand': 6570, 'handbags': 6571, 'handbook': 6572, 'handcarved': 6573, 'handcraft': 6574, 'handcuffed': 6575, 'handed': 6576, 'handful': 6577, 'handicaps': 6578, 'handing': 6579, 'handle': 6580, 'handled': 6581, 'handlettered': 6582, 'handling': 6583, 'handmedown': 6584, 'handout': 6585, 'handouts': 6586, 'handpaint': 6587, 'hands': 6588, 'handshake': 6589, 'handsome': 6590, 'handson': 6591, 'handtied': 6592, 'handtomouth': 6593, 'handwriting': 6594, 'handwritten': 6595, 'handy': 6596, 'hang': 6597, 'hanger': 6598, 'hangers': 6599, 'hangerson': 6600, 'hanging': 6601, 'hannibal': 6602, 'hanoi': 6603, 'hans': 6604, 'hanson': 6605, 'haphazard': 6606, 'happen': 6607, 'happened': 6608, 'happened”': 6609, 'happening': 6610, 'happening”': 6611, 'happens': 6612, 'happens”': 6613, 'happier': 6614, 'happiness': 6615, 'happiness”': 6616, 'happy': 6617, 'harachaman': 6618, 'harassed': 6619, 'harassment': 6620, 'harbor': 6621, 'hard': 6622, 'hardcore': 6623, 'hardearned': 6624, 'hardedged': 6625, 'harder': 6626, 'hardest': 6627, 'hardheaded': 6628, 'hardin': 6629, 'hardly': 6630, 'hardship': 6631, 'hardtocomeby': 6632, 'hardtoreach': 6633, 'hardtoserve': 6634, 'hardware': 6635, 'hardwired': 6636, 'hardworking': 6637, 'hard”': 6638, 'hari': 6639, 'harlem': 6640, 'harm': 6641, 'harmaline': 6642, 'harmed': 6643, 'harmful': 6644, 'harmine': 6645, 'harmless': 6646, 'harmonious': 6647, 'harmony': 6648, 'harness': 6649, 'harnessed': 6650, 'harnessing': 6651, 'harold': 6652, 'harps': 6653, 'harran': 6654, 'harris': 6655, 'harrowing': 6656, 'harry': 6657, 'harsh': 6658, 'harsha': 6659, 'harshness': 6660, 'harun': 6661, 'harvard': 6662, 'harvest': 6663, 'harvested': 6664, 'harvesting': 6665, 'harvey': 6666, 'has': 6667, 'hashing': 6668, 'hash”': 6669, 'hasnt': 6670, 'hassle': 6671, 'hasten': 6672, 'hat': 6673, 'hatchet': 6674, 'hate': 6675, 'hated': 6676, 'hateful': 6677, 'hates': 6678, 'hating': 6679, 'hatred': 6680, 'hats': 6681, 'haul': 6682, 'hauler': 6683, 'haunting': 6684, 'havana': 6685, 'have': 6686, 'havent': 6687, 'have”': 6688, 'having': 6689, 'hawken': 6690, 'hawking': 6691, 'hawkmoth': 6692, 'hay': 6693, 'hazards': 6694, 'hazel': 6695, 'hazy': 6696, 'hb': 6697, 'he': 6698, 'head': 6699, 'headaches': 6700, 'headed': 6701, 'header': 6702, 'headfirst': 6703, 'heading': 6704, 'headline': 6705, 'headlines': 6706, 'headmounted': 6707, 'headphones': 6708, 'headquarters': 6709, 'heads': 6710, 'headshake': 6711, 'headway': 6712, 'heal': 6713, 'healed': 6714, 'healing': 6715, 'health': 6716, 'healthcare': 6717, 'healthier': 6718, 'healthiest': 6719, 'healthy': 6720, 'heap': 6721, 'heaped': 6722, 'hear': 6723, 'heard': 6724, 'hearing': 6725, 'hearings': 6726, 'hears': 6727, 'heart': 6728, 'heartbeat': 6729, 'heartbreak': 6730, 'heartbreaker”': 6731, 'heartbreaking': 6732, 'hearts': 6733, 'hearttoheart': 6734, 'heat': 6735, 'heated': 6736, 'heating': 6737, 'heats': 6738, 'heaven': 6739, 'heavens': 6740, 'heavier': 6741, 'heavily': 6742, 'heavy': 6743, 'hebrew': 6744, 'hebron': 6745, 'hed': 6746, 'hedge': 6747, 'hedged': 6748, 'heel': 6749, 'heels': 6750, 'hegemonous': 6751, 'heidegger': 6752, 'height': 6753, 'heights': 6754, 'heirloom': 6755, 'held': 6756, 'held”': 6757, 'helen': 6758, 'helianthemum': 6759, 'helicodiceros': 6760, 'helicopter': 6761, 'helicopters': 6762, 'helium': 6763, 'hell': 6764, 'hellhole': 6765, 'hello': 6766, 'helmand': 6767, 'helmet': 6768, 'help': 6769, 'helped': 6770, 'helpful': 6771, 'helping': 6772, 'helpless': 6773, 'helplessness': 6774, 'helps': 6775, 'help”': 6776, 'hemangioblastoma': 6777, 'hemisphere': 6778, 'hemoglobin': 6779, 'hemorrhage': 6780, 'hence': 6781, 'henfrey': 6782, 'henry': 6783, 'heppel': 6784, 'her': 6785, 'herbal': 6786, 'herbavate': 6787, 'herbie': 6788, 'herbs': 6789, 'herder': 6790, 'here': 6791, 'heres': 6792, 'heresy': 6793, 'here”': 6794, 'heritages': 6795, 'hermetic': 6796, 'hernando': 6797, 'hero': 6798, 'heroes': 6799, 'heroes”': 6800, 'heroic': 6801, 'heroin': 6802, 'heroine': 6803, 'heroism': 6804, 'heros': 6805, 'herring': 6806, 'herrings': 6807, 'hers': 6808, 'herself': 6809, 'her”': 6810, 'hes': 6811, 'hesitate': 6812, 'hetain': 6813, 'heterosexual': 6814, 'heuristic': 6815, 'hex': 6816, 'hexagon': 6817, 'hexapod': 6818, 'hey': 6819, 'hg': 6820, 'hh': 6821, 'hi': 6822, 'hidden': 6823, 'hide': 6824, 'hideous': 6825, 'hides': 6826, 'hiding': 6827, 'hierarchical': 6828, 'hierarchies': 6829, 'hierarchy': 6830, 'hieroglyphics': 6831, 'hieronymus': 6832, 'high': 6833, 'highbosomed': 6834, 'highend': 6835, 'highenergy': 6836, 'higher': 6837, 'higherend': 6838, 'higherfunctioning': 6839, 'higherspeed': 6840, 'highest': 6841, 'highestperformance': 6842, 'highestrated': 6843, 'highincome': 6844, 'highlands': 6845, 'highlighter': 6846, 'highline': 6847, 'highly': 6848, 'highness': 6849, 'highpowered': 6850, 'highpressure': 6851, 'highquality': 6852, 'highresolution': 6853, 'highs': 6854, 'hightech': 6855, 'highway': 6856, 'highways': 6857, 'hijab': 6858, 'hijabs': 6859, 'hijack': 6860, 'hiking': 6861, 'hill': 6862, 'hillary': 6863, 'hillel': 6864, 'hills': 6865, 'him': 6866, 'himalaya': 6867, 'himalayas': 6868, 'himself': 6869, 'him”': 6870, 'hind': 6871, 'hindered': 6872, 'hindi': 6873, 'hindrance': 6874, 'hindu': 6875, 'hinduism': 6876, 'hindus': 6877, 'hindu”': 6878, 'hint': 6879, 'hinterland': 6880, 'hints': 6881, 'hip': 6882, 'hiphop': 6883, 'hippocampi': 6884, 'hippocampus': 6885, 'hippocrates': 6886, 'hippocratic': 6887, 'hips': 6888, 'hips”': 6889, 'hire': 6890, 'hired': 6891, 'hiring': 6892, 'his': 6893, 'historian': 6894, 'historians': 6895, 'historic': 6896, 'historical': 6897, 'historically': 6898, 'histories': 6899, 'history': 6900, 'hit': 6901, 'hitchhiking': 6902, 'hitech': 6903, 'hitler': 6904, 'hits': 6905, 'hitting': 6906, 'hittingitoutofthebox': 6907, 'hiv': 6908, 'hivaids': 6909, 'hmm': 6910, 'hmmhmm': 6911, 'hmo': 6912, 'hn': 6913, 'ho': 6914, 'hobby': 6915, 'hobbyists': 6916, 'hodgman': 6917, 'hoist': 6918, 'hoisted': 6919, 'hold': 6920, 'holding': 6921, 'holds': 6922, 'hole': 6923, 'holes': 6924, 'holiday': 6925, 'holidays': 6926, 'holidays”': 6927, 'holiness': 6928, 'hollowed': 6929, 'hollowing': 6930, 'hollywood': 6931, 'holocaust': 6932, 'hologram': 6933, 'holy': 6934, 'homage': 6935, 'home': 6936, 'homebiased': 6937, 'homebrewed': 6938, 'homegrown': 6939, 'homeland': 6940, 'homelands': 6941, 'homeless': 6942, 'homemaker': 6943, 'homeowner': 6944, 'homeowners': 6945, 'homer': 6946, 'homers': 6947, 'homes': 6948, 'homesick': 6949, 'homework': 6950, 'home”': 6951, 'homo': 6952, 'homophobia': 6953, 'homosexual': 6954, 'hone': 6955, 'honest': 6956, 'honestly': 6957, 'honesty': 6958, 'honey': 6959, 'honey”': 6960, 'hong': 6961, 'honk': 6962, 'honking': 6963, 'honolulu': 6964, 'honor': 6965, 'honorable': 6966, 'honored': 6967, 'honors': 6968, 'hood': 6969, 'hooey”': 6970, 'hook': 6971, 'hooked': 6972, 'hoop': 6973, 'hop': 6974, 'hope': 6975, 'hopeful': 6976, 'hopefully': 6977, 'hopeless': 6978, 'hopelessly': 6979, 'hopelessness': 6980, 'hopes': 6981, 'hope”': 6982, 'hoping': 6983, 'horizon': 6984, 'horizons': 6985, 'horizontal': 6986, 'hormone': 6987, 'hormones': 6988, 'horn': 6989, 'horoscope': 6990, 'horoscopes': 6991, 'horrible': 6992, 'horribletasting': 6993, 'horribly': 6994, 'horrific': 6995, 'horrified': 6996, 'horrifies': 6997, 'horrifying': 6998, 'horror': 6999, 'horrors': 7000, 'horse': 7001, 'horseback': 7002, 'horsepower': 7003, 'horses': 7004, 'hose': 7005, 'hosni': 7006, 'hospice': 7007, 'hospitable': 7008, 'hospital': 7009, 'hospitalacquired': 7010, 'hospitality': 7011, 'hospitalization': 7012, 'hospitals': 7013, 'hospitals”': 7014, 'host': 7015, 'hostage': 7016, 'hosted': 7017, 'hostile': 7018, 'hostility': 7019, 'hosting': 7020, 'hosts': 7021, 'hot': 7022, 'hotbeds': 7023, 'hotbutton': 7024, 'hotdogs': 7025, 'hotel': 7026, 'hotels': 7027, 'hotrods': 7028, 'hour': 7029, 'houris': 7030, 'hours': 7031, 'hourslong': 7032, 'house': 7033, 'houseboat': 7034, 'household': 7035, 'households': 7036, 'housekeeping': 7037, 'houses': 7038, 'houses”': 7039, 'housewives': 7040, 'house”': 7041, 'housing': 7042, 'houston': 7043, 'hovering': 7044, 'hovers': 7045, 'how': 7046, 'howard': 7047, 'howd': 7048, 'however': 7049, 'howre': 7050, 'howto': 7051, 'how”': 7052, 'hp': 7053, 'hsbc': 7054, 'hub': 7055, 'hubandspoke': 7056, 'hubble': 7057, 'hubcap': 7058, 'hubcaps': 7059, 'hubris': 7060, 'hudson': 7061, 'hue': 7062, 'hug': 7063, 'huge': 7064, 'hugely': 7065, 'huggable': 7066, 'hugged': 7067, 'hugging': 7068, 'hugs': 7069, 'huh': 7070, 'human': 7071, 'humanbuilt': 7072, 'humanhearted': 7073, 'humanistic': 7074, 'humanitarian': 7075, 'humanity': 7076, 'humanitys': 7077, 'humanity”': 7078, 'humanize': 7079, 'humanizing': 7080, 'humanness': 7081, 'humanoid': 7082, 'humanreadable': 7083, 'humans': 7084, 'humble': 7085, 'humbled': 7086, 'humbling': 7087, 'humiliated': 7088, 'humiliating': 7089, 'humiliation': 7090, 'humility': 7091, 'humming': 7092, 'hummingbird': 7093, 'hummus': 7094, 'humor': 7095, 'humorous': 7096, 'hump': 7097, 'humpback': 7098, 'humphrey': 7099, 'hunch': 7100, 'hundred': 7101, 'hundreds': 7102, 'hungarian': 7103, 'hungary': 7104, 'hunger': 7105, 'hungry': 7106, 'hunt': 7107, 'hunted': 7108, 'hunters': 7109, 'hunting': 7110, 'hunts': 7111, 'hurdles': 7112, 'hurricane': 7113, 'hurricanes': 7114, 'hurry': 7115, 'hurt': 7116, 'hurtling': 7117, 'hurts': 7118, 'husband': 7119, 'husbands': 7120, 'husband”': 7121, 'husk': 7122, 'hussein': 7123, 'hustling': 7124, 'hut': 7125, 'huts': 7126, 'huxwhukw': 7127, 'huygens': 7128, 'huygenss': 7129, 'hyacinth': 7130, 'hybrid': 7131, 'hybrids': 7132, 'hyderabad': 7133, 'hydra': 7134, 'hydrant': 7135, 'hydrants': 7136, 'hydras': 7137, 'hydrass': 7138, 'hydrogen': 7139, 'hygiene': 7140, 'hype': 7141, 'hyper': 7142, 'hyperactivity': 7143, 'hyperbole': 7144, 'hyperconnected': 7145, 'hyperdense': 7146, 'hyperexploit': 7147, 'hyperlinks': 7148, 'hypermobile': 7149, 'hypertension': 7150, 'hypnotic': 7151, 'hypnotized': 7152, 'hypocrisy': 7153, 'hypomania': 7154, 'hypomanic': 7155, 'hypotenuse': 7156, 'hypotheses': 7157, 'hypothesis': 7158, 'hypothesisgenerating': 7159, 'hypothetical': 7160, 'i': 7161, 'ibm': 7162, 'ice': 7163, 'iceberg': 7164, 'icebergs': 7165, 'iced': 7166, 'icon': 7167, 'iconic': 7168, 'iconography': 7169, 'icons': 7170, 'icosahedron': 7171, 'icyball': 7172, 'id': 7173, 'ide': 7174, 'idea': 7175, 'ideal': 7176, 'ideally': 7177, 'ideals': 7178, 'ideas': 7179, 'ideas”': 7180, 'idea”': 7181, 'identical': 7182, 'identifiable': 7183, 'identification': 7184, 'identified': 7185, 'identify': 7186, 'identifying': 7187, 'identities': 7188, 'identity': 7189, 'ideo': 7190, 'ideological': 7191, 'ideology': 7192, 'ides': 7193, 'idi': 7194, 'idiosyncrasies': 7195, 'idiosyncratic': 7196, 'idiot': 7197, 'idiots': 7198, 'idol': 7199, 'idolatry': 7200, 'idolize': 7201, 'idp': 7202, 'idyllic': 7203, 'if': 7204, 'ifidienet': 7205, 'igbo': 7206, 'igloo': 7207, 'ignant': 7208, 'ignite': 7209, 'ignorance': 7210, 'ignorant': 7211, 'ignore': 7212, 'ignored': 7213, 'ignores': 7214, 'ignoring': 7215, 'ii': 7216, 'iib': 7217, 'iims': 7218, 'iits': 7219, 'ijo': 7220, 'ikea': 7221, 'ill': 7222, 'illegal': 7223, 'illegible': 7224, 'illiteracy': 7225, 'illiterate': 7226, 'illiterates': 7227, 'illness': 7228, 'illnesses': 7229, 'illogical': 7230, 'illuminate': 7231, 'illusion': 7232, 'illusionist': 7233, 'illusions': 7234, 'illustrate': 7235, 'illustrated': 7236, 'illustrates': 7237, 'illustration': 7238, 'illustrations': 7239, 'im': 7240, 'image': 7241, 'imagery': 7242, 'images': 7243, 'imaginable': 7244, 'imaginary': 7245, 'imagination': 7246, 'imaginative': 7247, 'imaginatively': 7248, 'imagine': 7249, 'imagined': 7250, 'imaging': 7251, 'imams': 7252, 'iman': 7253, 'imbibe': 7254, 'imbibing': 7255, 'imf': 7256, 'imitate': 7257, 'imitated': 7258, 'imitating': 7259, 'imitation': 7260, 'imitators': 7261, 'immediacy': 7262, 'immediate': 7263, 'immediately': 7264, 'immense': 7265, 'immensely': 7266, 'immerse': 7267, 'immersed': 7268, 'immersing': 7269, 'immersive': 7270, 'immigrant': 7271, 'immigrants': 7272, 'immigration': 7273, 'imminent': 7274, 'immoral': 7275, 'immortal': 7276, 'immortality': 7277, 'immune': 7278, 'immunity': 7279, 'immunizations': 7280, 'impact': 7281, 'impacts': 7282, 'impact”': 7283, 'impaired': 7284, 'impairments': 7285, 'impass': 7286, 'impatient': 7287, 'impeach': 7288, 'impeached': 7289, 'impeccable': 7290, 'impediment': 7291, 'imperative': 7292, 'imperatives': 7293, 'imperfect': 7294, 'imperfections': 7295, 'imperial': 7296, 'imperialism': 7297, 'imperialist': 7298, 'imperialists': 7299, 'impious': 7300, 'implant': 7301, 'implement': 7302, 'implementation': 7303, 'implemented': 7304, 'implementing': 7305, 'implication': 7306, 'implications': 7307, 'implicit': 7308, 'implicitly': 7309, 'implies': 7310, 'imply': 7311, 'impolitely': 7312, 'import': 7313, 'importance': 7314, 'important': 7315, 'importantly': 7316, 'impossibility': 7317, 'impossible': 7318, 'impossible”': 7319, 'impotence': 7320, 'impotent': 7321, 'impoverishing': 7322, 'impregnate': 7323, 'impress': 7324, 'impressed': 7325, 'impression': 7326, 'impressionable': 7327, 'impressive': 7328, 'imprinted': 7329, 'imprisoned': 7330, 'imprisoning': 7331, 'improper': 7332, 'improve': 7333, 'improved': 7334, 'improvement': 7335, 'improvements': 7336, 'improves': 7337, 'improving': 7338, 'improvised': 7339, 'impulse': 7340, 'impulses': 7341, 'impulses”': 7342, 'impunity': 7343, 'imu': 7344, 'in': 7345, 'inability': 7346, 'inaccessible': 7347, 'inaction': 7348, 'inadequacy': 7349, 'inadequate': 7350, 'inadvertently': 7351, 'inanimate': 7352, 'inappropriate': 7353, 'inaugurate': 7354, 'inauguration': 7355, 'inbox': 7356, 'inca': 7357, 'incantatory': 7358, 'incarcerated': 7359, 'incense': 7360, 'incent': 7361, 'incentive': 7362, 'incentives': 7363, 'incessant': 7364, 'inch': 7365, 'inches': 7366, 'inching': 7367, 'incident': 7368, 'incidentally': 7369, 'incidents': 7370, 'incites': 7371, 'incline': 7372, 'inclined': 7373, 'incline”': 7374, 'include': 7375, 'included': 7376, 'includes': 7377, 'including': 7378, 'inclusiveness': 7379, 'income': 7380, 'incomes': 7381, 'incoming': 7382, 'incompatible': 7383, 'incompetent': 7384, 'incomplete': 7385, 'incomprehensible': 7386, 'inconceivable': 7387, 'inconvenient': 7388, 'incorporate': 7389, 'incorporating': 7390, 'incorrectly': 7391, 'increase': 7392, 'increased': 7393, 'increases': 7394, 'increase”': 7395, 'increasing': 7396, 'increasingly': 7397, 'incredible': 7398, 'incredibles”': 7399, 'incredibly': 7400, 'incremental': 7401, 'incrowd': 7402, 'incubation': 7403, 'incubators': 7404, 'inculturated': 7405, 'incurring': 7406, 'incursion': 7407, 'incursions': 7408, 'indebt': 7409, 'indeed': 7410, 'indefatigable': 7411, 'indefinite': 7412, 'indefinitely': 7413, 'independence': 7414, 'independent': 7415, 'independently': 7416, 'index': 7417, 'india': 7418, 'indian': 7419, 'indianness': 7420, 'indians': 7421, 'indiapakistan': 7422, 'indias': 7423, 'india”': 7424, 'indicate': 7425, 'indicated': 7426, 'indicating': 7427, 'indication': 7428, 'indications': 7429, 'indicator': 7430, 'indicators': 7431, 'indies': 7432, 'indifference': 7433, 'indifferent': 7434, 'indigenous': 7435, 'indigo': 7436, 'indira': 7437, 'indirectly': 7438, 'indiscriminate': 7439, 'indiscriminately': 7440, 'individual': 7441, 'individualist': 7442, 'individualistic': 7443, 'individuality': 7444, 'individualized': 7445, 'individually': 7446, 'individuals': 7447, 'indoctrination': 7448, 'indoeuropean': 7449, 'indonesia': 7450, 'indonesian': 7451, 'indonesias': 7452, 'indoor': 7453, 'indoorflying': 7454, 'indoors': 7455, 'indra': 7456, 'induce': 7457, 'induced': 7458, 'inducer': 7459, 'inducing': 7460, 'inducted': 7461, 'indus': 7462, 'industrial': 7463, 'industrialization': 7464, 'industrialized': 7465, 'industries': 7466, 'industry': 7467, 'ineffective': 7468, 'inefficiency': 7469, 'inefficient': 7470, 'inequalities': 7471, 'inequality': 7472, 'inertia': 7473, 'inevitability': 7474, 'inevitable': 7475, 'inevitably': 7476, 'inexorable': 7477, 'inexpensive': 7478, 'infamous': 7479, 'infant': 7480, 'infatuation': 7481, 'infect': 7482, 'infected': 7483, 'infecting': 7484, 'infection': 7485, 'infections': 7486, 'infects': 7487, 'inferior': 7488, 'inferred': 7489, 'inferring': 7490, 'infill': 7491, 'infiltrating': 7492, 'infinite': 7493, 'infinitely': 7494, 'infinity': 7495, 'inflate': 7496, 'inflation': 7497, 'inflection': 7498, 'inflexible': 7499, 'influence': 7500, 'influenced': 7501, 'influences': 7502, 'influential': 7503, 'infographics': 7504, 'inform': 7505, 'information': 7506, 'informational': 7507, 'information”': 7508, 'informed': 7509, 'infrastructural': 7510, 'infrastructure': 7511, 'infrastructures': 7512, 'infrequently': 7513, 'infringement': 7514, 'infringing': 7515, 'ingenious': 7516, 'ingenuity': 7517, 'ingles': 7518, 'ingratiated': 7519, 'ingratiating': 7520, 'ingredient': 7521, 'ingredients': 7522, 'inhabitants': 7523, 'inherent': 7524, 'inherently': 7525, 'inherit': 7526, 'inherited': 7527, 'inhibit': 7528, 'inhibition': 7529, 'inhibitors': 7530, 'inhibitory': 7531, 'initial': 7532, 'initially': 7533, 'initiated': 7534, 'initiating': 7535, 'initiation': 7536, 'initiative': 7537, 'initiatives': 7538, 'injecting': 7539, 'injection': 7540, 'injured': 7541, 'injustice': 7542, 'injustices': 7543, 'ink': 7544, 'inker': 7545, 'inkjet': 7546, 'inkling': 7547, 'inks': 7548, 'innate': 7549, 'innately': 7550, 'inner': 7551, 'innocent': 7552, 'innocuous': 7553, 'innovate': 7554, 'innovates': 7555, 'innovating': 7556, 'innovation': 7557, 'innovations': 7558, 'innovative': 7559, 'innovator': 7560, 'innovators': 7561, 'innumeracy': 7562, 'inosculate': 7563, 'input': 7564, 'inputoutput': 7565, 'inputs': 7566, 'inquire': 7567, 'inquisitive': 7568, 'insane': 7569, 'insect': 7570, 'insecticide': 7571, 'insects': 7572, 'insecure': 7573, 'insecurities': 7574, 'insecurity': 7575, 'insensitive': 7576, 'insert': 7577, 'inside': 7578, 'insideoutprojectnet': 7579, 'insiders': 7580, 'inside”': 7581, 'insidium': 7582, 'insight': 7583, 'insights': 7584, 'insight”': 7585, 'insignia': 7586, 'insignificant': 7587, 'insist': 7588, 'insisted': 7589, 'insisting': 7590, 'insists': 7591, 'insofar': 7592, 'inspiration': 7593, 'inspirational': 7594, 'inspirations': 7595, 'inspire': 7596, 'inspired': 7597, 'inspires': 7598, 'inspiring': 7599, 'install': 7600, 'installation': 7601, 'installations': 7602, 'installed': 7603, 'instamatic': 7604, 'instance': 7605, 'instances': 7606, 'instant': 7607, 'instantaneous': 7608, 'instantaneously': 7609, 'instantly': 7610, 'instead': 7611, 'instill': 7612, 'instinct': 7613, 'instinctive': 7614, 'instinctively': 7615, 'institute': 7616, 'institutes': 7617, 'institution': 7618, 'institutional': 7619, 'institutions': 7620, 'instructed': 7621, 'instruction': 7622, 'instructional': 7623, 'instructions': 7624, 'instrument': 7625, 'instrumental': 7626, 'instrumentation': 7627, 'instruments': 7628, 'insula': 7629, 'insulation': 7630, 'insult': 7631, 'insurance': 7632, 'insure': 7633, 'insurgencies': 7634, 'insurgency': 7635, 'insurgents': 7636, 'intact': 7637, 'intake': 7638, 'integral': 7639, 'integrals': 7640, 'integrate': 7641, 'integrated': 7642, 'integrating': 7643, 'integration': 7644, 'integrity': 7645, 'intellect': 7646, 'intellectual': 7647, 'intellectuals': 7648, 'intelligence': 7649, 'intelligences': 7650, 'intelligent': 7651, 'intelligentsia': 7652, 'intend': 7653, 'intended': 7654, 'intending': 7655, 'intense': 7656, 'intensely': 7657, 'intensity': 7658, 'intensive': 7659, 'intention': 7660, 'intentional': 7661, 'intentions': 7662, 'intently': 7663, 'interact': 7664, 'interacted': 7665, 'interacting': 7666, 'interaction': 7667, 'interactions': 7668, 'interactive': 7669, 'interactively': 7670, 'interacts': 7671, 'interconnected': 7672, 'interconnectedness': 7673, 'interconnection': 7674, 'interconnections': 7675, 'intercultural': 7676, 'interdependence': 7677, 'interdependencies': 7678, 'interest': 7679, 'interested': 7680, 'interesting': 7681, 'interestingly': 7682, 'interesting”': 7683, 'interests': 7684, 'interface': 7685, 'interfaces': 7686, 'interfacing': 7687, 'interference': 7688, 'intergalactic': 7689, 'interior': 7690, 'interludes': 7691, 'intermarriage': 7692, 'intermediate': 7693, 'intermittent': 7694, 'intern': 7695, 'internal': 7696, 'internally': 7697, 'international': 7698, 'internationalization': 7699, 'internationally': 7700, 'internationals': 7701, 'internet': 7702, 'interning': 7703, 'internships': 7704, 'interplanetary': 7705, 'interpol': 7706, 'interpret': 7707, 'interpretation': 7708, 'interpretation”': 7709, 'interprets': 7710, 'interrogate': 7711, 'interrogating': 7712, 'interrupted': 7713, 'interrupts': 7714, 'intersect': 7715, 'intersection': 7716, 'intersections': 7717, 'intersnet': 7718, 'interstate': 7719, 'interstellar': 7720, 'intertwined': 7721, 'interval': 7722, 'intervene': 7723, 'intervening': 7724, 'intervention': 7725, 'interventions': 7726, 'interview': 7727, 'interviewed': 7728, 'interviewer': 7729, 'interviewers': 7730, 'interviewing': 7731, 'interviews': 7732, 'intestine': 7733, 'intimacy': 7734, 'intimate': 7735, 'intimately': 7736, 'intimidate': 7737, 'intimidated': 7738, 'intimidating': 7739, 'into': 7740, 'intolerance': 7741, 'intractable': 7742, 'intraocular': 7743, 'intrepid': 7744, 'intricate': 7745, 'intrigue': 7746, 'intrigued': 7747, 'intriguing': 7748, 'intrinsically': 7749, 'introduce': 7750, 'introduced': 7751, 'introducing': 7752, 'introduction': 7753, 'introspection': 7754, 'introverted': 7755, 'intruders': 7756, 'intuition': 7757, 'intuitions': 7758, 'intuitive': 7759, 'intuitively': 7760, 'intuitiveness': 7761, 'inuit': 7762, 'invade': 7763, 'invaded': 7764, 'invaluable': 7765, 'invariably': 7766, 'invasion': 7767, 'invasions': 7768, 'invent': 7769, 'invented': 7770, 'inventing': 7771, 'invention': 7772, 'inventions': 7773, 'inventor': 7774, 'inventors': 7775, 'inversely': 7776, 'inversion': 7777, 'invest': 7778, 'invested': 7779, 'investigate': 7780, 'investigated': 7781, 'investigating': 7782, 'investigation': 7783, 'investigator': 7784, 'investing': 7785, 'investment': 7786, 'investments': 7787, 'investor': 7788, 'investors': 7789, 'invigorated': 7790, 'invisibility': 7791, 'invisible': 7792, 'invitation': 7793, 'invitations': 7794, 'invite': 7795, 'invited': 7796, 'invites': 7797, 'inviting': 7798, 'invitromeat': 7799, 'invoice': 7800, 'invoke': 7801, 'invoked': 7802, 'involve': 7803, 'involved': 7804, 'involvement': 7805, 'involves': 7806, 'involving': 7807, 'inward': 7808, 'in”': 7809, 'ion': 7810, 'ip': 7811, 'ipad': 7812, 'ipcc': 7813, 'iphone': 7814, 'iphones': 7815, 'ipl': 7816, 'ipod': 7817, 'iq': 7818, 'iqbal': 7819, 'ira': 7820, 'iran': 7821, 'iranian': 7822, 'iranians': 7823, 'irans': 7824, 'iraq': 7825, 'iraqi': 7826, 'iraqis': 7827, 'iravatham': 7828, 'ireland': 7829, 'irim': 7830, 'irked': 7831, 'iron': 7832, 'ironclad': 7833, 'ironed': 7834, 'ironic': 7835, 'ironically': 7836, 'irony': 7837, 'irrational': 7838, 'irregular': 7839, 'irrelevant': 7840, 'irrelevant”': 7841, 'irrespective': 7842, 'irresponsibility': 7843, 'irresponsible': 7844, 'irreverent': 7845, 'irreversible': 7846, 'irrigate': 7847, 'irrigation': 7848, 'irritable': 7849, 'irritated': 7850, 'irritation': 7851, 'is': 7852, 'isaac': 7853, 'isiah': 7854, 'islam': 7855, 'islamic': 7856, 'islamicized': 7857, 'islamist': 7858, 'islamophobes': 7859, 'islams': 7860, 'island': 7861, 'islands': 7862, 'isnt': 7863, 'isolated': 7864, 'isolation': 7865, 'isone': 7866, 'isosceles': 7867, 'israel': 7868, 'israeli': 7869, 'israelis': 7870, 'israelpalestine': 7871, 'israels': 7872, 'issue': 7873, 'issued': 7874, 'issues': 7875, 'isthri': 7876, 'is“': 7877, 'is”': 7878, 'it': 7879, 'italian': 7880, 'italy': 7881, 'item': 7882, 'items': 7883, 'iteration': 7884, 'itll': 7885, 'its': 7886, 'itself': 7887, 'itself”': 7888, 'itself”“how': 7889, 'ittybitty': 7890, 'it“': 7891, 'it”': 7892, 'iv': 7893, 'ive': 7894, 'ivory': 7895, 'ivy': 7896, 'i”': 7897, 'j': 7898, 'jabbar': 7899, 'jack': 7900, 'jacket': 7901, 'jackie': 7902, 'jackson': 7903, 'jacqueline': 7904, 'jaggery': 7905, 'jaguar': 7906, 'jahangir': 7907, 'jaigarh': 7908, 'jail': 7909, 'jain': 7910, 'jaipur': 7911, 'jaisalmer': 7912, 'jaleel': 7913, 'jam': 7914, 'jamaica': 7915, 'james': 7916, 'jami': 7917, 'jamie': 7918, 'jamii': 7919, 'jamison': 7920, 'jamming': 7921, 'jams': 7922, 'jane': 7923, 'janeiro': 7924, 'janes': 7925, 'jangling': 7926, 'janitors': 7927, 'january': 7928, 'japan': 7929, 'japanese': 7930, 'jar': 7931, 'jargon': 7932, 'jarring': 7933, 'jarshaped': 7934, 'jason': 7935, 'jaws': 7936, 'jay': 7937, 'jayz': 7938, 'jazz': 7939, 'jealous': 7940, 'jealously': 7941, 'jealousy': 7942, 'jean': 7943, 'jeans': 7944, 'jeep': 7945, 'jeevan': 7946, 'jeeves': 7947, 'jeff': 7948, 'jeffrey': 7949, 'jellyfish': 7950, 'jennifer': 7951, 'jeopardy': 7952, 'jeremy': 7953, 'jerk': 7954, 'jerky': 7955, 'jerome': 7956, 'jerusalem': 7957, 'jessi': 7958, 'jesus': 7959, 'jesus”': 7960, 'jet': 7961, 'jets': 7962, 'jew': 7963, 'jewelry': 7964, 'jewish': 7965, 'jews': 7966, 'jharkhand': 7967, 'jhunjhunu': 7968, 'jig': 7969, 'jill': 7970, 'jim': 7971, 'jimmy': 7972, 'jingling': 7973, 'jitish': 7974, 'joan': 7975, 'job': 7976, 'jobs': 7977, 'job”': 7978, 'jockeying': 7979, 'joes': 7980, 'joggers': 7981, 'jogging': 7982, 'john': 7983, 'johnny': 7984, 'johns': 7985, 'join': 7986, 'joined': 7987, 'joining': 7988, 'joins': 7989, 'joint': 7990, 'joints': 7991, 'jointstock': 7992, 'joke': 7993, 'jokes': 7994, 'jokhim': 7995, 'jolted': 7996, 'jolts': 7997, 'jones': 7998, 'jordan': 7999, 'jorel': 8000, 'jose': 8001, 'joseph': 8002, 'josh': 8003, 'joshua': 8004, 'journal': 8005, 'journalism': 8006, 'journalist': 8007, 'journalists': 8008, 'journals': 8009, 'journey': 8010, 'journeys': 8011, 'joy': 8012, 'joyful': 8013, 'joyous': 8014, 'joyrides': 8015, 'joys': 8016, 'jpl': 8017, 'jr': 8018, 'jschool': 8019, 'juans': 8020, 'juarez': 8021, 'judaism': 8022, 'judge': 8023, 'judged': 8024, 'judgement': 8025, 'judges': 8026, 'judgment': 8027, 'judiciary': 8028, 'jug': 8029, 'jugaad': 8030, 'jugaad”': 8031, 'juggler': 8032, 'juice': 8033, 'juicy': 8034, 'julián': 8035, 'juliáns': 8036, 'july': 8037, 'jumble': 8038, 'jumble”': 8039, 'jump': 8040, 'jumped': 8041, 'jumping': 8042, 'jumps': 8043, 'junatambe': 8044, 'june': 8045, 'jung': 8046, 'junior': 8047, 'junk': 8048, 'junkyard': 8049, 'jupiter': 8050, 'jurisdiction': 8051, 'jurvetson': 8052, 'just': 8053, 'justice': 8054, 'justice”': 8055, 'justified': 8056, 'justify': 8057, 'justin': 8058, 'justins': 8059, 'juvenal': 8060, 'juxtaposition': 8061, 'k': 8062, 'ka': 8063, 'kaaba': 8064, 'kabir': 8065, 'kabul': 8066, 'kailash': 8067, 'kaisut': 8068, 'kaki': 8069, 'kalahari': 8070, 'kalam': 8071, 'kalbadevi': 8072, 'kallat': 8073, 'kallikuppam': 8074, 'kamenj': 8075, 'kamkwamba': 8076, 'kanak': 8077, 'kangaroo': 8078, 'kangaroos': 8079, 'kansas': 8080, 'kant': 8081, 'kapada': 8082, 'kapur': 8083, 'karachi': 8084, 'karan': 8085, 'karate': 8086, 'karen': 8087, 'karma': 8088, 'karmapa': 8089, 'karnataka': 8090, 'karolinska': 8091, 'kartikeya': 8092, 'karwal': 8093, 'kashmir': 8094, 'kashmiri': 8095, 'kashmirraised': 8096, 'kasungu': 8097, 'kate': 8098, 'kathas': 8099, 'katie': 8100, 'katies': 8101, 'katrina': 8102, 'kay': 8103, 'kazakhstan': 8104, 'kbs': 8105, 'keaton': 8106, 'keep': 8107, 'keeping': 8108, 'keeps': 8109, 'kelly': 8110, 'ken': 8111, 'kendall': 8112, 'kendalls': 8113, 'kennedy': 8114, 'kenya': 8115, 'kenyan': 8116, 'kepler': 8117, 'keplers': 8118, 'kept': 8119, 'kerala': 8120, 'kermit': 8121, 'kerosene': 8122, 'kevin': 8123, 'key': 8124, 'keyboard': 8125, 'keyloggers': 8126, 'keynoting': 8127, 'keys': 8128, 'keyword': 8129, 'kg': 8130, 'khaled': 8131, 'khan': 8132, 'khangharani': 8133, 'kharai': 8134, 'kher': 8135, 'khrushchev': 8136, 'khyber': 8137, 'kibera': 8138, 'kick': 8139, 'kickback': 8140, 'kicks': 8141, 'kickstart': 8142, 'kid': 8143, 'kidding': 8144, 'kidnap': 8145, 'kidnapped': 8146, 'kidnappers': 8147, 'kidnapping': 8148, 'kids': 8149, 'kids”': 8150, 'kid”': 8151, 'kigali': 8152, 'kijiji”': 8153, 'kilimanjaro': 8154, 'kill': 8155, 'killed': 8156, 'killer': 8157, 'killers': 8158, 'killing': 8159, 'kills': 8160, 'kilocalories': 8161, 'kilogram': 8162, 'kilometer': 8163, 'kilometers': 8164, 'kilos': 8165, 'kilowatts': 8166, 'kimmel': 8167, 'kind': 8168, 'kinder': 8169, 'kindergarten': 8170, 'kindergarten”': 8171, 'kindly': 8172, 'kindness': 8173, 'kinds': 8174, 'kinematics': 8175, 'kinesthetic': 8176, 'kinetic': 8177, 'king': 8178, 'kingdom': 8179, 'kings': 8180, 'kingston': 8181, 'king”': 8182, 'kinky': 8183, 'kiosk': 8184, 'kipling': 8185, 'kipp': 8186, 'kipps': 8187, 'kiran': 8188, 'kiranbedicom': 8189, 'kirsch': 8190, 'kishore': 8191, 'kiss': 8192, 'kisses': 8193, 'kit': 8194, 'kitchen': 8195, 'kiteshaped': 8196, 'km': 8197, 'kmart': 8198, 'knaan': 8199, 'knee': 8200, 'knees': 8201, 'knew': 8202, 'knife': 8203, 'knight': 8204, 'knitting': 8205, 'knock': 8206, 'knocked': 8207, 'knocking': 8208, 'knocks': 8209, 'knot': 8210, 'knots': 8211, 'know': 8212, 'knowing': 8213, 'knowledge': 8214, 'known': 8215, 'knows': 8216, 'know”': 8217, 'knuckle': 8218, 'knucklehead': 8219, 'kodak': 8220, 'kofi': 8221, 'kogi': 8222, 'kogi”': 8223, 'kolkata': 8224, 'kolkataborn': 8225, 'kong': 8226, 'koran': 8227, 'koranic': 8228, 'korans': 8229, 'korea': 8230, 'korean': 8231, 'koro': 8232, 'kosovo': 8233, 'kouros': 8234, 'kpi': 8235, 'kra': 8236, 'krishna': 8237, 'krishnagiri': 8238, 'krishnan': 8239, 'kruger': 8240, 'krypton': 8241, 'kuchipudi': 8242, 'kudos': 8243, 'kuhl': 8244, 'kumbira': 8245, 'kund': 8246, 'kunds': 8247, 'kung': 8248, 'kuppam': 8249, 'kurds': 8250, 'kurt': 8251, 'kurta': 8252, 'kushner': 8253, 'kuwait': 8254, 'kwagiulth': 8255, 'kyoto': 8256, 'kórē': 8257, 'la': 8258, 'lab': 8259, 'label': 8260, 'labeled': 8261, 'labels': 8262, 'labor': 8263, 'laboratories': 8264, 'laboratory': 8265, 'labored': 8266, 'laborer': 8267, 'laborers': 8268, 'labs': 8269, 'labyrinth': 8270, 'lace': 8271, 'laces': 8272, 'laces”': 8273, 'lack': 8274, 'lacking': 8275, 'laconic': 8276, 'lada': 8277, 'ladakh': 8278, 'ladder': 8279, 'ladders': 8280, 'laden': 8281, 'ladies': 8282, 'lady': 8283, 'lafayette': 8284, 'lag': 8285, 'lagos': 8286, 'lahore': 8287, 'laid': 8288, 'laidoff': 8289, 'lake': 8290, 'lakes': 8291, 'lakota': 8292, 'lakshmi': 8293, 'lalit': 8294, 'lama': 8295, 'lame': 8296, 'lamp': 8297, 'lampard': 8298, 'lamplike': 8299, 'lamy': 8300, 'lancet': 8301, 'land': 8302, 'landed': 8303, 'lander': 8304, 'landing': 8305, 'landlessness': 8306, 'landline': 8307, 'landlines': 8308, 'landlords': 8309, 'landmark': 8310, 'landmass': 8311, 'landmines': 8312, 'lands': 8313, 'landscape': 8314, 'landscapes': 8315, 'landslide': 8316, 'landuse': 8317, 'lane': 8318, 'lanes': 8319, 'lane”': 8320, 'language': 8321, 'languagebound': 8322, 'languages': 8323, 'language“': 8324, 'languish': 8325, 'lanka': 8326, 'lankans': 8327, 'lantern': 8328, 'lap': 8329, 'laptop': 8330, 'laptops': 8331, 'laptop”': 8332, 'large': 8333, 'largely': 8334, 'larger': 8335, 'largerscale': 8336, 'largescale': 8337, 'largest': 8338, 'larry': 8339, 'las': 8340, 'lasagna': 8341, 'laser': 8342, 'lasers': 8343, 'last': 8344, 'lasted': 8345, 'lasting': 8346, 'lastly': 8347, 'lasts': 8348, 'late': 8349, 'lately': 8350, 'later': 8351, 'latest': 8352, 'latin': 8353, 'latino': 8354, 'latitude': 8355, 'laugh': 8356, 'laughed': 8357, 'laughing': 8358, 'laughs': 8359, 'laughter': 8360, 'laugh”': 8361, 'launch': 8362, 'launched': 8363, 'launches': 8364, 'launching': 8365, 'launderer': 8366, 'laundry': 8367, 'lauren': 8368, 'laurent': 8369, 'lava': 8370, 'lavish': 8371, 'law': 8372, 'lawn': 8373, 'lawns': 8374, 'laws': 8375, 'lawsuits': 8376, 'lawyer': 8377, 'lawyers': 8378, 'lax': 8379, 'lay': 8380, 'laye': 8381, 'layer': 8382, 'layers': 8383, 'laying': 8384, 'layingoff': 8385, 'layoffs': 8386, 'lays': 8387, 'lazy': 8388, 'lb': 8389, 'le': 8390, 'lead': 8391, 'leader': 8392, 'leaders': 8393, 'leadership': 8394, 'leading': 8395, 'leads': 8396, 'leaf': 8397, 'league': 8398, 'leagues': 8399, 'leak': 8400, 'leaked': 8401, 'leaking': 8402, 'leaks': 8403, 'lean': 8404, 'leanto': 8405, 'lean”': 8406, 'leap': 8407, 'leaped': 8408, 'leaping': 8409, 'leapt': 8410, 'learn': 8411, 'learned': 8412, 'learner': 8413, 'learners': 8414, 'learning': 8415, 'learning”': 8416, 'learns': 8417, 'learnt': 8418, 'leases': 8419, 'least': 8420, 'leather': 8421, 'leathers': 8422, 'leave': 8423, 'leaven': 8424, 'leaven”': 8425, 'leaves': 8426, 'leaves”': 8427, 'leave”': 8428, 'leaving': 8429, 'lebanese': 8430, 'lebanon': 8431, 'lecter': 8432, 'lecture': 8433, 'lectured': 8434, 'lecturer': 8435, 'lectures': 8436, 'lectures”': 8437, 'led': 8438, 'ledger': 8439, 'leds': 8440, 'lee': 8441, 'left': 8442, 'lefthand': 8443, 'leftmost': 8444, 'left”': 8445, 'leg': 8446, 'legacy': 8447, 'legal': 8448, 'legally': 8449, 'legares': 8450, 'legend': 8451, 'legged': 8452, 'legionella': 8453, 'legionnaires': 8454, 'legislation': 8455, 'legislature': 8456, 'legitimacy': 8457, 'legitimate': 8458, 'legitimizes': 8459, 'legos': 8460, 'legs': 8461, 'legs”': 8462, 'lehman': 8463, 'leica': 8464, 'lemmings': 8465, 'lemon': 8466, 'lemonflavored': 8467, 'lemur': 8468, 'lend': 8469, 'lender': 8470, 'lends': 8471, 'length': 8472, 'lengths': 8473, 'lenny': 8474, 'leno': 8475, 'lens': 8476, 'lenses': 8477, 'leonardo': 8478, 'leone': 8479, 'leone”': 8480, 'leopard': 8481, 'lesbian': 8482, 'less': 8483, 'lesser': 8484, 'lessig': 8485, 'lesson': 8486, 'lessons': 8487, 'less”': 8488, 'lest': 8489, 'let': 8490, 'lets': 8491, 'letter': 8492, 'lettering': 8493, 'letterman': 8494, 'letters': 8495, 'letting': 8496, 'level': 8497, 'levels': 8498, 'leverage': 8499, 'leveraged': 8500, 'levers': 8501, 'leviticus': 8502, 'levitt': 8503, 'lewin': 8504, 'lex': 8505, 'lexus': 8506, 'lhasa': 8507, 'lhc': 8508, 'li': 8509, 'liability': 8510, 'liana': 8511, 'liberal': 8512, 'liberalization': 8513, 'liberalize': 8514, 'liberate': 8515, 'liberated': 8516, 'liberating': 8517, 'liberation': 8518, 'liberia': 8519, 'liberties': 8520, 'liberty': 8521, 'librarians': 8522, 'libraries': 8523, 'library': 8524, 'library”': 8525, 'libya': 8526, 'libyan': 8527, 'license': 8528, 'licensed': 8529, 'licenser': 8530, 'licenses': 8531, 'lie': 8532, 'lied': 8533, 'lies': 8534, 'life': 8535, 'lifealtering': 8536, 'lifeboats': 8537, 'lifechanging': 8538, 'lifegiving': 8539, 'lifeless': 8540, 'lifelike': 8541, 'lifelong': 8542, 'lifes': 8543, 'lifesaving': 8544, 'lifesize': 8545, 'lifespan': 8546, 'lifespans': 8547, 'lifespring': 8548, 'lifestyle': 8549, 'lifestyles': 8550, 'lifetime': 8551, 'lifetimes': 8552, 'lifetime”': 8553, 'life”': 8554, 'lift': 8555, 'lifted': 8556, 'lifting': 8557, 'liftoff': 8558, 'lifts': 8559, 'ligaments': 8560, 'light': 8561, 'lightbulb': 8562, 'lighted': 8563, 'lighter': 8564, 'lighting': 8565, 'lightning': 8566, 'lights': 8567, 'lights”': 8568, 'lightweight': 8569, 'lightyears': 8570, 'likable': 8571, 'like': 8572, 'liked': 8573, 'likely': 8574, 'likened': 8575, 'likes': 8576, 'like”': 8577, 'lilly': 8578, 'lily': 8579, 'limb': 8580, 'limbed': 8581, 'limbs': 8582, 'limit': 8583, 'limitation': 8584, 'limitations': 8585, 'limited': 8586, 'limiteduse': 8587, 'limiting': 8588, 'limitless': 8589, 'limits': 8590, 'limousine': 8591, 'limp': 8592, 'lincoln': 8593, 'lindsey': 8594, 'line': 8595, 'lineage': 8596, 'linear': 8597, 'linearity': 8598, 'linebacker': 8599, 'lined': 8600, 'liner': 8601, 'lines': 8602, 'line”': 8603, 'lingered': 8604, 'linguistic': 8605, 'linguists': 8606, 'lining': 8607, 'link': 8608, 'linked': 8609, 'linking': 8610, 'links': 8611, 'linoleum': 8612, 'linux': 8613, 'lion': 8614, 'lion”': 8615, 'lips': 8616, 'liquid': 8617, 'list': 8618, 'listed': 8619, 'listen': 8620, 'listened': 8621, 'listeners': 8622, 'listening': 8623, 'listening”': 8624, 'listens': 8625, 'listen”': 8626, 'lists': 8627, 'lit': 8628, 'litany': 8629, 'liter': 8630, 'literacy': 8631, 'literally': 8632, 'literally”': 8633, 'literary': 8634, 'literate': 8635, 'literature': 8636, 'liters': 8637, 'lithium': 8638, 'lithuania': 8639, 'littering': 8640, 'little': 8641, 'littleknown': 8642, 'live': 8643, 'lived': 8644, 'livein': 8645, 'livelihood': 8646, 'livelihoods': 8647, 'liver': 8648, 'lives': 8649, 'livestock': 8650, 'live”': 8651, 'living': 8652, 'livings': 8653, 'livingstone': 8654, 'living”': 8655, 'lo': 8656, 'load': 8657, 'loaded': 8658, 'loads': 8659, 'loan': 8660, 'loans': 8661, 'loaves': 8662, 'lobby': 8663, 'lobbyist': 8664, 'lobe': 8665, 'local': 8666, 'localities': 8667, 'locality': 8668, 'localize': 8669, 'localized': 8670, 'locally': 8671, 'locals': 8672, 'located': 8673, 'location': 8674, 'locations': 8675, 'lock': 8676, 'locke': 8677, 'locked': 8678, 'locker': 8679, 'lockers': 8680, 'lockheeds': 8681, 'locomotion': 8682, 'locus': 8683, 'log': 8684, 'logarithmic': 8685, 'logged': 8686, 'logging': 8687, 'logic': 8688, 'logical': 8689, 'logistics': 8690, 'logo': 8691, 'logos': 8692, 'logs': 8693, 'lombard': 8694, 'lome': 8695, 'london': 8696, 'londontrained': 8697, 'lone': 8698, 'loneliness': 8699, 'lonely': 8700, 'long': 8701, 'longdistance': 8702, 'longduration': 8703, 'longer': 8704, 'longer”': 8705, 'longest': 8706, 'longevity': 8707, 'longing': 8708, 'longitude': 8709, 'longitudinal': 8710, 'longlasting': 8711, 'longlived': 8712, 'longprobosced': 8713, 'longrange': 8714, 'longtail': 8715, 'longterm': 8716, 'longtime': 8717, 'loo': 8718, 'look': 8719, 'looked': 8720, 'looking': 8721, 'lookout': 8722, 'looks': 8723, 'look”': 8724, 'loomed': 8725, 'looms': 8726, 'loony': 8727, 'loop': 8728, 'looped': 8729, 'loops': 8730, 'loosely': 8731, 'looting': 8732, 'lopez': 8733, 'lordly': 8734, 'lords': 8735, 'los': 8736, 'lose': 8737, 'loser': 8738, 'losers': 8739, 'loses': 8740, 'losing': 8741, 'loss': 8742, 'losses': 8743, 'lost': 8744, 'lot': 8745, 'lots': 8746, 'lotteries': 8747, 'lottery': 8748, 'lottery”': 8749, 'lou': 8750, 'loud': 8751, 'louder': 8752, 'loudest': 8753, 'louis': 8754, 'lounge': 8755, 'lousy': 8756, 'lovable': 8757, 'love': 8758, 'loved': 8759, 'loved”': 8760, 'lovely': 8761, 'lover': 8762, 'lovers': 8763, 'lover”': 8764, 'loves': 8765, 'loving': 8766, 'lovingly': 8767, 'lovins': 8768, 'low': 8769, 'lowcost': 8770, 'lower': 8771, 'lowest': 8772, 'lowhanging': 8773, 'lowincome': 8774, 'lowtech': 8775, 'lowvapor': 8776, 'loyal': 8777, 'ls': 8778, 'lt': 8779, 'luanda': 8780, 'luck': 8781, 'luckily': 8782, 'lucky': 8783, 'lucy”': 8784, 'ludicrous': 8785, 'lula': 8786, 'lumpectomy': 8787, 'lumps': 8788, 'lunar': 8789, 'lunch': 8790, 'lung': 8791, 'lust': 8792, 'luther': 8793, 'luxury': 8794, 'lying': 8795, 'lynchings': 8796, 'lyrical': 8797, 'm': 8798, 'ma': 8799, 'maam': 8800, 'maam”': 8801, 'macedonian': 8802, 'machiavellian': 8803, 'machine': 8804, 'machinecumexercising': 8805, 'machinery': 8806, 'machines': 8807, 'machines”': 8808, 'machine”': 8809, 'macho': 8810, 'macoutes': 8811, 'macro': 8812, 'macroeconomy': 8813, 'macromolecular': 8814, 'maculatum': 8815, 'mad': 8816, 'madame': 8817, 'maddening': 8818, 'made': 8819, 'madeinfifthworldcountry': 8820, 'madrid': 8821, 'mafia': 8822, 'magazine': 8823, 'magazines': 8824, 'magic': 8825, 'magical': 8826, 'magically': 8827, 'magician': 8828, 'magicians': 8829, 'maginot': 8830, 'magnesium': 8831, 'magnet': 8832, 'magnetic': 8833, 'magnetoencephalography': 8834, 'magnets': 8835, 'magnificent': 8836, 'magnitude': 8837, 'magnolias': 8838, 'mahabalipuram': 8839, 'mahabharata': 8840, 'mahadevan': 8841, 'mahalakshmi': 8842, 'mahatma': 8843, 'mahato': 8844, 'mahler': 8845, 'maidens': 8846, 'mail': 8847, 'main': 8848, 'mainly': 8849, 'mainstream': 8850, 'maintain': 8851, 'maintained': 8852, 'maintaining': 8853, 'maintains': 8854, 'maintenance': 8855, 'maize': 8856, 'major': 8857, 'majora': 8858, 'majoring': 8859, 'majority': 8860, 'makaan”': 8861, 'make': 8862, 'makers': 8863, 'makes': 8864, 'makeshift': 8865, 'makeup': 8866, 'making': 8867, 'mala': 8868, 'malaria': 8869, 'malarial': 8870, 'malawi': 8871, 'malay': 8872, 'malaysia': 8873, 'male': 8874, 'maledominated': 8875, 'malem': 8876, 'males': 8877, 'malevolent': 8878, 'malibu': 8879, 'malign': 8880, 'malignant': 8881, 'mall': 8882, 'malls': 8883, 'malnourished': 8884, 'malnutrition': 8885, 'malthusian': 8886, 'malware': 8887, 'mama': 8888, 'mamasan': 8889, 'mammals': 8890, 'mammatus': 8891, 'mammogram': 8892, 'man': 8893, 'manage': 8894, 'managed': 8895, 'management': 8896, 'manager': 8897, 'managerial': 8898, 'managers': 8899, 'manages': 8900, 'managing': 8901, 'manchester': 8902, 'manchildren': 8903, 'mandarin': 8904, 'mandate': 8905, 'mandela': 8906, 'mango': 8907, 'mangoes': 8908, 'manhattan': 8909, 'manhood': 8910, 'mania': 8911, 'manic': 8912, 'manifest': 8913, 'manifestation': 8914, 'manifestations': 8915, 'manifests': 8916, 'manila': 8917, 'manipulate': 8918, 'manipulated': 8919, 'manipulation': 8920, 'mankind': 8921, 'manmachine': 8922, 'manmade': 8923, 'manmohan': 8924, 'manned': 8925, 'manner': 8926, 'manners': 8927, 'mans': 8928, 'mansion': 8929, 'mansukh': 8930, 'mantegna': 8931, 'mantis': 8932, 'mantra': 8933, 'manual': 8934, 'manually': 8935, 'manuals': 8936, 'manufacture': 8937, 'manufacturer': 8938, 'manufacturers': 8939, 'manufacturing': 8940, 'manuscripts': 8941, 'many': 8942, 'manytomany': 8943, 'many”': 8944, 'man”': 8945, 'mao': 8946, 'map': 8947, 'mapmaker': 8948, 'mapnificent': 8949, 'mapped': 8950, 'mapping': 8951, 'maps': 8952, 'marathi': 8953, 'marathon': 8954, 'marathons': 8955, 'marbles': 8956, 'march': 8957, 'marched': 8958, 'marco': 8959, 'marcus': 8960, 'margaret': 8961, 'margarine': 8962, 'marge': 8963, 'margin': 8964, 'marginal': 8965, 'marginalized': 8966, 'marginalizing': 8967, 'margins': 8968, 'maria': 8969, 'mariachis': 8970, 'mariah': 8971, 'marijuana': 8972, 'marilyn': 8973, 'marines': 8974, 'marital': 8975, 'mark': 8976, 'marker': 8977, 'markers': 8978, 'market': 8979, 'marketable': 8980, 'marketers': 8981, 'marketing': 8982, 'marketoriented': 8983, 'marketplace': 8984, 'markets': 8985, 'markings': 8986, 'marks': 8987, 'markslike': 8988, 'markus': 8989, 'marley': 8990, 'marooned': 8991, 'marriage': 8992, 'marriages': 8993, 'married': 8994, 'marries': 8995, 'marry': 8996, 'marrying': 8997, 'mars': 8998, 'marshall': 8999, 'marshmallow': 9000, 'marsupials': 9001, 'mars”': 9002, 'marta': 9003, 'martha': 9004, 'martial': 9005, 'martians': 9006, 'martin': 9007, 'martyrdom': 9008, 'marvelous': 9009, 'mary': 9010, 'maryland': 9011, 'masculine': 9012, 'masculinity': 9013, 'masiosare': 9014, 'masjid': 9015, 'mask': 9016, 'masking': 9017, 'masks': 9018, 'maslowian': 9019, 'mason': 9020, 'masons': 9021, 'mass': 9022, 'massachusetts': 9023, 'massage': 9024, 'masse': 9025, 'masses': 9026, 'massif': 9027, 'massive': 9028, 'massively': 9029, 'massmanufactured': 9030, 'masstransit': 9031, 'mastectomy': 9032, 'master': 9033, 'masters': 9034, 'mastery': 9035, 'mastodon': 9036, 'mastodons': 9037, 'masturbating': 9038, 'matas': 9039, 'match': 9040, 'matched': 9041, 'matches': 9042, 'matching': 9043, 'matchstick': 9044, 'matchsticks': 9045, 'mate': 9046, 'material': 9047, 'materialistic': 9048, 'materialize': 9049, 'materialized': 9050, 'materials': 9051, 'maternal': 9052, 'maternity': 9053, 'mates': 9054, 'mate”': 9055, 'math': 9056, 'mathare': 9057, 'mathematical': 9058, 'mathematician': 9059, 'mathematicians': 9060, 'mathematics': 9061, 'mating': 9062, 'matrix': 9063, 'matron': 9064, 'matt': 9065, 'matter': 9066, 'mattered': 9067, 'matters': 9068, 'matter”': 9069, 'matthew': 9070, 'matthews': 9071, 'matthewsnielsen': 9072, 'mattress': 9073, 'mature': 9074, 'maturing': 9075, 'matzah': 9076, 'maud': 9077, 'mauritania': 9078, 'mauritius': 9079, 'maverick': 9080, 'maximize': 9081, 'maximizing': 9082, 'maximum': 9083, 'may': 9084, 'mayans': 9085, 'maybe': 9086, 'mayor': 9087, 'mayors': 9088, 'ma”': 9089, 'mba': 9090, 'mccain': 9091, 'mccars': 9092, 'mcchrystal': 9093, 'mccrea': 9094, 'mcdonalds': 9095, 'mcdonough': 9096, 'mcgonigal': 9097, 'mchouses': 9098, 'mcmurdo': 9099, 'mcpeople': 9100, 'mcqueen': 9101, 'me': 9102, 'mead': 9103, 'meal': 9104, 'meals': 9105, 'mean': 9106, 'meaning': 9107, 'meaningful': 9108, 'meaningfully': 9109, 'meaningless': 9110, 'meanings': 9111, 'meaning”': 9112, 'means': 9113, 'meant': 9114, 'meantime': 9115, 'meant”': 9116, 'meanwhile': 9117, 'mean”': 9118, 'measles': 9119, 'measurable': 9120, 'measurably': 9121, 'measure': 9122, 'measured': 9123, 'measurement': 9124, 'measurements': 9125, 'measures': 9126, 'measuring': 9127, 'meat': 9128, 'meatpacking': 9129, 'mecca': 9130, 'mechanic': 9131, 'mechanical': 9132, 'mechanically': 9133, 'mechanics': 9134, 'mechanism': 9135, 'mechanisms': 9136, 'mechanized': 9137, 'mechatronics': 9138, 'medals': 9139, 'meddle': 9140, 'meddling': 9141, 'medha': 9142, 'media': 9143, 'medias': 9144, 'mediate': 9145, 'mediating': 9146, 'mediator': 9147, 'mediators': 9148, 'media”': 9149, 'medicaid': 9150, 'medical': 9151, 'medically': 9152, 'medicare': 9153, 'medicate': 9154, 'medicated': 9155, 'medication': 9156, 'medications': 9157, 'medicinal': 9158, 'medicine': 9159, 'medicines': 9160, 'mediocre': 9161, 'meditate': 9162, 'meditating': 9163, 'meditation': 9164, 'medium': 9165, 'meen”': 9166, 'meet': 9167, 'meeting': 9168, 'meetingattending': 9169, 'meetings': 9170, 'meets': 9171, 'meg': 9172, 'megabits': 9173, 'megalomaniacal': 9174, 'megalomaniacs': 9175, 'megapixel': 9176, 'megatons': 9177, 'megatrend': 9178, 'meher': 9179, 'meiselas': 9180, 'melcher': 9181, 'melded': 9182, 'melding': 9183, 'melinda': 9184, 'melting': 9185, 'melts': 9186, 'melua': 9187, 'member': 9188, 'members': 9189, 'membrane': 9190, 'membranefiltration': 9191, 'meme': 9192, 'memes': 9193, 'memorable': 9194, 'memories': 9195, 'memorize': 9196, 'memory': 9197, 'memory”': 9198, 'men': 9199, 'mend': 9200, 'mens': 9201, 'mental': 9202, 'mentally': 9203, 'mention': 9204, 'mentioned': 9205, 'mentioning': 9206, 'mentions': 9207, 'mentor': 9208, 'mentoring': 9209, 'mentors': 9210, 'men”': 9211, 'mercedes': 9212, 'mercedesbenz': 9213, 'merchandise': 9214, 'merchant': 9215, 'merchants': 9216, 'merciful': 9217, 'mercy': 9218, 'mere': 9219, 'merely': 9220, 'merge': 9221, 'merged': 9222, 'merges': 9223, 'merging': 9224, 'merit': 9225, 'merited': 9226, 'meritocracy': 9227, 'meritocrat': 9228, 'meritocratic': 9229, 'mermaid': 9230, 'merry': 9231, 'meru': 9232, 'mesh': 9233, 'meshlike': 9234, 'mesmerized': 9235, 'mesopotamia': 9236, 'mesopotamian': 9237, 'mess': 9238, 'message': 9239, 'messages': 9240, 'messaging': 9241, 'messed': 9242, 'messenger': 9243, 'messy': 9244, 'met': 9245, 'metabolism': 9246, 'metabolize': 9247, 'metabolized': 9248, 'metabolizes': 9249, 'metabolizing': 9250, 'metadata': 9251, 'metainformation': 9252, 'metal': 9253, 'metallic': 9254, 'metals': 9255, 'metaphor': 9256, 'metaphorical': 9257, 'metaphorically': 9258, 'metaphors': 9259, 'metaphysical': 9260, 'metaphysically': 9261, 'metaverse': 9262, 'meted': 9263, 'meteorite': 9264, 'meter': 9265, 'meters': 9266, 'meterthick': 9267, 'methane': 9268, 'method': 9269, 'methods': 9270, 'methoxydimethyltryptamine': 9271, 'methuselah': 9272, 'meticulous': 9273, 'meticulously': 9274, 'metric': 9275, 'metro': 9276, 'metropolitan': 9277, 'mexican': 9278, 'mexicans': 9279, 'mexico': 9280, 'me”': 9281, 'mice': 9282, 'michael': 9283, 'michaelsober': 9284, 'michelin': 9285, 'michigan': 9286, 'micky': 9287, 'micro': 9288, 'microbe': 9289, 'microbes': 9290, 'microbial': 9291, 'microcredit': 9292, 'microcredits': 9293, 'microdecisions': 9294, 'microdistribution': 9295, 'microentrepreneurs': 9296, 'microfinance': 9297, 'microfluidics': 9298, 'microlevel': 9299, 'micromanaging': 9300, 'micronoises': 9301, 'microorganisms': 9302, 'micropattern': 9303, 'microphone': 9304, 'microphone”': 9305, 'microscope': 9306, 'microseconds': 9307, 'microsoft': 9308, 'microwave': 9309, 'mid': 9310, 'midair': 9311, 'midcentury': 9312, 'middle': 9313, 'middleage': 9314, 'middleaged': 9315, 'middlebury': 9316, 'middleclass': 9317, 'midges': 9318, 'midnight': 9319, 'mids': 9320, 'midth': 9321, 'midway': 9322, 'midwest': 9323, 'midwife': 9324, 'might': 9325, 'migrate': 9326, 'migrated': 9327, 'migration': 9328, 'miguel': 9329, 'mike': 9330, 'miklos': 9331, 'mikveh': 9332, 'milanovic': 9333, 'mild': 9334, 'mildly': 9335, 'mile': 9336, 'miles': 9337, 'milestone': 9338, 'milestones': 9339, 'miliband': 9340, 'militarization': 9341, 'military': 9342, 'militiamen': 9343, 'milk': 9344, 'milky': 9345, 'mill': 9346, 'millennia': 9347, 'millennium': 9348, 'miller': 9349, 'millers': 9350, 'millimeter': 9351, 'million': 9352, 'millionaire': 9353, 'millionaires': 9354, 'milliondollar': 9355, 'millions': 9356, 'millions”': 9357, 'millisecond': 9358, 'milliseconds': 9359, 'milosevic': 9360, 'mimic': 9361, 'mimicked': 9362, 'mimicking': 9363, 'mimics': 9364, 'minaret': 9365, 'minarets': 9366, 'mind': 9367, 'mindblowing': 9368, 'mindboggling': 9369, 'mindfulness': 9370, 'minding': 9371, 'minds': 9372, 'mindset': 9373, 'mindsets': 9374, 'mindtomind': 9375, 'mind”': 9376, 'mine': 9377, 'mineral': 9378, 'minerals': 9379, 'miners': 9380, 'mines': 9381, 'mine”': 9382, 'mini': 9383, 'miniature': 9384, 'miniaturization': 9385, 'minibig': 9386, 'miniblueprints': 9387, 'minibureaus': 9388, 'minimize': 9389, 'minimizes': 9390, 'minimum': 9391, 'mining': 9392, 'miniskirt': 9393, 'minister': 9394, 'ministers': 9395, 'minister”': 9396, 'ministry': 9397, 'minivans': 9398, 'minnesota': 9399, 'minor': 9400, 'minority': 9401, 'minotaur': 9402, 'minus': 9403, 'minuses': 9404, 'minute': 9405, 'minutes': 9406, 'minutes”': 9407, 'miracle': 9408, 'miraculously': 9409, 'mirror': 9410, 'mirrors': 9411, 'misbahulhaq': 9412, 'misconstrued': 9413, 'misdiagnosed': 9414, 'misdiagnosis': 9415, 'miserable': 9416, 'misery': 9417, 'misfounded': 9418, 'mishegas': 9419, 'mishra': 9420, 'misleading': 9421, 'mismatch': 9422, 'misquote': 9423, 'miss': 9424, 'missed': 9425, 'misses': 9426, 'missile': 9427, 'missiles': 9428, 'missing': 9429, 'missingsense': 9430, 'mission': 9431, 'missionaries': 9432, 'missionary': 9433, 'missions': 9434, 'mist': 9435, 'mistake': 9436, 'mistaken': 9437, 'mistakes': 9438, 'mister': 9439, 'mistreat': 9440, 'mistry': 9441, 'mists': 9442, 'misunderstand': 9443, 'misunderstood': 9444, 'misuse': 9445, 'mit': 9446, 'mitochondria': 9447, 'mitra': 9448, 'mits': 9449, 'mitt': 9450, 'mix': 9451, 'mixed': 9452, 'mixer': 9453, 'mixing': 9454, 'mixtape': 9455, 'mixtapes': 9456, 'mixture': 9457, 'mm': 9458, 'mmhmm': 9459, 'mmmmm”': 9460, 'mobile': 9461, 'mobile”': 9462, 'mobility': 9463, 'mobilization': 9464, 'mobilize': 9465, 'mobilized': 9466, 'mobilizing': 9467, 'mobs”': 9468, 'mobutu': 9469, 'moca': 9470, 'mock': 9471, 'modalities': 9472, 'modality': 9473, 'mode': 9474, 'model': 9475, 'modeled': 9476, 'models': 9477, 'model”': 9478, 'moderate': 9479, 'moderation': 9480, 'modern': 9481, 'modernday': 9482, 'modernization': 9483, 'modernize': 9484, 'modernized': 9485, 'modest': 9486, 'modi': 9487, 'modicum': 9488, 'modification': 9489, 'modified': 9490, 'modifies': 9491, 'modify': 9492, 'modifying': 9493, 'modular': 9494, 'modularized': 9495, 'modulation': 9496, 'modules': 9497, 'modulo': 9498, 'mohan': 9499, 'mohsin': 9500, 'moist': 9501, 'moisture': 9502, 'mojave': 9503, 'molecular': 9504, 'molecule': 9505, 'molecules': 9506, 'molecule”': 9507, 'molotov': 9508, 'mom': 9509, 'moment': 9510, 'momentarily': 9511, 'moments': 9512, 'momentum': 9513, 'moment”': 9514, 'momma': 9515, 'moms': 9516, 'monastery': 9517, 'monday': 9518, 'monetary': 9519, 'monetize': 9520, 'monetizing': 9521, 'money': 9522, 'moneylenders': 9523, 'moneys': 9524, 'money”': 9525, 'mongols': 9526, 'monica': 9527, 'monies': 9528, 'monitor': 9529, 'monitored': 9530, 'monitoring': 9531, 'monk': 9532, 'monkey': 9533, 'mono': 9534, 'monoamine': 9535, 'monochromatic': 9536, 'monolingual': 9537, 'monolinguals': 9538, 'monolithic': 9539, 'monologue': 9540, 'monotask': 9541, 'monotasking': 9542, 'monotonous': 9543, 'monotony': 9544, 'monroe': 9545, 'monrovia': 9546, 'monsoon': 9547, 'monsters': 9548, 'montage': 9549, 'montana': 9550, 'monte': 9551, 'monterey': 9552, 'month': 9553, 'monthly': 9554, 'monthold': 9555, 'montholds': 9556, 'months': 9557, 'monument': 9558, 'monumental': 9559, 'monuments': 9560, 'mood': 9561, 'moodboosting': 9562, 'moodenhancing': 9563, 'mooing': 9564, 'moon': 9565, 'moonscapelike': 9566, 'moon”': 9567, 'moore': 9568, 'mopup': 9569, 'moral': 9570, 'moralistic': 9571, 'morality': 9572, 'moratorium': 9573, 'morbid': 9574, 'more': 9575, 'moreover': 9576, 'morgan': 9577, 'morning': 9578, 'mornings': 9579, 'morocco': 9580, 'morocco”': 9581, 'moron': 9582, 'moronic': 9583, 'moronically': 9584, 'morphed': 9585, 'morphological': 9586, 'morphologically': 9587, 'morse': 9588, 'mortality': 9589, 'mortar': 9590, 'mortgage': 9591, 'mortified': 9592, 'moscow': 9593, 'moses': 9594, 'mosque': 9595, 'mosques': 9596, 'mosquito': 9597, 'mosquitoes': 9598, 'mossadegh': 9599, 'most': 9600, 'mostly': 9601, 'motels': 9602, 'mother': 9603, 'mothers': 9604, 'mother”': 9605, 'motif': 9606, 'motihari': 9607, 'motion': 9608, 'motions': 9609, 'motionsensing': 9610, 'motivate': 9611, 'motivated': 9612, 'motivates': 9613, 'motivating': 9614, 'motivation': 9615, 'motor': 9616, 'motorbike': 9617, 'motorcade': 9618, 'motorcycle': 9619, 'motors': 9620, 'mounds': 9621, 'mount': 9622, 'mountain': 9623, 'mountains': 9624, 'mounted': 9625, 'mourid': 9626, 'mourn': 9627, 'mouse': 9628, 'mouses': 9629, 'mouse”': 9630, 'mouth': 9631, 'mouths': 9632, 'movable': 9633, 'move': 9634, 'moved': 9635, 'moved”': 9636, 'movement': 9637, 'movements': 9638, 'movements”': 9639, 'movers': 9640, 'moves': 9641, 'moves”': 9642, 'move”': 9643, 'movie': 9644, 'movies': 9645, 'moving': 9646, 'mozambique': 9647, 'mozart': 9648, 'mozilla': 9649, 'mr': 9650, 'mri': 9651, 'mrs': 9652, 'ms': 9653, 'mt': 9654, 'mtn': 9655, 'mtv': 9656, 'mu': 9657, 'mubarak': 9658, 'much': 9659, 'muchoverlooked': 9660, 'muck': 9661, 'mud': 9662, 'muffin': 9663, 'mug”': 9664, 'muhammad': 9665, 'mujiba': 9666, 'mukta': 9667, 'mullah': 9668, 'multiappendage': 9669, 'multicultural': 9670, 'multidimensional': 9671, 'multimedia': 9672, 'multimillion': 9673, 'multimilliondollar': 9674, 'multinational': 9675, 'multinationals': 9676, 'multiparty': 9677, 'multiplayer': 9678, 'multiple': 9679, 'multiplication': 9680, 'multiplied': 9681, 'multiply': 9682, 'multiresolution': 9683, 'multiscale': 9684, 'multitasking': 9685, 'multitissue': 9686, 'mum': 9687, 'mumbai': 9688, 'mumbaibased': 9689, 'mumbojumbo': 9690, 'mumita': 9691, 'mundane': 9692, 'municipal': 9693, 'municipalities': 9694, 'murder': 9695, 'murdered': 9696, 'murderers': 9697, 'murmuring': 9698, 'murray': 9699, 'muruganantham': 9700, 'musarri': 9701, 'musawwira': 9702, 'muscle': 9703, 'muscles': 9704, 'museum': 9705, 'museums': 9706, 'mushrooms': 9707, 'music': 9708, 'musical': 9709, 'musician': 9710, 'musicians': 9711, 'musician”': 9712, 'music”': 9713, 'musk': 9714, 'muslim': 9715, 'muslims': 9716, 'muslin': 9717, 'mussolina': 9718, 'must': 9719, 'mustache': 9720, 'mustafa': 9721, 'must”': 9722, 'mutations': 9723, 'mutually': 9724, 'mwenda': 9725, 'my': 9726, 'myanmar': 9727, 'mybocom': 9728, 'myriad': 9729, 'myself': 9730, 'myself”': 9731, 'mysore': 9732, 'mysteries': 9733, 'mysterious': 9734, 'mysteriously': 9735, 'mystery': 9736, 'mystical': 9737, 'mysticism': 9738, 'mystified': 9739, 'mystique': 9740, 'myth': 9741, 'mythic': 9742, 'mythological': 9743, 'mythologically': 9744, 'mythologies': 9745, 'mythology': 9746, 'mythos': 9747, 'myths': 9748, 'nad': 9749, 'naders': 9750, 'nadir': 9751, 'nadu': 9752, 'nagaland': 9753, 'nailed': 9754, 'nails': 9755, 'nairobi': 9756, 'naive': 9757, 'naiveté': 9758, 'najjar': 9759, 'najjars': 9760, 'naked': 9761, 'namaste': 9762, 'name': 9763, 'named': 9764, 'nameless': 9765, 'namely': 9766, 'names': 9767, 'namesake': 9768, 'namibia': 9769, 'naming': 9770, 'nanex': 9771, 'nanobees': 9772, 'nanoscale': 9773, 'nanotubes': 9774, 'nap': 9775, 'napkin': 9776, 'napkins': 9777, 'napster': 9778, 'nargis': 9779, 'narrative': 9780, 'narratives': 9781, 'narrow': 9782, 'narrowed': 9783, 'narrower': 9784, 'narrowing': 9785, 'narrow”': 9786, 'narwhal': 9787, 'nasa': 9788, 'nasas': 9789, 'nashville': 9790, 'nasty': 9791, 'natalie': 9792, 'nathan': 9793, 'nation': 9794, 'national': 9795, 'nationalism': 9796, 'nationalistic': 9797, 'nationalities': 9798, 'nationality': 9799, 'nations': 9800, 'nationstate': 9801, 'nationwide': 9802, 'native': 9803, 'natively': 9804, 'nativity': 9805, 'natural': 9806, 'naturally': 9807, 'nature': 9808, 'natures': 9809, 'naturesent': 9810, 'navigate': 9811, 'navigates': 9812, 'navigation': 9813, 'navigenix': 9814, 'naxalite': 9815, 'naya': 9816, 'nazis': 9817, 'nba': 9818, 'nbc': 9819, 'nd': 9820, 'neanderthal': 9821, 'near': 9822, 'nearby': 9823, 'nearer': 9824, 'nearest': 9825, 'nearly': 9826, 'neat': 9827, 'nebulous': 9828, 'necessarily': 9829, 'necessary': 9830, 'necessity': 9831, 'neck': 9832, 'necks': 9833, 'nectar': 9834, 'need': 9835, 'needed': 9836, 'needlepoint': 9837, 'needlepointing': 9838, 'needles': 9839, 'needless': 9840, 'neednt': 9841, 'needs': 9842, 'negated': 9843, 'negative': 9844, 'negatives': 9845, 'neglect': 9846, 'neglected': 9847, 'neglecting': 9848, 'negotiable': 9849, 'negotiate': 9850, 'negotiated': 9851, 'negotiating': 9852, 'negotiation': 9853, 'negotiations': 9854, 'negotiators': 9855, 'negroponte': 9856, 'nehru': 9857, 'neighbor': 9858, 'neighborhood': 9859, 'neighborhoods': 9860, 'neighbors': 9861, 'neil': 9862, 'neither': 9863, 'nelson': 9864, 'nemesis': 9865, 'neoclassical': 9866, 'neocortex': 9867, 'neolithic': 9868, 'nepal': 9869, 'nepalese': 9870, 'nephews': 9871, 'nerd': 9872, 'nerdy': 9873, 'nervous': 9874, 'nervously': 9875, 'nest': 9876, 'nested': 9877, 'net': 9878, 'netflix': 9879, 'nets': 9880, 'netscape': 9881, 'netted': 9882, 'netting': 9883, 'network': 9884, 'networking': 9885, 'networks': 9886, 'neural': 9887, 'neuro': 9888, 'neurobiologically': 9889, 'neurobollocks': 9890, 'neurobunk': 9891, 'neuroflapdoodle': 9892, 'neurological': 9893, 'neurologist': 9894, 'neuron': 9895, 'neurons': 9896, 'neuron”': 9897, 'neurophysiological': 9898, 'neurophysiology': 9899, 'neuroscience': 9900, 'neuroscientist': 9901, 'neuroscientists': 9902, 'neurosurgery': 9903, 'neurotransmitters': 9904, 'neutral': 9905, 'neutrality': 9906, 'neutrino': 9907, 'neutrinos': 9908, 'nevada': 9909, 'never': 9910, 'neverending': 9911, 'nevertheless': 9912, 'new': 9913, 'newcastle': 9914, 'newcomers': 9915, 'newest': 9916, 'newfound': 9917, 'newly': 9918, 'newlydiscovered': 9919, 'news': 9920, 'newspaper': 9921, 'newspapers': 9922, 'newstyle': 9923, 'newton': 9924, 'new”': 9925, 'next': 9926, 'nextfest': 9927, 'nfb': 9928, 'nfl': 9929, 'ng': 9930, 'ngo': 9931, 'ngos': 9932, 'nice': 9933, 'nicely': 9934, 'nicer': 9935, 'nicetohave': 9936, 'nice”': 9937, 'niches': 9938, 'nicholas': 9939, 'nicieza': 9940, 'nick': 9941, 'nickname': 9942, 'nicknamed': 9943, 'nicole': 9944, 'nicotine': 9945, 'nieces': 9946, 'niestat': 9947, 'nietzsche': 9948, 'niger': 9949, 'nigeria': 9950, 'nigerian': 9951, 'nigerians': 9952, 'nigerias': 9953, 'night': 9954, 'nightmare': 9955, 'nightmares': 9956, 'nights': 9957, 'nike': 9958, 'nile': 9959, 'nina': 9960, 'nine': 9961, 'nineteen': 9962, 'nineyear': 9963, 'nineyearold': 9964, 'nineyearolds': 9965, 'ninth': 9966, 'nip': 9967, 'nipped': 9968, 'nirvana': 9969, 'niyazov': 9970, 'nizam': 9971, 'nkali': 9972, 'no': 9973, 'noaa': 9974, 'noah': 9975, 'noahs': 9976, 'nobel': 9977, 'noble': 9978, 'nobler': 9979, 'nobody': 9980, 'nobodys': 9981, 'noborder': 9982, 'nodded': 9983, 'node': 9984, 'nodes': 9985, 'nofly': 9986, 'noise': 9987, 'noises': 9988, 'noise”': 9989, 'noisy': 9990, 'nollywood': 9991, 'nomad': 9992, 'nomadic': 9993, 'nomination': 9994, 'nominee': 9995, 'nonafrican': 9996, 'nonaging': 9997, 'noncancer': 9998, 'noncustomer': 9999, 'nondoodling': 10000, 'none': 10001, 'nonetheless': 10002, 'nongovernmental': 10003, 'nonhuman': 10004, 'nonimage': 10005, 'noninvasive': 10006, 'noninvasively': 10007, 'nonjudgmental': 10008, 'nonlinear': 10009, 'nonmaterial': 10010, 'nonmuslims': 10011, 'nonnative': 10012, 'nonnegligible': 10013, 'nonoil': 10014, 'nonprofit': 10015, 'nonreligious': 10016, 'nonscience': 10017, 'nonscientists': 10018, 'nonsense': 10019, 'nonstick': 10020, 'nontoxic': 10021, 'nontraditional': 10022, 'nonverbal': 10023, 'nonviolent': 10024, 'nonvisual': 10025, 'noon': 10026, 'noor': 10027, 'noora': 10028, 'nor': 10029, 'norah': 10030, 'norm': 10031, 'normal': 10032, 'normality': 10033, 'normalized': 10034, 'normalizing': 10035, 'normally': 10036, 'norman': 10037, 'norms': 10038, 'north': 10039, 'northeastern': 10040, 'northern': 10041, 'northwest': 10042, 'northwestern': 10043, 'norway': 10044, 'norwegian': 10045, 'nose': 10046, 'noses': 10047, 'nosocomial': 10048, 'nostalgia': 10049, 'not': 10050, 'notation': 10051, 'note': 10052, 'notebook': 10053, 'noted': 10054, 'notes': 10055, 'notforprofit': 10056, 'nothing': 10057, 'nothingness”': 10058, 'nothing”': 10059, 'notice': 10060, 'noticed': 10061, 'notices': 10062, 'noticing': 10063, 'noting': 10064, 'notion': 10065, 'notions': 10066, 'notre': 10067, 'notwithstanding': 10068, 'not”': 10069, 'noun': 10070, 'nourishment': 10071, 'nouvel': 10072, 'novartis': 10073, 'novel': 10074, 'novelist”': 10075, 'novels': 10076, 'novelty': 10077, 'november': 10078, 'novogratz': 10079, 'now': 10080, 'nowadays': 10081, 'nowhere': 10082, 'nowhere”': 10083, 'now”': 10084, 'npr': 10085, 'ns': 10086, 'nsf': 10087, 'nuanced': 10088, 'nub': 10089, 'nuclear': 10090, 'nude': 10091, 'nuero': 10092, 'nuhu': 10093, 'numb': 10094, 'number': 10095, 'numbered': 10096, 'numbers': 10097, 'number”': 10098, 'numbing': 10099, 'numerous': 10100, 'nun': 10101, 'nunavut': 10102, 'nuns': 10103, 'nurse': 10104, 'nurses': 10105, 'nurture': 10106, 'nurtured': 10107, 'nurturing': 10108, 'nut': 10109, 'nutrition': 10110, 'nutritional': 10111, 'nutritious': 10112, 'nuts': 10113, 'nyamirambo': 10114, 'nye': 10115, 'nylon': 10116, 'oak': 10117, 'oases': 10118, 'obama': 10119, 'obamas': 10120, 'obasanjo': 10121, 'obese': 10122, 'obesity': 10123, 'obeys': 10124, 'obiang': 10125, 'object': 10126, 'objectification': 10127, 'objective': 10128, 'objectives': 10129, 'objectivity': 10130, 'objects': 10131, 'obligated': 10132, 'obligation': 10133, 'obligations': 10134, 'observable': 10135, 'observation': 10136, 'observations': 10137, 'observatory': 10138, 'observe': 10139, 'observed': 10140, 'observer': 10141, 'observing': 10142, 'obsessed': 10143, 'obsession': 10144, 'obsidian': 10145, 'obsolete': 10146, 'obsolete”': 10147, 'obstacle': 10148, 'obstacles': 10149, 'obstructions': 10150, 'obtain': 10151, 'obvious': 10152, 'obviously': 10153, 'obvious”': 10154, 'occasion': 10155, 'occasional': 10156, 'occasionally': 10157, 'occasion”': 10158, 'occluded': 10159, 'occupation': 10160, 'occupied': 10161, 'occupy': 10162, 'occupythesec': 10163, 'occur': 10164, 'occurred': 10165, 'occurrence': 10166, 'occurring': 10167, 'occurs': 10168, 'ocean': 10169, 'oceans': 10170, 'ocean”': 10171, 'oclock': 10172, 'oclock”': 10173, 'october': 10174, 'odd': 10175, 'oddities': 10176, 'oddly': 10177, 'odds': 10178, 'odiously': 10179, 'oecd': 10180, 'oedipus': 10181, 'of': 10182, 'off': 10183, 'offend': 10184, 'offends': 10185, 'offense': 10186, 'offensive': 10187, 'offer': 10188, 'offered': 10189, 'offering': 10190, 'offers': 10191, 'office': 10192, 'officer': 10193, 'officers': 10194, 'offices': 10195, 'official': 10196, 'officially': 10197, 'officials': 10198, 'offlimits': 10199, 'offroad': 10200, 'offsets': 10201, 'offshore': 10202, 'off”': 10203, 'often': 10204, 'oftentimes': 10205, 'of”': 10206, 'ogunlesi': 10207, 'oh': 10208, 'ohhhh': 10209, 'ohhhhh': 10210, 'ohio': 10211, 'oil': 10212, 'oilbased': 10213, 'oilrich': 10214, 'ok': 10215, 'okay': 10216, 'okaytheres': 10217, 'okay”': 10218, 'okoloma': 10219, 'okorus': 10220, 'ok”': 10221, 'olayuk': 10222, 'old': 10223, 'older': 10224, 'oldest': 10225, 'oldfashioned': 10226, 'oldgrowth': 10227, 'oldhand': 10228, 'old”': 10229, 'olive': 10230, 'oliver': 10231, 'olives': 10232, 'olivia': 10233, 'olson': 10234, 'olympics': 10235, 'om': 10236, 'ombudsman': 10237, 'omen': 10238, 'ominous': 10239, 'on': 10240, 'onboard': 10241, 'once': 10242, 'onceinalifetime': 10243, 'onda': 10244, 'one': 10245, 'oneandaquartermillion': 10246, 'onebuttock': 10247, 'onefifth': 10248, 'oneistoone': 10249, 'onelife': 10250, 'oneliter': 10251, 'oneman': 10252, 'oneminute': 10253, 'oneness': 10254, 'oneonone': 10255, 'oneparty': 10256, 'oneperson': 10257, 'onerous': 10258, 'ones': 10259, 'oneself': 10260, 'onesixth': 10261, 'ones”': 10262, 'onethird': 10263, 'onetoone': 10264, 'oneupmanship': 10265, 'oneway': 10266, 'oneworld': 10267, 'one”': 10268, 'ongoing': 10269, 'ongoingly': 10270, 'onion': 10271, 'onions': 10272, 'online': 10273, 'online“': 10274, 'only': 10275, 'onlyinschool': 10276, 'onset': 10277, 'onshore': 10278, 'onstage': 10279, 'onstreet': 10280, 'ontario': 10281, 'onthemountain': 10282, 'ontime': 10283, 'onto': 10284, 'ontologically': 10285, 'onward': 10286, 'on”': 10287, 'ooh': 10288, 'opaque': 10289, 'oped': 10290, 'open': 10291, 'opened': 10292, 'opening': 10293, 'openings': 10294, 'openly': 10295, 'openmindedness': 10296, 'openness': 10297, 'openness”': 10298, 'opens': 10299, 'opensource': 10300, 'opera': 10301, 'operable': 10302, 'operate': 10303, 'operated': 10304, 'operates': 10305, 'operating': 10306, 'operation': 10307, 'operational': 10308, 'operations': 10309, 'operator': 10310, 'operators': 10311, 'ophelia': 10312, 'ophthalmologists': 10313, 'opiates': 10314, 'opinion': 10315, 'opinions': 10316, 'opium': 10317, 'opiumaddicted': 10318, 'opossum': 10319, 'opossums': 10320, 'opossum”': 10321, 'opponent': 10322, 'opportune': 10323, 'opportunities': 10324, 'opportunity': 10325, 'opposable': 10326, 'opposed': 10327, 'opposing': 10328, 'opposite': 10329, 'opposition': 10330, 'oppressed': 10331, 'oppressive': 10332, 'optic': 10333, 'optical': 10334, 'optically': 10335, 'optics': 10336, 'optimal': 10337, 'optimism': 10338, 'optimist': 10339, 'optimistic': 10340, 'optimists': 10341, 'optimization': 10342, 'optimized': 10343, 'opting': 10344, 'option': 10345, 'optionless': 10346, 'options': 10347, 'opulent': 10348, 'opus': 10349, 'or': 10350, 'oral': 10351, 'orally': 10352, 'orange': 10353, 'orators': 10354, 'oratory': 10355, 'orbit': 10356, 'orchestra': 10357, 'orchestras': 10358, 'orchid': 10359, 'orchids': 10360, 'order': 10361, 'ordered': 10362, 'orders': 10363, 'order”': 10364, 'ordinariness': 10365, 'ordinary': 10366, 'ordination': 10367, 'ore': 10368, 'oregon': 10369, 'oreilly': 10370, 'organ': 10371, 'organic': 10372, 'organically': 10373, 'organism': 10374, 'organisms': 10375, 'organization': 10376, 'organizations': 10377, 'organize': 10378, 'organized': 10379, 'organizes': 10380, 'organizing': 10381, 'organs': 10382, 'orient': 10383, 'orientalism': 10384, 'orientation': 10385, 'orientations': 10386, 'orienting': 10387, 'orients': 10388, 'origin': 10389, 'original': 10390, 'originally': 10391, 'originates': 10392, 'origins': 10393, 'orleans': 10394, 'orphans': 10395, 'orthodox': 10396, 'orthopaedic': 10397, 'orthopedic': 10398, 'orwellian': 10399, 'osmosis': 10400, 'ossified': 10401, 'ossify': 10402, 'osteoporosis': 10403, 'ostracized': 10404, 'ostrom': 10405, 'ostrow': 10406, 'othello': 10407, 'other': 10408, 'otherness': 10409, 'others': 10410, 'otherwise': 10411, 'other”': 10412, 'ought': 10413, 'ounce': 10414, 'our': 10415, 'ours': 10416, 'ourselves': 10417, 'ourselves”': 10418, 'out': 10419, 'outbound': 10420, 'outbreak': 10421, 'outcome': 10422, 'outcomes': 10423, 'outdated': 10424, 'outdoor': 10425, 'outdoors': 10426, 'outer': 10427, 'outfit': 10428, 'outfits': 10429, 'outfitting': 10430, 'outgrown': 10431, 'outhouse': 10432, 'outing': 10433, 'outlaw': 10434, 'outlawed': 10435, 'outlets': 10436, 'outlining': 10437, 'outlook': 10438, 'outofdate': 10439, 'outperfomed': 10440, 'outperform': 10441, 'outperforming': 10442, 'output': 10443, 'outputs': 10444, 'outrage': 10445, 'outraged': 10446, 'outrageous': 10447, 'outside': 10448, 'outsider': 10449, 'outsiders': 10450, 'outsized': 10451, 'outsmart': 10452, 'outsourcing': 10453, 'outstanding': 10454, 'outward': 10455, 'outwards': 10456, 'outweigh': 10457, 'outweighed': 10458, 'out”': 10459, 'ovation': 10460, 'oven': 10461, 'over': 10462, 'overachievers': 10463, 'overall': 10464, 'overblown': 10465, 'overcoat': 10466, 'overcome': 10467, 'overcoming': 10468, 'overconfidence': 10469, 'overcultivation': 10470, 'overdo': 10471, 'overdose': 10472, 'overdressed': 10473, 'overestimate': 10474, 'overestimation': 10475, 'overglorified': 10476, 'overgrazing': 10477, 'overhead': 10478, 'overlaid': 10479, 'overland': 10480, 'overlap': 10481, 'overlook': 10482, 'overlooking': 10483, 'overlooks': 10484, 'overmedications': 10485, 'overnight': 10486, 'overplay': 10487, 'overpopulation': 10488, 'overpower': 10489, 'overrated': 10490, 'overreaction': 10491, 'override': 10492, 'overs': 10493, 'overscheduled': 10494, 'overseas': 10495, 'overshadowed': 10496, 'oversight': 10497, 'oversimplification': 10498, 'oversimplified': 10499, 'overstated': 10500, 'overstatement': 10501, 'overtake': 10502, 'overtaken': 10503, 'overturned': 10504, 'overview': 10505, 'overwhelm': 10506, 'overwhelmed': 10507, 'overwhelming': 10508, 'overwhelmingly': 10509, 'owe': 10510, 'owed': 10511, 'own': 10512, 'owned': 10513, 'owner': 10514, 'owners': 10515, 'ownership': 10516, 'owning': 10517, 'owns': 10518, 'oxfam': 10519, 'oxford': 10520, 'oxfordtrained': 10521, 'oxidase': 10522, 'oxus': 10523, 'oxygen': 10524, 'oxymorons': 10525, 'oxytocin': 10526, 'oz': 10527, 'pace': 10528, 'pacemaker': 10529, 'pacemakers': 10530, 'paces': 10531, 'pacific': 10532, 'pacifists': 10533, 'pack': 10534, 'package': 10535, 'packaged': 10536, 'packaging': 10537, 'packed': 10538, 'packed”': 10539, 'packers': 10540, 'packet': 10541, 'packets': 10542, 'packing': 10543, 'pact': 10544, 'pad': 10545, 'paddy': 10546, 'pads': 10547, 'page': 10548, 'pages': 10549, 'paid': 10550, 'paige': 10551, 'pain': 10552, 'painful': 10553, 'painfully': 10554, 'pains': 10555, 'paint': 10556, 'painted': 10557, 'painted”': 10558, 'painting': 10559, 'paintings': 10560, 'paints': 10561, 'pair': 10562, 'pairs': 10563, 'pairs”': 10564, 'paisa': 10565, 'pajama': 10566, 'pajamas': 10567, 'pakistan': 10568, 'pakistani': 10569, 'pakistaniranian': 10570, 'pakistanis': 10571, 'pakistans': 10572, 'palace': 10573, 'pale': 10574, 'paleontologists': 10575, 'paleontology': 10576, 'palestine': 10577, 'palestinian': 10578, 'palestinians': 10579, 'palm': 10580, 'palms': 10581, 'palmyra': 10582, 'palo': 10583, 'palpable': 10584, 'pals': 10585, 'pamela': 10586, 'pan': 10587, 'panchen': 10588, 'pancreatic': 10589, 'panda': 10590, 'pandemic': 10591, 'pandoras': 10592, 'panel': 10593, 'panels': 10594, 'panhandle': 10595, 'panic': 10596, 'panicked': 10597, 'pani”': 10598, 'panning': 10599, 'panorama': 10600, 'panoramic': 10601, 'panosian': 10602, 'panties': 10603, 'pants': 10604, 'pants”': 10605, 'pantyhose': 10606, 'papau': 10607, 'paper': 10608, 'paperback': 10609, 'paperbased': 10610, 'paperless': 10611, 'paperqualified': 10612, 'papers': 10613, 'papua': 10614, 'papusay': 10615, 'papyrus': 10616, 'par': 10617, 'parable': 10618, 'parabolic': 10619, 'parachute': 10620, 'parade': 10621, 'paradigm': 10622, 'paradigms': 10623, 'paradise': 10624, 'paradise”': 10625, 'paradox': 10626, 'paradoxically': 10627, 'paragraph': 10628, 'parallel': 10629, 'parallelogram': 10630, 'paralysis': 10631, 'paralyzed': 10632, 'parameterize': 10633, 'parameters': 10634, 'paranormal': 10635, 'parasite': 10636, 'parcel': 10637, 'parched': 10638, 'pardas': 10639, 'pardon': 10640, 'parent': 10641, 'parenthetically': 10642, 'parenting': 10643, 'parents': 10644, 'paris': 10645, 'parity': 10646, 'park': 10647, 'parked': 10648, 'parker': 10649, 'parking': 10650, 'parkland': 10651, 'parks': 10652, 'parliament': 10653, 'parochial': 10654, 'parodies': 10655, 'parody': 10656, 'parol': 10657, 'parole': 10658, 'parpola': 10659, 'parpolas': 10660, 'parsec': 10661, 'parsipur': 10662, 'part': 10663, 'partake': 10664, 'partially': 10665, 'participant': 10666, 'participants': 10667, 'participate': 10668, 'participated': 10669, 'participating': 10670, 'participation': 10671, 'participatory': 10672, 'particle': 10673, 'particles': 10674, 'particles”': 10675, 'particular': 10676, 'particularly': 10677, 'parties': 10678, 'parting': 10679, 'partisan': 10680, 'partition': 10681, 'partly': 10682, 'partner': 10683, 'partnership': 10684, 'partnerships': 10685, 'partons': 10686, 'parts': 10687, 'partum': 10688, 'party': 10689, 'pasadena': 10690, 'pascal': 10691, 'pashto': 10692, 'pass': 10693, 'passage': 10694, 'passed': 10695, 'passenger': 10696, 'passengers': 10697, 'passerby': 10698, 'passes': 10699, 'passing': 10700, 'passion': 10701, 'passionate': 10702, 'passionately': 10703, 'passions': 10704, 'passive': 10705, 'passively': 10706, 'passover': 10707, 'passport': 10708, 'passports': 10709, 'password': 10710, 'passwords': 10711, 'pass”': 10712, 'past': 10713, 'paste': 10714, 'pasted': 10715, 'pasteur': 10716, 'pasting': 10717, 'pastoralists': 10718, 'patch': 10719, 'patches': 10720, 'patel': 10721, 'patent': 10722, 'patented': 10723, 'patently': 10724, 'patents': 10725, 'paternity': 10726, 'path': 10727, 'pathan': 10728, 'pathetic': 10729, 'pathogen': 10730, 'pathogenic”': 10731, 'pathological': 10732, 'pathology': 10733, 'paths': 10734, 'pathway': 10735, 'pathways': 10736, 'patience': 10737, 'patient': 10738, 'patientcentered': 10739, 'patientcentric': 10740, 'patients': 10741, 'patientspecific': 10742, 'patient”': 10743, 'patkars': 10744, 'patricia': 10745, 'patrick': 10746, 'patriotic': 10747, 'patronage': 10748, 'patronize': 10749, 'patronizing': 10750, 'pattern': 10751, 'patterned': 10752, 'patterning': 10753, 'patterns': 10754, 'patternseeking': 10755, 'paul': 10756, 'paulo': 10757, 'pause': 10758, 'paused': 10759, 'pauses': 10760, 'paved': 10761, 'pavement': 10762, 'paw': 10763, 'paws': 10764, 'pay': 10765, 'paycheck': 10766, 'paying': 10767, 'payload': 10768, 'payloads': 10769, 'payment': 10770, 'payments': 10771, 'payoff': 10772, 'pays': 10773, 'pc': 10774, 'peace': 10775, 'peaceful': 10776, 'peacefully': 10777, 'peacekeepers': 10778, 'peacekeeping': 10779, 'peacemaking': 10780, 'peach': 10781, 'peach”': 10782, 'peacock': 10783, 'peak': 10784, 'peaked': 10785, 'peaks': 10786, 'peanut': 10787, 'peanuts': 10788, 'pearlman': 10789, 'pearls': 10790, 'pearly': 10791, 'pecking': 10792, 'peculiar': 10793, 'pedagogical': 10794, 'pedal': 10795, 'pedestrian': 10796, 'pediatric': 10797, 'pediatrician': 10798, 'peel': 10799, 'peer': 10800, 'peers': 10801, 'peertopeer': 10802, 'peer”': 10803, 'peeves': 10804, 'pegged': 10805, 'peje': 10806, 'pelletizing': 10807, 'pellets': 10808, 'pen': 10809, 'penalize': 10810, 'penalizes': 10811, 'penalosa': 10812, 'penan': 10813, 'pencil': 10814, 'pendant': 10815, 'pendulum': 10816, 'penetrate': 10817, 'penetrated': 10818, 'penetration': 10819, 'penicillin': 10820, 'penn': 10821, 'pennsylvania': 10822, 'penny': 10823, 'pension': 10824, 'pentagon': 10825, 'pentecostalist': 10826, 'pentium': 10827, 'pen”': 10828, 'people': 10829, 'peoplefirst': 10830, 'peoples': 10831, 'people”': 10832, 'pepsi': 10833, 'pepsico': 10834, 'per': 10835, 'percapita': 10836, 'perceive': 10837, 'perceived': 10838, 'perceives': 10839, 'percent': 10840, 'percentage': 10841, 'percentile': 10842, 'percentplus': 10843, 'percentsanitarynapkinusing': 10844, 'perception': 10845, 'perceptions': 10846, 'perceptual': 10847, 'percolator': 10848, 'perdon': 10849, 'perfect': 10850, 'perfected': 10851, 'perfection': 10852, 'perfectionists': 10853, 'perfectly': 10854, 'perfect”': 10855, 'perform': 10856, 'performance': 10857, 'performed': 10858, 'performer': 10859, 'performing': 10860, 'performs': 10861, 'perfumes': 10862, 'perhaps': 10863, 'perimeter': 10864, 'perimeters': 10865, 'period': 10866, 'periodically': 10867, 'periods': 10868, 'peripheral': 10869, 'perish': 10870, 'permanent': 10871, 'permeates': 10872, 'permeating': 10873, 'permission': 10874, 'permissionless': 10875, 'permits': 10876, 'pernicious': 10877, 'perpetual': 10878, 'perpetually': 10879, 'perplexed': 10880, 'perseverance': 10881, 'persian': 10882, 'persist': 10883, 'persistence': 10884, 'persistent': 10885, 'persistently': 10886, 'person': 10887, 'personal': 10888, 'personalities': 10889, 'personality': 10890, 'personalized': 10891, 'personalizing': 10892, 'personally': 10893, 'personas': 10894, 'personified': 10895, 'personify': 10896, 'personnel': 10897, 'persons': 10898, 'persontoperson': 10899, 'person”': 10900, 'perspective': 10901, 'perspectives': 10902, 'perspicacious': 10903, 'perspire': 10904, 'perspiring': 10905, 'persuade': 10906, 'persuaded': 10907, 'persuasion': 10908, 'persuasive': 10909, 'pervasive': 10910, 'perverse': 10911, 'peshawar': 10912, 'pesticide': 10913, 'pet': 10914, 'peter': 10915, 'petersburg': 10916, 'petition': 10917, 'petitions': 10918, 'petri': 10919, 'petrified': 10920, 'petroleumbased': 10921, 'pew': 10922, 'phallic': 10923, 'phantasmagoric': 10924, 'phantom': 10925, 'pharma': 10926, 'pharmaceutical': 10927, 'pharmaceuticals': 10928, 'pharmacological': 10929, 'pharmacology': 10930, 'phase': 10931, 'phd': 10932, 'phds': 10933, 'phenomena': 10934, 'phenomenal': 10935, 'phenomenon': 10936, 'phil': 10937, 'philadelphia': 10938, 'philanthropic': 10939, 'philanthropy': 10940, 'philharmonic': 10941, 'philip': 10942, 'philippines': 10943, 'philodendron': 10944, 'philosopher': 10945, 'philosophers': 10946, 'philosophical': 10947, 'philosophizing': 10948, 'philosophy': 10949, 'philosophy”': 10950, 'phoenix': 10951, 'phone': 10952, 'phonemes': 10953, 'phones': 10954, 'phone”': 10955, 'phoniness': 10956, 'phony': 10957, 'phosphorescent': 10958, 'photo': 10959, 'photobooth': 10960, 'photocopier': 10961, 'photocopies': 10962, 'photocopy': 10963, 'photocopying': 10964, 'photograph': 10965, 'photographed': 10966, 'photographer': 10967, 'photographers': 10968, 'photographic': 10969, 'photographing': 10970, 'photographs': 10971, 'photography': 10972, 'photons': 10973, 'photoplethysmography': 10974, 'photorealism': 10975, 'photorealistic': 10976, 'photos': 10977, 'photoshop': 10978, 'photosynth': 10979, 'phrase': 10980, 'phrases': 10981, 'phrasing': 10982, 'physical': 10983, 'physically': 10984, 'physicians': 10985, 'physicist': 10986, 'physicists': 10987, 'physics': 10988, 'physiological': 10989, 'physiologically': 10990, 'physiology': 10991, 'pianist': 10992, 'piano': 10993, 'pick': 10994, 'picked': 10995, 'picking': 10996, 'pickles': 10997, 'picks': 10998, 'picnic': 10999, 'picnics': 11000, 'pictographs': 11001, 'picture': 11002, 'pictured': 11003, 'pictures': 11004, 'picture”': 11005, 'pidgin': 11006, 'pie': 11007, 'piece': 11008, 'pieces': 11009, 'piece”': 11010, 'pierson': 11011, 'pies': 11012, 'pie”': 11013, 'piggy': 11014, 'pigmentosa': 11015, 'pigs': 11016, 'pile': 11017, 'piled': 11018, 'piles': 11019, 'pilgrimage': 11020, 'pilgrimage”': 11021, 'pillar': 11022, 'pillars': 11023, 'pillow': 11024, 'pillows': 11025, 'pills': 11026, 'pilot': 11027, 'pilots': 11028, 'pimps': 11029, 'pin': 11030, 'pinch': 11031, 'pinched': 11032, 'pinching': 11033, 'pinewood': 11034, 'ping': 11035, 'pink': 11036, 'pinnacle': 11037, 'pinnacles': 11038, 'pinning': 11039, 'pins': 11040, 'pinta': 11041, 'pioneer': 11042, 'pioneering': 11043, 'pipa': 11044, 'pipe': 11045, 'piped': 11046, 'piper': 11047, 'piracy': 11048, 'piracy”': 11049, 'pirouette': 11050, 'pissed': 11051, 'pit': 11052, 'pitagora”': 11053, 'pitch': 11054, 'pitched': 11055, 'pitches': 11056, 'pitied': 11057, 'pitiful': 11058, 'pitifully': 11059, 'pity': 11060, 'pixels': 11061, 'pixie”': 11062, 'pizza': 11063, 'pk': 11064, 'place': 11065, 'placed': 11066, 'placement': 11067, 'places': 11068, 'place”': 11069, 'placing': 11070, 'plagues': 11071, 'plain': 11072, 'plaiting': 11073, 'plan': 11074, 'planar': 11075, 'planck': 11076, 'plane': 11077, 'planes': 11078, 'planet': 11079, 'planetary': 11080, 'planethunting': 11081, 'planets': 11082, 'planet”': 11083, 'plank': 11084, 'planned': 11085, 'planner': 11086, 'planners': 11087, 'planning': 11088, 'plans': 11089, 'plant': 11090, 'plants': 11091, 'plastic': 11092, 'plasticity': 11093, 'plate': 11094, 'plates': 11095, 'platform': 11096, 'platforms': 11097, 'plato': 11098, 'platonic': 11099, 'plausible': 11100, 'play': 11101, 'playbyplay': 11102, 'played': 11103, 'player': 11104, 'players': 11105, 'player”': 11106, 'playful': 11107, 'playground': 11108, 'playhouse': 11109, 'playing': 11110, 'plays': 11111, 'playstation': 11112, 'play”': 11113, 'plaza': 11114, 'plazas': 11115, 'plc': 11116, 'plcs': 11117, 'plea': 11118, 'pleaching': 11119, 'pleasant': 11120, 'please': 11121, 'pleased': 11122, 'please”': 11123, 'pleasure': 11124, 'pleasures': 11125, 'pleas”': 11126, 'pledged': 11127, 'pleiades': 11128, 'plenty': 11129, 'plenty”': 11130, 'plight': 11131, 'plot': 11132, 'plotline': 11133, 'plots': 11134, 'plotting': 11135, 'plowshares': 11136, 'plucked': 11137, 'plug': 11138, 'plugged': 11139, 'plumbing': 11140, 'plunge': 11141, 'plunged': 11142, 'plural': 11143, 'pluralism': 11144, 'pluralist': 11145, 'pluralistic': 11146, 'pluripotent': 11147, 'plus': 11148, 'pluses': 11149, 'plusses': 11150, 'ply': 11151, 'pm': 11152, 'pneumatics': 11153, 'pneumonia': 11154, 'pochampally': 11155, 'pocket': 11156, 'pockets': 11157, 'pod': 11158, 'poem': 11159, 'poems': 11160, 'poet': 11161, 'poetic': 11162, 'poetry': 11163, 'poets': 11164, 'poignancy': 11165, 'point': 11166, 'pointed': 11167, 'pointing': 11168, 'pointless”': 11169, 'points': 11170, 'points”': 11171, 'poised': 11172, 'poison': 11173, 'poisonings': 11174, 'poke': 11175, 'poked': 11176, 'poker': 11177, 'poking': 11178, 'poland': 11179, 'polar': 11180, 'poldrack': 11181, 'pole': 11182, 'polemics': 11183, 'poles': 11184, 'police': 11185, 'policed': 11186, 'policeman': 11187, 'policemen': 11188, 'police”': 11189, 'policies': 11190, 'policing': 11191, 'policy': 11192, 'policymakers': 11193, 'policymaking': 11194, 'policyorientation': 11195, 'polio': 11196, 'polish': 11197, 'polished': 11198, 'polishing': 11199, 'polite': 11200, 'politely': 11201, 'politeness': 11202, 'political': 11203, 'politically': 11204, 'politician': 11205, 'politicians': 11206, 'politics': 11207, 'polka': 11208, 'poll': 11209, 'polle': 11210, 'pollen': 11211, 'pollinate': 11212, 'pollinates': 11213, 'pollination': 11214, 'pollinator': 11215, 'pollinators': 11216, 'polling': 11217, 'pollock': 11218, 'polls': 11219, 'polluting': 11220, 'pollution': 11221, 'polo': 11222, 'polycentric': 11223, 'polychromatic': 11224, 'polyester': 11225, 'polyethylenebased': 11226, 'polygons': 11227, 'polymer': 11228, 'polynesian': 11229, 'polyurethane': 11230, 'pond': 11231, 'ponds': 11232, 'pong': 11233, 'ponies': 11234, 'ponytail': 11235, 'ponytails': 11236, 'pool': 11237, 'poop': 11238, 'poor': 11239, 'poorer': 11240, 'poorest': 11241, 'poorly': 11242, 'poor”': 11243, 'pop': 11244, 'popcorn': 11245, 'pope': 11246, 'popped': 11247, 'popping': 11248, 'poppins': 11249, 'poppy': 11250, 'pops': 11251, 'popsicles': 11252, 'popular': 11253, 'popularity': 11254, 'popularly': 11255, 'populated': 11256, 'populates': 11257, 'population': 11258, 'populations': 11259, 'populous': 11260, 'popups': 11261, 'porcupine': 11262, 'pores': 11263, 'porfirio': 11264, 'porn': 11265, 'pornography': 11266, 'porosity': 11267, 'porous': 11268, 'pors': 11269, 'portable': 11270, 'portal': 11271, 'porter': 11272, 'portfolio': 11273, 'portfolios': 11274, 'portions': 11275, 'portland': 11276, 'porto': 11277, 'portrait': 11278, 'portraits': 11279, 'portrayed': 11280, 'ports': 11281, 'portugal': 11282, 'posadas': 11283, 'pose': 11284, 'posed': 11285, 'poses': 11286, 'posh': 11287, 'position': 11288, 'positions': 11289, 'positive': 11290, 'positively': 11291, 'positivity': 11292, 'possess': 11293, 'possessed': 11294, 'possibilities': 11295, 'possibility': 11296, 'possible': 11297, 'possible”': 11298, 'possibly': 11299, 'post': 11300, 'posted': 11301, 'postelection': 11302, 'posten': 11303, 'poster': 11304, 'posterbirds': 11305, 'posters': 11306, 'postgraduate': 11307, 'posting': 11308, 'postings': 11309, 'postpone': 11310, 'postponed': 11311, 'postponing': 11312, 'postretirement': 11313, 'posts': 11314, 'posture': 11315, 'pot': 11316, 'potassium': 11317, 'potato': 11318, 'potatoes': 11319, 'potency': 11320, 'potent': 11321, 'potential': 11322, 'potentially': 11323, 'potholes': 11324, 'pottery': 11325, 'potty': 11326, 'pound': 11327, 'pounds': 11328, 'poundsworth': 11329, 'pour': 11330, 'poured': 11331, 'pouring': 11332, 'poverty': 11333, 'povertystricken': 11334, 'powder': 11335, 'powell': 11336, 'power': 11337, 'powered': 11338, 'powerful': 11339, 'powerhouse': 11340, 'powerpoint': 11341, 'powers': 11342, 'power”': 11343, 'pr': 11344, 'practical': 11345, 'practicalities': 11346, 'practically': 11347, 'practice': 11348, 'practices': 11349, 'practicing': 11350, 'practitioners': 11351, 'pradesh': 11352, 'pragmatic': 11353, 'prague': 11354, 'praise': 11355, 'prajapati': 11356, 'pranav': 11357, 'pranitha': 11358, 'pranithas': 11359, 'pratesh': 11360, 'pratts': 11361, 'pray': 11362, 'prayed': 11363, 'prayer': 11364, 'prayers': 11365, 'praying': 11366, 'pray”': 11367, 'preach': 11368, 'preacher': 11369, 'preaching': 11370, 'prealgebra': 11371, 'preamble': 11372, 'prebiotic': 11373, 'precalculus': 11374, 'precautions': 11375, 'precedent': 11376, 'preceding': 11377, 'preceeding': 11378, 'precepts': 11379, 'precious': 11380, 'precipice': 11381, 'precipitating': 11382, 'precise': 11383, 'precisely': 11384, 'precision': 11385, 'preconceived': 11386, 'precursor': 11387, 'predecessor': 11388, 'predecessors': 11389, 'predestined': 11390, 'predicament': 11391, 'predict': 11392, 'predictability': 11393, 'predictable': 11394, 'predicted': 11395, 'predicting': 11396, 'prediction': 11397, 'predictions': 11398, 'predicts': 11399, 'predigital': 11400, 'predisposition': 11401, 'predominantly': 11402, 'predominately': 11403, 'preemptive': 11404, 'preexisting': 11405, 'prefab': 11406, 'prefer': 11407, 'preferred': 11408, 'prefrontal': 11409, 'pregnant': 11410, 'pregrowing': 11411, 'prehistory': 11412, 'preity': 11413, 'prejudice': 11414, 'prelude': 11415, 'premedieval': 11416, 'premiere': 11417, 'premise': 11418, 'premium': 11419, 'prenatal': 11420, 'prepaid': 11421, 'preparation': 11422, 'prepare': 11423, 'prepared': 11424, 'preparedness': 11425, 'preparing': 11426, 'prepping': 11427, 'preprogrammed': 11428, 'preps': 11429, 'prerecorded': 11430, 'pres': 11431, 'prescribed': 11432, 'prescribes': 11433, 'prescription': 11434, 'presence': 11435, 'present': 11436, 'presentation': 11437, 'presentday': 11438, 'presented': 11439, 'presenting': 11440, 'presently': 11441, 'presents': 11442, 'preserve': 11443, 'president': 11444, 'presidential': 11445, 'presidents': 11446, 'press': 11447, 'pressed': 11448, 'pressure': 11449, 'pressured': 11450, 'pressures': 11451, 'prestige': 11452, 'preston': 11453, 'presumably': 11454, 'presume': 11455, 'pretend': 11456, 'pretending': 11457, 'pretends': 11458, 'pretense': 11459, 'pretest': 11460, 'pretty': 11461, 'prevailed': 11462, 'prevails': 11463, 'prevalence': 11464, 'prevalently': 11465, 'prevent': 11466, 'preventable': 11467, 'prevented': 11468, 'preventing': 11469, 'prevention': 11470, 'preventive': 11471, 'previous': 11472, 'previously': 11473, 'pri': 11474, 'price': 11475, 'priceless': 11476, 'prices': 11477, 'pricing': 11478, 'prick': 11479, 'pricking': 11480, 'pricks': 11481, 'pride': 11482, 'priest': 11483, 'priesthood': 11484, 'priests': 11485, 'prim': 11486, 'primarily': 11487, 'primary': 11488, 'primates': 11489, 'prime': 11490, 'primetime': 11491, 'primitive': 11492, 'primrose': 11493, 'princes': 11494, 'principal': 11495, 'principle': 11496, 'principled': 11497, 'principles': 11498, 'print': 11499, 'printed': 11500, 'printer': 11501, 'printing': 11502, 'printout': 11503, 'prints': 11504, 'prior': 11505, 'priorities': 11506, 'prioritize': 11507, 'priority': 11508, 'prison': 11509, 'prisoner': 11510, 'prisoners': 11511, 'privacy': 11512, 'private': 11513, 'privatization': 11514, 'privatize': 11515, 'privatized': 11516, 'privilege': 11517, 'privileged': 11518, 'privy': 11519, 'prize': 11520, 'prized': 11521, 'prizes': 11522, 'proactive': 11523, 'proactively': 11524, 'proaging': 11525, 'probabilities': 11526, 'probability': 11527, 'probably': 11528, 'probe': 11529, 'probiotic': 11530, 'problem': 11531, 'problematic': 11532, 'problems': 11533, 'problemsolving': 11534, 'problems”': 11535, 'problem”': 11536, 'proboscis': 11537, 'procedure': 11538, 'procedure”': 11539, 'proceed': 11540, 'proceeded': 11541, 'process': 11542, 'processed': 11543, 'processes': 11544, 'processing': 11545, 'processor': 11546, 'processors': 11547, 'procrastinator”': 11548, 'procreate': 11549, 'procreation': 11550, 'proctor': 11551, 'procuring': 11552, 'prodder': 11553, 'prodding': 11554, 'produce': 11555, 'produced': 11556, 'producer': 11557, 'producers': 11558, 'produces': 11559, 'producing': 11560, 'product': 11561, 'production': 11562, 'productions': 11563, 'productive': 11564, 'productively': 11565, 'productivity': 11566, 'products': 11567, 'product”': 11568, 'profession': 11569, 'professional': 11570, 'professionalism': 11571, 'professionally': 11572, 'professionals': 11573, 'professionals”': 11574, 'profession”': 11575, 'professor': 11576, 'professors': 11577, 'proficient': 11578, 'profile': 11579, 'profiles': 11580, 'profit': 11581, 'profitable': 11582, 'profitably': 11583, 'profits': 11584, 'profound': 11585, 'profoundly': 11586, 'profusely': 11587, 'proglobalizers': 11588, 'progovernment': 11589, 'program': 11590, 'programmable': 11591, 'programmed': 11592, 'programmers': 11593, 'programming': 11594, 'programs': 11595, 'progress': 11596, 'progressing': 11597, 'progression': 11598, 'progressions': 11599, 'progressive': 11600, 'progress”': 11601, 'prohibitive': 11602, 'project': 11603, 'projected': 11604, 'projecting': 11605, 'projection': 11606, 'projector': 11607, 'projects': 11608, 'project”': 11609, 'projustice': 11610, 'proliferation': 11611, 'prolong': 11612, 'prometheus': 11613, 'promiscuous': 11614, 'promise': 11615, 'promised': 11616, 'promises': 11617, 'promising': 11618, 'promote': 11619, 'promoted': 11620, 'promotes': 11621, 'promoting': 11622, 'promotion': 11623, 'prone': 11624, 'pronunciation': 11625, 'proof': 11626, 'prop': 11627, 'propaganda': 11628, 'propaganda”': 11629, 'propagandist': 11630, 'propane': 11631, 'propel': 11632, 'propeller': 11633, 'propensity': 11634, 'proper': 11635, 'properly': 11636, 'properly”': 11637, 'properties': 11638, 'property': 11639, 'prophecy': 11640, 'prophesy': 11641, 'prophet': 11642, 'prophets': 11643, 'proponents': 11644, 'proportion': 11645, 'proportional': 11646, 'proportionally': 11647, 'proportions': 11648, 'proposal': 11649, 'proposals': 11650, 'propose': 11651, 'proposed': 11652, 'proposers': 11653, 'proposes': 11654, 'proposing': 11655, 'proposition': 11656, 'proprietors': 11657, 'props': 11658, 'propulsion': 11659, 'prose': 11660, 'prosecuted': 11661, 'proselytizing': 11662, 'prospect': 11663, 'prospects': 11664, 'prospect”': 11665, 'prosper': 11666, 'prosperity': 11667, 'prosperous': 11668, 'prostate': 11669, 'prosthesis': 11670, 'prosthetic': 11671, 'prosthetics': 11672, 'prostitute': 11673, 'prostituted': 11674, 'prostitutes': 11675, 'prostitution': 11676, 'prostrate': 11677, 'prostrated': 11678, 'prostration': 11679, 'protect': 11680, 'protected': 11681, 'protection': 11682, 'protectip': 11683, 'protector': 11684, 'protectors': 11685, 'protects': 11686, 'protect”': 11687, 'protege': 11688, 'proteges': 11689, 'protein': 11690, 'proteolysis': 11691, 'protest': 11692, 'protestant': 11693, 'protesters': 11694, 'protesting': 11695, 'protests': 11696, 'protocol': 11697, 'proton': 11698, 'protons': 11699, 'prototype': 11700, 'prototypes': 11701, 'prototyping': 11702, 'proud': 11703, 'proudly': 11704, 'prove': 11705, 'proved': 11706, 'proven': 11707, 'provence': 11708, 'proverb': 11709, 'proverbs': 11710, 'proves': 11711, 'provide': 11712, 'provided': 11713, 'providence': 11714, 'providencia': 11715, 'providencia”': 11716, 'provider': 11717, 'provides': 11718, 'providing': 11719, 'province': 11720, 'proving': 11721, 'provisioning': 11722, 'provocative': 11723, 'provoke': 11724, 'provoked': 11725, 'prowl': 11726, 'proxies': 11727, 'proximity': 11728, 'pry': 11729, 'pseudoscience': 11730, 'psi': 11731, 'psych': 11732, 'psyche': 11733, 'psychedelic': 11734, 'psyches': 11735, 'psychiatrist': 11736, 'psychiatrists': 11737, 'psychics': 11738, 'psychoactive': 11739, 'psychoanalysis': 11740, 'psychoanalyst': 11741, 'psychological': 11742, 'psychologist': 11743, 'psychologists': 11744, 'psychology': 11745, 'psychotria': 11746, 'psycho”': 11747, 'pub': 11748, 'puberty': 11749, 'public': 11750, 'publication': 11751, 'publichealth': 11752, 'publicist': 11753, 'publicly': 11754, 'publiclyfunded': 11755, 'publicprivate': 11756, 'publics': 11757, 'public”': 11758, 'publish': 11759, 'published': 11760, 'publisher': 11761, 'publishers': 11762, 'publishes': 11763, 'publishing': 11764, 'pubs': 11765, 'puckerbrush': 11766, 'puckered': 11767, 'puddle': 11768, 'pudong': 11769, 'puducherry': 11770, 'puerto': 11771, 'puja': 11772, 'pull': 11773, 'pulled': 11774, 'pulley': 11775, 'pulleys': 11776, 'pulling': 11777, 'pullman': 11778, 'pulls': 11779, 'pulpit': 11780, 'pulse': 11781, 'pulses': 11782, 'pump': 11783, 'pumped': 11784, 'pumps': 11785, 'punch': 11786, 'punctuated': 11787, 'punctured': 11788, 'pune': 11789, 'punish': 11790, 'punishment': 11791, 'punishments': 11792, 'punk': 11793, 'puppet': 11794, 'puppetry': 11795, 'puppets': 11796, 'puppy': 11797, 'purchase': 11798, 'purchased': 11799, 'purchases': 11800, 'purchasing': 11801, 'pure': 11802, 'purgatory': 11803, 'purity': 11804, 'purpose': 11805, 'purposed': 11806, 'purposedriven': 11807, 'purposefully': 11808, 'purposes': 11809, 'purse': 11810, 'pursue': 11811, 'pursued': 11812, 'pursuing': 11813, 'pursuit': 11814, 'purulia': 11815, 'purview': 11816, 'push': 11817, 'pushcart': 11818, 'pushcarts': 11819, 'pushed': 11820, 'pushers': 11821, 'pushes': 11822, 'pushing': 11823, 'put': 11824, 'puts': 11825, 'putting': 11826, 'puzzle': 11827, 'puzzled': 11828, 'puzzlement': 11829, 'puzzles': 11830, 'pygmies': 11831, 'pygmies”': 11832, 'pygmy': 11833, 'pyramid': 11834, 'pythagoras': 11835, 'pythagorean': 11836, 'q': 11837, 'qomolangma': 11838, 'qq': 11839, 'quacks': 11840, 'quadir': 11841, 'quadro': 11842, 'quadruple': 11843, 'quaint': 11844, 'quake': 11845, 'qualification': 11846, 'qualified': 11847, 'qualifiers': 11848, 'qualify': 11849, 'qualitative': 11850, 'qualities': 11851, 'quality': 11852, 'qualityassurance': 11853, 'quantifiably': 11854, 'quantitative': 11855, 'quantities': 11856, 'quantity': 11857, 'quantum': 11858, 'quarter': 11859, 'quarteracre': 11860, 'quarterinch': 11861, 'quarterly': 11862, 'quarters': 11863, 'quartile': 11864, 'qudsi': 11865, 'queen': 11866, 'queen”': 11867, 'queer': 11868, 'quentin': 11869, 'query': 11870, 'quest': 11871, 'question': 11872, 'questionasking': 11873, 'questioning': 11874, 'questions': 11875, 'question”': 11876, 'queue': 11877, 'quick': 11878, 'quickly': 11879, 'quickwitted': 11880, 'quiet': 11881, 'quietly': 11882, 'quik': 11883, 'quills': 11884, 'quinine': 11885, 'quintiles': 11886, 'quirky': 11887, 'quit': 11888, 'quite': 11889, 'quiz': 11890, 'quizzically': 11891, 'quizzing': 11892, 'quota': 11893, 'quotas': 11894, 'quotation': 11895, 'quote': 11896, 'quoted': 11897, 'quotes': 11898, 'r': 11899, 'rabbi': 11900, 'rabbinic': 11901, 'rabbis': 11902, 'rabbit': 11903, 'rabbits': 11904, 'race': 11905, 'raced': 11906, 'races': 11907, 'racing': 11908, 'racist': 11909, 'racket': 11910, 'radar': 11911, 'radially': 11912, 'radiation': 11913, 'radical': 11914, 'radicalized': 11915, 'radically': 11916, 'radio': 11917, 'radioactive': 11918, 'radios': 11919, 'raffia': 11920, 'rag': 11921, 'ragav': 11922, 'rage': 11923, 'raghupati': 11924, 'raging': 11925, 'rags': 11926, 'raham': 11927, 'rahim': 11928, 'rail': 11929, 'railroad': 11930, 'railway': 11931, 'railways': 11932, 'rain': 11933, 'rainbow': 11934, 'rainbow”': 11935, 'rained': 11936, 'rainfall': 11937, 'rainforest': 11938, 'rainwater': 11939, 'rainy': 11940, 'raise': 11941, 'raised': 11942, 'raises': 11943, 'raising': 11944, 'raisins': 11945, 'raisins”': 11946, 'raja': 11947, 'rajasthan': 11948, 'rally': 11949, 'rallying': 11950, 'ralph': 11951, 'ram': 11952, 'ramadan': 11953, 'ramallah': 11954, 'ramayana': 11955, 'ramki': 11956, 'rampant': 11957, 'rams': 11958, 'ran': 11959, 'rand': 11960, 'randall': 11961, 'randalls': 11962, 'randi': 11963, 'random': 11964, 'randomly': 11965, 'randomness': 11966, 'rang': 11967, 'range': 11968, 'rangefinder': 11969, 'rangers': 11970, 'ranging': 11971, 'ranjani': 11972, 'ranked': 11973, 'rankings': 11974, 'ranks': 11975, 'ransom': 11976, 'ran”': 11977, 'rao': 11978, 'rapacholi': 11979, 'rape': 11980, 'raped': 11981, 'rapes': 11982, 'raphael': 11983, 'rapid': 11984, 'rapidly': 11985, 'raping': 11986, 'rapists': 11987, 'rapport': 11988, 'raqib': 11989, 'raqs': 11990, 'rare': 11991, 'rarely': 11992, 'rarity': 11993, 'rasa': 11994, 'rashani': 11995, 'rat': 11996, 'rate': 11997, 'rates': 11998, 'rather': 11999, 'ratify': 12000, 'rating': 12001, 'ratings': 12002, 'ratio': 12003, 'ration': 12004, 'rational': 12005, 'rationale': 12006, 'rationality': 12007, 'rationed': 12008, 'ratios': 12009, 'rats': 12010, 'rat”': 12011, 'rau': 12012, 'ravens': 12013, 'ravi': 12014, 'ravilla': 12015, 'raw': 12016, 'ray': 12017, 'rayan': 12018, 'rays': 12019, 'razem': 12020, 'rd': 12021, 'reach': 12022, 'reached': 12023, 'reaches': 12024, 'reaching': 12025, 'reach”': 12026, 'react': 12027, 'reacting': 12028, 'reaction': 12029, 'reactions': 12030, 'reactivating': 12031, 'reactive': 12032, 'reactor': 12033, 'read': 12034, 'readable': 12035, 'reader': 12036, 'readers': 12037, 'readership': 12038, 'reading': 12039, 'readings': 12040, 'ready': 12041, 'readymade': 12042, 'reaffirming': 12043, 'reagan': 12044, 'reagents': 12045, 'real': 12046, 'realism': 12047, 'realist': 12048, 'realistic': 12049, 'realities': 12050, 'reality': 12051, 'realitys': 12052, 'realization': 12053, 'realize': 12054, 'realized': 12055, 'realizes': 12056, 'realizing': 12057, 'really': 12058, 'realm': 12059, 'realtime': 12060, 'realworld': 12061, 'real”': 12062, 'rearrange': 12063, 'rearranging': 12064, 'rearview': 12065, 'reason': 12066, 'reasonable': 12067, 'reasoning': 12068, 'reasons': 12069, 'reassures': 12070, 'reassuring': 12071, 'rebecca': 12072, 'rebellion': 12073, 'rebels': 12074, 'reboot': 12075, 'rebrand': 12076, 'rebus': 12077, 'recalibrate': 12078, 'recall': 12079, 'recap': 12080, 'recapitulate': 12081, 'recapitulation': 12082, 'receive': 12083, 'received': 12084, 'receiver': 12085, 'receives': 12086, 'receiving': 12087, 'recent': 12088, 'recently': 12089, 'reception': 12090, 'receptive': 12091, 'recess': 12092, 'recession': 12093, 'recharge': 12094, 'recharged': 12095, 'recipients': 12096, 'reciprocal': 12097, 'recite': 12098, 'reckless': 12099, 'recognition': 12100, 'recognize': 12101, 'recognized': 12102, 'recognizes': 12103, 'recognizing': 12104, 'recommend': 12105, 'recommendation': 12106, 'recommendations”': 12107, 'recommended': 12108, 'reconcile': 12109, 'reconciliation': 12110, 'recondenses': 12111, 'reconditioned': 12112, 'reconnect': 12113, 'reconsider': 12114, 'reconstitute': 12115, 'reconstruction': 12116, 'reconstrued': 12117, 'record': 12118, 'recorded': 12119, 'recorder': 12120, 'recorders': 12121, 'recording': 12122, 'records': 12123, 'recoup': 12124, 'recover': 12125, 'recovering': 12126, 'recovers': 12127, 'recovery': 12128, 'recreate': 12129, 'recreating': 12130, 'recreation': 12131, 'recruited': 12132, 'rectangle': 12133, 'rectangular': 12134, 'recumbent': 12135, 'recurrent': 12136, 'recurring': 12137, 'recut': 12138, 'recycle': 12139, 'recycled': 12140, 'recycler': 12141, 'red': 12142, 'reddit': 12143, 'redditcom': 12144, 'redditors': 12145, 'redefine': 12146, 'redefined': 12147, 'redefining': 12148, 'redemption': 12149, 'redemptive': 12150, 'redesign': 12151, 'redesigned': 12152, 'redesigning': 12153, 'redfield': 12154, 'redipped': 12155, 'rediscover': 12156, 'rediscovered': 12157, 'rediscovering': 12158, 'rediscovery': 12159, 'redlining': 12160, 'redolent': 12161, 'redraw': 12162, 'redshift': 12163, 'reducable': 12164, 'reduce': 12165, 'reduced': 12166, 'reduces': 12167, 'reducible': 12168, 'reducing': 12169, 'reduction': 12170, 'reed': 12171, 'reeeeeeeeach': 12172, 'reengineering': 12173, 'reenvision': 12174, 'reevaluate': 12175, 'reevaporates': 12176, 'refer': 12177, 'referable': 12178, 'refereed': 12179, 'referees': 12180, 'reference': 12181, 'referenced': 12182, 'references': 12183, 'referred': 12184, 'referring': 12185, 'refers': 12186, 'refills': 12187, 'refine': 12188, 'refined': 12189, 'refinements': 12190, 'reflect': 12191, 'reflected': 12192, 'reflecting': 12193, 'reflection': 12194, 'reflective': 12195, 'reform': 12196, 'reformation': 12197, 'reformed': 12198, 'reforming': 12199, 'reforms': 12200, 'reformulated': 12201, 'reframe': 12202, 'reframed': 12203, 'refresh': 12204, 'refresher': 12205, 'refrigerants': 12206, 'refrigerate': 12207, 'refrigerated': 12208, 'refrigeration': 12209, 'refrigerator': 12210, 'refueling': 12211, 'refuge': 12212, 'refugee': 12213, 'refugees': 12214, 'refurbishing': 12215, 'refuse': 12216, 'refused': 12217, 'refusing': 12218, 'regain': 12219, 'regained”': 12220, 'regalia': 12221, 'regard': 12222, 'regarded': 12223, 'regarding': 12224, 'regardless': 12225, 'regards': 12226, 'regenerative': 12227, 'regime': 12228, 'regimes': 12229, 'region': 12230, 'regional': 12231, 'regions': 12232, 'registered': 12233, 'registries': 12234, 'regressed': 12235, 'regression': 12236, 'regret': 12237, 'regretted': 12238, 'regular': 12239, 'regularly': 12240, 'regulars': 12241, 'regulate': 12242, 'regulated': 12243, 'regulations': 12244, 'regurgitating': 12245, 'rehab': 12246, 'rehabilitated': 12247, 'rehabilitation': 12248, 'rehearsal': 12249, 'rehydrating': 12250, 'reigned': 12251, 'reignite': 12252, 'reigns': 12253, 'reinforce': 12254, 'reinforces': 12255, 'reins': 12256, 'reinvent': 12257, 'reinventing': 12258, 'reject': 12259, 'rejected': 12260, 'rejecting': 12261, 'rejection': 12262, 'rejoice': 12263, 'rejuvenate': 12264, 'rejuvenation': 12265, 'rejuvenation”': 12266, 'relate': 12267, 'related': 12268, 'relates': 12269, 'relation': 12270, 'relations': 12271, 'relationship': 12272, 'relationships': 12273, 'relative': 12274, 'relatively': 12275, 'relatives': 12276, 'relativistic': 12277, 'relativity': 12278, 'relaxed': 12279, 'relearn': 12280, 'release': 12281, 'released': 12282, 'relentlessly': 12283, 'relevance': 12284, 'relevant': 12285, 'reliable': 12286, 'reliably': 12287, 'reliant': 12288, 'relic': 12289, 'relics': 12290, 'relied': 12291, 'relief': 12292, 'relies': 12293, 'relieved': 12294, 'religion': 12295, 'religions': 12296, 'religious': 12297, 'religious”': 12298, 'reluctantly': 12299, 'rely': 12300, 'remain': 12301, 'remainder': 12302, 'remained': 12303, 'remaining': 12304, 'remains': 12305, 'remark': 12306, 'remarkable': 12307, 'remarkably': 12308, 'remarks': 12309, 'rembrandt': 12310, 'remedial': 12311, 'remediate': 12312, 'remedies': 12313, 'remember': 12314, 'remembered': 12315, 'remembering': 12316, 'remembers': 12317, 'remi': 12318, 'remind': 12319, 'reminded': 12320, 'reminder': 12321, 'reminders': 12322, 'reminding': 12323, 'reminds': 12324, 'remission': 12325, 'remix': 12326, 'remixes': 12327, 'remixing': 12328, 'remnants': 12329, 'remorse': 12330, 'remote': 12331, 'remotely': 12332, 'remotest': 12333, 'removal': 12334, 'remove': 12335, 'removed': 12336, 'removed”': 12337, 'removing': 12338, 'remya': 12339, 'renaissance': 12340, 'renamed': 12341, 'rend': 12342, 'rendered': 12343, 'rendering': 12344, 'renew': 12345, 'renewable': 12346, 'renewables': 12347, 'renewing': 12348, 'renovating': 12349, 'renown': 12350, 'renowned': 12351, 'rent': 12352, 'rented': 12353, 'renting': 12354, 'renzo': 12355, 'reoccurring': 12356, 'repaid': 12357, 'repair': 12358, 'repairs': 12359, 'repeat': 12360, 'repeated': 12361, 'repeatedly': 12362, 'repeating': 12363, 'repeats': 12364, 'repel': 12365, 'repercussions': 12366, 'repertoire': 12367, 'repetition': 12368, 'replace': 12369, 'replaced': 12370, 'replacement': 12371, 'replacing': 12372, 'replica': 12373, 'replicate': 12374, 'replicated': 12375, 'replication': 12376, 'replied': 12377, 'replies': 12378, 'reply': 12379, 'report': 12380, 'reported': 12381, 'reporter': 12382, 'reporters': 12383, 'reporting': 12384, 'reports': 12385, 'report”': 12386, 'represent': 12387, 'representation': 12388, 'representations': 12389, 'representative': 12390, 'representatives': 12391, 'represented': 12392, 'representing': 12393, 'represents': 12394, 'repress': 12395, 'repression': 12396, 'repressive': 12397, 'reprises': 12398, 'reproduce': 12399, 'reproduction': 12400, 'reproductions': 12401, 'reptilian': 12402, 'republic': 12403, 'republican': 12404, 'republicans': 12405, 'repurposed': 12406, 'repurposes': 12407, 'reputation': 12408, 'request': 12409, 'requesting': 12410, 'require': 12411, 'required': 12412, 'requirement': 12413, 'requirements': 12414, 'requires': 12415, 'requiring': 12416, 'rescue': 12417, 'rescued': 12418, 'research': 12419, 'researcher': 12420, 'researchers': 12421, 'researcherstoryteller': 12422, 'researcherstoryteller”': 12423, 'reselling': 12424, 'resembles': 12425, 'resembling': 12426, 'reservation': 12427, 'reservations': 12428, 'reserve': 12429, 'reserved': 12430, 'reserved”': 12431, 'reserves': 12432, 'reserving': 12433, 'reset': 12434, 'reshape': 12435, 'reshaped': 12436, 'resident': 12437, 'residents': 12438, 'resides': 12439, 'residue': 12440, 'resigned': 12441, 'resilience': 12442, 'resin': 12443, 'resist': 12444, 'resistance': 12445, 'resistant': 12446, 'resize': 12447, 'resolution': 12448, 'resolutions': 12449, 'resolve': 12450, 'resolved': 12451, 'resonant': 12452, 'resonate': 12453, 'resort': 12454, 'resorting': 12455, 'resource': 12456, 'resources': 12457, 'resources”': 12458, 'respect': 12459, 'respectable': 12460, 'respected': 12461, 'respectful': 12462, 'respective': 12463, 'respects': 12464, 'respiration': 12465, 'respite': 12466, 'respond': 12467, 'responded': 12468, 'responder': 12469, 'responders': 12470, 'responding': 12471, 'response': 12472, 'responses': 12473, 'responsibilities': 12474, 'responsibility': 12475, 'responsible': 12476, 'responsive': 12477, 'rest': 12478, 'restaurant': 12479, 'restaurants': 12480, 'restitution': 12481, 'restless': 12482, 'restoration': 12483, 'restorations': 12484, 'restoring': 12485, 'restrained': 12486, 'restriction': 12487, 'restrictions': 12488, 'restrictive': 12489, 'rests': 12490, 'result': 12491, 'resulted': 12492, 'resulting': 12493, 'results': 12494, 'resumes': 12495, 'resurgence': 12496, 'resurrected': 12497, 'resurrection': 12498, 'retail': 12499, 'retailing': 12500, 'retain': 12501, 'retaining': 12502, 'retains': 12503, 'retardation': 12504, 'retards': 12505, 'rethink': 12506, 'retina': 12507, 'retinal': 12508, 'retinitis': 12509, 'retire': 12510, 'retired': 12511, 'retirements': 12512, 'retitles': 12513, 'retrace': 12514, 'retreated': 12515, 'retrofit': 12516, 'retrofitting': 12517, 'return': 12518, 'returned': 12519, 'returning': 12520, 'returns': 12521, 'reunion': 12522, 'reunions': 12523, 'reunited': 12524, 'reuse': 12525, 'reuters': 12526, 'reveal': 12527, 'revealed': 12528, 'reveals': 12529, 'revelation': 12530, 'revelatory': 12531, 'revenge': 12532, 'revenue': 12533, 'revenueearning': 12534, 'revenues': 12535, 'reverberation': 12536, 'revered': 12537, 'reverence': 12538, 'reverend': 12539, 'reverie': 12540, 'reversal': 12541, 'reverse': 12542, 'reverses': 12543, 'reversespeechcom': 12544, 'reversible': 12545, 'reversing': 12546, 'reversion': 12547, 'reverting': 12548, 'review': 12549, 'reviews': 12550, 'revising': 12551, 'revision': 12552, 'revisit': 12553, 'revitalization': 12554, 'revitalize': 12555, 'revolting': 12556, 'revolution': 12557, 'revolutionary': 12558, 'revolutionize': 12559, 'revolutions': 12560, 'revolve': 12561, 'reward': 12562, 'rewarded': 12563, 'rewards': 12564, 'reweaving': 12565, 'rewired': 12566, 'rewrote': 12567, 'rfid': 12568, 'rhetoric': 12569, 'rhino': 12570, 'rhode': 12571, 'rhombus': 12572, 'rhr': 12573, 'rhyme': 12574, 'rhythm': 12575, 'rhythmic': 12576, 'rhythmically': 12577, 'riaz': 12578, 'rib': 12579, 'ribadu': 12580, 'ribbons': 12581, 'ribcage': 12582, 'ribs': 12583, 'riccobono': 12584, 'rice': 12585, 'rich': 12586, 'richard': 12587, 'richards': 12588, 'richer': 12589, 'riches': 12590, 'richest': 12591, 'richness': 12592, 'richter': 12593, 'rick': 12594, 'rico': 12595, 'rico”': 12596, 'rid': 12597, 'ride': 12598, 'rider': 12599, 'rides': 12600, 'ridgeway': 12601, 'ridicule': 12602, 'ridiculed': 12603, 'ridiculous': 12604, 'riding': 12605, 'rifle': 12606, 'rig': 12607, 'right': 12608, 'rightangled': 12609, 'righthand': 12610, 'rightleaning': 12611, 'rightness': 12612, 'rights': 12613, 'rights”': 12614, 'right”': 12615, 'rigid': 12616, 'rigorous': 12617, 'rimless': 12618, 'ring': 12619, 'ringing': 12620, 'rings': 12621, 'rio': 12622, 'riot': 12623, 'riots': 12624, 'rip': 12625, 'ripened': 12626, 'ripped': 12627, 'ripper': 12628, 'ripple': 12629, 'rippled': 12630, 'ripples': 12631, 'rise': 12632, 'rises': 12633, 'rising': 12634, 'risk': 12635, 'riskaverse': 12636, 'risked': 12637, 'riskier': 12638, 'riskiest': 12639, 'risking': 12640, 'risks': 12641, 'risky': 12642, 'ritalin': 12643, 'rites': 12644, 'ritual': 12645, 'ritualism': 12646, 'ritualistic': 12647, 'rituals': 12648, 'rivalries': 12649, 'river': 12650, 'rivers': 12651, 'riverside': 12652, 'rivetless': 12653, 'rivulet': 12654, 'rna': 12655, 'roaches': 12656, 'road': 12657, 'roadrunner': 12658, 'roads': 12659, 'roadside': 12660, 'roads”': 12661, 'road”': 12662, 'roald': 12663, 'roam': 12664, 'roanoke': 12665, 'roast': 12666, 'robbers': 12667, 'robbie': 12668, 'robe': 12669, 'robert': 12670, 'roberthoudin': 12671, 'robes': 12672, 'robin': 12673, 'robinson': 12674, 'robocop': 12675, 'robocup': 12676, 'robot': 12677, 'robotic': 12678, 'roboticists': 12679, 'robotics': 12680, 'robots': 12681, 'robs': 12682, 'robust': 12683, 'rock': 12684, 'rocked': 12685, 'rocket': 12686, 'rockies': 12687, 'rocking': 12688, 'rockports': 12689, 'rocks': 12690, 'rockstar': 12691, 'rocky': 12692, 'rod': 12693, 'rode': 12694, 'rodeo': 12695, 'rodgers': 12696, 'rojadeen': 12697, 'role': 12698, 'roles': 12699, 'rolex': 12700, 'roll': 12701, 'rolled': 12702, 'roller': 12703, 'rollercoaster': 12704, 'rollers': 12705, 'rolling': 12706, 'rolls': 12707, 'roman': 12708, 'romance': 12709, 'romans': 12710, 'romantic': 12711, 'rome': 12712, 'romela': 12713, 'roof': 12714, 'roofing': 12715, 'roofs': 12716, 'rooftops': 12717, 'roof”': 12718, 'rooks': 12719, 'room': 12720, 'roommate': 12721, 'roommates': 12722, 'rooms': 12723, 'roosevelt': 12724, 'roosevelts': 12725, 'root': 12726, 'rooted': 12727, 'roots': 12728, 'rope': 12729, 'rorslett': 12730, 'rory': 12731, 'rose': 12732, 'rosetta': 12733, 'rosey': 12734, 'rosling': 12735, 'ross': 12736, 'rosy': 12737, 'rot': 12738, 'rotate': 12739, 'rotated': 12740, 'rotates': 12741, 'rotating': 12742, 'rotation': 12743, 'rote': 12744, 'rotor': 12745, 'rotors': 12746, 'rotted': 12747, 'rough': 12748, 'roughly': 12749, 'round': 12750, 'round”': 12751, 'rousing': 12752, 'rousseau': 12753, 'rousseff': 12754, 'route': 12755, 'routes': 12756, 'routine': 12757, 'rovers': 12758, 'row': 12759, 'roy': 12760, 'rs': 12761, 'rsp': 12762, 'rub': 12763, 'rubber': 12764, 'rubbish': 12765, 'rubble': 12766, 'ruby': 12767, 'rudyard': 12768, 'rue”': 12769, 'rug': 12770, 'rughal': 12771, 'ruin': 12772, 'ruins': 12773, 'rukh': 12774, 'rule': 12775, 'ruled': 12776, 'rulers': 12777, 'rules': 12778, 'ruling': 12779, 'rum': 12780, 'rumi': 12781, 'rumis': 12782, 'run': 12783, 'runner': 12784, 'runners': 12785, 'running': 12786, 'runoff': 12787, 'runs': 12788, 'runs”': 12789, 'runway': 12790, 'run”': 12791, 'rupee': 12792, 'rupees': 12793, 'rural': 12794, 'rus': 12795, 'rusesabagina': 12796, 'rush': 12797, 'rushed': 12798, 'rushing': 12799, 'russ': 12800, 'russell': 12801, 'russia': 12802, 'russian': 12803, 'russians': 12804, 'rusty': 12805, 'rut': 12806, 'rutans': 12807, 'ruth': 12808, 'rwanda': 12809, 'rwandan': 12810, 'rwanda”': 12811, 's': 12812, 'sabbath': 12813, 'sachin': 12814, 'sachs': 12815, 'sacred': 12816, 'sacrifice': 12817, 'sacrificing': 12818, 'sad': 12819, 'sadak': 12820, 'sadangi': 12821, 'saddam': 12822, 'saddest': 12823, 'saddled': 12824, 'sadgopal': 12825, 'sadly': 12826, 'sadness': 12827, 'sads': 12828, 'saeed': 12829, 'safari': 12830, 'safe': 12831, 'safely': 12832, 'safer': 12833, 'safest': 12834, 'safety': 12835, 'safeway': 12836, 'sahara': 12837, 'sahib': 12838, 'said': 12839, 'saidstring': 12840, 'saidullah': 12841, 'saidulluh': 12842, 'sailed': 12843, 'sails': 12844, 'saint': 12845, 'saints': 12846, 'sake': 12847, 'sake”': 12848, 'salaam': 12849, 'salad': 12850, 'salads': 12851, 'salaries': 12852, 'salary': 12853, 'sale': 12854, 'sales': 12855, 'salesmen': 12856, 'salinas': 12857, 'saline': 12858, 'saliva': 12859, 'salman': 12860, 'salmon': 12861, 'salsa': 12862, 'salt': 12863, 'salted': 12864, 'salts': 12865, 'salty': 12866, 'saluting': 12867, 'salvador': 12868, 'salvaged': 12869, 'salvation': 12870, 'sam': 12871, 'samara': 12872, 'samaritan': 12873, 'same': 12874, 'sample': 12875, 'sampled': 12876, 'samples': 12877, 'samuel': 12878, 'samuels': 12879, 'san': 12880, 'sanctions': 12881, 'sanctity': 12882, 'sanctuary': 12883, 'sand': 12884, 'sands': 12885, 'sandwich': 12886, 'sandwiches': 12887, 'sandwiching': 12888, 'sandwich”': 12889, 'sandy': 12890, 'sane': 12891, 'saner': 12892, 'sang': 12893, 'sangin': 12894, 'sanitary': 12895, 'sanitation': 12896, 'sanity': 12897, 'sanskrit': 12898, 'santa': 12899, 'sao': 12900, 'saparmurat': 12901, 'sapiens': 12902, 'sara': 12903, 'sarah': 12904, 'sarawak': 12905, 'saree': 12906, 'sarees': 12907, 'sarita': 12908, 'sars': 12909, 'sat': 12910, 'satan': 12911, 'satchels': 12912, 'satchidananda': 12913, 'satellite': 12914, 'satellites': 12915, 'satisfaction': 12916, 'satisfied': 12917, 'satisfy': 12918, 'satisfying': 12919, 'saturated': 12920, 'saturation': 12921, 'saturday': 12922, 'saturdays': 12923, 'saturn': 12924, 'saturnine': 12925, 'saudi': 12926, 'sauri': 12927, 'savage”': 12928, 'save': 12929, 'saved': 12930, 'saves': 12931, 'saville': 12932, 'saving': 12933, 'savings': 12934, 'savior': 12935, 'savior”': 12936, 'savoring': 12937, 'savory': 12938, 'savvy': 12939, 'saw': 12940, 'saws': 12941, 'say': 12942, 'sayed': 12943, 'saying': 12944, 'sayings': 12945, 'saying”': 12946, 'says': 12947, 'say”': 12948, 'scaffolding': 12949, 'scaffolds': 12950, 'scalability': 12951, 'scalable': 12952, 'scale': 12953, 'scaleable': 12954, 'scaled': 12955, 'scales': 12956, 'scaling': 12957, 'scammers': 12958, 'scan': 12959, 'scandals': 12960, 'scanner': 12961, 'scanning': 12962, 'scans': 12963, 'scant': 12964, 'scantron': 12965, 'scarce': 12966, 'scarcely': 12967, 'scarcity': 12968, 'scare': 12969, 'scared': 12970, 'scares': 12971, 'scarier': 12972, 'scaring': 12973, 'scarlet': 12974, 'scarlett': 12975, 'scary': 12976, 'scattered': 12977, 'scenario': 12978, 'scene': 12979, 'scenes': 12980, 'scenic': 12981, 'scent': 12982, 'schedule': 12983, 'schedules': 12984, 'scheffler': 12985, 'schematic': 12986, 'scheme': 12987, 'schemes': 12988, 'schiphol': 12989, 'scholars': 12990, 'scholarship': 12991, 'scholarships': 12992, 'school': 12993, 'schoolbooks': 12994, 'schoolchildren': 12995, 'schoolers”': 12996, 'schoolhouse': 12997, 'schooling': 12998, 'schools': 12999, 'school”': 13000, 'science': 13001, 'sciencefiction': 13002, 'scienceiphizing': 13003, 'sciencerich': 13004, 'sciences': 13005, 'scientific': 13006, 'scientifically': 13007, 'scientist': 13008, 'scientists': 13009, 'scientist”': 13010, 'scissors': 13011, 'sclerosis': 13012, 'scoffing': 13013, 'scold': 13014, 'scolded': 13015, 'scooby': 13016, 'scoot': 13017, 'scope': 13018, 'score': 13019, 'scores': 13020, 'scoring': 13021, 'scorpions': 13022, 'scotch': 13023, 'scott': 13024, 'scourge': 13025, 'scouts': 13026, 'scrap': 13027, 'scraped': 13028, 'scratch': 13029, 'scratched': 13030, 'scratches': 13031, 'scratching': 13032, 'scrawled': 13033, 'scream': 13034, 'screamed': 13035, 'screaming': 13036, 'screeching': 13037, 'screen': 13038, 'screening': 13039, 'screenings': 13040, 'screens': 13041, 'screens”': 13042, 'screw': 13043, 'screwed': 13044, 'scribble': 13045, 'scribe': 13046, 'script': 13047, 'scripted': 13048, 'scripts': 13049, 'scripture': 13050, 'scripture”': 13051, 'scroll': 13052, 'scrolling': 13053, 'scrolls': 13054, 'scrutiny': 13055, 'sculpt': 13056, 'sculpture': 13057, 'sculptures': 13058, 'sea': 13059, 'seabirds': 13060, 'seadragon': 13061, 'seagoing': 13062, 'seal': 13063, 'sealed': 13064, 'sealike': 13065, 'seals': 13066, 'sealskin': 13067, 'seamless': 13068, 'seamlessly': 13069, 'seams': 13070, 'search': 13071, 'searchable': 13072, 'searched': 13073, 'searches': 13074, 'searching': 13075, 'season': 13076, 'seasons': 13077, 'seat': 13078, 'seatbelts': 13079, 'seated': 13080, 'seats': 13081, 'seattle': 13082, 'seawater': 13083, 'sebastian': 13084, 'second': 13085, 'secondarily': 13086, 'secondary': 13087, 'secondfastest': 13088, 'secondhand': 13089, 'secondly': 13090, 'secondquality': 13091, 'seconds': 13092, 'secondstandard': 13093, 'second”': 13094, 'secrecy': 13095, 'secret': 13096, 'secretaries': 13097, 'secretary': 13098, 'secretive': 13099, 'secretly': 13100, 'secrets': 13101, 'secs': 13102, 'section': 13103, 'sections': 13104, 'sector': 13105, 'sectors': 13106, 'secular': 13107, 'secularist': 13108, 'secularized': 13109, 'secure': 13110, 'secured': 13111, 'securing': 13112, 'security': 13113, 'sedimenting': 13114, 'see': 13115, 'seed': 13116, 'seeding': 13117, 'seeds': 13118, 'seeing': 13119, 'seek': 13120, 'seeking': 13121, 'seeks': 13122, 'seem': 13123, 'seemed': 13124, 'seeming': 13125, 'seemingly': 13126, 'seems': 13127, 'seen': 13128, 'seep': 13129, 'sees': 13130, 'see”': 13131, 'segment': 13132, 'segregated': 13133, 'segregation': 13134, 'seismic': 13135, 'seitz': 13136, 'seize': 13137, 'seizing': 13138, 'seizures': 13139, 'seldom': 13140, 'select': 13141, 'selected': 13142, 'selecting': 13143, 'selection': 13144, 'selective': 13145, 'selectively': 13146, 'self': 13147, 'selfblame': 13148, 'selfconfidence': 13149, 'selfconsciously': 13150, 'selfdirected': 13151, 'selfdriving': 13152, 'selfesteem': 13153, 'selfesteem”': 13154, 'selfexcited': 13155, 'selffulfilling': 13156, 'selfhelp': 13157, 'selfidentifies': 13158, 'selfinitiative': 13159, 'selfinterest': 13160, 'selfish': 13161, 'selforganization': 13162, 'selforganize': 13163, 'selforganized': 13164, 'selforganizing': 13165, 'selfpaced': 13166, 'selfportrait': 13167, 'selfportraits': 13168, 'selfrepair': 13169, 'selfreported': 13170, 'selfrule': 13171, 'selfs': 13172, 'selfsufficient': 13173, 'selfupdate': 13174, 'selfupdates': 13175, 'self”': 13176, 'sell': 13177, 'selling': 13178, 'selloum': 13179, 'sells': 13180, 'selves': 13181, 'semantic': 13182, 'semblance': 13183, 'semiautonomous': 13184, 'semiepithetic': 13185, 'semple': 13186, 'sen': 13187, 'senate': 13188, 'senator': 13189, 'senators': 13190, 'send': 13191, 'sendai': 13192, 'sender': 13193, 'sending': 13194, 'sends': 13195, 'senegal': 13196, 'senegalese': 13197, 'seng': 13198, 'senigar': 13199, 'senile': 13200, 'senior': 13201, 'seniority': 13202, 'sensation': 13203, 'sense': 13204, 'senseable': 13205, 'senseless': 13206, 'senses': 13207, 'sensibility': 13208, 'sensible': 13209, 'sensing': 13210, 'sensitive': 13211, 'sensitivity': 13212, 'sensors': 13213, 'sensory': 13214, 'sent': 13215, 'sentence': 13216, 'sentience': 13217, 'sentient': 13218, 'sentimental': 13219, 'separate': 13220, 'separated': 13221, 'separately': 13222, 'separates': 13223, 'separating': 13224, 'separation': 13225, 'september': 13226, 'septuagenarian': 13227, 'sequel': 13228, 'sequence': 13229, 'sequences': 13230, 'sequester': 13231, 'sequestered': 13232, 'sequestration': 13233, 'sequins': 13234, 'sera': 13235, 'serenades': 13236, 'serenity': 13237, 'serial': 13238, 'series': 13239, 'serious': 13240, 'seriously': 13241, 'seriousness': 13242, 'sermon': 13243, 'sermonizing': 13244, 'sermons': 13245, 'sermon”': 13246, 'serotonin': 13247, 'serpentine': 13248, 'servant': 13249, 'servants': 13250, 'servant”': 13251, 'serve': 13252, 'served': 13253, 'server': 13254, 'serverexe': 13255, 'servers': 13256, 'serve”': 13257, 'service': 13258, 'services': 13259, 'services”': 13260, 'serving': 13261, 'servings': 13262, 'servitude': 13263, 'session': 13264, 'sessions': 13265, 'set': 13266, 'setbacks': 13267, 'seth': 13268, 'sethi': 13269, 'sets': 13270, 'setter': 13271, 'setting': 13272, 'settings': 13273, 'settled': 13274, 'settlements': 13275, 'seven': 13276, 'sevenandahalf': 13277, 'seventh': 13278, 'seventhgraders': 13279, 'sevenverse': 13280, 'sevenyearold': 13281, 'sevenyearolds': 13282, 'several': 13283, 'severalhundredpage': 13284, 'severe': 13285, 'severely': 13286, 'sew': 13287, 'sewage': 13288, 'sewers': 13289, 'sewing': 13290, 'sex': 13291, 'sexist': 13292, 'sexual': 13293, 'sexuality': 13294, 'sexually': 13295, 'sexy': 13296, 'sh': 13297, 'shack': 13298, 'shacks': 13299, 'shades': 13300, 'shading': 13301, 'shadow': 13302, 'shadows': 13303, 'shadowy': 13304, 'shadow”': 13305, 'shady': 13306, 'shah': 13307, 'shaheen': 13308, 'shaheens': 13309, 'shahrnush': 13310, 'shaileshkumar': 13311, 'shake': 13312, 'shakers': 13313, 'shakespeare': 13314, 'shakespeares': 13315, 'shaking': 13316, 'shaky': 13317, 'shall': 13318, 'shallow': 13319, 'shalom': 13320, 'shaman': 13321, 'shamans': 13322, 'shame': 13323, 'shameless': 13324, 'shame”': 13325, 'shane': 13326, 'shanghai': 13327, 'shanti': 13328, 'shanty': 13329, 'shape': 13330, 'shaped': 13331, 'shapeless': 13332, 'shapes': 13333, 'shaping': 13334, 'share': 13335, 'shared': 13336, 'shareholders': 13337, 'shares': 13338, 'sharif': 13339, 'sharing': 13340, 'sharmeen': 13341, 'sharp': 13342, 'sharper': 13343, 'sharpie': 13344, 'sharply': 13345, 'shatter': 13346, 'shattered': 13347, 'shaved': 13348, 'shaw': 13349, 'she': 13350, 'shed': 13351, 'shedding': 13352, 'sheep': 13353, 'sheep”': 13354, 'sheer': 13355, 'sheet': 13356, 'sheets': 13357, 'sheets”': 13358, 'sheikh': 13359, 'sheila': 13360, 'shekhar': 13361, 'shelf': 13362, 'shell': 13363, 'shells': 13364, 'shelter': 13365, 'sheltered': 13366, 'shelter”': 13367, 'shelves': 13368, 'shema': 13369, 'shen': 13370, 'shepherd': 13371, 'sheridan': 13372, 'shermer': 13373, 'shes': 13374, 'shettar': 13375, 'shiasunni': 13376, 'shied': 13377, 'shields': 13378, 'shift': 13379, 'shifted': 13380, 'shifting': 13381, 'shigeru': 13382, 'shikari': 13383, 'shillings': 13384, 'shine': 13385, 'shined': 13386, 'shines': 13387, 'shining': 13388, 'shinnecock': 13389, 'shintoism': 13390, 'shiny': 13391, 'ship': 13392, 'shipped': 13393, 'shipping': 13394, 'ships': 13395, 'shirt': 13396, 'shirtless': 13397, 'shirts': 13398, 'shit': 13399, 'shit”': 13400, 'shiv': 13401, 'shivaji': 13402, 'shivers': 13403, 'shock': 13404, 'shocked': 13405, 'shocking': 13406, 'shocks': 13407, 'shodh': 13408, 'shoe': 13409, 'shoebox': 13410, 'shoelaces': 13411, 'shoer': 13412, 'shoes': 13413, 'shoestring': 13414, 'shoes”': 13415, 'shone': 13416, 'shoneys': 13417, 'shoot': 13418, 'shooting': 13419, 'shoots': 13420, 'shop': 13421, 'shopkeepers': 13422, 'shopping': 13423, 'shops': 13424, 'shore': 13425, 'shores': 13426, 'short': 13427, 'shortchanged': 13428, 'shortcut': 13429, 'shortened': 13430, 'shorter': 13431, 'shortest': 13432, 'shortlived': 13433, 'shortly': 13434, 'shorts': 13435, 'shortterm': 13436, 'shorttermist': 13437, 'shot': 13438, 'shots': 13439, 'should': 13440, 'shoulder': 13441, 'shoulders': 13442, 'shouldertoshoulder': 13443, 'shouldnt': 13444, 'shout': 13445, 'shouted': 13446, 'shouting': 13447, 'shoved': 13448, 'shovel': 13449, 'shoveling': 13450, 'show': 13451, 'showed': 13452, 'shower': 13453, 'showered': 13454, 'showering': 13455, 'showers': 13456, 'showing': 13457, 'showman': 13458, 'shown': 13459, 'shows': 13460, 'shrinking': 13461, 'shrinks': 13462, 'shriram': 13463, 'shrub': 13464, 'shrugged”': 13465, 'shrunk': 13466, 'shuffler': 13467, 'shultes': 13468, 'shut': 13469, 'shuts': 13470, 'shutting': 13471, 'shy': 13472, 'shylock': 13473, 'shyness': 13474, 'siberia': 13475, 'siberian': 13476, 'siblings': 13477, 'sichuan': 13478, 'sick': 13479, 'sickening': 13480, 'sickness': 13481, 'siddiqui': 13482, 'side': 13483, 'sidebyside': 13484, 'sideline': 13485, 'sidelined': 13486, 'sides': 13487, 'sideview': 13488, 'sidewalk': 13489, 'sidewalks': 13490, 'sidney': 13491, 'siemens': 13492, 'sierra': 13493, 'sieves': 13494, 'sight': 13495, 'sighted': 13496, 'sigma': 13497, 'sign': 13498, 'signal': 13499, 'signals': 13500, 'signature': 13501, 'signed': 13502, 'significance': 13503, 'significant': 13504, 'significantly': 13505, 'signing': 13506, 'signs': 13507, 'sikh': 13508, 'sikkim': 13509, 'silence': 13510, 'silenced': 13511, 'silences': 13512, 'silent': 13513, 'silently': 13514, 'silicon': 13515, 'silicone': 13516, 'silk': 13517, 'silly': 13518, 'silt': 13519, 'silva': 13520, 'silver': 13521, 'silverman': 13522, 'similar': 13523, 'similarities': 13524, 'similarity': 13525, 'similarly': 13526, 'similes': 13527, 'simon': 13528, 'simple': 13529, 'simpler': 13530, 'simplest': 13531, 'simpleton': 13532, 'simplicity': 13533, 'simplify': 13534, 'simplistic': 13535, 'simply': 13536, 'simpson': 13537, 'simulate': 13538, 'simulating': 13539, 'simulation': 13540, 'simulator': 13541, 'simultaneous': 13542, 'simultaneously': 13543, 'sin': 13544, 'sinai': 13545, 'since': 13546, 'sincere': 13547, 'sing': 13548, 'singapore': 13549, 'singer': 13550, 'singers': 13551, 'singh': 13552, 'singing': 13553, 'single': 13554, 'sings': 13555, 'singular': 13556, 'singularly': 13557, 'sing”': 13558, 'sink': 13559, 'sinkage': 13560, 'sinking': 13561, 'sinks': 13562, 'sinners': 13563, 'sioux': 13564, 'sir': 13565, 'siren': 13566, 'sirens': 13567, 'sir”': 13568, 'sister': 13569, 'sisters': 13570, 'sisyphus': 13571, 'sit': 13572, 'sitcom': 13573, 'site': 13574, 'sites': 13575, 'sitin': 13576, 'sits': 13577, 'sitting': 13578, 'situated': 13579, 'situation': 13580, 'situations': 13581, 'six': 13582, 'sixday': 13583, 'sixfigure': 13584, 'sixfoot': 13585, 'sixinch': 13586, 'sixliter': 13587, 'sixmonther': 13588, 'sixth': 13589, 'sixthsense': 13590, 'sizable': 13591, 'size': 13592, 'sizes': 13593, 'sk': 13594, 'skaters': 13595, 'skating': 13596, 'skeletal': 13597, 'skeleton': 13598, 'skeletons': 13599, 'skeptic': 13600, 'skeptical': 13601, 'skepticcom': 13602, 'skeptics': 13603, 'sketch': 13604, 'sketched': 13605, 'sketches': 13606, 'ski': 13607, 'skiddled': 13608, 'skies': 13609, 'skiing': 13610, 'skill': 13611, 'skillbased': 13612, 'skilled': 13613, 'skillness': 13614, 'skills': 13615, 'skin': 13616, 'skinned': 13617, 'skins': 13618, 'skip': 13619, 'skipping': 13620, 'skirt': 13621, 'skull': 13622, 'skulls': 13623, 'sky': 13624, 'skydiving': 13625, 'skyline': 13626, 'skype': 13627, 'skyrocket': 13628, 'skyscraper': 13629, 'skyscrapers': 13630, 'slab': 13631, 'slackjawed': 13632, 'slam': 13633, 'slaps': 13634, 'slapstick': 13635, 'slash': 13636, 'slashandburn': 13637, 'slate': 13638, 'slaughter': 13639, 'slave': 13640, 'slavery': 13641, 'slaverylike': 13642, 'sled': 13643, 'sleds': 13644, 'sleep': 13645, 'sleepdeprived': 13646, 'sleeping': 13647, 'sleeps': 13648, 'sleepy': 13649, 'sleeve': 13650, 'sleight': 13651, 'slept': 13652, 'slice': 13653, 'slide': 13654, 'slides': 13655, 'slideshow': 13656, 'sliding': 13657, 'slight': 13658, 'slightest': 13659, 'slightly': 13660, 'slim': 13661, 'slingshot': 13662, 'slip': 13663, 'slipped': 13664, 'slippery': 13665, 'slipping': 13666, 'slips': 13667, 'slipups': 13668, 'sloan': 13669, 'slogan': 13670, 'slogans': 13671, 'slope': 13672, 'slopes': 13673, 'slots': 13674, 'slow': 13675, 'slower': 13676, 'slowing': 13677, 'slowly': 13678, 'slowness': 13679, 'slrs': 13680, 'sludge': 13681, 'slug': 13682, 'slugfest': 13683, 'slugs': 13684, 'slum': 13685, 'slums': 13686, 'sm': 13687, 'small': 13688, 'smaller': 13689, 'smallest': 13690, 'smallpox': 13691, 'smallscale': 13692, 'smart': 13693, 'smartbird': 13694, 'smarter': 13695, 'smartest': 13696, 'smashing': 13697, 'smell': 13698, 'smells': 13699, 'smelly': 13700, 'smell”': 13701, 'smelt': 13702, 'smile': 13703, 'smiled': 13704, 'smiler': 13705, 'smiles': 13706, 'smiley': 13707, 'smiling': 13708, 'smith': 13709, 'smiths': 13710, 'smitten': 13711, 'smoke': 13712, 'smokestacks': 13713, 'smoking': 13714, 'smoldering': 13715, 'smooth': 13716, 'smoothened': 13717, 'smothered': 13718, 'sms': 13719, 'smuggled': 13720, 'smurf': 13721, 'snack': 13722, 'snacks': 13723, 'snake': 13724, 'snakes': 13725, 'snap': 13726, 'snapshot': 13727, 'snatching': 13728, 'snavely': 13729, 'sneaking': 13730, 'sneezes': 13731, 'snippets': 13732, 'snob': 13733, 'snobbery': 13734, 'snobbish': 13735, 'snobs': 13736, 'snoopy': 13737, 'snot': 13738, 'snow': 13739, 'snowed': 13740, 'snows': 13741, 'snuck': 13742, 'snuff': 13743, 'snugly': 13744, 'so': 13745, 'soaking': 13746, 'soaks': 13747, 'soandso': 13748, 'soap': 13749, 'soaps': 13750, 'soar': 13751, 'soars': 13752, 'sob': 13753, 'sober': 13754, 'sobule': 13755, 'socalled': 13756, 'soccer': 13757, 'social': 13758, 'socialism': 13759, 'socialist': 13760, 'socialization': 13761, 'socializing': 13762, 'socially': 13763, 'societal': 13764, 'societies': 13765, 'society': 13766, 'societys': 13767, 'society”': 13768, 'sociological': 13769, 'sociologist': 13770, 'sociologists': 13771, 'sociology”': 13772, 'socrates': 13773, 'soda': 13774, 'sofa': 13775, 'soft': 13776, 'softer': 13777, 'softly': 13778, 'software': 13779, 'soil': 13780, 'soiled': 13781, 'soil”': 13782, 'sola': 13783, 'solace': 13784, 'solamorales': 13785, 'solar': 13786, 'solarelectrified': 13787, 'solarelectrify': 13788, 'solarelectrifying': 13789, 'solarlit': 13790, 'sold': 13791, 'soldier': 13792, 'soldiers': 13793, 'sole': 13794, 'solely': 13795, 'soles': 13796, 'solid': 13797, 'solids': 13798, 'solution': 13799, 'solutions': 13800, 'solution”': 13801, 'solve': 13802, 'solved': 13803, 'solves': 13804, 'solving': 13805, 'somali': 13806, 'somalia': 13807, 'somber': 13808, 'some': 13809, 'somebody': 13810, 'somebodys': 13811, 'someday': 13812, 'somehow': 13813, 'someone': 13814, 'someones': 13815, 'someplace': 13816, 'somersault': 13817, 'something': 13818, 'somethings': 13819, 'sometime': 13820, 'sometimes': 13821, 'sometime”': 13822, 'somewhat': 13823, 'somewhere': 13824, 'some”': 13825, 'son': 13826, 'song': 13827, 'songs': 13828, 'sonia': 13829, 'sono': 13830, 'sons': 13831, 'sony': 13832, 'son”': 13833, 'soon': 13834, 'sooner': 13835, 'soothed': 13836, 'sopa': 13837, 'sophisticated': 13838, 'sophistication': 13839, 'sophocles': 13840, 'soren': 13841, 'sorghum': 13842, 'sorrow': 13843, 'sorry': 13844, 'sorry”': 13845, 'sort': 13846, 'sorts': 13847, 'soto': 13848, 'soul': 13849, 'soullike': 13850, 'souls': 13851, 'sound': 13852, 'soundbites': 13853, 'sounded': 13854, 'sounds': 13855, 'soundscapes': 13856, 'soundsensitive': 13857, 'sounds”': 13858, 'soup': 13859, 'source': 13860, 'sources': 13861, 'sourcing': 13862, 'south': 13863, 'southampton': 13864, 'southeast': 13865, 'southeastern': 13866, 'southern': 13867, 'southwest': 13868, 'sovereignty': 13869, 'soviet': 13870, 'sow': 13871, 'soyuz': 13872, 'so”': 13873, 'space': 13874, 'spacecraft': 13875, 'spacecrafts': 13876, 'spaces': 13877, 'spaceship': 13878, 'spaceshipone': 13879, 'spaceships': 13880, 'spacetime': 13881, 'spacial': 13882, 'spades': 13883, 'spadix': 13884, 'spaghetti': 13885, 'spain': 13886, 'spam': 13887, 'span': 13888, 'spaniards': 13889, 'spanish': 13890, 'spans': 13891, 'spare': 13892, 'spark': 13893, 'sparked': 13894, 'sparking': 13895, 'sparse': 13896, 'spatial': 13897, 'spatially': 13898, 'speak': 13899, 'speaker': 13900, 'speakers': 13901, 'speaking': 13902, 'speaking”': 13903, 'speaks': 13904, 'speaks”': 13905, 'spear': 13906, 'speared': 13907, 'spearheaded': 13908, 'spearheading': 13909, 'spearing': 13910, 'special': 13911, 'specialist': 13912, 'specialists': 13913, 'speciality': 13914, 'specialization': 13915, 'specializes': 13916, 'specialness': 13917, 'specialty': 13918, 'species': 13919, 'species”': 13920, 'specific': 13921, 'specifically': 13922, 'specifications': 13923, 'specificity': 13924, 'specified': 13925, 'specimen': 13926, 'specked': 13927, 'specks': 13928, 'specs': 13929, 'spect': 13930, 'spectacular': 13931, 'spectator': 13932, 'spectators': 13933, 'specter': 13934, 'spector': 13935, 'spectroscopy': 13936, 'spectrum': 13937, 'speculating': 13938, 'speculation': 13939, 'speculative': 13940, 'sped': 13941, 'speech': 13942, 'speeches': 13943, 'speechless': 13944, 'speechtotext': 13945, 'speed': 13946, 'speeddriven': 13947, 'speeding': 13948, 'speeds': 13949, 'speedstrip': 13950, 'speedway': 13951, 'spell': 13952, 'spelled': 13953, 'spelling': 13954, 'spend': 13955, 'spending': 13956, 'spends': 13957, 'spent': 13958, 'spew': 13959, 'sphere': 13960, 'spheres': 13961, 'sphincter': 13962, 'spider': 13963, 'spiderman': 13964, 'spiderwebs': 13965, 'spigot': 13966, 'spike': 13967, 'spiked': 13968, 'spikes': 13969, 'spill': 13970, 'spilled': 13971, 'spin': 13972, 'spinal': 13973, 'spine': 13974, 'spinning': 13975, 'spinoff': 13976, 'spins': 13977, 'spiral': 13978, 'spirit': 13979, 'spirits': 13980, 'spiritual': 13981, 'spirituality': 13982, 'spiritually': 13983, 'spit': 13984, 'spite': 13985, 'splashed': 13986, 'splashy': 13987, 'split': 13988, 'splotchy': 13989, 'spoil': 13990, 'spoiled': 13991, 'spoke': 13992, 'spoken': 13993, 'spokes': 13994, 'spokesbot': 13995, 'sponges': 13996, 'sponsor': 13997, 'sponsored': 13998, 'sponsoring': 13999, 'sponsors': 14000, 'spontaneous': 14001, 'spontaneously': 14002, 'spooky': 14003, 'sporadic': 14004, 'sport': 14005, 'sporting': 14006, 'sports': 14007, 'sport”': 14008, 'spot': 14009, 'spotlight': 14010, 'spots': 14011, 'spot”': 14012, 'sprang': 14013, 'spray': 14014, 'sprayed': 14015, 'sprayer': 14016, 'spraying': 14017, 'spread': 14018, 'spreading': 14019, 'spreads': 14020, 'spring': 14021, 'springboard': 14022, 'springs': 14023, 'sprinkler': 14024, 'sprint': 14025, 'sprinting': 14026, 'sprite': 14027, 'sprouted': 14028, 'sprung': 14029, 'spryness': 14030, 'spurlock': 14031, 'sputnik': 14032, 'spying': 14033, 'sq': 14034, 'sql': 14035, 'squads': 14036, 'square': 14037, 'squarefeet': 14038, 'squares': 14039, 'squash': 14040, 'squatter': 14041, 'squeeze': 14042, 'squids': 14043, 'squint': 14044, 'squinting': 14045, 'sr': 14046, 'sri': 14047, 'sristi': 14048, 'st': 14049, 'stab': 14050, 'stability': 14051, 'stabilize': 14052, 'stabilized': 14053, 'stabilizes': 14054, 'stable': 14055, 'stack': 14056, 'stacked': 14057, 'stacks': 14058, 'stadium': 14059, 'staff': 14060, 'staffers': 14061, 'stage': 14062, 'stages': 14063, 'staggering': 14064, 'stainless': 14065, 'stairs': 14066, 'stake': 14067, 'stakeholders': 14068, 'stakes': 14069, 'stalin': 14070, 'stalk': 14071, 'stalking': 14072, 'stamens': 14073, 'stamina': 14074, 'stamp': 14075, 'stamping': 14076, 'stand': 14077, 'standard': 14078, 'standardization': 14079, 'standardized': 14080, 'standards': 14081, 'standing': 14082, 'standpoint': 14083, 'stands': 14084, 'standstill': 14085, 'stanford': 14086, 'stanley': 14087, 'star': 14088, 'starch': 14089, 'stare': 14090, 'stared': 14091, 'stares': 14092, 'staring': 14093, 'starlight': 14094, 'starry': 14095, 'stars': 14096, 'start': 14097, 'started': 14098, 'starting': 14099, 'startled': 14100, 'startling': 14101, 'starts': 14102, 'startup': 14103, 'startups': 14104, 'start”': 14105, 'starvation': 14106, 'starve': 14107, 'starved': 14108, 'starving': 14109, 'stat': 14110, 'state': 14111, 'stated': 14112, 'statement': 14113, 'statements': 14114, 'staten': 14115, 'stateoftheart': 14116, 'stateowned': 14117, 'states': 14118, 'static': 14119, 'statically': 14120, 'statics': 14121, 'stating': 14122, 'station': 14123, 'stationery': 14124, 'stations': 14125, 'statistic': 14126, 'statistical': 14127, 'statistically': 14128, 'statistician': 14129, 'statisticians': 14130, 'statistics': 14131, 'stats': 14132, 'statue': 14133, 'statues': 14134, 'status': 14135, 'stay': 14136, 'stayed': 14137, 'staying': 14138, 'staying”': 14139, 'stays': 14140, 'stcentury': 14141, 'steady': 14142, 'steak': 14143, 'steal': 14144, 'stealing': 14145, 'stealth': 14146, 'stealth”': 14147, 'steam': 14148, 'steel': 14149, 'steep': 14150, 'steeped': 14151, 'steeple”': 14152, 'steer': 14153, 'steering': 14154, 'steinbeck': 14155, 'stella': 14156, 'stem': 14157, 'stenciled': 14158, 'stencils': 14159, 'step': 14160, 'stepbystep': 14161, 'stephen': 14162, 'stepped': 14163, 'steps': 14164, 'stereos': 14165, 'stereotypes': 14166, 'sterilely': 14167, 'sterling': 14168, 'steve': 14169, 'steven': 14170, 'stevens': 14171, 'stewards': 14172, 'stewardship': 14173, 'stewart': 14174, 'stick': 14175, 'sticker': 14176, 'stickers': 14177, 'sticks': 14178, 'stickshift': 14179, 'sticky': 14180, 'stick”': 14181, 'stigmatized': 14182, 'still': 14183, 'stills': 14184, 'stilts': 14185, 'stimulate': 14186, 'stimulates': 14187, 'stimulating': 14188, 'stimulation': 14189, 'stimulus': 14190, 'stink': 14191, 'stir': 14192, 'stirling': 14193, 'stirred': 14194, 'stitched': 14195, 'stitches': 14196, 'stock': 14197, 'stocked': 14198, 'stockpiles': 14199, 'stocks': 14200, 'stole': 14201, 'stolen': 14202, 'stomach': 14203, 'stone': 14204, 'stones': 14205, 'stood': 14206, 'stool': 14207, 'stop': 14208, 'stopmotion': 14209, 'stopped': 14210, 'stopped”': 14211, 'stopping': 14212, 'stops': 14213, 'stopup': 14214, 'storage': 14215, 'store': 14216, 'storebought': 14217, 'stored': 14218, 'storefronts': 14219, 'stores': 14220, 'stories': 14221, 'stories”': 14222, 'storing': 14223, 'storm': 14224, 'storms': 14225, 'stormy': 14226, 'story': 14227, 'storyline': 14228, 'storylines': 14229, 'storyteller': 14230, 'storytellers': 14231, 'storyteller”': 14232, 'storytelling': 14233, 'story”': 14234, 'stove': 14235, 'stow': 14236, 'straddle': 14237, 'straight': 14238, 'straightened': 14239, 'straightforward': 14240, 'strain': 14241, 'strained': 14242, 'strand': 14243, 'strands': 14244, 'strange': 14245, 'strangelove': 14246, 'strangely': 14247, 'strangeness': 14248, 'stranger': 14249, 'strangers': 14250, 'straps': 14251, 'strata': 14252, 'strategic': 14253, 'strategies': 14254, 'strategies”': 14255, 'strategy': 14256, 'stratosphere': 14257, 'straw': 14258, 'stray': 14259, 'stream': 14260, 'streamed': 14261, 'streaming': 14262, 'streams': 14263, 'streams”': 14264, 'street': 14265, 'streetend': 14266, 'streets': 14267, 'streetside': 14268, 'streets”': 14269, 'street”': 14270, 'strength': 14271, 'strengthen': 14272, 'strengthened': 14273, 'strengthening': 14274, 'strengths': 14275, 'stress': 14276, 'stressenhancing': 14277, 'stressful': 14278, 'stressing': 14279, 'stretch': 14280, 'stretched': 14281, 'stretches': 14282, 'stretch”': 14283, 'strict': 14284, 'strictly': 14285, 'strider': 14286, 'strife': 14287, 'strike': 14288, 'strikes': 14289, 'striking': 14290, 'string': 14291, 'strings': 14292, 'strip': 14293, 'stripped': 14294, 'strips': 14295, 'strive': 14296, 'striving': 14297, 'stroke': 14298, 'strokes': 14299, 'stroll': 14300, 'strolling': 14301, 'strong': 14302, 'stronger': 14303, 'strongest': 14304, 'strongly': 14305, 'struck': 14306, 'structural': 14307, 'structure': 14308, 'structured': 14309, 'structures': 14310, 'struggle': 14311, 'struggled': 14312, 'struggle”': 14313, 'struggling': 14314, 'struggling”': 14315, 'strumming': 14316, 'strut”': 14317, 'stuart': 14318, 'stubborn': 14319, 'stuck': 14320, 'stuckkey': 14321, 'stud': 14322, 'student': 14323, 'studentcrafted': 14324, 'students': 14325, 'studenttoteacher': 14326, 'studenttovaluablehumantime': 14327, 'student”': 14328, 'studied': 14329, 'studies': 14330, 'studio': 14331, 'study': 14332, 'studying': 14333, 'stuff': 14334, 'stuffed': 14335, 'stuffy': 14336, 'stuff”': 14337, 'stumbled': 14338, 'stumbling': 14339, 'stunned': 14340, 'stunning': 14341, 'stunningly': 14342, 'stunted': 14343, 'stunting': 14344, 'stunts': 14345, 'stupid': 14346, 'stuxnet': 14347, 'stygian': 14348, 'style': 14349, 'stylish': 14350, 'stylized': 14351, 'styx': 14352, 'sub': 14353, 'subconscious': 14354, 'subcontinent': 14355, 'subcounties': 14356, 'subdue': 14357, 'subject': 14358, 'subjected': 14359, 'subjective': 14360, 'subjects': 14361, 'subject”': 14362, 'sublimated': 14363, 'submachine': 14364, 'submerge': 14365, 'submerged': 14366, 'submersibles': 14367, 'submissive': 14368, 'submit': 14369, 'subodh': 14370, 'suboptimal': 14371, 'suboptimize': 14372, 'suborbital': 14373, 'subsaharan': 14374, 'subsequently': 14375, 'subset': 14376, 'subsidiaries': 14377, 'subsidies': 14378, 'subsidize': 14379, 'subsidized': 14380, 'subsidy': 14381, 'substance': 14382, 'substantial': 14383, 'substantially': 14384, 'substantive': 14385, 'substitute': 14386, 'substructures': 14387, 'subtitle': 14388, 'subtitles': 14389, 'subtle': 14390, 'subtler': 14391, 'subtle”': 14392, 'subtly': 14393, 'subtract': 14394, 'subtraction': 14395, 'suburb': 14396, 'suburbs': 14397, 'subway': 14398, 'subzero': 14399, 'succeed': 14400, 'succeeded': 14401, 'succeeding': 14402, 'succeeds': 14403, 'success': 14404, 'successes': 14405, 'successful': 14406, 'successfully': 14407, 'successful”': 14408, 'succinctly': 14409, 'succumb': 14410, 'succumbed': 14411, 'such': 14412, 'suck': 14413, 'sucked': 14414, 'suckers': 14415, 'sucks': 14416, 'suck”': 14417, 'sudan': 14418, 'sudbury': 14419, 'sudden': 14420, 'suddenly': 14421, 'suffer': 14422, 'suffered': 14423, 'suffering': 14424, 'sufferings': 14425, 'suffers': 14426, 'sufficient': 14427, 'sufficiently': 14428, 'suffused': 14429, 'sufi': 14430, 'sufism': 14431, 'sugar': 14432, 'sugata': 14433, 'suggest': 14434, 'suggested': 14435, 'suggesting': 14436, 'suggestion': 14437, 'suggests': 14438, 'suicide': 14439, 'suicides': 14440, 'suit': 14441, 'suitable': 14442, 'suitcase': 14443, 'suited': 14444, 'suits': 14445, 'sum': 14446, 'sumitomo': 14447, 'summarize': 14448, 'summarized': 14449, 'summary': 14450, 'summed': 14451, 'summer': 14452, 'summers': 14453, 'summit': 14454, 'summoned': 14455, 'sums': 14456, 'sum”': 14457, 'sun': 14458, 'sunbathers': 14459, 'sunday': 14460, 'sundays': 14461, 'sundin': 14462, 'sundry': 14463, 'sunflowers': 14464, 'sunglasses': 14465, 'sunitha': 14466, 'sunrise': 14467, 'suns': 14468, 'sunscreen': 14469, 'sunscreens': 14470, 'sunset': 14471, 'sunshine': 14472, 'sunspots': 14473, 'super': 14474, 'superabled': 14475, 'superchamp': 14476, 'supercluster': 14477, 'supercomputer': 14478, 'supercomputers': 14479, 'supercomputing': 14480, 'superconducting': 14481, 'superficially': 14482, 'superfluid': 14483, 'superheated': 14484, 'superhero': 14485, 'superheroes': 14486, 'superimposed': 14487, 'superior': 14488, 'superman': 14489, 'supermans': 14490, 'supermarket': 14491, 'supermarkets': 14492, 'supernatural': 14493, 'superpower': 14494, 'superpowerful': 14495, 'superpowers': 14496, 'superreal': 14497, 'supersonic': 14498, 'superstar': 14499, 'superstition': 14500, 'superstructure': 14501, 'supertaskers': 14502, 'supervise': 14503, 'supervision': 14504, 'supplement': 14505, 'supplier': 14506, 'suppliers': 14507, 'supplies': 14508, 'supply': 14509, 'supplying': 14510, 'support': 14511, 'supported': 14512, 'supporters': 14513, 'supporting': 14514, 'supportive': 14515, 'supports': 14516, 'suppose': 14517, 'supposed': 14518, 'supposedly': 14519, 'supposing': 14520, 'suppress': 14521, 'suppresses': 14522, 'suppression': 14523, 'supreme': 14524, 'sure': 14525, 'surely': 14526, 'sure”': 14527, 'surface': 14528, 'surfaces': 14529, 'surge': 14530, 'surgeon': 14531, 'surgeries': 14532, 'surgery': 14533, 'surgery”': 14534, 'surgical': 14535, 'surowiecki': 14536, 'surpassed': 14537, 'surplus': 14538, 'surprise': 14539, 'surprised': 14540, 'surprises': 14541, 'surprising': 14542, 'surprisingly': 14543, 'surreal': 14544, 'surrender': 14545, 'surrenders': 14546, 'surround': 14547, 'surrounded': 14548, 'surrounding': 14549, 'surroundings': 14550, 'surveillance': 14551, 'survey': 14552, 'surveying': 14553, 'surveys': 14554, 'survival': 14555, 'survive': 14556, 'survived': 14557, 'surviving': 14558, 'survivors': 14559, 'susan': 14560, 'suspect': 14561, 'suspected': 14562, 'suspects': 14563, 'suspend': 14564, 'suspending': 14565, 'suspension': 14566, 'suspicion': 14567, 'suspicious': 14568, 'suss': 14569, 'susskind': 14570, 'sustain': 14571, 'sustainability': 14572, 'sustainable': 14573, 'sustainably': 14574, 'sustained': 14575, 'sustaining': 14576, 'swaggering': 14577, 'swallow': 14578, 'swallowing': 14579, 'swallows': 14580, 'swami': 14581, 'swamped': 14582, 'swamps': 14583, 'swap': 14584, 'swarm': 14585, 'swarthmore': 14586, 'swastikas': 14587, 'swat': 14588, 'swaths': 14589, 'swaying': 14590, 'swear': 14591, 'swearing': 14592, 'sweated': 14593, 'sweater': 14594, 'sweaty': 14595, 'sweden': 14596, 'swedish': 14597, 'sweet': 14598, 'sweetheart': 14599, 'sweettalking': 14600, 'swell': 14601, 'swelling': 14602, 'swept': 14603, 'swim': 14604, 'swimming': 14605, 'swindle': 14606, 'swine': 14607, 'swing': 14608, 'swings': 14609, 'swipe': 14610, 'swirl': 14611, 'swiss': 14612, 'switch': 14613, 'switches': 14614, 'switching': 14615, 'switzerland': 14616, 'swoop': 14617, 'swooping': 14618, 'sword': 14619, 'swords': 14620, 'sworn': 14621, 'sydney': 14622, 'syllables': 14623, 'symbiosis': 14624, 'symbiotic': 14625, 'symbiotically': 14626, 'symbol': 14627, 'symbolic': 14628, 'symbolically': 14629, 'symbolism': 14630, 'symbolize': 14631, 'symbols': 14632, 'symmetry': 14633, 'sympathetic': 14634, 'sympathy': 14635, 'symphony': 14636, 'symptoms': 14637, 'synagogue': 14638, 'synapses': 14639, 'sync': 14640, 'synchronize': 14641, 'syncs': 14642, 'syndrome': 14643, 'synonymous': 14644, 'synthesize': 14645, 'synthesizer': 14646, 'synthetic': 14647, 'syphilis': 14648, 'syria': 14649, 'syrians': 14650, 'syringe': 14651, 'system': 14652, 'systematic': 14653, 'systematically': 14654, 'systemic': 14655, 'systemically': 14656, 'systems': 14657, 'systemwide': 14658, 'system”': 14659, 'szeliski': 14660, 't': 14661, 'tab': 14662, 'tabar': 14663, 'table': 14664, 'tableaus': 14665, 'tablecloth': 14666, 'tables': 14667, 'tablet': 14668, 'tabletop': 14669, 'tablets': 14670, 'tabloid': 14671, 'taboo': 14672, 'taboos': 14673, 'tackle': 14674, 'tackling': 14675, 'tacoma': 14676, 'tactic': 14677, 'tactics': 14678, 'tactile': 14679, 'tag': 14680, 'tagged': 14681, 'tagging': 14682, 'tagline': 14683, 'tags': 14684, 'tahrir': 14685, 'tail': 14686, 'tailgating': 14687, 'tailoring': 14688, 'tailpipe': 14689, 'tailpipes': 14690, 'tails': 14691, 'tainos': 14692, 'taipei': 14693, 'tairona': 14694, 'taiwan': 14695, 'taiwanese': 14696, 'take': 14697, 'takehome': 14698, 'taken': 14699, 'takeoff': 14700, 'takers': 14701, 'takes': 14702, 'taking': 14703, 'tal': 14704, 'tale': 14705, 'talent': 14706, 'talented': 14707, 'talents': 14708, 'tales': 14709, 'taliban': 14710, 'talibanization': 14711, 'talibanlike': 14712, 'talibans': 14713, 'talk': 14714, 'talked': 14715, 'talking': 14716, 'talks': 14717, 'tall': 14718, 'taller': 14719, 'tall”': 14720, 'tamil': 14721, 'tamilspeaking': 14722, 'tammie': 14723, 'tamperproof': 14724, 'tangent': 14725, 'tank': 14726, 'tanks': 14727, 'tantrums': 14728, 'tanzania': 14729, 'tap': 14730, 'tape': 14731, 'tapes': 14732, 'taping': 14733, 'tapped': 14734, 'tapper': 14735, 'tapping': 14736, 'target': 14737, 'targeted': 14738, 'targets': 14739, 'tarot': 14740, 'tarp': 14741, 'tarts': 14742, 'tasawwuf': 14743, 'task': 14744, 'tasks': 14745, 'tasneem': 14746, 'taste': 14747, 'tasted': 14748, 'tastemakers': 14749, 'tat': 14750, 'tata': 14751, 'tattoo': 14752, 'taught': 14753, 'taurus': 14754, 'tautological': 14755, 'tawa': 14756, 'tax': 14757, 'taxation': 14758, 'taxes': 14759, 'taxi': 14760, 'taxidriver': 14761, 'taxidrivers”': 14762, 'taxonomy': 14763, 'taxpayer': 14764, 'taxpayers': 14765, 'taylor': 14766, 'tc': 14767, 'td': 14768, 'tea': 14769, 'teach': 14770, 'teacher': 14771, 'teacherdriven': 14772, 'teachers': 14773, 'teacher”': 14774, 'teaches': 14775, 'teaching': 14776, 'teachings': 14777, 'team': 14778, 'teaming': 14779, 'teams': 14780, 'team”': 14781, 'teapot': 14782, 'tear': 14783, 'tears': 14784, 'teas': 14785, 'tease': 14786, 'tech': 14787, 'techie': 14788, 'technical': 14789, 'technically': 14790, 'technician': 14791, 'technicians': 14792, 'technicolored': 14793, 'technique': 14794, 'techniques': 14795, 'techno': 14796, 'technological': 14797, 'technologically': 14798, 'technologies': 14799, 'technologist': 14800, 'technologists': 14801, 'technology': 14802, 'technologys': 14803, 'technoserve': 14804, 'tectonic': 14805, 'ted': 14806, 'tedactive': 14807, 'tedcom': 14808, 'teddy': 14809, 'tedglobal': 14810, 'teds': 14811, 'tedsters': 14812, 'tedtalk': 14813, 'tedtalks': 14814, 'tedwalk': 14815, 'tedx': 14816, 'teenage': 14817, 'teenager': 14818, 'teenagers': 14819, 'teens': 14820, 'teeny': 14821, 'teeth': 14822, 'teflon': 14823, 'teflonlike': 14824, 'tehran': 14825, 'telco': 14826, 'telecom': 14827, 'telecommunications': 14828, 'telecoms': 14829, 'teleconsultation': 14830, 'telegrams': 14831, 'telegraph': 14832, 'telegraphers': 14833, 'telemarketer': 14834, 'telemedicine': 14835, 'telemetry': 14836, 'telephone': 14837, 'telephones': 14838, 'telephony': 14839, 'telescope': 14840, 'telescopes': 14841, 'telescopic': 14842, 'teletubbies': 14843, 'televised': 14844, 'television': 14845, 'televisions': 14846, 'tell': 14847, 'telling': 14848, 'tells': 14849, 'telomerase': 14850, 'telugu': 14851, 'temperate': 14852, 'temperature': 14853, 'temperatures': 14854, 'tempers': 14855, 'tempest': 14856, 'temple': 14857, 'temples': 14858, 'temporal': 14859, 'temporal”': 14860, 'temporary': 14861, 'tempt': 14862, 'temptation': 14863, 'tempted': 14864, 'ten': 14865, 'tenacity': 14866, 'tenants': 14867, 'tend': 14868, 'tendencies': 14869, 'tendency': 14870, 'tender': 14871, 'tenderness': 14872, 'tends': 14873, 'tendulkar': 14874, 'tenement': 14875, 'tennessee': 14876, 'tennis': 14877, 'tens': 14878, 'tense': 14879, 'tension': 14880, 'tensions': 14881, 'tensor': 14882, 'tent': 14883, 'tentative': 14884, 'tenth': 14885, 'tenuous': 14886, 'tenure': 14887, 'tenyearold': 14888, 'tenzing': 14889, 'teodorín': 14890, 'tequila': 14891, 'teresas': 14892, 'term': 14893, 'terminal': 14894, 'terminator': 14895, 'terms': 14896, 'terraforming': 14897, 'terrain': 14898, 'terrestrial': 14899, 'terrible': 14900, 'terribly': 14901, 'terribus”': 14902, 'terrific': 14903, 'terrified': 14904, 'territories': 14905, 'territory': 14906, 'terror': 14907, 'terrorism': 14908, 'terrorist': 14909, 'terrorists': 14910, 'terrorize': 14911, 'terry': 14912, 'tesla': 14913, 'test': 14914, 'testament”': 14915, 'tested': 14916, 'testify': 14917, 'testimony': 14918, 'testing': 14919, 'tests': 14920, 'tethers': 14921, 'tetrahedron': 14922, 'tetrapak': 14923, 'texas': 14924, 'text': 14925, 'textbook': 14926, 'textbooks': 14927, 'textile': 14928, 'textiles': 14929, 'textile”': 14930, 'texting': 14931, 'textmessaging': 14932, 'texts': 14933, 'textures': 14934, 'tg': 14935, 'th': 14936, 'than': 14937, 'thank': 14938, 'thanked': 14939, 'thankful': 14940, 'thankfully': 14941, 'thanking': 14942, 'thanks': 14943, 'thanksgiving': 14944, 'thar': 14945, 'that': 14946, 'thatll': 14947, 'thats': 14948, 'that”': 14949, 'thc': 14950, 'the': 14951, 'theater': 14952, 'theaters': 14953, 'theater”': 14954, 'theatrical': 14955, 'theft': 14956, 'their': 14957, 'theirs': 14958, 'them': 14959, 'theme': 14960, 'themes': 14961, 'themselves': 14962, 'them”': 14963, 'then': 14964, 'thencommunications': 14965, 'theorem': 14966, 'theoretical': 14967, 'theoretically': 14968, 'theories': 14969, 'theorist': 14970, 'theorizing': 14971, 'theory': 14972, 'therapies': 14973, 'therapist': 14974, 'therapists': 14975, 'therapist”': 14976, 'therapy': 14977, 'there': 14978, 'thereafter': 14979, 'thered': 14980, 'therefore': 14981, 'therein': 14982, 'therell': 14983, 'theres': 14984, 'there”': 14985, 'thermo': 14986, 'thermodynamics': 14987, 'thermoregulation': 14988, 'thermostat': 14989, 'these': 14990, 'theseus': 14991, 'thesis': 14992, 'they': 14993, 'theyd': 14994, 'theyll': 14995, 'theyre': 14996, 'theyve': 14997, 'thick': 14998, 'thief': 14999, 'thieves': 15000, 'thin': 15001, 'thing': 15002, 'things': 15003, 'things”': 15004, 'thing”': 15005, 'think': 15006, 'thinkcycle': 15007, 'thinker': 15008, 'thinkers': 15009, 'thinking': 15010, 'thinks': 15011, 'third': 15012, 'thirdlargest': 15013, 'thirdly': 15014, 'thirds': 15015, 'thirdsiders': 15016, 'thirdworld': 15017, 'thirty': 15018, 'thirtythree': 15019, 'this': 15020, 'this”': 15021, 'thomas': 15022, 'thoreau': 15023, 'thorny': 15024, 'thorough': 15025, 'thoroughfares': 15026, 'thoroughly': 15027, 'those': 15028, 'though': 15029, 'thought': 15030, 'thoughtful': 15031, 'thoughtlessness': 15032, 'thoughts': 15033, 'thousand': 15034, 'thousands': 15035, 'thread': 15036, 'threads': 15037, 'threat': 15038, 'threatened': 15039, 'threatening': 15040, 'threatens': 15041, 'threats': 15042, 'three': 15043, 'threeandahalf': 15044, 'threedimensional': 15045, 'threedozen': 15046, 'threehour': 15047, 'threemonthold': 15048, 'threequarters': 15049, 'threewalled': 15050, 'threeyearolds': 15051, 'threshold': 15052, 'thresholds': 15053, 'threw': 15054, 'thrice': 15055, 'thrift': 15056, 'thrill': 15057, 'thrilled': 15058, 'thrilling': 15059, 'thrive': 15060, 'throes': 15061, 'through': 15062, 'throughout': 15063, 'throughput': 15064, 'throw': 15065, 'throwaway': 15066, 'throwing': 15067, 'thrown': 15068, 'throws': 15069, 'thrun': 15070, 'thrust': 15071, 'thulasiraj': 15072, 'thumb': 15073, 'thumbs': 15074, 'thunderstorm': 15075, 'thursday': 15076, 'thus': 15077, 'th”': 15078, 'tiananmen': 15079, 'tibet': 15080, 'tick': 15081, 'ticket': 15082, 'tickets': 15083, 'ticket”': 15084, 'ticking': 15085, 'tickle': 15086, 'tide': 15087, 'tie': 15088, 'tied': 15089, 'tiffin': 15090, 'tifr': 15091, 'tiger': 15092, 'tigerstripe': 15093, 'tight': 15094, 'tigris': 15095, 'tiles': 15096, 'till': 15097, 'tilonia': 15098, 'tilt': 15099, 'tilted': 15100, 'tilts': 15101, 'tim': 15102, 'timari': 15103, 'time': 15104, 'timeconsuming': 15105, 'timeless': 15106, 'timely': 15107, 'times': 15108, 'timey': 15109, 'time”': 15110, 'tin': 15111, 'tinkering': 15112, 'tinsel': 15113, 'tintin': 15114, 'tiny': 15115, 'tip': 15116, 'tipper': 15117, 'tipper”': 15118, 'tipping': 15119, 'tips': 15120, 'tire': 15121, 'tired': 15122, 'tired”': 15123, 'tirelessly': 15124, 'tires': 15125, 'tiring': 15126, 'tissue': 15127, 'tissueengineered': 15128, 'tissueengineering': 15129, 'tissues': 15130, 'tit': 15131, 'titanic': 15132, 'titanics': 15133, 'title': 15134, 'titled': 15135, 'titles': 15136, 'to': 15137, 'toasty': 15138, 'tobacco': 15139, 'tobago': 15140, 'today': 15141, 'todays': 15142, 'today”': 15143, 'toddy': 15144, 'todo': 15145, 'toe': 15146, 'toefl': 15147, 'toes': 15148, 'together': 15149, 'together”': 15150, 'toilet': 15151, 'toilets': 15152, 'toilsome': 15153, 'tokyo': 15154, 'told': 15155, 'tolerance': 15156, 'tolerate': 15157, 'tolerated': 15158, 'tolga': 15159, 'toll': 15160, 'tom': 15161, 'tomb': 15162, 'tomorrow': 15163, 'tomorrow”': 15164, 'toms': 15165, 'ton': 15166, 'tonal': 15167, 'tone': 15168, 'tones': 15169, 'tongue': 15170, 'tonight': 15171, 'tons': 15172, 'tonton': 15173, 'tony': 15174, 'tonys': 15175, 'too': 15176, 'took': 15177, 'tool': 15178, 'tooley': 15179, 'toolkit': 15180, 'tools': 15181, 'tooth': 15182, 'too”': 15183, 'top': 15184, 'topdown': 15185, 'topic': 15186, 'topical': 15187, 'topics': 15188, 'topic”': 15189, 'topmost': 15190, 'topoftheline': 15191, 'topography': 15192, 'topped': 15193, 'topple': 15194, 'torah': 15195, 'torch': 15196, 'torn': 15197, 'tornadoes': 15198, 'toronto': 15199, 'torpedoing': 15200, 'torsion': 15201, 'tortillas': 15202, 'torture': 15203, 'tortured': 15204, 'tortures': 15205, 'torturing': 15206, 'tosh': 15207, 'toss': 15208, 'tossed': 15209, 'total': 15210, 'totaling': 15211, 'totalitarian': 15212, 'totally': 15213, 'totally”': 15214, 'touch': 15215, 'touchb': 15216, 'touched': 15217, 'touches': 15218, 'touching': 15219, 'tough': 15220, 'tougher': 15221, 'toughest': 15222, 'tour': 15223, 'tourism': 15224, 'tourist': 15225, 'tourists': 15226, 'tournament': 15227, 'tours': 15228, 'toward': 15229, 'towards': 15230, 'towed': 15231, 'towels': 15232, 'tower': 15233, 'towering': 15234, 'towers': 15235, 'town': 15236, 'towns': 15237, 'toxic': 15238, 'toy': 15239, 'toying': 15240, 'toymaker': 15241, 'toyota': 15242, 'toys': 15243, 'toy”': 15244, 'to”': 15245, 'tr': 15246, 'trabeculae': 15247, 'trace': 15248, 'traced': 15249, 'tracer': 15250, 'traces': 15251, 'tracing': 15252, 'track': 15253, 'tracked': 15254, 'tracker': 15255, 'tracking': 15256, 'tracks': 15257, 'trade': 15258, 'traded': 15259, 'tradeoff': 15260, 'tradeoffs': 15261, 'traders': 15262, 'tradetogdp': 15263, 'trading': 15264, 'trading”': 15265, 'tradition': 15266, 'traditional': 15267, 'traditionally': 15268, 'traditionkeepers': 15269, 'traditions': 15270, 'traffic': 15271, 'trafficked': 15272, 'traffickers': 15273, 'trafficking': 15274, 'tragedies': 15275, 'tragedy': 15276, 'tragic': 15277, 'tragically': 15278, 'trail': 15279, 'trailer': 15280, 'trails': 15281, 'train': 15282, 'trained': 15283, 'training': 15284, 'trains': 15285, 'traits': 15286, 'trajectories': 15287, 'trajectory': 15288, 'trance': 15289, 'transaction': 15290, 'transactions': 15291, 'transatlantic': 15292, 'transcend': 15293, 'transcendent': 15294, 'transcends': 15295, 'transdisciplinary': 15296, 'transfer': 15297, 'transferred': 15298, 'transfers': 15299, 'transform': 15300, 'transformation': 15301, 'transformational': 15302, 'transformative': 15303, 'transformed': 15304, 'transforming': 15305, 'transforms': 15306, 'transgression': 15307, 'transit': 15308, 'transition': 15309, 'transitional': 15310, 'translate': 15311, 'translated': 15312, 'translates': 15313, 'translation': 15314, 'translations': 15315, 'translator': 15316, 'transliteration': 15317, 'translucent': 15318, 'transmission': 15319, 'transmit': 15320, 'transmitted': 15321, 'transmitting': 15322, 'transnational': 15323, 'transparency': 15324, 'transparent': 15325, 'transplant': 15326, 'transplanted': 15327, 'transport': 15328, 'transportation': 15329, 'transported': 15330, 'transporting': 15331, 'transverse': 15332, 'trap': 15333, 'trapezium': 15334, 'trapped': 15335, 'trash': 15336, 'trashcan': 15337, 'trauma': 15338, 'travel': 15339, 'traveled': 15340, 'traveler': 15341, 'traveling': 15342, 'travelled': 15343, 'travels': 15344, 'trawled': 15345, 'treacherous': 15346, 'tread': 15347, 'treasure': 15348, 'treasured': 15349, 'treasures': 15350, 'treat': 15351, 'treated': 15352, 'treaties': 15353, 'treating': 15354, 'treatment': 15355, 'treatments': 15356, 'treats': 15357, 'treaty': 15358, 'treat”': 15359, 'treble': 15360, 'tree': 15361, 'trees': 15362, 'tree”': 15363, 'tremendous': 15364, 'tremendously': 15365, 'trench': 15366, 'trend': 15367, 'trends': 15368, 'trendy': 15369, 'trepidation': 15370, 'trevor': 15371, 'trial': 15372, 'trials': 15373, 'triangle': 15374, 'triangles': 15375, 'triangular': 15376, 'triangulates': 15377, 'tribal': 15378, 'tribe': 15379, 'tribes': 15380, 'tribunal': 15381, 'tribute': 15382, 'trick': 15383, 'tricked': 15384, 'tricks': 15385, 'tricky': 15386, 'tried': 15387, 'tries': 15388, 'trig': 15389, 'trigger': 15390, 'trigonometry': 15391, 'trillion': 15392, 'trillions': 15393, 'trim': 15394, 'trinidad': 15395, 'trinity': 15396, 'trip': 15397, 'tripedal': 15398, 'triple': 15399, 'triplebottomline': 15400, 'triplecounting': 15401, 'tripod': 15402, 'trips': 15403, 'trite': 15404, 'triumph': 15405, 'triumphs': 15406, 'trivial': 15407, 'trojans': 15408, 'troop': 15409, 'trooped': 15410, 'troops': 15411, 'trophy': 15412, 'tropical': 15413, 'tropics': 15414, 'trot': 15415, 'trouble': 15416, 'troubled': 15417, 'troublemaker': 15418, 'troubles': 15419, 'troubleshooting': 15420, 'trouser': 15421, 'trousers': 15422, 'truck': 15423, 'trucking': 15424, 'truckload': 15425, 'trucks': 15426, 'trudge': 15427, 'true': 15428, 'true”': 15429, 'truly': 15430, 'trump': 15431, 'trumpets': 15432, 'trunk': 15433, 'trunks': 15434, 'trusslike': 15435, 'trust': 15436, 'trusted': 15437, 'trusted”': 15438, 'trusting': 15439, 'trustworthy': 15440, 'truth': 15441, 'truths': 15442, 'truth”': 15443, 'try': 15444, 'trying': 15445, 'tryptamines': 15446, 'tryptophan': 15447, 'try”': 15448, 'tsetung': 15449, 'tshirt': 15450, 'tshirts': 15451, 'tsukimi': 15452, 'tsunami': 15453, 'tsunamis': 15454, 'tt': 15455, 'tube': 15456, 'tuberculosis': 15457, 'tubes': 15458, 'tucked': 15459, 'tudman': 15460, 'tudor': 15461, 'tuesday': 15462, 'tufts': 15463, 'tulley': 15464, 'tulsi”': 15465, 'tumar': 15466, 'tumble': 15467, 'tumor': 15468, 'tumors': 15469, 'tuna': 15470, 'tune': 15471, 'tuned': 15472, 'tunes': 15473, 'tunisia': 15474, 'tunisian': 15475, 'tunnel': 15476, 'tunnels': 15477, 'tupperware': 15478, 'turbines': 15479, 'turbulence': 15480, 'turin': 15481, 'turk': 15482, 'turkey': 15483, 'turkeys': 15484, 'turkish': 15485, 'turkmenistan': 15486, 'turmoil': 15487, 'turn': 15488, 'turnaround': 15489, 'turned': 15490, 'turner': 15491, 'turners': 15492, 'turning': 15493, 'turnover': 15494, 'turns': 15495, 'turquoise': 15496, 'turtle': 15497, 'tutor': 15498, 'tutorial': 15499, 'tutoring': 15500, 'tv': 15501, 'twain': 15502, 'tweet': 15503, 'tweets': 15504, 'twelve': 15505, 'twentieth': 15506, 'twenty': 15507, 'twice': 15508, 'twilight': 15509, 'twin': 15510, 'twinkle': 15511, 'twinkling': 15512, 'twinkly': 15513, 'twins': 15514, 'twirl': 15515, 'twist': 15516, 'twisted': 15517, 'twists': 15518, 'twitter': 15519, 'twittering': 15520, 'twitters': 15521, 'two': 15522, 'twobuttock': 15523, 'twodegree': 15524, 'twodimensional': 15525, 'twodollar': 15526, 'twohour': 15527, 'twomonth': 15528, 'twostate': 15529, 'twotenths': 15530, 'twothirds': 15531, 'twowheeler': 15532, 'two”': 15533, 'tying': 15534, 'tylenol': 15535, 'tyler': 15536, 'type': 15537, 'typea': 15538, 'typed': 15539, 'types': 15540, 'typesetter': 15541, 'typesetting': 15542, 'typewriter': 15543, 'typical': 15544, 'typically': 15545, 'typing': 15546, 'tyranny': 15547, 'u': 15548, 'ubiquitous': 15549, 'ubirajara': 15550, 'uc': 15551, 'ufo': 15552, 'ufos': 15553, 'uganda': 15554, 'ugandan': 15555, 'ugandans': 15556, 'ugandas': 15557, 'ugly': 15558, 'uh': 15559, 'uhhuh': 15560, 'uk': 15561, 'ukraine': 15562, 'ultimate': 15563, 'ultimately': 15564, 'ultimatum': 15565, 'ultra': 15566, 'ultralight': 15567, 'ultramarathoner': 15568, 'ultramarathoners': 15569, 'ultrasound': 15570, 'ultraviolet': 15571, 'um': 15572, 'umbilical': 15573, 'umbrella': 15574, 'un': 15575, 'unable': 15576, 'unacceptable': 15577, 'unaffected': 15578, 'unanticipated': 15579, 'unavoidable': 15580, 'unbelievable': 15581, 'unbelievably': 15582, 'unbelievers': 15583, 'unblinking': 15584, 'uncapitalized': 15585, 'uncertain': 15586, 'uncertainty': 15587, 'uncle': 15588, 'unclear': 15589, 'uncles': 15590, 'uncomfortable': 15591, 'uncommon': 15592, 'uncompromising': 15593, 'unconditionally': 15594, 'unconnected': 15595, 'unconscious': 15596, 'unconsciously': 15597, 'unconstrained': 15598, 'uncontroversial': 15599, 'uncopyable': 15600, 'uncover': 15601, 'uncovered': 15602, 'uncreative': 15603, 'undeciphered': 15604, 'undefined': 15605, 'undeniable': 15606, 'undeniably': 15607, 'under': 15608, 'underclass': 15609, 'undercover': 15610, 'underestimate': 15611, 'underestimated': 15612, 'undergoes': 15613, 'undergrad': 15614, 'undergraduate': 15615, 'underground': 15616, 'underlies': 15617, 'undermine': 15618, 'undermining': 15619, 'underneath': 15620, 'underpants': 15621, 'underpinned': 15622, 'underserved': 15623, 'understand': 15624, 'understandably': 15625, 'understanding': 15626, 'understands': 15627, 'understands”': 15628, 'understand”': 15629, 'understate': 15630, 'understated': 15631, 'understood': 15632, 'undertaken': 15633, 'undertaking': 15634, 'undertook': 15635, 'underutilized': 15636, 'underwater': 15637, 'underwear': 15638, 'underwear”': 15639, 'underwent': 15640, 'undetected': 15641, 'undeveloped': 15642, 'undiagnosed': 15643, 'undies': 15644, 'undisputed': 15645, 'undoubtedly': 15646, 'undue': 15647, 'undulate': 15648, 'uneasy': 15649, 'uneducated': 15650, 'unemotional': 15651, 'unemployed': 15652, 'unemployment': 15653, 'unesco': 15654, 'unethical': 15655, 'unexpected': 15656, 'unexpectedness': 15657, 'unexploded': 15658, 'unfair': 15659, 'unfairly': 15660, 'unfamiliar': 15661, 'unfinished': 15662, 'unfold': 15663, 'unfolded': 15664, 'unfolding': 15665, 'unfolds': 15666, 'unfortunate': 15667, 'unfortunately': 15668, 'unfulfilled': 15669, 'ungovernable': 15670, 'unhappy': 15671, 'unhealthy': 15672, 'unheard': 15673, 'unhygienic': 15674, 'unicef': 15675, 'unicorn': 15676, 'unicornlike': 15677, 'unicycle”': 15678, 'uniform': 15679, 'uniformly': 15680, 'uniforms': 15681, 'unimaginable': 15682, 'unimaginatively': 15683, 'unimpressed': 15684, 'unindian': 15685, 'uninspiring': 15686, 'unintended': 15687, 'unintuitive': 15688, 'uninvented': 15689, 'uninvited': 15690, 'union': 15691, 'unions': 15692, 'unionseekcomdiooexe': 15693, 'unique': 15694, 'uniquely': 15695, 'unit': 15696, 'unite': 15697, 'united': 15698, 'unites': 15699, 'uniting': 15700, 'units': 15701, 'unity': 15702, 'universal': 15703, 'universally': 15704, 'universe': 15705, 'universities': 15706, 'university': 15707, 'unjust': 15708, 'unkindly': 15709, 'unknown': 15710, 'unleashed': 15711, 'unleashes': 15712, 'unleavened': 15713, 'unless': 15714, 'unlike': 15715, 'unlikely': 15716, 'unlimited': 15717, 'unlock': 15718, 'unlocked': 15719, 'unmanned': 15720, 'unmapped': 15721, 'unmarried': 15722, 'unmatched': 15723, 'unnamed': 15724, 'unnecessarily': 15725, 'unofficial': 15726, 'unorganized': 15727, 'unpleasant': 15728, 'unprecedented': 15729, 'unpredictable': 15730, 'unproven': 15731, 'unpublished': 15732, 'unraveled': 15733, 'unreached': 15734, 'unrealistic': 15735, 'unrelated': 15736, 'unremitting': 15737, 'unrest': 15738, 'unromantic': 15739, 'unruly': 15740, 'uns': 15741, 'unsafe': 15742, 'unsecured': 15743, 'unseen': 15744, 'unskilled': 15745, 'unstable': 15746, 'unstick': 15747, 'unstructured': 15748, 'unsurpassed': 15749, 'unsuspecting': 15750, 'untangle': 15751, 'untapped': 15752, 'untethering': 15753, 'untied': 15754, 'until': 15755, 'untold': 15756, 'untrainable': 15757, 'untrue': 15758, 'unused': 15759, 'unusual': 15760, 'unveil': 15761, 'unveiled': 15762, 'unwanted': 15763, 'unwed': 15764, 'unwraps': 15765, 'unwritten': 15766, 'up': 15767, 'upandcoming': 15768, 'upbeat': 15769, 'upcoming': 15770, 'update': 15771, 'updated': 15772, 'updating': 15773, 'updike': 15774, 'upenn': 15775, 'upgrading': 15776, 'upheaval': 15777, 'upload': 15778, 'uploaded': 15779, 'uploader': 15780, 'uploading': 15781, 'upon': 15782, 'upper': 15783, 'uppermiddle': 15784, 'upperstratosphere': 15785, 'uppsala': 15786, 'uprising': 15787, 'ups': 15788, 'upset': 15789, 'upside': 15790, 'upsidedown': 15791, 'upstairs': 15792, 'upstairs”': 15793, 'upstate': 15794, 'upswing': 15795, 'upward': 15796, 'upwards': 15797, 'up”': 15798, 'ur': 15799, 'urban': 15800, 'urbanist': 15801, 'urbanization': 15802, 'urbanizing': 15803, 'urdu': 15804, 'urens': 15805, 'urfa': 15806, 'urge': 15807, 'urgency': 15808, 'urgent': 15809, 'urges': 15810, 'urine': 15811, 'us': 15812, 'usandthem': 15813, 'use': 15814, 'used': 15815, 'useful': 15816, 'useful”': 15817, 'useless': 15818, 'user': 15819, 'users': 15820, 'uses': 15821, 'use”': 15822, 'using': 15823, 'usman': 15824, 'usual': 15825, 'usually': 15826, 'usurped': 15827, 'us”': 15828, 'utilitarian': 15829, 'utility': 15830, 'utilize': 15831, 'utilized': 15832, 'utopia': 15833, 'utopian': 15834, 'uttar': 15835, 'utter': 15836, 'utterly': 15837, 'uv': 15838, 'uw': 15839, 'v': 15840, 'vacancy': 15841, 'vacant': 15842, 'vacation': 15843, 'vacations': 15844, 'vaccinated': 15845, 'vaccinated”': 15846, 'vaccinating': 15847, 'vaccination': 15848, 'vaccinations”': 15849, 'vaccinators': 15850, 'vaccine': 15851, 'vaccines': 15852, 'vacillate': 15853, 'vacuous': 15854, 'vagina': 15855, 'vague': 15856, 'vain': 15857, 'vaitarani': 15858, 'valenti': 15859, 'valentines': 15860, 'valiant': 15861, 'valid': 15862, 'validated': 15863, 'validating': 15864, 'validity': 15865, 'valley': 15866, 'valleys': 15867, 'valuable': 15868, 'value': 15869, 'valueadd': 15870, 'valueless': 15871, 'values': 15872, 'valuing': 15873, 'valve': 15874, 'van': 15875, 'vancouvers': 15876, 'vanilla': 15877, 'vanish': 15878, 'vanished': 15879, 'vapor': 15880, 'variable': 15881, 'variables': 15882, 'variation': 15883, 'variations': 15884, 'varieties': 15885, 'variety': 15886, 'various': 15887, 'variously': 15888, 'varsity': 15889, 'varuna': 15890, 'vary': 15891, 'vascular': 15892, 'vases': 15893, 'vasquez': 15894, 'vast': 15895, 'vastly': 15896, 'vastness': 15897, 'vats': 15898, 'vector': 15899, 'vegas': 15900, 'vegetable': 15901, 'vegetables': 15902, 'vegetarian': 15903, 'veggie': 15904, 'vehicle': 15905, 'vehicles': 15906, 'vehicular': 15907, 'veil': 15908, 'veiling': 15909, 'vein': 15910, 'velcro': 15911, 'velocity': 15912, 'velocity”': 15913, 'vending': 15914, 'venezuela': 15915, 'venice': 15916, 'venkataswamy': 15917, 'venom': 15918, 'venter': 15919, 'ventilated': 15920, 'ventilating': 15921, 'ventilation': 15922, 'venture': 15923, 'venture”': 15924, 'venus': 15925, 'vera': 15926, 'verb': 15927, 'verbal': 15928, 'verge': 15929, 'verifying': 15930, 'verrocchio': 15931, 'verse': 15932, 'versebyverse': 15933, 'verses': 15934, 'version': 15935, 'versions': 15936, 'versus': 15937, 'vertical': 15938, 'vertices': 15939, 'verve': 15940, 'very': 15941, 'vessel': 15942, 'vessels': 15943, 'vest': 15944, 'vet': 15945, 'veteran': 15946, 'veterinarian': 15947, 'veterinary': 15948, 'via': 15949, 'viable': 15950, 'vibrant': 15951, 'vibrating': 15952, 'vibration': 15953, 'vibrations': 15954, 'vibration”': 15955, 'vice': 15956, 'vicious': 15957, 'vicissitudes': 15958, 'victim': 15959, 'victimizing': 15960, 'victimless': 15961, 'victims': 15962, 'victorian': 15963, 'victorians': 15964, 'victories': 15965, 'victory': 15966, 'video': 15967, 'videos': 15968, 'vietnam': 15969, 'vietnamese': 15970, 'view': 15971, 'viewed': 15972, 'viewer': 15973, 'viewership': 15974, 'viewing': 15975, 'viewpoint': 15976, 'viewpoints': 15977, 'views': 15978, 'vigorous': 15979, 'vigorously': 15980, 'vilified': 15981, 'village': 15982, 'villagelevel': 15983, 'villager': 15984, 'villages': 15985, 'villages”': 15986, 'village”': 15987, 'villas': 15988, 'vinci': 15989, 'vine': 15990, 'vinod': 15991, 'vintage': 15992, 'vinyl': 15993, 'violate': 15994, 'violated': 15995, 'violating': 15996, 'violation': 15997, 'violations': 15998, 'violence': 15999, 'violent': 16000, 'vipassana”': 16001, 'vips': 16002, 'viral': 16003, 'virally': 16004, 'virgin': 16005, 'virginia': 16006, 'virginity': 16007, 'virgins': 16008, 'viridis': 16009, 'virility': 16010, 'virtual': 16011, 'virtually': 16012, 'virtue': 16013, 'virtuous': 16014, 'virus': 16015, 'viruses': 16016, 'visavis': 16017, 'visceral': 16018, 'visibility': 16019, 'visible': 16020, 'vision': 16021, 'visionary': 16022, 'visions': 16023, 'visit': 16024, 'visited': 16025, 'visiting': 16026, 'visitors': 16027, 'visits': 16028, 'visual': 16029, 'visualization': 16030, 'visualize': 16031, 'visually': 16032, 'visuals': 16033, 'vital': 16034, 'vitality': 16035, 'vitamin': 16036, 'vitamins': 16037, 'vitruvianos': 16038, 'vivaldi': 16039, 'vivid': 16040, 'vividly': 16041, 'vocabulary': 16042, 'vocal': 16043, 'vocation': 16044, 'vodoun': 16045, 'voice': 16046, 'voicecalling': 16047, 'voiceless': 16048, 'voices': 16049, 'voids': 16050, 'volatile': 16051, 'volatility': 16052, 'volcanic': 16053, 'volcano': 16054, 'volt': 16055, 'volume': 16056, 'volumes': 16057, 'volumetric': 16058, 'voluntarily': 16059, 'voluntary': 16060, 'volunteer': 16061, 'volunteered': 16062, 'volunteering': 16063, 'volunteerism': 16064, 'volunteers': 16065, 'voluptuous': 16066, 'volvo': 16067, 'von': 16068, 'voodoo': 16069, 'voodooists': 16070, 'vote': 16071, 'voted': 16072, 'voter': 16073, 'voters': 16074, 'votes': 16075, 'voting': 16076, 'vow': 16077, 'vows': 16078, 'voyage': 16079, 'vsat': 16080, 'vuitton': 16081, 'vulnerability': 16082, 'vulnerable': 16083, 'vulnerable”': 16084, 'vulnerably': 16085, 'w': 16086, 'wacky': 16087, 'wading': 16088, 'waft': 16089, 'waged': 16090, 'wages': 16091, 'wags': 16092, 'wait': 16093, 'waited': 16094, 'waiters': 16095, 'waiting': 16096, 'waitresses': 16097, 'wake': 16098, 'wakes': 16099, 'wakhan': 16100, 'waking': 16101, 'wala': 16102, 'walk': 16103, 'walked': 16104, 'walker': 16105, 'walkers': 16106, 'walking': 16107, 'walks': 16108, 'walktowork': 16109, 'walkways': 16110, 'wall': 16111, 'wallet': 16112, 'walls': 16113, 'walmart': 16114, 'walt': 16115, 'walters': 16116, 'waltz': 16117, 'wander': 16118, 'wandering': 16119, 'want': 16120, 'wanted': 16121, 'wanting': 16122, 'wants': 16123, 'waorani': 16124, 'war': 16125, 'ward': 16126, 'wardrobe': 16127, 'warehouse': 16128, 'warehouses': 16129, 'warlord': 16130, 'warm': 16131, 'warmed': 16132, 'warming': 16133, 'warn': 16134, 'warne': 16135, 'warned': 16136, 'warner': 16137, 'warning': 16138, 'warp': 16139, 'warps': 16140, 'warrantless': 16141, 'warren': 16142, 'warrior': 16143, 'warriors': 16144, 'wars': 16145, 'wars”': 16146, 'wartorn': 16147, 'was': 16148, 'wash': 16149, 'washcloth': 16150, 'washed': 16151, 'washes': 16152, 'washing': 16153, 'washington': 16154, 'washington”': 16155, 'washout': 16156, 'wasnt': 16157, 'waste': 16158, 'wastebasket': 16159, 'wasted': 16160, 'wasteland': 16161, 'wasting': 16162, 'watch': 16163, 'watched': 16164, 'watches': 16165, 'watching': 16166, 'watchmen': 16167, 'watch”': 16168, 'water': 16169, 'watered': 16170, 'waterfront': 16171, 'watergate': 16172, 'waterproofing': 16173, 'waters': 16174, 'watershed': 16175, 'watersheds': 16176, 'watson': 16177, 'watsonville': 16178, 'watts': 16179, 'wave': 16180, 'waved': 16181, 'wavelengths': 16182, 'waves': 16183, 'waving': 16184, 'way': 16185, 'wayne': 16186, 'ways': 16187, 'wayside': 16188, 'way”': 16189, 'wb': 16190, 'we': 16191, 'weak': 16192, 'weakened': 16193, 'weaker': 16194, 'weakest': 16195, 'weaklings': 16196, 'weakness': 16197, 'weaknesses': 16198, 'wealth': 16199, 'wealthcreating': 16200, 'wealthier': 16201, 'wealthy': 16202, 'weapon': 16203, 'weapons': 16204, 'wear': 16205, 'wearable': 16206, 'wearer': 16207, 'wearing': 16208, 'wearisome': 16209, 'wears': 16210, 'weary': 16211, 'weather': 16212, 'weavers': 16213, 'web': 16214, 'webby': 16215, 'webcam': 16216, 'webpage': 16217, 'webs': 16218, 'website': 16219, 'websites': 16220, 'wed': 16221, 'wedding': 16222, 'weddings': 16223, 'wedge': 16224, 'wednesday': 16225, 'weed': 16226, 'weeds': 16227, 'weeing': 16228, 'week': 16229, 'weekend': 16230, 'weekends': 16231, 'weekly': 16232, 'weeks': 16233, 'weeping': 16234, 'weigh': 16235, 'weighs': 16236, 'weight': 16237, 'weird': 16238, 'welcome': 16239, 'welcomed': 16240, 'welcoming': 16241, 'welder': 16242, 'welding': 16243, 'welfare': 16244, 'well': 16245, 'wellbeing': 16246, 'wellcrafted': 16247, 'welldefined': 16248, 'welldeveloped': 16249, 'welleducated': 16250, 'wellintentioned': 16251, 'wellknown': 16252, 'welllived': 16253, 'wellloved': 16254, 'wellmeaning': 16255, 'wellpaid': 16256, 'wellpaying': 16257, 'wellregarded': 16258, 'wellrested': 16259, 'wells': 16260, 'welltodo': 16261, 'wellversed': 16262, 'wellwisher': 16263, 'well”': 16264, 'wembley': 16265, 'went': 16266, 'were': 16267, 'werent': 16268, 'wesley': 16269, 'west': 16270, 'westchester': 16271, 'western': 16272, 'westerners': 16273, 'westerwelle': 16274, 'wet': 16275, 'wetness': 16276, 'wet”': 16277, 'weve': 16278, 'we”': 16279, 'wfps': 16280, 'whack': 16281, 'whale': 16282, 'whales': 16283, 'whaling': 16284, 'what': 16285, 'whatever': 16286, 'whatnot': 16287, 'whats': 16288, 'whatsoever': 16289, 'what”': 16290, 'wheat': 16291, 'wheel': 16292, 'wheelbarrow': 16293, 'wheelbarrows': 16294, 'wheelchairs': 16295, 'wheeled': 16296, 'wheelleg': 16297, 'wheels': 16298, 'when': 16299, 'whenever': 16300, 'whens': 16301, 'where': 16302, 'whereas': 16303, 'wherefores': 16304, 'wherein': 16305, 'wheres': 16306, 'wherever': 16307, 'whet': 16308, 'whether': 16309, 'which': 16310, 'whichever': 16311, 'while': 16312, 'whilst': 16313, 'whimsy': 16314, 'whip': 16315, 'whipped': 16316, 'whipping': 16317, 'whirlwind': 16318, 'whisked': 16319, 'whisper': 16320, 'whispered': 16321, 'whistling': 16322, 'white': 16323, 'whitney': 16324, 'who': 16325, 'whoa': 16326, 'whod': 16327, 'whoever': 16328, 'whole': 16329, 'wholehearted': 16330, 'wholeness': 16331, 'wholesale': 16332, 'wholly': 16333, 'whom': 16334, 'whops': 16335, 'whos': 16336, 'whose': 16337, 'whove': 16338, 'who”': 16339, 'why': 16340, 'whyd': 16341, 'whys': 16342, 'wicked': 16343, 'wickedly': 16344, 'wide': 16345, 'widely': 16346, 'widened': 16347, 'wider': 16348, 'width': 16349, 'wield': 16350, 'wielding': 16351, 'wields': 16352, 'wife': 16353, 'wifes': 16354, 'wifi': 16355, 'wiggles': 16356, 'wiggling': 16357, 'wiggly': 16358, 'wiki': 16359, 'wikipedia': 16360, 'wilder': 16361, 'wilderness': 16362, 'wildfire': 16363, 'wildflowers': 16364, 'wildlife': 16365, 'wildly': 16366, 'wilds': 16367, 'wildscape': 16368, 'will': 16369, 'william': 16370, 'williams': 16371, 'willing': 16372, 'willingly': 16373, 'willingness': 16374, 'will”': 16375, 'wilt': 16376, 'wimbledon': 16377, 'wimpish': 16378, 'win': 16379, 'winch': 16380, 'wind': 16381, 'windborne': 16382, 'winding': 16383, 'windmill': 16384, 'windmills': 16385, 'window': 16386, 'windows': 16387, 'winds': 16388, 'windscreen': 16389, 'windshield': 16390, 'windsurfing': 16391, 'wine': 16392, 'wineskin': 16393, 'wines”': 16394, 'wing': 16395, 'wings': 16396, 'wingspan': 16397, 'winner': 16398, 'winners': 16399, 'winning': 16400, 'winnipeg': 16401, 'wins': 16402, 'winter': 16403, 'winter”': 16404, 'winwinwin': 16405, 'win”': 16406, 'wipe': 16407, 'wiped': 16408, 'wipers': 16409, 'wiping': 16410, 'wire': 16411, 'wired': 16412, 'wireless': 16413, 'wires': 16414, 'wires”': 16415, 'wiring': 16416, 'wisconsin': 16417, 'wisdom': 16418, 'wise': 16419, 'wish': 16420, 'wished': 16421, 'wishes': 16422, 'wishing': 16423, 'wish”': 16424, 'with': 16425, 'withdrawal': 16426, 'withdrew': 16427, 'withhold': 16428, 'within': 16429, 'within”': 16430, 'without': 16431, 'withstand': 16432, 'withtheteacher': 16433, 'witness': 16434, 'witnessed': 16435, 'witten': 16436, 'wives': 16437, 'wiz': 16438, 'wizards': 16439, 'wk': 16440, 'wmap': 16441, 'wobbling': 16442, 'woeful': 16443, 'woke': 16444, 'woken': 16445, 'wolfram': 16446, 'woman': 16447, 'womanhood': 16448, 'womans': 16449, 'woman”': 16450, 'womb': 16451, 'wombats': 16452, 'women': 16453, 'womens': 16454, 'women”': 16455, 'won': 16456, 'wonder': 16457, 'wondered': 16458, 'wonderful': 16459, 'wonderfully': 16460, 'wondering': 16461, 'wonderland': 16462, 'wonders': 16463, 'wondrous': 16464, 'wont': 16465, 'won”': 16466, 'wood': 16467, 'wooden': 16468, 'woods': 16469, 'woody': 16470, 'wool': 16471, 'wooo': 16472, 'word': 16473, 'wording': 16474, 'wordless': 16475, 'words': 16476, 'wore': 16477, 'work': 16478, 'workable': 16479, 'worked': 16480, 'worker': 16481, 'workers': 16482, 'workflow': 16483, 'workforce': 16484, 'working': 16485, 'workingclass': 16486, 'worklife': 16487, 'workplace': 16488, 'works': 16489, 'workshop': 16490, 'workshops': 16491, 'workstyle': 16492, 'works”': 16493, 'work”': 16494, 'world': 16495, 'worldclass': 16496, 'worldconquerors': 16497, 'worldly': 16498, 'worldquality': 16499, 'worlds': 16500, 'worlds”': 16501, 'worldview': 16502, 'worldwide': 16503, 'world”': 16504, 'wormhole': 16505, 'wormholes': 16506, 'worms': 16507, 'worn': 16508, 'worried': 16509, 'worries': 16510, 'worry': 16511, 'worrying': 16512, 'worse': 16513, 'worsen': 16514, 'worship': 16515, 'worshiped': 16516, 'worst': 16517, 'worth': 16518, 'worthiness': 16519, 'worthy': 16520, 'would': 16521, 'wouldnt': 16522, 'woven': 16523, 'wow': 16524, 'wowwww': 16525, 'wow”': 16526, 'wrap': 16527, 'wrapped': 16528, 'wrapper': 16529, 'wrappers': 16530, 'wrapping': 16531, 'wraps': 16532, 'wreck': 16533, 'wrecked': 16534, 'wrecks': 16535, 'wretched': 16536, 'wright': 16537, 'wring': 16538, 'wrinkle': 16539, 'wristwatch': 16540, 'wristwatches': 16541, 'write': 16542, 'writer': 16543, 'writers': 16544, 'writes': 16545, 'writing': 16546, 'writings': 16547, 'written': 16548, 'wrong': 16549, 'wrongly': 16550, 'wrongness': 16551, 'wrong”': 16552, 'wrote': 16553, 'wwwsristiorg': 16554, 'x': 16555, 'xaxis': 16556, 'xerox': 16557, 'xiaoping': 16558, 'xinhua': 16559, 'xmen': 16560, 'xor': 16561, 'xray': 16562, 'xrays': 16563, 'x”': 16564, 'y': 16565, 'yacht': 16566, 'yachts': 16567, 'yahoo': 16568, 'yahweh': 16569, 'yak': 16570, 'yall': 16571, 'yams': 16572, 'yang': 16573, 'yankee': 16574, 'yanking': 16575, 'yanomami': 16576, 'yard': 16577, 'yards': 16578, 'yarkoni': 16579, 'yarn': 16580, 'yatra': 16581, 'yaw': 16582, 'yaws': 16583, 'yaxis': 16584, 'yay': 16585, 'yb': 16586, 'yeah': 16587, 'year': 16588, 'yearago': 16589, 'yearbook': 16590, 'yearlong': 16591, 'yearning': 16592, 'yearold': 16593, 'yearolds': 16594, 'yearold”': 16595, 'years': 16596, 'yearsold': 16597, 'years”': 16598, 'year”': 16599, 'yeats': 16600, 'yell': 16601, 'yelling': 16602, 'yellow': 16603, 'yellowish': 16604, 'yells': 16605, 'yemen': 16606, 'yemeni': 16607, 'yep': 16608, 'yes': 16609, 'yesterday': 16610, 'yet': 16611, 'yet”': 16612, 'yield': 16613, 'yields': 16614, 'yin': 16615, 'ylang': 16616, 'yo': 16617, 'yochai': 16618, 'yoga': 16619, 'yogi': 16620, 'yogurt': 16621, 'yolk': 16622, 'yoohoo': 16623, 'yoricks': 16624, 'york': 16625, 'yorkers': 16626, 'yoruba': 16627, 'yosemite': 16628, 'you': 16629, 'youchild': 16630, 'youd': 16631, 'youll': 16632, 'young': 16633, 'younger': 16634, 'youngest': 16635, 'your': 16636, 'youre': 16637, 'yours': 16638, 'yourself': 16639, 'yourself”': 16640, 'yourselves': 16641, 'youth': 16642, 'youthfulness': 16643, 'youtube': 16644, 'youtubekenyatunes': 16645, 'youtubes': 16646, 'youve': 16647, 'you”': 16648, 'ypo': 16649, 'yr': 16650, 'yuck': 16651, 'yuck”': 16652, 'yugoslav': 16653, 'yugoslavia': 16654, 'yuyu': 16655, 'yves': 16656, 'z': 16657, 'zafar': 16658, 'zagat': 16659, 'zamin': 16660, 'zap': 16661, 'zapalu': 16662, 'zealand': 16663, 'zealands': 16664, 'zebra': 16665, 'zebras': 16666, 'zedong': 16667, 'zeitgeist': 16668, 'zen': 16669, 'zero': 16670, 'zetas': 16671, 'zindabad”': 16672, 'zinta': 16673, 'zintas': 16674, 'zip': 16675, 'zishan': 16676, 'zombie': 16677, 'zombies': 16678, 'zone': 16679, 'zones': 16680, 'zoning': 16681, 'zoology': 16682, 'zoom': 16683, 'zooming': 16684, 'zouche': 16685, 'zuckerberg': 16686, 'zurich': 16687, 'zyprexa': 16688, 'ándale': 16689, 'अलग': 16690, 'आचार': 16691, 'आठ': 16692, 'इतने': 16693, 'एक': 16694, 'और': 16695, 'औरतों': 16696, 'कर': 16697, 'करते': 16698, 'करने': 16699, 'कार्टून': 16700, 'कि': 16701, 'की': 16702, 'के': 16703, 'कैसे': 16704, 'को': 16705, 'कोई': 16706, 'क्या': 16707, 'खरीदकर': 16708, 'खुला': 16709, 'गणना': 16710, 'घुमाने': 16711, 'चाहती': 16712, 'जब': 16713, 'जापानी': 16714, 'तक': 16715, 'थी': 16716, 'दरअसल': 16717, 'दृष्टिकोण': 16718, 'नहीं': 16719, 'निकाला': 16720, 'निपटने': 16721, 'पर': 16722, 'पाएँ': 16723, 'पाहुचने': 16724, 'पुस्तक': 16725, 'बच्चे': 16726, 'बदलता': 16727, 'बराबरी': 16728, 'बात': 16729, 'बिलकुल': 16730, 'भाषा': 16731, 'भी': 16732, 'मदद': 16733, 'महत्वपूर्ण': 16734, 'महीने': 16735, 'में': 16736, 'मेरे': 16737, 'मैं': 16738, 'रख': 16739, 'रहे': 16740, 'लाई': 16741, 'लिए': 16742, 'वह': 16743, 'विशेष': 16744, 'वो': 16745, 'शिशु': 16746, 'संहिता': 16747, 'सबल': 16748, 'सर': 16749, 'साथ': 16750, 'सीखने': 16751, 'सुनते': 16752, 'से': 16753, 'स्वर': 16754, 'हुए': 16755, 'है': 16756, 'हैं': 16757, 'होते': 16758, '“': 16759, '“a': 16760, '“aah': 16761, '“abc”': 16762, '“absolutely': 16763, '“absolutely”': 16764, '“accelerator': 16765, '“achilles': 16766, '“actually': 16767, '“acumen': 16768, '“admiration': 16769, '“adorn': 16770, '“advanced': 16771, '“africa': 16772, '“after': 16773, '“ah': 16774, '“ah”': 16775, '“all': 16776, '“always': 16777, '“amen': 16778, '“american': 16779, '“an': 16780, '“and': 16781, '“another': 16782, '“apart': 16783, '“are': 16784, '“art”': 16785, '“aru': 16786, '“as': 16787, '“atlas': 16788, '“authentically': 16789, '“autism”': 16790, '“baba': 16791, '“back': 16792, '“bad': 16793, '“bang': 16794, '“be': 16795, '“beasts': 16796, '“because': 16797, '“before': 16798, '“behavior”': 16799, '“belief”': 16800, '“ben': 16801, '“bezos': 16802, '“bijli': 16803, '“bladerunner”': 16804, '“bleak': 16805, '“blood': 16806, '“bloody': 16807, '“bon': 16808, '“brace': 16809, '“break': 16810, '“bug”': 16811, '“but': 16812, '“but”': 16813, '“buy”': 16814, '“by': 16815, '“call': 16816, '“calm': 16817, '“can': 16818, '“carmen': 16819, '“caught”': 16820, '“celestial': 16821, '“champsélysées”': 16822, '“change': 16823, '“chesed”': 16824, '“chicken”': 16825, '“clean': 16826, '“clear': 16827, '“climate': 16828, '“close': 16829, '“college': 16830, '“come': 16831, '“congratulations': 16832, '“congratulations”': 16833, '“could': 16834, '“count': 16835, '“country': 16836, '“crouching': 16837, '“crunch': 16838, '“culture': 16839, '“dad': 16840, '“dad”': 16841, '“damage”': 16842, '“david': 16843, '“dear': 16844, '“death': 16845, '“decisive': 16846, '“dick': 16847, '“did': 16848, '“different': 16849, '“difficult': 16850, '“dig': 16851, '“disabled”': 16852, '“discovered”': 16853, '“disenthrall”': 16854, '“divine': 16855, '“do': 16856, '“doing': 16857, '“dont': 16858, '“double': 16859, '“dough': 16860, '“dr': 16861, '“dualism”': 16862, '“dude': 16863, '“education': 16864, '“ee”': 16865, '“egypt': 16866, '“eight': 16867, '“elder': 16868, '“electricity': 16869, '“elu': 16870, '“empathy': 16871, '“engineering': 16872, '“enough': 16873, '“eww': 16874, '“excuse': 16875, '“expo': 16876, '“e”': 16877, '“fallor': 16878, '“famous': 16879, '“fearsome': 16880, '“feeling': 16881, '“fine': 16882, '“finish': 16883, '“first': 16884, '“flying': 16885, '“food': 16886, '“for': 16887, '“foreign': 16888, '“forget': 16889, '“former': 16890, '“found': 16891, '“four': 16892, '“free': 16893, '“friday”': 16894, '“from': 16895, '“gardens': 16896, '“geriatrics': 16897, '“gerontology': 16898, '“get': 16899, '“getting': 16900, '“ghemawats': 16901, '“give': 16902, '“glorious': 16903, '“glory”': 16904, '“go': 16905, '“god': 16906, '“good': 16907, '“goodnight': 16908, '“grandmothers”': 16909, '“great': 16910, '“great”': 16911, '“groundhog': 16912, '“guess': 16913, '“gymnosophist”': 16914, '“ha': 16915, '“had': 16916, '“haha': 16917, '“half': 16918, '“hamlet': 16919, '“have': 16920, '“he': 16921, '“hello': 16922, '“hello”': 16923, '“here': 16924, '“heres': 16925, '“hes': 16926, '“hey': 16927, '“high': 16928, '“hole': 16929, '“honestly': 16930, '“honors”': 16931, '“hotel': 16932, '“how': 16933, '“huh”': 16934, '“i': 16935, '“id': 16936, '“ideas': 16937, '“if': 16938, '“iliad”': 16939, '“ill': 16940, '“im': 16941, '“immortal”': 16942, '“impossible': 16943, '“in': 16944, '“india': 16945, '“india”': 16946, '“is': 16947, '“it': 16948, '“its': 16949, '“ivan': 16950, '“ive': 16951, '“james': 16952, '“just': 16953, '“kambar”': 16954, '“kangaroo”': 16955, '“kids': 16956, '“kill': 16957, '“kneedeep': 16958, '“knowledge': 16959, '“lauren': 16960, '“la”': 16961, '“ledger': 16962, '“leonardo': 16963, '“leonardo”': 16964, '“let': 16965, '“lets': 16966, '“life': 16967, '“life”': 16968, '“like': 16969, '“linguistic': 16970, '“listen': 16971, '“long': 16972, '“longevity': 16973, '“look': 16974, '“loser”': 16975, '“love': 16976, '“lovecrazed': 16977, '“low': 16978, '“ma': 16979, '“maam': 16980, '“make': 16981, '“maker”': 16982, '“mama': 16983, '“man': 16984, '“marathon”': 16985, '“mass': 16986, '“matzah”': 16987, '“maybe': 16988, '“me': 16989, '“meen”': 16990, '“messenger': 16991, '“mey': 16992, '“mind': 16993, '“minority': 16994, '“mission': 16995, '“mister': 16996, '“mmmmm': 16997, '“mmm”': 16998, '“mom': 16999, '“mommy': 17000, '“monism”': 17001, '“mostly”': 17002, '“ms': 17003, '“my': 17004, '“naif': 17005, '“namaste”': 17006, '“neither': 17007, '“new': 17008, '“next': 17009, '“nigel': 17010, '“nine': 17011, '“nkali”': 17012, '“no': 17013, '“noble': 17014, '“nobody': 17015, '“none': 17016, '“nonsense': 17017, '“nope': 17018, '“not': 17019, '“nothing': 17020, '“nothing”': 17021, '“now': 17022, '“no”': 17023, '“nyan': 17024, '“obama': 17025, '“oedipus': 17026, '“of': 17027, '“official': 17028, '“oh': 17029, '“oh”': 17030, '“ok': 17031, '“okay': 17032, '“okay”': 17033, '“one': 17034, '“one”': 17035, '“ooh': 17036, '“oops': 17037, '“open': 17038, '“opossum': 17039, '“opossum”': 17040, '“our': 17041, '“papi': 17042, '“pardon': 17043, '“perform”': 17044, '“pioneer': 17045, '“planning”': 17046, '“players': 17047, '“playing”': 17048, '“please': 17049, '“pms': 17050, '“popit”': 17051, '“premidlife': 17052, '“professional”': 17053, '“professor': 17054, '“propaganda”': 17055, '“que”': 17056, '“rags': 17057, '“ra”': 17058, '“really': 17059, '“really”': 17060, '“recreated': 17061, '“regulars”': 17062, '“reigned': 17063, '“respect”': 17064, '“right': 17065, '“robust': 17066, '“rosey': 17067, '“roti': 17068, '“same': 17069, '“schools': 17070, '“screw': 17071, '“seahorse”': 17072, '“secondly”': 17073, '“security': 17074, '“sex': 17075, '“shake': 17076, '“she': 17077, '“shell': 17078, '“shhh”': 17079, '“shoe”': 17080, '“should': 17081, '“show': 17082, '“sir': 17083, '“situation': 17084, '“smart': 17085, '“so': 17086, '“social': 17087, '“soft': 17088, '“some': 17089, '“sonority': 17090, '“sorry': 17091, '“so”': 17092, '“space': 17093, '“spatial': 17094, '“stand': 17095, '“star': 17096, '“stay': 17097, '“stop”': 17098, '“story': 17099, '“substitution”': 17100, '“success”': 17101, '“sunitha': 17102, '“sweet': 17103, '“take': 17104, '“teach': 17105, '“teacher': 17106, '“technotrances”': 17107, '“tell': 17108, '“thank': 17109, '“that': 17110, '“thats': 17111, '“the': 17112, '“them”': 17113, '“then': 17114, '“there': 17115, '“theres': 17116, '“these': 17117, '“they': 17118, '“theyre': 17119, '“they”': 17120, '“the”': 17121, '“think': 17122, '“this': 17123, '“to': 17124, '“touched': 17125, '“trial': 17126, '“tribal': 17127, '“triple': 17128, '“truing”': 17129, '“tulip”': 17130, '“tulsi': 17131, '“unclear”': 17132, '“unfortunate”': 17133, '“until': 17134, '“us': 17135, '“use': 17136, '“using': 17137, '“vote': 17138, '“wake': 17139, '“war': 17140, '“was': 17141, '“wash': 17142, '“wavin': 17143, '“we': 17144, '“weak': 17145, '“wear': 17146, '“wed': 17147, '“welcome': 17148, '“well': 17149, '“went': 17150, '“were': 17151, '“west': 17152, '“weve': 17153, '“we”': 17154, '“what': 17155, '“whats': 17156, '“what”': 17157, '“wha”': 17158, '“when': 17159, '“where': 17160, '“wheres': 17161, '“which': 17162, '“white': 17163, '“who': 17164, '“whoever': 17165, '“whos': 17166, '“why': 17167, '“why”': 17168, '“wide': 17169, '“women': 17170, '“wooo': 17171, '“wopp”': 17172, '“work': 17173, '“world': 17174, '“would': 17175, '“wow': 17176, '“wow”': 17177, '“wrong': 17178, '“wrong”': 17179, '“yeah': 17180, '“yeah”': 17181, '“yes': 17182, '“yes”': 17183, '“you': 17184, '“your': 17185, '“youre': 17186, '“youve': 17187, '“”': 17188, '”': 17189, '”great': 17190, '”i': 17191, '”if': 17192, '”is': 17193, '”no”': 17194, '”sure”': 17195, '”thats': 17196, '”we': 17197, '€': 17198, '♫': 17199, '♫give': 17200}\n"
     ]
    }
   ],
   "source": [
    "english_token_index = dict(\n",
    "    [(word, (i+1)) for i, word in enumerate(engWordSorted)]\n",
    ")\n",
    "\n",
    "print(english_token_index)"
   ]
  },
  {
   "cell_type": "code",
   "execution_count": 29,
   "id": "72782243",
   "metadata": {},
   "outputs": [],
   "source": [
    "hindi_token_index = dict(\n",
    "    [(word, (i+1)) for i, word in enumerate(hinWordSorted)]\n",
    ")"
   ]
  },
  {
   "cell_type": "code",
   "execution_count": 30,
   "id": "a85cbf0e",
   "metadata": {},
   "outputs": [],
   "source": [
    "reverse_english_token_index = dict(\n",
    "    (i, word) for word, i in english_token_index.items()\n",
    ")\n",
    "\n",
    "reverse_hindi_token_index = dict(\n",
    "    (i, word) for word, i in hindi_token_index.items()\n",
    ")"
   ]
  },
  {
   "cell_type": "code",
   "execution_count": 31,
   "id": "3b4dca68",
   "metadata": {},
   "outputs": [
    {
     "data": {
      "text/html": [
       "<div>\n",
       "<style scoped>\n",
       "    .dataframe tbody tr th:only-of-type {\n",
       "        vertical-align: middle;\n",
       "    }\n",
       "\n",
       "    .dataframe tbody tr th {\n",
       "        vertical-align: top;\n",
       "    }\n",
       "\n",
       "    .dataframe thead th {\n",
       "        text-align: right;\n",
       "    }\n",
       "</style>\n",
       "<table border=\"1\" class=\"dataframe\">\n",
       "  <thead>\n",
       "    <tr style=\"text-align: right;\">\n",
       "      <th></th>\n",
       "      <th>source</th>\n",
       "      <th>english_sentence</th>\n",
       "      <th>hindi_sentence</th>\n",
       "      <th>len_english_sentence</th>\n",
       "      <th>len_hindi_sentence</th>\n",
       "    </tr>\n",
       "  </thead>\n",
       "  <tbody>\n",
       "    <tr>\n",
       "      <th>0</th>\n",
       "      <td>ted</td>\n",
       "      <td>politicians do not have permission to do what ...</td>\n",
       "      <td>SOF राजनीतिज्ञों के पास जो कार्य करना चाहिए वह...</td>\n",
       "      <td>12</td>\n",
       "      <td>15</td>\n",
       "    </tr>\n",
       "    <tr>\n",
       "      <th>1</th>\n",
       "      <td>ted</td>\n",
       "      <td>id like to tell you about one such child</td>\n",
       "      <td>SOF मई आपको ऐसे ही एक बच्चे के बारे में बताना ...</td>\n",
       "      <td>9</td>\n",
       "      <td>13</td>\n",
       "    </tr>\n",
       "    <tr>\n",
       "      <th>3</th>\n",
       "      <td>ted</td>\n",
       "      <td>what we really mean is that theyre bad at not ...</td>\n",
       "      <td>SOF हम ये नहीं कहना चाहते कि वो ध्यान नहीं दे ...</td>\n",
       "      <td>12</td>\n",
       "      <td>13</td>\n",
       "    </tr>\n",
       "    <tr>\n",
       "      <th>7</th>\n",
       "      <td>ted</td>\n",
       "      <td>and who are we to say even that they are wrong</td>\n",
       "      <td>SOF और हम होते कौन हैं यह कहने भी वाले कि वे ग...</td>\n",
       "      <td>11</td>\n",
       "      <td>15</td>\n",
       "    </tr>\n",
       "    <tr>\n",
       "      <th>13</th>\n",
       "      <td>ted</td>\n",
       "      <td>so there is some sort of justice</td>\n",
       "      <td>SOF तो वहाँ न्याय है EOF</td>\n",
       "      <td>7</td>\n",
       "      <td>6</td>\n",
       "    </tr>\n",
       "    <tr>\n",
       "      <th>23</th>\n",
       "      <td>ted</td>\n",
       "      <td>this changed slowly</td>\n",
       "      <td>SOF धीरे धीरे ये सब बदला EOF</td>\n",
       "      <td>3</td>\n",
       "      <td>7</td>\n",
       "    </tr>\n",
       "    <tr>\n",
       "      <th>26</th>\n",
       "      <td>ted</td>\n",
       "      <td>were being produced</td>\n",
       "      <td>SOF उत्पन्न नहीं कि जाती थी EOF</td>\n",
       "      <td>3</td>\n",
       "      <td>7</td>\n",
       "    </tr>\n",
       "    <tr>\n",
       "      <th>30</th>\n",
       "      <td>ted</td>\n",
       "      <td>and you can see this led is going to glow</td>\n",
       "      <td>SOF और जैसा आप देख रहे है ये एलईडी जल उठेगी। EOF</td>\n",
       "      <td>10</td>\n",
       "      <td>12</td>\n",
       "    </tr>\n",
       "    <tr>\n",
       "      <th>32</th>\n",
       "      <td>ted</td>\n",
       "      <td>to turn on the lights or to bring him a glass ...</td>\n",
       "      <td>SOF लाईट जलाने के लिए या उनके लिए पानी लाने के...</td>\n",
       "      <td>13</td>\n",
       "      <td>13</td>\n",
       "    </tr>\n",
       "    <tr>\n",
       "      <th>35</th>\n",
       "      <td>ted</td>\n",
       "      <td>can you imagine saying that</td>\n",
       "      <td>SOF क्या आप ये कल्पना कर सकते है EOF</td>\n",
       "      <td>5</td>\n",
       "      <td>9</td>\n",
       "    </tr>\n",
       "  </tbody>\n",
       "</table>\n",
       "</div>"
      ],
      "text/plain": [
       "   source                                   english_sentence  \\\n",
       "0     ted  politicians do not have permission to do what ...   \n",
       "1     ted           id like to tell you about one such child   \n",
       "3     ted  what we really mean is that theyre bad at not ...   \n",
       "7     ted     and who are we to say even that they are wrong   \n",
       "13    ted                   so there is some sort of justice   \n",
       "23    ted                                this changed slowly   \n",
       "26    ted                                were being produced   \n",
       "30    ted          and you can see this led is going to glow   \n",
       "32    ted  to turn on the lights or to bring him a glass ...   \n",
       "35    ted                        can you imagine saying that   \n",
       "\n",
       "                                       hindi_sentence  len_english_sentence  \\\n",
       "0   SOF राजनीतिज्ञों के पास जो कार्य करना चाहिए वह...                    12   \n",
       "1   SOF मई आपको ऐसे ही एक बच्चे के बारे में बताना ...                     9   \n",
       "3   SOF हम ये नहीं कहना चाहते कि वो ध्यान नहीं दे ...                    12   \n",
       "7   SOF और हम होते कौन हैं यह कहने भी वाले कि वे ग...                    11   \n",
       "13                           SOF तो वहाँ न्याय है EOF                     7   \n",
       "23                       SOF धीरे धीरे ये सब बदला EOF                     3   \n",
       "26                    SOF उत्पन्न नहीं कि जाती थी EOF                     3   \n",
       "30   SOF और जैसा आप देख रहे है ये एलईडी जल उठेगी। EOF                    10   \n",
       "32  SOF लाईट जलाने के लिए या उनके लिए पानी लाने के...                    13   \n",
       "35               SOF क्या आप ये कल्पना कर सकते है EOF                     5   \n",
       "\n",
       "    len_hindi_sentence  \n",
       "0                   15  \n",
       "1                   13  \n",
       "3                   13  \n",
       "7                   15  \n",
       "13                   6  \n",
       "23                   7  \n",
       "26                   7  \n",
       "30                  12  \n",
       "32                  13  \n",
       "35                   9  "
      ]
     },
     "execution_count": 31,
     "metadata": {},
     "output_type": "execute_result"
    }
   ],
   "source": [
    "df.head(10)"
   ]
  },
  {
   "cell_type": "code",
   "execution_count": 32,
   "id": "99b14554",
   "metadata": {},
   "outputs": [
    {
     "data": {
      "text/plain": [
       "((31612,), (7904,))"
      ]
     },
     "execution_count": 32,
     "metadata": {},
     "output_type": "execute_result"
    }
   ],
   "source": [
    "from sklearn.model_selection import train_test_split\n",
    "\n",
    "x, y = df['english_sentence'], df['hindi_sentence']\n",
    "xTrain, xTest, yTrain, yTest = train_test_split(x, y, test_size=0.2, random_state=42)\n",
    "\n",
    "xTrain.shape, xTest.shape"
   ]
  },
  {
   "cell_type": "code",
   "execution_count": 33,
   "id": "47d45741",
   "metadata": {},
   "outputs": [],
   "source": [
    "def generate_batch(x=xTrain, y=yTrain, batch_size=128):\n",
    "    #print(\"Hello\")\n",
    "    while True:\n",
    "        for j in range(0, len(x), batch_size):\n",
    "            encoder_input_data = np.zeros((batch_size, max_length_src), dtype=\"float32\")\n",
    "            decoder_input_data = np.zeros((batch_size, max_length_tar), dtype=\"float32\")\n",
    "            decoder_target_data = np.zeros((batch_size, max_length_tar, num_decoder_tokens), dtype=\"float32\")\n",
    "            \n",
    "            for i, (input_text, target_text) in enumerate(zip(x[j:j+batch_size], y[j:j+batch_size])):\n",
    "                for t, word in enumerate(input_text.split()):\n",
    "                    encoder_input_data[i, t] = english_token_index[word] # encoder input seq\n",
    "                    \n",
    "                for t, word in enumerate(target_text.split()):\n",
    "                    if t < len(target_text.split()) - 1:\n",
    "                        decoder_input_data[i, t] = hindi_token_index[word] # decoder input seq\n",
    "                        \n",
    "                    if t > 0:\n",
    "                        # decoder target sequence (one hot encoded)\n",
    "                        # does not include the SOF_ token\n",
    "                        # offset by one timestep\n",
    "                        decoder_target_data[i, t-1, hindi_token_index[word]] = 1.\n",
    "            \n",
    "            #print([encoder_input_data, decoder_input_data], \" : \" , decoder_target_data)\n",
    "            yield([encoder_input_data, decoder_input_data], decoder_target_data)"
   ]
  },
  {
   "cell_type": "markdown",
   "id": "6962a2b4",
   "metadata": {},
   "source": [
    "### Encoder-Decoder Architecture"
   ]
  },
  {
   "cell_type": "code",
   "execution_count": 34,
   "id": "3e826481",
   "metadata": {},
   "outputs": [
    {
     "name": "stderr",
     "output_type": "stream",
     "text": [
      "2022-09-26 13:09:22.285620: I tensorflow/core/platform/cpu_feature_guard.cc:193] This TensorFlow binary is optimized with oneAPI Deep Neural Network Library (oneDNN) to use the following CPU instructions in performance-critical operations:  AVX2\n",
      "To enable them in other operations, rebuild TensorFlow with the appropriate compiler flags.\n",
      "2022-09-26 13:09:25.698961: E tensorflow/stream_executor/cuda/cuda_blas.cc:2981] Unable to register cuBLAS factory: Attempting to register factory for plugin cuBLAS when one has already been registered\n",
      "2022-09-26 13:09:33.170816: W tensorflow/stream_executor/platform/default/dso_loader.cc:64] Could not load dynamic library 'libnvinfer.so.7'; dlerror: libnvinfer.so.7: cannot open shared object file: No such file or directory\n",
      "2022-09-26 13:09:33.171199: W tensorflow/stream_executor/platform/default/dso_loader.cc:64] Could not load dynamic library 'libnvinfer_plugin.so.7'; dlerror: libnvinfer_plugin.so.7: cannot open shared object file: No such file or directory\n",
      "2022-09-26 13:09:33.171220: W tensorflow/compiler/tf2tensorrt/utils/py_utils.cc:38] TF-TRT Warning: Cannot dlopen some TensorRT libraries. If you would like to use Nvidia GPU with TensorRT, please make sure the missing libraries mentioned above are installed properly.\n"
     ]
    }
   ],
   "source": [
    "from keras.layers import Input, LSTM, Embedding, Dense\n",
    "from keras.models import Model"
   ]
  },
  {
   "cell_type": "code",
   "execution_count": 35,
   "id": "9929fdf9",
   "metadata": {},
   "outputs": [],
   "source": [
    "latent_dim = 300"
   ]
  },
  {
   "cell_type": "code",
   "execution_count": 36,
   "id": "01d6cc27",
   "metadata": {},
   "outputs": [
    {
     "name": "stderr",
     "output_type": "stream",
     "text": [
      "2022-09-26 13:09:44.199660: E tensorflow/stream_executor/cuda/cuda_driver.cc:265] failed call to cuInit: CUDA_ERROR_NO_DEVICE: no CUDA-capable device is detected\n",
      "2022-09-26 13:09:44.199765: I tensorflow/stream_executor/cuda/cuda_diagnostics.cc:156] kernel driver does not appear to be running on this host (cskushal18): /proc/driver/nvidia/version does not exist\n",
      "2022-09-26 13:09:44.201075: I tensorflow/core/platform/cpu_feature_guard.cc:193] This TensorFlow binary is optimized with oneAPI Deep Neural Network Library (oneDNN) to use the following CPU instructions in performance-critical operations:  AVX2\n",
      "To enable them in other operations, rebuild TensorFlow with the appropriate compiler flags.\n",
      "2022-09-26 13:09:44.575389: W tensorflow/core/framework/cpu_allocator_impl.cc:82] Allocation of 20640000 exceeds 10% of free system memory.\n",
      "2022-09-26 13:09:44.704791: W tensorflow/core/framework/cpu_allocator_impl.cc:82] Allocation of 20640000 exceeds 10% of free system memory.\n",
      "2022-09-26 13:09:44.714278: W tensorflow/core/framework/cpu_allocator_impl.cc:82] Allocation of 20640000 exceeds 10% of free system memory.\n"
     ]
    }
   ],
   "source": [
    "# Encoder\n",
    "encoder_inputs = Input(shape=(None,))\n",
    "enc_emb = Embedding(num_encoder_tokens, latent_dim, mask_zero=True)(encoder_inputs)\n",
    "encoder_lstm = LSTM(latent_dim, return_state=True)\n",
    "encoder_outputs, state_h, state_c = encoder_lstm(enc_emb)\n",
    "\n",
    "# We discard 'encoder_outputs' and only keep the states.\n",
    "encoder_states = [state_h, state_c]"
   ]
  },
  {
   "cell_type": "code",
   "execution_count": 37,
   "id": "df2f7338",
   "metadata": {},
   "outputs": [
    {
     "name": "stderr",
     "output_type": "stream",
     "text": [
      "2022-09-26 13:10:01.829223: W tensorflow/core/framework/cpu_allocator_impl.cc:82] Allocation of 26452800 exceeds 10% of free system memory.\n",
      "2022-09-26 13:10:01.872094: W tensorflow/core/framework/cpu_allocator_impl.cc:82] Allocation of 26452800 exceeds 10% of free system memory.\n"
     ]
    }
   ],
   "source": [
    "# Set up the decoder, using 'encoder_states' as inital state.\n",
    "decoder_inputs = Input(shape=(None,))\n",
    "dec_emb_layer = Embedding(num_decoder_tokens, latent_dim, mask_zero=True)\n",
    "dec_emb = dec_emb_layer(decoder_inputs)\n",
    "\n",
    "# We set up our decoder to return full output sequences,\n",
    "# and to return internal states as well. We don't use the\n",
    "# return states in the training model, but we will use them in inference.\n",
    "decoder_lstm = LSTM(latent_dim, return_sequences=True, return_state=True)\n",
    "decoder_outputs, _, _ = decoder_lstm(dec_emb, initial_state=encoder_states)\n",
    "decoder_dense = Dense(num_decoder_tokens, activation='softmax')\n",
    "decoder_outputs = decoder_dense(decoder_outputs)\n",
    "\n",
    "# Define the model that will turn 'encoder_input_data' & 'decoder_input_data' into 'decoder_target_data'\n",
    "model = Model([encoder_inputs, decoder_inputs], decoder_outputs)"
   ]
  },
  {
   "cell_type": "code",
   "execution_count": 38,
   "id": "9da23d01",
   "metadata": {},
   "outputs": [],
   "source": [
    "model.compile(optimizer=\"rmsprop\", loss=\"categorical_crossentropy\")"
   ]
  },
  {
   "cell_type": "code",
   "execution_count": 39,
   "id": "c9aebc9a",
   "metadata": {},
   "outputs": [
    {
     "name": "stdout",
     "output_type": "stream",
     "text": [
      "Model: \"model\"\n",
      "__________________________________________________________________________________________________\n",
      " Layer (type)                   Output Shape         Param #     Connected to                     \n",
      "==================================================================================================\n",
      " input_1 (InputLayer)           [(None, None)]       0           []                               \n",
      "                                                                                                  \n",
      " input_2 (InputLayer)           [(None, None)]       0           []                               \n",
      "                                                                                                  \n",
      " embedding (Embedding)          (None, None, 300)    5160000     ['input_1[0][0]']                \n",
      "                                                                                                  \n",
      " embedding_1 (Embedding)        (None, None, 300)    6613200     ['input_2[0][0]']                \n",
      "                                                                                                  \n",
      " lstm (LSTM)                    [(None, 300),        721200      ['embedding[0][0]']              \n",
      "                                 (None, 300),                                                     \n",
      "                                 (None, 300)]                                                     \n",
      "                                                                                                  \n",
      " lstm_1 (LSTM)                  [(None, None, 300),  721200      ['embedding_1[0][0]',            \n",
      "                                 (None, 300),                     'lstm[0][1]',                   \n",
      "                                 (None, 300)]                     'lstm[0][2]']                   \n",
      "                                                                                                  \n",
      " dense (Dense)                  (None, None, 22044)  6635244     ['lstm_1[0][0]']                 \n",
      "                                                                                                  \n",
      "==================================================================================================\n",
      "Total params: 19,850,844\n",
      "Trainable params: 19,850,844\n",
      "Non-trainable params: 0\n",
      "__________________________________________________________________________________________________\n"
     ]
    }
   ],
   "source": [
    "model.summary()"
   ]
  },
  {
   "cell_type": "code",
   "execution_count": 40,
   "id": "8fe6b7d3",
   "metadata": {},
   "outputs": [],
   "source": [
    "train_samples = len(xTrain)\n",
    "test_samples = len(xTest)\n",
    "batch_size = 128\n",
    "epochs = 15"
   ]
  },
  {
   "cell_type": "code",
   "execution_count": 41,
   "id": "c9cfdcb4",
   "metadata": {},
   "outputs": [
    {
     "name": "stdout",
     "output_type": "stream",
     "text": [
      "Epoch 1/15\n"
     ]
    },
    {
     "ename": "ValueError",
     "evalue": "in user code:\n\n    File \"/home/cskushal18/.local/lib/python3.10/site-packages/keras/engine/training.py\", line 1160, in train_function  *\n        return step_function(self, iterator)\n    File \"/home/cskushal18/.local/lib/python3.10/site-packages/keras/engine/training.py\", line 1146, in step_function  **\n        outputs = model.distribute_strategy.run(run_step, args=(data,))\n    File \"/home/cskushal18/.local/lib/python3.10/site-packages/keras/engine/training.py\", line 1135, in run_step  **\n        outputs = model.train_step(data)\n    File \"/home/cskushal18/.local/lib/python3.10/site-packages/keras/engine/training.py\", line 993, in train_step\n        y_pred = self(x, training=True)\n    File \"/home/cskushal18/.local/lib/python3.10/site-packages/keras/utils/traceback_utils.py\", line 70, in error_handler\n        raise e.with_traceback(filtered_tb) from None\n    File \"/home/cskushal18/.local/lib/python3.10/site-packages/keras/engine/input_spec.py\", line 216, in assert_input_compatibility\n        raise ValueError(\n\n    ValueError: Layer \"model\" expects 2 input(s), but it received 1 input tensors. Inputs received: [<tf.Tensor 'IteratorGetNext:0' shape=(None, 1) dtype=string>]\n",
     "output_type": "error",
     "traceback": [
      "\u001b[0;31m---------------------------------------------------------------------------\u001b[0m",
      "\u001b[0;31mValueError\u001b[0m                                Traceback (most recent call last)",
      "Input \u001b[0;32mIn [41]\u001b[0m, in \u001b[0;36m<cell line: 1>\u001b[0;34m()\u001b[0m\n\u001b[0;32m----> 1\u001b[0m \u001b[43mmodel\u001b[49m\u001b[38;5;241;43m.\u001b[39;49m\u001b[43mfit\u001b[49m\u001b[43m(\u001b[49m\u001b[43mxTrain\u001b[49m\u001b[43m,\u001b[49m\u001b[43m \u001b[49m\u001b[43myTrain\u001b[49m\u001b[43m,\u001b[49m\u001b[43m \u001b[49m\u001b[43mbatch_size\u001b[49m\u001b[38;5;241;43m=\u001b[39;49m\u001b[43mbatch_size\u001b[49m\u001b[43m,\u001b[49m\u001b[43m \u001b[49m\u001b[43mepochs\u001b[49m\u001b[38;5;241;43m=\u001b[39;49m\u001b[43mepochs\u001b[49m\u001b[43m)\u001b[49m\n",
      "File \u001b[0;32m~/.local/lib/python3.10/site-packages/keras/utils/traceback_utils.py:70\u001b[0m, in \u001b[0;36mfilter_traceback.<locals>.error_handler\u001b[0;34m(*args, **kwargs)\u001b[0m\n\u001b[1;32m     67\u001b[0m     filtered_tb \u001b[38;5;241m=\u001b[39m _process_traceback_frames(e\u001b[38;5;241m.\u001b[39m__traceback__)\n\u001b[1;32m     68\u001b[0m     \u001b[38;5;66;03m# To get the full stack trace, call:\u001b[39;00m\n\u001b[1;32m     69\u001b[0m     \u001b[38;5;66;03m# `tf.debugging.disable_traceback_filtering()`\u001b[39;00m\n\u001b[0;32m---> 70\u001b[0m     \u001b[38;5;28;01mraise\u001b[39;00m e\u001b[38;5;241m.\u001b[39mwith_traceback(filtered_tb) \u001b[38;5;28;01mfrom\u001b[39;00m \u001b[38;5;28mNone\u001b[39m\n\u001b[1;32m     71\u001b[0m \u001b[38;5;28;01mfinally\u001b[39;00m:\n\u001b[1;32m     72\u001b[0m     \u001b[38;5;28;01mdel\u001b[39;00m filtered_tb\n",
      "File \u001b[0;32m/tmp/__autograph_generated_file4w0i67fo.py:15\u001b[0m, in \u001b[0;36mouter_factory.<locals>.inner_factory.<locals>.tf__train_function\u001b[0;34m(iterator)\u001b[0m\n\u001b[1;32m     13\u001b[0m \u001b[38;5;28;01mtry\u001b[39;00m:\n\u001b[1;32m     14\u001b[0m     do_return \u001b[38;5;241m=\u001b[39m \u001b[38;5;28;01mTrue\u001b[39;00m\n\u001b[0;32m---> 15\u001b[0m     retval_ \u001b[38;5;241m=\u001b[39m ag__\u001b[38;5;241m.\u001b[39mconverted_call(ag__\u001b[38;5;241m.\u001b[39mld(step_function), (ag__\u001b[38;5;241m.\u001b[39mld(\u001b[38;5;28mself\u001b[39m), ag__\u001b[38;5;241m.\u001b[39mld(iterator)), \u001b[38;5;28;01mNone\u001b[39;00m, fscope)\n\u001b[1;32m     16\u001b[0m \u001b[38;5;28;01mexcept\u001b[39;00m:\n\u001b[1;32m     17\u001b[0m     do_return \u001b[38;5;241m=\u001b[39m \u001b[38;5;28;01mFalse\u001b[39;00m\n",
      "\u001b[0;31mValueError\u001b[0m: in user code:\n\n    File \"/home/cskushal18/.local/lib/python3.10/site-packages/keras/engine/training.py\", line 1160, in train_function  *\n        return step_function(self, iterator)\n    File \"/home/cskushal18/.local/lib/python3.10/site-packages/keras/engine/training.py\", line 1146, in step_function  **\n        outputs = model.distribute_strategy.run(run_step, args=(data,))\n    File \"/home/cskushal18/.local/lib/python3.10/site-packages/keras/engine/training.py\", line 1135, in run_step  **\n        outputs = model.train_step(data)\n    File \"/home/cskushal18/.local/lib/python3.10/site-packages/keras/engine/training.py\", line 993, in train_step\n        y_pred = self(x, training=True)\n    File \"/home/cskushal18/.local/lib/python3.10/site-packages/keras/utils/traceback_utils.py\", line 70, in error_handler\n        raise e.with_traceback(filtered_tb) from None\n    File \"/home/cskushal18/.local/lib/python3.10/site-packages/keras/engine/input_spec.py\", line 216, in assert_input_compatibility\n        raise ValueError(\n\n    ValueError: Layer \"model\" expects 2 input(s), but it received 1 input tensors. Inputs received: [<tf.Tensor 'IteratorGetNext:0' shape=(None, 1) dtype=string>]\n"
     ]
    }
   ],
   "source": [
    "model.fit(xTrain, yTrain, batch_size=batch_size, epochs=epochs)"
   ]
  },
  {
   "cell_type": "code",
   "execution_count": null,
   "id": "af5d769a",
   "metadata": {},
   "outputs": [],
   "source": []
  }
 ],
 "metadata": {
  "kernelspec": {
   "display_name": "Python 3 (ipykernel)",
   "language": "python",
   "name": "python3"
  },
  "language_info": {
   "codemirror_mode": {
    "name": "ipython",
    "version": 3
   },
   "file_extension": ".py",
   "mimetype": "text/x-python",
   "name": "python",
   "nbconvert_exporter": "python",
   "pygments_lexer": "ipython3",
   "version": "3.10.5"
  }
 },
 "nbformat": 4,
 "nbformat_minor": 5
}
